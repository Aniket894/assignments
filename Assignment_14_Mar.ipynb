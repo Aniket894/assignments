{
 "cells": [
  {
   "cell_type": "markdown",
   "id": "efa6b11f-b57d-496f-ba55-727dcb95a196",
   "metadata": {},
   "source": [
    "Q1. Write a Python function that takes in two arrays of data and calculates the F-value for a variance ratio\n",
    "test. The function should return the F-value and the corresponding p-value for the test."
   ]
  },
  {
   "cell_type": "code",
   "execution_count": 1,
   "id": "fc3af01e-eda7-44d9-8d3d-e913da479970",
   "metadata": {},
   "outputs": [
    {
     "name": "stdout",
     "output_type": "stream",
     "text": [
      "Requirement already satisfied: numpy in /opt/conda/lib/python3.10/site-packages (1.23.5)\n",
      "Requirement already satisfied: scipy in /opt/conda/lib/python3.10/site-packages (1.9.3)\n",
      "Note: you may need to restart the kernel to use updated packages.\n"
     ]
    }
   ],
   "source": [
    "pip install numpy scipy\n"
   ]
  },
  {
   "cell_type": "code",
   "execution_count": 2,
   "id": "61656241-4837-4705-bf63-df52b6e7af00",
   "metadata": {},
   "outputs": [
    {
     "name": "stdout",
     "output_type": "stream",
     "text": [
      "F-value: 1.0\n",
      "P-value: 0.3465935070873342\n"
     ]
    }
   ],
   "source": [
    "import numpy as np\n",
    "from scipy.stats import f_oneway\n",
    "\n",
    "def calculate_f_value(array1, array2):\n",
    "    # Checking if the input arrays are valid\n",
    "    if len(array1) < 2 or len(array2) < 2:\n",
    "        raise ValueError(\"Arrays must have at least two elements\")\n",
    "\n",
    "    # Calculating F-value and p-value\n",
    "    f_statistic, p_value = f_oneway(array1, array2)\n",
    "\n",
    "    return f_statistic, p_value\n",
    "\n",
    "# Example usage:\n",
    "array1 = np.array([1, 2, 3, 4, 5])\n",
    "array2 = np.array([2, 3, 4, 5, 6])\n",
    "\n",
    "f_value, p_value = calculate_f_value(array1, array2)\n",
    "\n",
    "print(f\"F-value: {f_value}\")\n",
    "print(f\"P-value: {p_value}\")\n"
   ]
  },
  {
   "cell_type": "code",
   "execution_count": null,
   "id": "29bec7ad-8256-4d36-af1c-9478e4e76a58",
   "metadata": {},
   "outputs": [],
   "source": []
  },
  {
   "cell_type": "markdown",
   "id": "f709280d-86a2-4286-bad7-8c83581f82b9",
   "metadata": {},
   "source": [
    "Q2. Given a significance level of 0.05 and the degrees of freedom for the numerator and denominator of an\n",
    "F-distribution, write a Python function that returns the critical F-value for a two-tailed test."
   ]
  },
  {
   "cell_type": "code",
   "execution_count": 3,
   "id": "42f48553-f625-443b-9334-16a0c375bc28",
   "metadata": {},
   "outputs": [
    {
     "name": "stdout",
     "output_type": "stream",
     "text": [
      "Critical F-value: 4.461255495919247\n"
     ]
    }
   ],
   "source": [
    "from scipy.stats import f\n",
    "\n",
    "def critical_f_value(alpha, df_num, df_denom):\n",
    "    \"\"\"\n",
    "    Calculate the critical F-value for a two-tailed test.\n",
    "\n",
    "    Parameters:\n",
    "    - alpha: Significance level (e.g., 0.05 for a 5% significance level)\n",
    "    - df_num: Degrees of freedom for the numerator\n",
    "    - df_denom: Degrees of freedom for the denominator\n",
    "\n",
    "    Returns:\n",
    "    - Critical F-value\n",
    "    \"\"\"\n",
    "    alpha_over_2 = alpha / 2  # Two-tailed test\n",
    "\n",
    "    # Percent point function (inverse of the cumulative distribution function)\n",
    "    crit_f_value = f.ppf(1 - alpha_over_2, df_num, df_denom)\n",
    "\n",
    "    return crit_f_value\n",
    "\n",
    "# Example usage:\n",
    "significance_level = 0.05\n",
    "degrees_of_freedom_num = 2\n",
    "degrees_of_freedom_denom = 20\n",
    "\n",
    "crit_f_value_result = critical_f_value(significance_level, degrees_of_freedom_num, degrees_of_freedom_denom)\n",
    "\n",
    "print(f\"Critical F-value: {crit_f_value_result}\")\n"
   ]
  },
  {
   "cell_type": "code",
   "execution_count": null,
   "id": "3492077b-4cff-4e23-890a-27594a2ab8e1",
   "metadata": {},
   "outputs": [],
   "source": []
  },
  {
   "cell_type": "markdown",
   "id": "b9980c54-ba50-46fb-811e-d9c633a53265",
   "metadata": {},
   "source": [
    "Q3. Write a Python program that generates random samples from two normal distributions with known variances and uses an F-test to determine if the variances are equal. The program should output the F-\n",
    "value, degrees of freedom, and p-value for the test."
   ]
  },
  {
   "cell_type": "code",
   "execution_count": 4,
   "id": "03d3bc94-5be9-4c66-bdb6-9e32e8569731",
   "metadata": {},
   "outputs": [
    {
     "name": "stdout",
     "output_type": "stream",
     "text": [
      "F-value: 2.4081636671276785\n",
      "Degrees of freedom numerator: 29\n",
      "Degrees of freedom denominator: 29\n",
      "P-value: 0.02087559545078621\n"
     ]
    }
   ],
   "source": [
    "import numpy as np\n",
    "from scipy.stats import f\n",
    "\n",
    "def perform_f_test(sample1, sample2):\n",
    "    \"\"\"\n",
    "    Perform an F-test to check if the variances of two samples are equal.\n",
    "\n",
    "    Parameters:\n",
    "    - sample1: First random sample\n",
    "    - sample2: Second random sample\n",
    "\n",
    "    Returns:\n",
    "    - F-value, degrees of freedom numerator, degrees of freedom denominator, p-value\n",
    "    \"\"\"\n",
    "    # Calculate variances of the samples\n",
    "    var1 = np.var(sample1, ddof=1)  # ddof=1 for sample variance\n",
    "    var2 = np.var(sample2, ddof=1)\n",
    "\n",
    "    # Degrees of freedom\n",
    "    df_num = len(sample1) - 1\n",
    "    df_denom = len(sample2) - 1\n",
    "\n",
    "    # F-test\n",
    "    f_value = var1 / var2 if var1 > var2 else var2 / var1\n",
    "    p_value = 2 * min(f.cdf(f_value, df_num, df_denom), 1 - f.cdf(f_value, df_num, df_denom))\n",
    "\n",
    "    return f_value, df_num, df_denom, p_value\n",
    "\n",
    "# Example usage:\n",
    "np.random.seed(42)  # Set seed for reproducibility\n",
    "\n",
    "# Generate random samples from normal distributions\n",
    "sample1 = np.random.normal(loc=0, scale=1, size=30)\n",
    "sample2 = np.random.normal(loc=0, scale=1.5, size=30)  # Different variance\n",
    "\n",
    "# Perform F-test\n",
    "f_value, df_num, df_denom, p_value = perform_f_test(sample1, sample2)\n",
    "\n",
    "# Output results\n",
    "print(f\"F-value: {f_value}\")\n",
    "print(f\"Degrees of freedom numerator: {df_num}\")\n",
    "print(f\"Degrees of freedom denominator: {df_denom}\")\n",
    "print(f\"P-value: {p_value}\")\n"
   ]
  },
  {
   "cell_type": "code",
   "execution_count": null,
   "id": "7d66324c-ddb6-4a53-9dd0-10622677165e",
   "metadata": {},
   "outputs": [],
   "source": []
  },
  {
   "cell_type": "markdown",
   "id": "1b29ef3c-7885-45e9-9d1e-278a875f4c6e",
   "metadata": {},
   "source": [
    "Q4.The variances of two populations are known to be 10 and 15. A sample of 12 observations is taken from\n",
    "each population. Conduct an F-test at the 5% significance level to determine if the variances are\n",
    "significantly different."
   ]
  },
  {
   "cell_type": "code",
   "execution_count": 5,
   "id": "f8b5feec-a096-4140-9bac-11d9fb8154cc",
   "metadata": {},
   "outputs": [
    {
     "name": "stdout",
     "output_type": "stream",
     "text": [
      "F-statistic: 0.6666666666666666\n",
      "Critical F-value: 3.473699051085809\n",
      "P-value: 0.5123897987357996\n",
      "Fail to reject the null hypothesis. Variances are not significantly different.\n"
     ]
    }
   ],
   "source": [
    "import numpy as np\n",
    "from scipy.stats import f\n",
    "\n",
    "def f_test(sample_var1, sample_var2, df1, df2, alpha):\n",
    "    # Calculate the F-statistic\n",
    "    f_statistic = sample_var1 / sample_var2\n",
    "\n",
    "    # Calculate the critical F-value for a two-tailed test\n",
    "    critical_f_value = f.ppf(1 - alpha / 2, df1, df2)\n",
    "\n",
    "    # Calculate the p-value\n",
    "    p_value = 2 * min(f.cdf(f_statistic, df1, df2), 1 - f.cdf(f_statistic, df1, df2))\n",
    "\n",
    "    return f_statistic, critical_f_value, p_value\n",
    "\n",
    "# Given data\n",
    "variance1 = 10\n",
    "variance2 = 15\n",
    "sample_size = 12\n",
    "alpha = 0.05\n",
    "\n",
    "# Calculate sample variances\n",
    "sample_var1 = variance1\n",
    "sample_var2 = variance2\n",
    "\n",
    "# Degrees of freedom\n",
    "df1 = sample_size - 1\n",
    "df2 = sample_size - 1\n",
    "\n",
    "# Perform F-test\n",
    "f_statistic, critical_f_value, p_value = f_test(sample_var1, sample_var2, df1, df2, alpha)\n",
    "\n",
    "# Output results\n",
    "print(f\"F-statistic: {f_statistic}\")\n",
    "print(f\"Critical F-value: {critical_f_value}\")\n",
    "print(f\"P-value: {p_value}\")\n",
    "\n",
    "# Check if the null hypothesis is rejected\n",
    "if f_statistic > critical_f_value or p_value < alpha:\n",
    "    print(\"Reject the null hypothesis. Variances are significantly different.\")\n",
    "else:\n",
    "    print(\"Fail to reject the null hypothesis. Variances are not significantly different.\")\n"
   ]
  },
  {
   "cell_type": "code",
   "execution_count": null,
   "id": "311b16c5-63a1-4f1c-bcce-fd461018d1c3",
   "metadata": {},
   "outputs": [],
   "source": []
  },
  {
   "cell_type": "markdown",
   "id": "c943970b-8b2b-448d-8225-ef26f5d69f2c",
   "metadata": {},
   "source": [
    "Q5. A manufacturer claims that the variance of the diameter of a certain product is 0.005. A sample of 25\n",
    "products is taken, and the sample variance is found to be 0.006. Conduct an F-test at the 1% significance\n",
    "level to determine if the claim is justified."
   ]
  },
  {
   "cell_type": "code",
   "execution_count": 6,
   "id": "7380f008-7ca1-4202-800d-690e7c53a134",
   "metadata": {},
   "outputs": [
    {
     "name": "stdout",
     "output_type": "stream",
     "text": [
      "F-statistic: 1.2\n",
      "Critical F-value: nan\n",
      "P-value: 0.0\n",
      "Reject the null hypothesis. The claim is not justified.\n"
     ]
    }
   ],
   "source": [
    "from scipy.stats import f\n",
    "\n",
    "def f_test(sample_var, population_var, sample_size, alpha):\n",
    "    # Calculate the F-statistic\n",
    "    f_statistic = sample_var / population_var\n",
    "\n",
    "    # Degrees of freedom\n",
    "    df1 = sample_size - 1\n",
    "    df2 = float('inf')  # Infinite degrees of freedom for the population variance\n",
    "\n",
    "    # Calculate the critical F-value for a two-tailed test\n",
    "    critical_f_value = f.ppf(1 - alpha / 2, df1, df2)\n",
    "\n",
    "    # Calculate the p-value\n",
    "    p_value = 2 * min(f.cdf(f_statistic, df1, df2), 1 - f.cdf(f_statistic, df1, df2))\n",
    "\n",
    "    return f_statistic, critical_f_value, p_value\n",
    "\n",
    "# Given data\n",
    "claimed_variance = 0.005\n",
    "sample_variance = 0.006\n",
    "sample_size = 25\n",
    "alpha = 0.01  # 1% significance level\n",
    "\n",
    "# Perform F-test\n",
    "f_statistic, critical_f_value, p_value = f_test(sample_variance, claimed_variance, sample_size, alpha)\n",
    "\n",
    "# Output results\n",
    "print(f\"F-statistic: {f_statistic}\")\n",
    "print(f\"Critical F-value: {critical_f_value}\")\n",
    "print(f\"P-value: {p_value}\")\n",
    "\n",
    "# Check if the null hypothesis is rejected\n",
    "if f_statistic > critical_f_value or p_value < alpha:\n",
    "    print(\"Reject the null hypothesis. The claim is not justified.\")\n",
    "else:\n",
    "    print(\"Fail to reject the null hypothesis. The claim is justified.\")\n"
   ]
  },
  {
   "cell_type": "code",
   "execution_count": null,
   "id": "eb040090-6ad4-4e42-8651-dad311e8460f",
   "metadata": {},
   "outputs": [],
   "source": []
  },
  {
   "cell_type": "markdown",
   "id": "49155615-d626-4888-8b40-e575b106846a",
   "metadata": {},
   "source": [
    "Q6. Write a Python function that takes in the degrees of freedom for the numerator and denominator of an\n",
    "F-distribution and calculates the mean and variance of the distribution. The function should return the\n",
    "mean and variance as a tuple."
   ]
  },
  {
   "cell_type": "code",
   "execution_count": 7,
   "id": "99696de5-f1a6-4398-a74f-be8fc970e3e0",
   "metadata": {},
   "outputs": [
    {
     "name": "stdout",
     "output_type": "stream",
     "text": [
      "Mean: 1.25\n",
      "Variance: 1.3541666666666667\n"
     ]
    }
   ],
   "source": [
    "def f_distribution_mean_variance(df_num, df_denom):\n",
    "    \"\"\"\n",
    "    Calculate the mean and variance of an F-distribution.\n",
    "\n",
    "    Parameters:\n",
    "    - df_num: Degrees of freedom for the numerator\n",
    "    - df_denom: Degrees of freedom for the denominator\n",
    "\n",
    "    Returns:\n",
    "    - Tuple containing the mean and variance\n",
    "    \"\"\"\n",
    "    # Check for valid degrees of freedom\n",
    "    if df_num <= 0 or df_denom <= 0:\n",
    "        raise ValueError(\"Degrees of freedom must be greater than zero.\")\n",
    "\n",
    "    # Calculate mean\n",
    "    mean = df_denom / (df_denom - 2) if df_denom > 2 else None\n",
    "\n",
    "    # Calculate variance\n",
    "    if df_denom > 4:\n",
    "        variance = (2 * df_denom ** 2 * (df_num + df_denom - 2)) / (df_num * (df_denom - 2) ** 2 * (df_denom - 4))\n",
    "    else:\n",
    "        variance = None\n",
    "\n",
    "    return mean, variance\n",
    "\n",
    "# Example usage:\n",
    "df_num_example = 5\n",
    "df_denom_example = 10\n",
    "\n",
    "mean, variance = f_distribution_mean_variance(df_num_example, df_denom_example)\n",
    "\n",
    "print(f\"Mean: {mean}\")\n",
    "print(f\"Variance: {variance}\")\n"
   ]
  },
  {
   "cell_type": "code",
   "execution_count": null,
   "id": "7c0149c2-4e7c-43f5-a766-7bb41874a959",
   "metadata": {},
   "outputs": [],
   "source": []
  },
  {
   "cell_type": "markdown",
   "id": "bb0471c3-26ae-49b4-844b-05e034ddd6d0",
   "metadata": {},
   "source": [
    "Q7. A random sample of 10 measurements is taken from a normal population with unknown variance. The\n",
    "sample variance is found to be 25. Another random sample of 15 measurements is taken from another\n",
    "normal population with unknown variance, and the sample variance is found to be 20. Conduct an F-test\n",
    "at the 10% significance level to determine if the variances are significantly different."
   ]
  },
  {
   "cell_type": "code",
   "execution_count": 8,
   "id": "e3a13606-943c-4113-9355-80a5fad04f03",
   "metadata": {},
   "outputs": [
    {
     "name": "stdout",
     "output_type": "stream",
     "text": [
      "F-statistic: 1.25\n",
      "Critical F-value: 2.6457907352338195\n",
      "P-value: 0.6832194382585954\n",
      "Fail to reject the null hypothesis. Variances are not significantly different.\n"
     ]
    }
   ],
   "source": [
    "from scipy.stats import f\n",
    "\n",
    "def f_test(sample_var1, sample_var2, df1, df2, alpha):\n",
    "    # Calculate the F-statistic\n",
    "    f_statistic = sample_var1 / sample_var2\n",
    "\n",
    "    # Degrees of freedom\n",
    "    df_num = df1\n",
    "    df_denom = df2\n",
    "\n",
    "    # Calculate the critical F-value for a two-tailed test\n",
    "    critical_f_value = f.ppf(1 - alpha / 2, df_num, df_denom)\n",
    "\n",
    "    # Calculate the p-value\n",
    "    p_value = 2 * min(f.cdf(f_statistic, df_num, df_denom), 1 - f.cdf(f_statistic, df_num, df_denom))\n",
    "\n",
    "    return f_statistic, critical_f_value, p_value\n",
    "\n",
    "# Given data\n",
    "sample_var1 = 25\n",
    "sample_var2 = 20\n",
    "sample_size1 = 10\n",
    "sample_size2 = 15\n",
    "alpha = 0.10  # 10% significance level\n",
    "\n",
    "# Degrees of freedom\n",
    "df1 = sample_size1 - 1\n",
    "df2 = sample_size2 - 1\n",
    "\n",
    "# Perform F-test\n",
    "f_statistic, critical_f_value, p_value = f_test(sample_var1, sample_var2, df1, df2, alpha)\n",
    "\n",
    "# Output results\n",
    "print(f\"F-statistic: {f_statistic}\")\n",
    "print(f\"Critical F-value: {critical_f_value}\")\n",
    "print(f\"P-value: {p_value}\")\n",
    "\n",
    "# Check if the null hypothesis is rejected\n",
    "if f_statistic > critical_f_value or p_value < alpha:\n",
    "    print(\"Reject the null hypothesis. Variances are significantly different.\")\n",
    "else:\n",
    "    print(\"Fail to reject the null hypothesis. Variances are not significantly different.\")\n"
   ]
  },
  {
   "cell_type": "code",
   "execution_count": null,
   "id": "9a0c2179-528a-4204-8d66-60bd51fd336d",
   "metadata": {},
   "outputs": [],
   "source": []
  },
  {
   "cell_type": "markdown",
   "id": "1db416d3-d325-4106-a8c8-e40fcb7f30eb",
   "metadata": {},
   "source": [
    "Q8. The following data represent the waiting times in minutes at two different restaurants on a Saturday\n",
    "night: Restaurant A: 24, 25, 28, 23, 22, 20, 27; Restaurant B: 31, 33, 35, 30, 32, 36. Conduct an F-test at the 5%\n",
    "significance level to determine if the variances are significantly different."
   ]
  },
  {
   "cell_type": "code",
   "execution_count": 9,
   "id": "fe33e366-5059-4775-b96c-f25f35022ce0",
   "metadata": {},
   "outputs": [
    {
     "name": "stdout",
     "output_type": "stream",
     "text": [
      "F-statistic: 1.4551907719609583\n",
      "Critical F-value: 6.977701858535566\n",
      "P-value: 0.6974815747937484\n",
      "Fail to reject the null hypothesis. Variances are not significantly different.\n"
     ]
    }
   ],
   "source": [
    "import numpy as np\n",
    "from scipy.stats import f\n",
    "\n",
    "def f_test(sample1, sample2, alpha):\n",
    "    # Calculate the sample variances\n",
    "    var1 = np.var(sample1, ddof=1)  # ddof=1 for sample variance\n",
    "    var2 = np.var(sample2, ddof=1)\n",
    "\n",
    "    # Degrees of freedom\n",
    "    df1 = len(sample1) - 1\n",
    "    df2 = len(sample2) - 1\n",
    "\n",
    "    # Calculate the F-statistic\n",
    "    f_statistic = var1 / var2 if var1 > var2 else var2 / var1\n",
    "\n",
    "    # Calculate the critical F-value for a two-tailed test\n",
    "    critical_f_value = f.ppf(1 - alpha / 2, df1, df2)\n",
    "\n",
    "    # Calculate the p-value\n",
    "    p_value = 2 * min(f.cdf(f_statistic, df1, df2), 1 - f.cdf(f_statistic, df1, df2))\n",
    "\n",
    "    return f_statistic, critical_f_value, p_value\n",
    "\n",
    "# Given data\n",
    "waiting_times_restaurant_a = [24, 25, 28, 23, 22, 20, 27]\n",
    "waiting_times_restaurant_b = [31, 33, 35, 30, 32, 36]\n",
    "alpha = 0.05  # 5% significance level\n",
    "\n",
    "# Perform F-test\n",
    "f_statistic, critical_f_value, p_value = f_test(waiting_times_restaurant_a, waiting_times_restaurant_b, alpha)\n",
    "\n",
    "# Output results\n",
    "print(f\"F-statistic: {f_statistic}\")\n",
    "print(f\"Critical F-value: {critical_f_value}\")\n",
    "print(f\"P-value: {p_value}\")\n",
    "\n",
    "# Check if the null hypothesis is rejected\n",
    "if f_statistic > critical_f_value or p_value < alpha:\n",
    "    print(\"Reject the null hypothesis. Variances are significantly different.\")\n",
    "else:\n",
    "    print(\"Fail to reject the null hypothesis. Variances are not significantly different.\")\n"
   ]
  },
  {
   "cell_type": "code",
   "execution_count": null,
   "id": "eb76ace5-b201-4b03-895b-3de261f23c16",
   "metadata": {},
   "outputs": [],
   "source": []
  },
  {
   "cell_type": "markdown",
   "id": "ec110aea-a593-41f3-ac0f-ab813ca29d5a",
   "metadata": {},
   "source": [
    "Q9. The following data represent the test scores of two groups of students: Group A: 80, 85, 90, 92, 87, 83;\n",
    "Group B: 75, 78, 82, 79, 81, 84. Conduct an F-test at the 1% significance level to determine if the variances\n",
    "are significantly different."
   ]
  },
  {
   "cell_type": "code",
   "execution_count": 10,
   "id": "7e58dc68-b8d0-4baf-9328-d452355fc429",
   "metadata": {},
   "outputs": [
    {
     "name": "stdout",
     "output_type": "stream",
     "text": [
      "F-statistic: 1.9442622950819677\n",
      "Critical F-value: 14.939605459912224\n",
      "P-value: 0.4831043549070688\n",
      "Fail to reject the null hypothesis. Variances are not significantly different.\n"
     ]
    }
   ],
   "source": [
    "import numpy as np\n",
    "from scipy.stats import f\n",
    "\n",
    "def f_test(sample1, sample2, alpha):\n",
    "    # Calculate the sample variances\n",
    "    var1 = np.var(sample1, ddof=1)  # ddof=1 for sample variance\n",
    "    var2 = np.var(sample2, ddof=1)\n",
    "\n",
    "    # Degrees of freedom\n",
    "    df1 = len(sample1) - 1\n",
    "    df2 = len(sample2) - 1\n",
    "\n",
    "    # Calculate the F-statistic\n",
    "    f_statistic = var1 / var2 if var1 > var2 else var2 / var1\n",
    "\n",
    "    # Calculate the critical F-value for a two-tailed test\n",
    "    critical_f_value = f.ppf(1 - alpha / 2, df1, df2)\n",
    "\n",
    "    # Calculate the p-value\n",
    "    p_value = 2 * min(f.cdf(f_statistic, df1, df2), 1 - f.cdf(f_statistic, df1, df2))\n",
    "\n",
    "    return f_statistic, critical_f_value, p_value\n",
    "\n",
    "# Given data\n",
    "test_scores_group_a = [80, 85, 90, 92, 87, 83]\n",
    "test_scores_group_b = [75, 78, 82, 79, 81, 84]\n",
    "alpha = 0.01  # 1% significance level\n",
    "\n",
    "# Perform F-test\n",
    "f_statistic, critical_f_value, p_value = f_test(test_scores_group_a, test_scores_group_b, alpha)\n",
    "\n",
    "# Output results\n",
    "print(f\"F-statistic: {f_statistic}\")\n",
    "print(f\"Critical F-value: {critical_f_value}\")\n",
    "print(f\"P-value: {p_value}\")\n",
    "\n",
    "# Check if the null hypothesis is rejected\n",
    "if f_statistic > critical_f_value or p_value < alpha:\n",
    "    print(\"Reject the null hypothesis. Variances are significantly different.\")\n",
    "else:\n",
    "    print(\"Fail to reject the null hypothesis. Variances are not significantly different.\")\n"
   ]
  },
  {
   "cell_type": "code",
   "execution_count": null,
   "id": "892e7456-0841-43d0-bf07-c7f82e9df091",
   "metadata": {},
   "outputs": [],
   "source": []
  }
 ],
 "metadata": {
  "kernelspec": {
   "display_name": "Python 3 (ipykernel)",
   "language": "python",
   "name": "python3"
  },
  "language_info": {
   "codemirror_mode": {
    "name": "ipython",
    "version": 3
   },
   "file_extension": ".py",
   "mimetype": "text/x-python",
   "name": "python",
   "nbconvert_exporter": "python",
   "pygments_lexer": "ipython3",
   "version": "3.10.8"
  }
 },
 "nbformat": 4,
 "nbformat_minor": 5
}
