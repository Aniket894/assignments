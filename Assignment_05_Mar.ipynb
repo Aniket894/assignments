{
  "nbformat": 4,
  "nbformat_minor": 0,
  "metadata": {
    "colab": {
      "provenance": []
    },
    "kernelspec": {
      "name": "python3",
      "display_name": "Python 3"
    },
    "language_info": {
      "name": "python"
    }
  },
  "cells": [
    {
      "cell_type": "code",
      "execution_count": null,
      "metadata": {
        "id": "-ukEcPXD0YUV"
      },
      "outputs": [],
      "source": []
    },
    {
      "cell_type": "markdown",
      "source": [
        "Q1. How can you create a Bokeh plot using Python code?"
      ],
      "metadata": {
        "id": "ng7fOnqA0dSJ"
      }
    },
    {
      "cell_type": "code",
      "source": [
        "from bokeh.plotting import figure, show\n",
        "\n",
        "# Prepare Data\n",
        "x = [1, 2, 3, 4, 5]\n",
        "y = [6, 7, 2, 4, 9]\n",
        "\n",
        "# Create a Bokeh Figure\n",
        "plot = figure(title='Bokeh Plot Example', x_axis_label='X-axis', y_axis_label='Y-axis')\n",
        "\n",
        "# Add Data to the Plot\n",
        "plot.line(x, y, line_width=2)\n",
        "\n",
        "# Show the Plot\n",
        "show(plot)\n"
      ],
      "metadata": {
        "id": "v6MGzV-G0eAd"
      },
      "execution_count": 2,
      "outputs": []
    },
    {
      "cell_type": "markdown",
      "source": [
        "Q2. What are glyphs in Bokeh, and how can you add them to a Bokeh plot? Explain with an example."
      ],
      "metadata": {
        "id": "Swqvfmyu1EmS"
      }
    },
    {
      "cell_type": "code",
      "source": [
        "from bokeh.plotting import figure, show\n",
        "from bokeh.io import output_file\n",
        "\n",
        "# Prepare Data\n",
        "x = [1, 2, 3, 4, 5]\n",
        "y = [6, 7, 2, 4, 9]\n",
        "\n",
        "# Create a Bokeh Figure\n",
        "plot = figure(title='Bokeh Plot with Glyphs', x_axis_label='X-axis', y_axis_label='Y-axis')\n",
        "\n",
        "# Add a Circle Glyph\n",
        "plot.circle(x, y, size=10, color='red', legend_label='Circle Glyph')\n",
        "\n",
        "# Add a Line Glyph\n",
        "plot.line(x, y, line_width=2, line_color='blue', legend_label='Line Glyph')\n",
        "\n",
        "# Add a Square Glyph\n",
        "plot.square(x, y, size=8, color='green', legend_label='Square Glyph')\n",
        "\n",
        "# Add legend\n",
        "plot.legend.location = 'top_left'\n",
        "\n",
        "# Save the plot to an HTML file (optional)\n",
        "output_file('bokeh_plot_with_glyphs.html')\n",
        "\n",
        "# Show the Plot\n",
        "show(plot)\n"
      ],
      "metadata": {
        "id": "vz7iX73P1FWl"
      },
      "execution_count": 4,
      "outputs": []
    },
    {
      "cell_type": "code",
      "source": [],
      "metadata": {
        "id": "93dPzbBh1Y2V"
      },
      "execution_count": null,
      "outputs": []
    },
    {
      "cell_type": "code",
      "source": [],
      "metadata": {
        "id": "QyBbuAM81cw6"
      },
      "execution_count": null,
      "outputs": []
    },
    {
      "cell_type": "markdown",
      "source": [
        "Q3. How can you customize the appearance of a Bokeh plot, including the axes, title, and legend?"
      ],
      "metadata": {
        "id": "IMvtAef01d-l"
      }
    },
    {
      "cell_type": "code",
      "source": [
        "from bokeh.plotting import figure, show\n",
        "from bokeh.io import output_file\n",
        "\n",
        "# Prepare Data\n",
        "x = [1, 2, 3, 4, 5]\n",
        "y = [6, 7, 2, 4, 9]\n",
        "\n",
        "# Create a Bokeh Figure\n",
        "plot = figure(title='Customized Bokeh Plot', x_axis_label='X-axis', y_axis_label='Y-axis', width=500, height=400)\n",
        "\n",
        "# Add Data to the Plot\n",
        "plot.line(x, y, line_width=2, line_color='blue', legend_label='Line Glyph')\n",
        "\n",
        "# Customize Axes\n",
        "plot.xaxis.axis_label_text_color = 'red'\n",
        "plot.yaxis.axis_label_text_font_style = 'italic'\n",
        "\n",
        "# Customize Title\n",
        "plot.title.text_font_size = '16pt'\n",
        "plot.title.align = 'center'\n",
        "plot.title.text_color = 'green'\n",
        "\n",
        "# Customize Legend\n",
        "plot.legend.label_text_font = 'times'\n",
        "plot.legend.label_text_font_size = '12pt'\n",
        "plot.legend.background_fill_color = 'lightgray'\n",
        "plot.legend.border_line_color = 'black'\n",
        "plot.legend.location = 'top_left'\n",
        "\n",
        "# Save the plot to an HTML file (optional)\n",
        "output_file('customized_bokeh_plot.html')\n",
        "\n",
        "# Show the Plot\n",
        "show(plot)\n"
      ],
      "metadata": {
        "id": "0rBIMxMT1emb"
      },
      "execution_count": 5,
      "outputs": []
    },
    {
      "cell_type": "code",
      "source": [],
      "metadata": {
        "id": "L6DwaJZu1nDa"
      },
      "execution_count": null,
      "outputs": []
    },
    {
      "cell_type": "markdown",
      "source": [
        "Q4. What is a Bokeh server, and how can you use it to create interactive plots that can be updated in\n",
        "real time?"
      ],
      "metadata": {
        "id": "h7t4R1hy1rmQ"
      }
    },
    {
      "cell_type": "code",
      "source": [
        "pip install bokeh\n"
      ],
      "metadata": {
        "colab": {
          "base_uri": "https://localhost:8080/"
        },
        "id": "4DFIa2it1sWz",
        "outputId": "73a0668c-eb7d-4524-e44f-f82ac152239e"
      },
      "execution_count": 6,
      "outputs": [
        {
          "output_type": "stream",
          "name": "stdout",
          "text": [
            "Requirement already satisfied: bokeh in /usr/local/lib/python3.10/dist-packages (3.3.2)\n",
            "Requirement already satisfied: Jinja2>=2.9 in /usr/local/lib/python3.10/dist-packages (from bokeh) (3.1.2)\n",
            "Requirement already satisfied: contourpy>=1 in /usr/local/lib/python3.10/dist-packages (from bokeh) (1.2.0)\n",
            "Requirement already satisfied: numpy>=1.16 in /usr/local/lib/python3.10/dist-packages (from bokeh) (1.23.5)\n",
            "Requirement already satisfied: packaging>=16.8 in /usr/local/lib/python3.10/dist-packages (from bokeh) (23.2)\n",
            "Requirement already satisfied: pandas>=1.2 in /usr/local/lib/python3.10/dist-packages (from bokeh) (1.5.3)\n",
            "Requirement already satisfied: pillow>=7.1.0 in /usr/local/lib/python3.10/dist-packages (from bokeh) (9.4.0)\n",
            "Requirement already satisfied: PyYAML>=3.10 in /usr/local/lib/python3.10/dist-packages (from bokeh) (6.0.1)\n",
            "Requirement already satisfied: tornado>=5.1 in /usr/local/lib/python3.10/dist-packages (from bokeh) (6.3.2)\n",
            "Requirement already satisfied: xyzservices>=2021.09.1 in /usr/local/lib/python3.10/dist-packages (from bokeh) (2023.10.1)\n",
            "Requirement already satisfied: MarkupSafe>=2.0 in /usr/local/lib/python3.10/dist-packages (from Jinja2>=2.9->bokeh) (2.1.3)\n",
            "Requirement already satisfied: python-dateutil>=2.8.1 in /usr/local/lib/python3.10/dist-packages (from pandas>=1.2->bokeh) (2.8.2)\n",
            "Requirement already satisfied: pytz>=2020.1 in /usr/local/lib/python3.10/dist-packages (from pandas>=1.2->bokeh) (2023.3.post1)\n",
            "Requirement already satisfied: six>=1.5 in /usr/local/lib/python3.10/dist-packages (from python-dateutil>=2.8.1->pandas>=1.2->bokeh) (1.16.0)\n"
          ]
        }
      ]
    },
    {
      "cell_type": "code",
      "source": [
        "# myapp.py\n",
        "from bokeh.plotting import figure, curdoc\n",
        "from bokeh.models import ColumnDataSource\n",
        "import numpy as np\n",
        "\n",
        "# Prepare Data\n",
        "x = np.linspace(0, 4 * np.pi, 100)\n",
        "y = np.sin(x)\n",
        "\n",
        "# Create a ColumnDataSource\n",
        "source = ColumnDataSource(data={'x': x, 'y': y})\n",
        "\n",
        "# Create a Bokeh Figure\n",
        "plot = figure(title='Interactive Bokeh Plot', width=800, height=400)\n",
        "line = plot.line('x', 'y', source=source)\n",
        "\n",
        "# Define a function to update the plot data\n",
        "def update_data():\n",
        "    new_y = np.sin(x + curdoc().session_context.request.arguments.get('phase', [0])[0].decode('utf-8').astype(float))\n",
        "    source.data = {'x': x, 'y': new_y}\n",
        "\n",
        "# Set up periodic callback to update the data every second\n",
        "curdoc().add_periodic_callback(update_data, 1000)\n",
        "\n",
        "# Show the plot\n",
        "curdoc().add_root(plot)\n"
      ],
      "metadata": {
        "id": "-Q1SKWBu13Qw"
      },
      "execution_count": 7,
      "outputs": []
    },
    {
      "cell_type": "code",
      "source": [],
      "metadata": {
        "id": "-T5xs5NU2BHv"
      },
      "execution_count": null,
      "outputs": []
    },
    {
      "cell_type": "markdown",
      "source": [
        "Q5. How can you embed a Bokeh plot into a web page or dashboard using Flask or Django?"
      ],
      "metadata": {
        "id": "2aFh_VeE2GID"
      }
    },
    {
      "cell_type": "code",
      "source": [
        "pip install Flask bokeh\n"
      ],
      "metadata": {
        "colab": {
          "base_uri": "https://localhost:8080/"
        },
        "id": "fjQ7P-Ur2GwX",
        "outputId": "0b5ec359-9ee2-42fe-9a73-5bd7f62602da"
      },
      "execution_count": 9,
      "outputs": [
        {
          "output_type": "stream",
          "name": "stdout",
          "text": [
            "Requirement already satisfied: Flask in /usr/local/lib/python3.10/dist-packages (2.2.5)\n",
            "Requirement already satisfied: bokeh in /usr/local/lib/python3.10/dist-packages (3.3.2)\n",
            "Requirement already satisfied: Werkzeug>=2.2.2 in /usr/local/lib/python3.10/dist-packages (from Flask) (3.0.1)\n",
            "Requirement already satisfied: Jinja2>=3.0 in /usr/local/lib/python3.10/dist-packages (from Flask) (3.1.2)\n",
            "Requirement already satisfied: itsdangerous>=2.0 in /usr/local/lib/python3.10/dist-packages (from Flask) (2.1.2)\n",
            "Requirement already satisfied: click>=8.0 in /usr/local/lib/python3.10/dist-packages (from Flask) (8.1.7)\n",
            "Requirement already satisfied: contourpy>=1 in /usr/local/lib/python3.10/dist-packages (from bokeh) (1.2.0)\n",
            "Requirement already satisfied: numpy>=1.16 in /usr/local/lib/python3.10/dist-packages (from bokeh) (1.23.5)\n",
            "Requirement already satisfied: packaging>=16.8 in /usr/local/lib/python3.10/dist-packages (from bokeh) (23.2)\n",
            "Requirement already satisfied: pandas>=1.2 in /usr/local/lib/python3.10/dist-packages (from bokeh) (1.5.3)\n",
            "Requirement already satisfied: pillow>=7.1.0 in /usr/local/lib/python3.10/dist-packages (from bokeh) (9.4.0)\n",
            "Requirement already satisfied: PyYAML>=3.10 in /usr/local/lib/python3.10/dist-packages (from bokeh) (6.0.1)\n",
            "Requirement already satisfied: tornado>=5.1 in /usr/local/lib/python3.10/dist-packages (from bokeh) (6.3.2)\n",
            "Requirement already satisfied: xyzservices>=2021.09.1 in /usr/local/lib/python3.10/dist-packages (from bokeh) (2023.10.1)\n",
            "Requirement already satisfied: MarkupSafe>=2.0 in /usr/local/lib/python3.10/dist-packages (from Jinja2>=3.0->Flask) (2.1.3)\n",
            "Requirement already satisfied: python-dateutil>=2.8.1 in /usr/local/lib/python3.10/dist-packages (from pandas>=1.2->bokeh) (2.8.2)\n",
            "Requirement already satisfied: pytz>=2020.1 in /usr/local/lib/python3.10/dist-packages (from pandas>=1.2->bokeh) (2023.3.post1)\n",
            "Requirement already satisfied: six>=1.5 in /usr/local/lib/python3.10/dist-packages (from python-dateutil>=2.8.1->pandas>=1.2->bokeh) (1.16.0)\n"
          ]
        }
      ]
    },
    {
      "cell_type": "code",
      "source": [
        "#app.py\n",
        "\n",
        "from flask import Flask, render_template\n",
        "from bokeh.embed import components\n",
        "from bokeh.plotting import figure\n",
        "import numpy as np\n",
        "\n",
        "app = Flask(__name__)\n",
        "\n",
        "@app.route('/')\n",
        "def index():\n",
        "    # Prepare Data\n",
        "    x = np.linspace(0, 4 * np.pi, 100)\n",
        "    y = np.sin(x)\n",
        "\n",
        "    # Create a Bokeh Figure\n",
        "    plot = figure(title='Embedded Bokeh Plot', width=800, height=400)\n",
        "    plot.line(x, y, line_width=2)\n",
        "\n",
        "    # Embed the plot into HTML components\n",
        "    script, div = components(plot)\n",
        "\n",
        "    # Render the HTML template with embedded Bokeh components\n",
        "    return render_template('index.html', script=script, div=div)\n",
        "\n",
        "if __name__ == '__main__':\n",
        "    app.run(debug=True)\n"
      ],
      "metadata": {
        "colab": {
          "base_uri": "https://localhost:8080/"
        },
        "id": "LED1w_3H2MHp",
        "outputId": "c5841176-364c-4544-edd2-cad16d16135a"
      },
      "execution_count": 10,
      "outputs": [
        {
          "output_type": "stream",
          "name": "stdout",
          "text": [
            " * Serving Flask app '__main__'\n",
            " * Debug mode: on\n"
          ]
        },
        {
          "output_type": "stream",
          "name": "stderr",
          "text": [
            "INFO:werkzeug:\u001b[31m\u001b[1mWARNING: This is a development server. Do not use it in a production deployment. Use a production WSGI server instead.\u001b[0m\n",
            " * Running on http://127.0.0.1:5000\n",
            "INFO:werkzeug:\u001b[33mPress CTRL+C to quit\u001b[0m\n",
            "INFO:werkzeug: * Restarting with stat\n"
          ]
        }
      ]
    },
    {
      "cell_type": "code",
      "source": [
        "python app.py\n"
      ],
      "metadata": {
        "id": "Vyd46NEy2gc0"
      },
      "execution_count": null,
      "outputs": []
    }
  ]
}