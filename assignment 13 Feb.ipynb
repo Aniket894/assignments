{
 "cells": [
  {
   "cell_type": "markdown",
   "id": "c4349ee2-5922-48bb-873b-11fa3d0f4f5c",
   "metadata": {},
   "source": [
    "Q1. Explain why we have to use the Exception class while creating a Custom Exception.\n",
    "\n",
    "Note: Here Exception class refers to the base class for all the exceptions."
   ]
  },
  {
   "cell_type": "markdown",
   "id": "700bd121-7b69-4ce9-8260-1f35ad213d47",
   "metadata": {},
   "source": [
    "ans  - Exceptions need to be derived from the Exception class, either directly or indirectly. Although not mandatory, most of the exceptions are named as names that end in “Error” similar to the naming of the standard exceptions in python.\n",
    "\n",
    "Means  that the class is derived from the super class Exception. Any custom exception class you create in your own code should inherit from Exception."
   ]
  },
  {
   "cell_type": "code",
   "execution_count": null,
   "id": "d7d42d52-db51-430e-b99a-387db3e2b82f",
   "metadata": {},
   "outputs": [],
   "source": []
  },
  {
   "cell_type": "markdown",
   "id": "26eb0cf0-ed9b-49b5-99d8-83a5286fd9a9",
   "metadata": {},
   "source": [
    "Q2. Write a python program to print Python Exception Hierarchy"
   ]
  },
  {
   "cell_type": "code",
   "execution_count": 28,
   "id": "53296c4e-8e8f-4244-857c-237e58707d88",
   "metadata": {},
   "outputs": [
    {
     "name": "stdout",
     "output_type": "stream",
     "text": [
      "Hierarchy for Built-in exceptions is : \n"
     ]
    },
    {
     "data": {
      "text/plain": [
       "[(object, ()), [(BaseException, (object,)), [(Exception, (BaseException,))]]]"
      ]
     },
     "execution_count": 28,
     "metadata": {},
     "output_type": "execute_result"
    }
   ],
   "source": [
    "import inspect\n",
    "def treeClass(cls, ind = 0):\n",
    "\t\n",
    "\t\n",
    "\tprint ('-' * ind, cls.__name__)\n",
    "\t\n",
    "\tfor i in cls.__subclasses__():\n",
    "\t\ttreeClass(i, ind + 3)\n",
    "\n",
    "print(\"Hierarchy for Built-in exceptions is : \")\n",
    "\n",
    "\n",
    "inspect.getclasstree(inspect.getmro(Exception))\n"
   ]
  },
  {
   "cell_type": "code",
   "execution_count": 29,
   "id": "31d97d97-831b-4899-859d-e15a2646eee6",
   "metadata": {},
   "outputs": [
    {
     "name": "stdout",
     "output_type": "stream",
     "text": [
      " Exception\n",
      "--- TypeError\n",
      "------ FloatOperation\n",
      "------ MultipartConversionError\n",
      "--- StopAsyncIteration\n",
      "--- StopIteration\n",
      "--- ImportError\n",
      "------ ModuleNotFoundError\n",
      "------ ZipImportError\n",
      "--- OSError\n",
      "------ ConnectionError\n",
      "--------- BrokenPipeError\n",
      "--------- ConnectionAbortedError\n",
      "--------- ConnectionRefusedError\n",
      "--------- ConnectionResetError\n",
      "------------ RemoteDisconnected\n",
      "------ BlockingIOError\n",
      "------ ChildProcessError\n",
      "------ FileExistsError\n",
      "------ FileNotFoundError\n",
      "------ IsADirectoryError\n",
      "------ NotADirectoryError\n",
      "------ InterruptedError\n",
      "--------- InterruptedSystemCall\n",
      "------ PermissionError\n",
      "------ ProcessLookupError\n",
      "------ TimeoutError\n",
      "------ UnsupportedOperation\n",
      "------ itimer_error\n",
      "------ herror\n",
      "------ gaierror\n",
      "------ SSLError\n",
      "--------- SSLCertVerificationError\n",
      "--------- SSLZeroReturnError\n",
      "--------- SSLWantWriteError\n",
      "--------- SSLWantReadError\n",
      "--------- SSLSyscallError\n",
      "--------- SSLEOFError\n",
      "------ Error\n",
      "--------- SameFileError\n",
      "------ SpecialFileError\n",
      "------ ExecError\n",
      "------ ReadError\n",
      "------ URLError\n",
      "--------- HTTPError\n",
      "--------- ContentTooShortError\n",
      "------ BadGzipFile\n",
      "--- EOFError\n",
      "------ IncompleteReadError\n",
      "--- RuntimeError\n",
      "------ RecursionError\n",
      "------ NotImplementedError\n",
      "--------- ZMQVersionError\n",
      "--------- StdinNotImplementedError\n",
      "------ _DeadlockError\n",
      "------ BrokenBarrierError\n",
      "------ BrokenExecutor\n",
      "--------- BrokenThreadPool\n",
      "------ SendfileNotAvailableError\n",
      "------ ExtractionError\n",
      "------ VariableError\n",
      "--- NameError\n",
      "------ UnboundLocalError\n",
      "--- AttributeError\n",
      "------ FrozenInstanceError\n",
      "--- SyntaxError\n",
      "------ IndentationError\n",
      "--------- TabError\n",
      "--- LookupError\n",
      "------ IndexError\n",
      "------ KeyError\n",
      "--------- NoSuchKernel\n",
      "--------- UnknownBackend\n",
      "------ CodecRegistryError\n",
      "--- ValueError\n",
      "------ UnicodeError\n",
      "--------- UnicodeEncodeError\n",
      "--------- UnicodeDecodeError\n",
      "--------- UnicodeTranslateError\n",
      "------ UnsupportedOperation\n",
      "------ JSONDecodeError\n",
      "------ SSLCertVerificationError\n",
      "------ Error\n",
      "------ UnsupportedDigestmodError\n",
      "------ IllegalMonthError\n",
      "------ IllegalWeekdayError\n",
      "------ ParserError\n",
      "------ ClassNotFound\n",
      "------ ClipboardEmpty\n",
      "------ MessageDefect\n",
      "--------- NoBoundaryInMultipartDefect\n",
      "--------- StartBoundaryNotFoundDefect\n",
      "--------- CloseBoundaryNotFoundDefect\n",
      "--------- FirstHeaderLineIsContinuationDefect\n",
      "--------- MisplacedEnvelopeHeaderDefect\n",
      "--------- MissingHeaderBodySeparatorDefect\n",
      "--------- MultipartInvariantViolationDefect\n",
      "--------- InvalidMultipartContentTransferEncodingDefect\n",
      "--------- UndecodableBytesDefect\n",
      "--------- InvalidBase64PaddingDefect\n",
      "--------- InvalidBase64CharactersDefect\n",
      "--------- InvalidBase64LengthDefect\n",
      "--------- HeaderDefect\n",
      "------------ InvalidHeaderDefect\n",
      "------------ HeaderMissingRequiredValue\n",
      "------------ NonPrintableDefect\n",
      "------------ ObsoleteHeaderDefect\n",
      "------------ NonASCIILocalPartDefect\n",
      "------------ InvalidDateDefect\n",
      "------ MacroToEdit\n",
      "------ InvalidFileException\n",
      "------ UnequalIterablesError\n",
      "------ InvalidVersion\n",
      "------ _InvalidELFFileHeader\n",
      "------ InvalidWheelFilename\n",
      "------ InvalidSdistFilename\n",
      "------ InvalidSpecifier\n",
      "------ InvalidMarker\n",
      "------ UndefinedComparison\n",
      "------ UndefinedEnvironmentName\n",
      "------ InvalidRequirement\n",
      "--------- RequirementParseError\n",
      "------ InvalidVersion\n",
      "--- AssertionError\n",
      "--- ArithmeticError\n",
      "------ FloatingPointError\n",
      "------ OverflowError\n",
      "------ ZeroDivisionError\n",
      "--------- DivisionByZero\n",
      "--------- DivisionUndefined\n",
      "------ DecimalException\n",
      "--------- Clamped\n",
      "--------- Rounded\n",
      "------------ Underflow\n",
      "------------ Overflow\n",
      "--------- Inexact\n",
      "------------ Underflow\n",
      "------------ Overflow\n",
      "--------- Subnormal\n",
      "------------ Underflow\n",
      "--------- DivisionByZero\n",
      "--------- FloatOperation\n",
      "--------- InvalidOperation\n",
      "------------ ConversionSyntax\n",
      "------------ DivisionImpossible\n",
      "------------ DivisionUndefined\n",
      "------------ InvalidContext\n",
      "--- SystemError\n",
      "------ CodecRegistryError\n",
      "--- ReferenceError\n",
      "--- MemoryError\n",
      "--- BufferError\n",
      "--- Warning\n",
      "------ UserWarning\n",
      "--------- GetPassWarning\n",
      "--------- FormatterWarning\n",
      "------ EncodingWarning\n",
      "------ DeprecationWarning\n",
      "--------- ProvisionalWarning\n",
      "------ PendingDeprecationWarning\n",
      "------ SyntaxWarning\n",
      "------ RuntimeWarning\n",
      "--------- ProactorSelectorThreadWarning\n",
      "--------- UnknownTimezoneWarning\n",
      "--------- PEP440Warning\n",
      "------ FutureWarning\n",
      "--------- ProvisionalCompleterWarning\n",
      "------ ImportWarning\n",
      "------ UnicodeWarning\n",
      "------ BytesWarning\n",
      "------ ResourceWarning\n",
      "------ DeprecatedTzFormatWarning\n",
      "------ PkgResourcesDeprecationWarning\n",
      "--- _OptionError\n",
      "--- _Error\n",
      "--- error\n",
      "--- Verbose\n",
      "--- Error\n",
      "--- SubprocessError\n",
      "------ CalledProcessError\n",
      "------ TimeoutExpired\n",
      "--- TokenError\n",
      "--- StopTokenizing\n",
      "--- ClassFoundException\n",
      "--- EndOfBlock\n",
      "--- TraitError\n",
      "--- Error\n",
      "--- Error\n",
      "------ CancelledError\n",
      "------ TimeoutError\n",
      "------ InvalidStateError\n",
      "--- _GiveupOnSendfile\n",
      "--- error\n",
      "--- Incomplete\n",
      "--- TimeoutError\n",
      "--- InvalidStateError\n",
      "--- LimitOverrunError\n",
      "--- QueueEmpty\n",
      "--- QueueFull\n",
      "--- Empty\n",
      "--- Full\n",
      "--- ArgumentError\n",
      "--- ZMQBaseError\n",
      "------ ZMQError\n",
      "--------- ContextTerminated\n",
      "--------- Again\n",
      "--------- InterruptedSystemCall\n",
      "------ ZMQBindError\n",
      "------ NotDone\n",
      "--- PickleError\n",
      "------ PicklingError\n",
      "------ UnpicklingError\n",
      "--- _Stop\n",
      "--- ArgumentError\n",
      "--- ArgumentTypeError\n",
      "--- ConfigError\n",
      "------ ConfigLoaderError\n",
      "--------- ArgumentError\n",
      "------ ConfigFileNotFound\n",
      "--- ConfigurableError\n",
      "------ MultipleInstanceError\n",
      "--- ApplicationError\n",
      "--- error\n",
      "--- TimeoutError\n",
      "--- error\n",
      "--- ReturnValueIgnoredError\n",
      "--- KeyReuseError\n",
      "--- UnknownKeyError\n",
      "--- LeakedCallbackError\n",
      "--- BadYieldError\n",
      "--- ReturnValueIgnoredError\n",
      "--- Return\n",
      "--- InvalidPortNumber\n",
      "--- error\n",
      "--- LZMAError\n",
      "--- RegistryError\n",
      "--- _GiveupOnFastCopy\n",
      "--- Error\n",
      "------ NoSectionError\n",
      "------ DuplicateSectionError\n",
      "------ DuplicateOptionError\n",
      "------ NoOptionError\n",
      "------ InterpolationError\n",
      "--------- InterpolationMissingOptionError\n",
      "--------- InterpolationSyntaxError\n",
      "--------- InterpolationDepthError\n",
      "------ ParsingError\n",
      "--------- MissingSectionHeaderError\n",
      "--- NoIPAddresses\n",
      "--- BadZipFile\n",
      "--- LargeZipFile\n",
      "--- BadEntryPoint\n",
      "--- NoSuchEntryPoint\n",
      "--- DuplicateKernelError\n",
      "--- ErrorDuringImport\n",
      "--- NotOneValueFound\n",
      "--- CannotEval\n",
      "--- OptionError\n",
      "--- BdbQuit\n",
      "--- Restart\n",
      "--- ExceptionPexpect\n",
      "------ EOF\n",
      "------ TIMEOUT\n",
      "--- PtyProcessError\n",
      "--- FindCmdError\n",
      "--- HomeDirError\n",
      "--- ProfileDirError\n",
      "--- IPythonCoreError\n",
      "------ TryNext\n",
      "------ UsageError\n",
      "------ StdinNotImplementedError\n",
      "--- InputRejected\n",
      "--- GetoptError\n",
      "--- ErrorToken\n",
      "--- PrefilterError\n",
      "--- AliasError\n",
      "------ InvalidAliasError\n",
      "--- Error\n",
      "------ InterfaceError\n",
      "------ DatabaseError\n",
      "--------- InternalError\n",
      "--------- OperationalError\n",
      "--------- ProgrammingError\n",
      "--------- IntegrityError\n",
      "--------- DataError\n",
      "--------- NotSupportedError\n",
      "--- Warning\n",
      "--- SpaceInInput\n",
      "--- DOMException\n",
      "------ IndexSizeErr\n",
      "------ DomstringSizeErr\n",
      "------ HierarchyRequestErr\n",
      "------ WrongDocumentErr\n",
      "------ InvalidCharacterErr\n",
      "------ NoDataAllowedErr\n",
      "------ NoModificationAllowedErr\n",
      "------ NotFoundErr\n",
      "------ NotSupportedErr\n",
      "------ InuseAttributeErr\n",
      "------ InvalidStateErr\n",
      "------ SyntaxErr\n",
      "------ InvalidModificationErr\n",
      "------ NamespaceErr\n",
      "------ InvalidAccessErr\n",
      "------ ValidationErr\n",
      "--- ValidationError\n",
      "--- EditReadOnlyBuffer\n",
      "--- _Retry\n",
      "--- InvalidLayoutError\n",
      "--- HeightIsUnknownError\n",
      "--- ParserSyntaxError\n",
      "--- InternalParseError\n",
      "--- _PositionUpdatingFinished\n",
      "--- SimpleGetItemNotFound\n",
      "--- UncaughtAttributeError\n",
      "--- HasNoContext\n",
      "--- ParamIssue\n",
      "--- _JediError\n",
      "------ InternalError\n",
      "------ WrongVersion\n",
      "------ RefactoringError\n",
      "--- OnErrorLeaf\n",
      "--- InvalidPythonEnvironment\n",
      "--- MessageError\n",
      "------ MessageParseError\n",
      "--------- HeaderParseError\n",
      "--------- BoundaryError\n",
      "------ MultipartConversionError\n",
      "------ CharsetError\n",
      "--- Error\n",
      "--- HTTPException\n",
      "------ NotConnected\n",
      "------ InvalidURL\n",
      "------ UnknownProtocol\n",
      "------ UnknownTransferEncoding\n",
      "------ UnimplementedFileMode\n",
      "------ IncompleteRead\n",
      "------ ImproperConnectionState\n",
      "--------- CannotSendRequest\n",
      "--------- CannotSendHeader\n",
      "--------- ResponseNotReady\n",
      "------ BadStatusLine\n",
      "--------- RemoteDisconnected\n",
      "------ LineTooLong\n",
      "--- InteractivelyDefined\n",
      "--- KillEmbedded\n",
      "--- Error\n",
      "------ NoSuchProcess\n",
      "--------- ZombieProcess\n",
      "------ AccessDenied\n",
      "------ TimeoutExpired\n",
      "--- _Ipv6UnsupportedError\n",
      "--- QueueEmpty\n",
      "--- QueueFull\n",
      "--- DebuggerInitializationError\n",
      "--- ExpatError\n",
      "--- Error\n",
      "------ ProtocolError\n",
      "------ ResponseError\n",
      "------ Fault\n",
      "--- ParseBaseException\n",
      "------ ParseException\n",
      "------ ParseFatalException\n",
      "--------- ParseSyntaxException\n",
      "--- RecursiveGrammarException\n",
      "--- ResolutionError\n",
      "------ VersionConflict\n",
      "--------- ContextualVersionConflict\n",
      "------ DistributionNotFound\n",
      "------ UnknownExtra\n",
      "--- _Error\n",
      "--- UnableToResolveVariableException\n",
      "--- InvalidTypeInArgsException\n"
     ]
    }
   ],
   "source": [
    "treeClass(Exception)"
   ]
  },
  {
   "cell_type": "code",
   "execution_count": null,
   "id": "9fde628b-6106-4275-b862-f88f10bb1220",
   "metadata": {},
   "outputs": [],
   "source": []
  },
  {
   "cell_type": "markdown",
   "id": "fa443f96-319c-422a-95fe-aadf9a76e3a8",
   "metadata": {},
   "source": [
    "Q3. What errors are defined in the ArithmeticError class? Explain any two with an example."
   ]
  },
  {
   "cell_type": "markdown",
   "id": "12495f5e-170c-43c2-9e1f-694e64a699dd",
   "metadata": {},
   "source": [
    "ans - ArithmeticError class has three errors:\n",
    "    \n",
    "    1. OverFlowError\n",
    "    2. ZeroDivisionError\n",
    "    3. FloatingPointError"
   ]
  },
  {
   "cell_type": "markdown",
   "id": "735dfa51-0fc9-423d-bc7d-8b770c88ff5f",
   "metadata": {},
   "source": [
    "ZeroDivisionError occurs in Python when a number is attempted to be divided by zero. "
   ]
  },
  {
   "cell_type": "code",
   "execution_count": 34,
   "id": "d2dc9ff7-6de7-40cb-8687-6bd6705ae274",
   "metadata": {},
   "outputs": [
    {
     "name": "stdout",
     "output_type": "stream",
     "text": [
      "division by zero\n",
      "this is example of ZeroDivisionError \n"
     ]
    }
   ],
   "source": [
    "try :\n",
    "     a = 5/0\n",
    "        \n",
    "except ArithmeticError as e :\n",
    "    print(e)\n",
    "    \n",
    "else :\n",
    "    print(a)\n",
    "    \n",
    "finally:\n",
    "    print(\"this is example of ZeroDivisionError \")\n"
   ]
  },
  {
   "cell_type": "markdown",
   "id": "7bec4006-bb20-4328-9a3b-c166fbef48dd",
   "metadata": {},
   "source": [
    " OverflowError exception is raised when an arithmetic operation exceeds the limits to be represented"
   ]
  },
  {
   "cell_type": "code",
   "execution_count": 44,
   "id": "3ac4038c-fb91-44c6-a9fb-fcfee4957c64",
   "metadata": {},
   "outputs": [
    {
     "name": "stdout",
     "output_type": "stream",
     "text": [
      "Overflow error happened\n",
      "(34, 'Numerical result out of range'), <class 'OverflowError'>\n",
      "this is example of overflow error\n"
     ]
    }
   ],
   "source": [
    "a = 5.0\n",
    "try:\n",
    "    for i in range(1,10000):\n",
    "        a = a**i\n",
    "        \n",
    "except ArithmeticError as e:\n",
    "    print(\"Overflow error happened\")\n",
    "    print(f\"{e}, {e.__class__}\")\n",
    "    \n",
    "else:\n",
    "    print(a)\n",
    "    \n",
    "finally:\n",
    "    print(\"this is example of overflow error\")\n",
    "\n",
    "\n"
   ]
  },
  {
   "cell_type": "code",
   "execution_count": null,
   "id": "8ae359cc-52bf-44a9-baab-4fbeedb1ef90",
   "metadata": {},
   "outputs": [],
   "source": []
  },
  {
   "cell_type": "markdown",
   "id": "8ee81a10-0728-476c-a709-3bc20ca14612",
   "metadata": {},
   "source": [
    "Q4. Why LookupError class is used? Explain with an example KeyError and IndexError"
   ]
  },
  {
   "cell_type": "markdown",
   "id": "254ac965-5024-4378-ba12-fab28d315a84",
   "metadata": {},
   "source": [
    "ans - The LookupError exception in Python forms the base class for all exceptions that are raised when an index or a key is not found for a sequence or dictionary respectively.\n",
    "\n",
    "can use LookupError exception class to handle both IndexError and KeyError exception classes.\n",
    "\n",
    "lookupError has two errors:\n",
    "\n",
    "1. IndexError\n",
    "2.  KeyError"
   ]
  },
  {
   "cell_type": "markdown",
   "id": "5999b174-b42a-4bc2-951b-d44fba1bda16",
   "metadata": {},
   "source": [
    "IndexError has come when index no is not found in the list, string and tuple."
   ]
  },
  {
   "cell_type": "code",
   "execution_count": 46,
   "id": "0aa77162-7ae1-4457-a29e-1e80310e7c5c",
   "metadata": {},
   "outputs": [
    {
     "name": "stdout",
     "output_type": "stream",
     "text": [
      "list index out of range\n",
      "this is example of indexerror\n"
     ]
    }
   ],
   "source": [
    "l = [1,2,3,45,6,87,6,54]\n",
    "\n",
    "try:\n",
    "    print(l[10])\n",
    "    \n",
    "except LookupError as e:\n",
    "    print(e)\n",
    "finally:\n",
    "    print(\"this is example of indexerror\")"
   ]
  },
  {
   "cell_type": "markdown",
   "id": "0df0ff40-b9da-4f83-a38a-e4551baa2580",
   "metadata": {},
   "source": [
    "KeyError exception is what is raised when you try to access a key that isn’t in a dictionary (dict)."
   ]
  },
  {
   "cell_type": "code",
   "execution_count": 24,
   "id": "ed115317-0245-4eaa-a335-b06ec0d7cddb",
   "metadata": {},
   "outputs": [
    {
     "name": "stdout",
     "output_type": "stream",
     "text": [
      "key not found\n",
      "this is example of keyerror\n"
     ]
    }
   ],
   "source": [
    "d1 = { 'name' : 'aniket' ,'class' : 12 ,'roll_no' : 1234}\n",
    "\n",
    "\n",
    "try :\n",
    "     print(d1['age'])\n",
    "    \n",
    "except KeyError as e:\n",
    "    print(\"key not found\")\n",
    "    \n",
    "finally:\n",
    "    print(\"this is example of keyerror\")\n",
    "          "
   ]
  },
  {
   "cell_type": "code",
   "execution_count": null,
   "id": "136c45fa-d0f4-4717-8674-15b5bf12d78f",
   "metadata": {},
   "outputs": [],
   "source": []
  },
  {
   "cell_type": "markdown",
   "id": "d5112e24-1e05-4cda-ac35-3fe8420197a6",
   "metadata": {},
   "source": [
    "Q5. Explain ImportError. What is ModuleNotFoundError?"
   ]
  },
  {
   "cell_type": "markdown",
   "id": "35daa10c-42ba-4287-b7f3-bc977eff1538",
   "metadata": {},
   "source": [
    "ans - ImportError is raised when a module, or member of a module, cannot be imported. There are a two conditions where an ImportError might be raised."
   ]
  },
  {
   "cell_type": "code",
   "execution_count": 30,
   "id": "3511ae6a-a279-4ffb-9173-643d8219f476",
   "metadata": {},
   "outputs": [
    {
     "name": "stdout",
     "output_type": "stream",
     "text": [
      "No module named 'house'\n",
      "this is example of ImportError\n"
     ]
    }
   ],
   "source": [
    "try :\n",
    "    from house import aniket\n",
    "except Exception as e:\n",
    "    print(e)\n",
    "finally:\n",
    "    print(\"this is example of ImportError\")"
   ]
  },
  {
   "cell_type": "markdown",
   "id": "57317bc2-3e89-4acb-8610-91f6cd2dc66f",
   "metadata": {},
   "source": [
    "ModuleNotFoundError is a type of ImportError and occurs when we are trying to access or use a module that cannot be found.\n"
   ]
  },
  {
   "cell_type": "markdown",
   "id": "3cb1a52c-98ff-4858-a1f0-a3009592aaa6",
   "metadata": {},
   "source": [
    "Q6. List down some best practices for exception handling in python."
   ]
  },
  {
   "cell_type": "code",
   "execution_count": null,
   "id": "0efe22fa-a895-4205-95b6-9fd6539ab84f",
   "metadata": {},
   "outputs": [],
   "source": [
    "ans - 1. Use Exceptions for Exceptional Cases\n",
    "      2. Don’t Swallow the Exception\n",
    "    3. Catch Specific Exceptions\n",
    "    4. Always Clean Up Resources in a Finally Block\n",
    "    5. Avoid Raising Generic Exceptions\n",
    "    6. Raise Custom Exceptions\n",
    "    7. Define Your Own Exception Hierarchy"
   ]
  }
 ],
 "metadata": {
  "kernelspec": {
   "display_name": "Python 3 (ipykernel)",
   "language": "python",
   "name": "python3"
  },
  "language_info": {
   "codemirror_mode": {
    "name": "ipython",
    "version": 3
   },
   "file_extension": ".py",
   "mimetype": "text/x-python",
   "name": "python",
   "nbconvert_exporter": "python",
   "pygments_lexer": "ipython3",
   "version": "3.10.8"
  }
 },
 "nbformat": 4,
 "nbformat_minor": 5
}
