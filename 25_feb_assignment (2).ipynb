{
 "cells": [
  {
   "cell_type": "markdown",
   "id": "2caad91c-8749-464e-8020-55dd6d71fb25",
   "metadata": {},
   "source": [
    "Consider following code to answer further questions:\n",
    "import pandas as pd\n",
    "course_name = [‘Data Science’, ‘Machine Learning’, ‘Big Data’, ‘Data Engineer’]\n",
    "duration = [2,3,6,4]\n",
    "df = pd.DataFrame(data = {‘course_name’ : course_name, ‘duration’ : duration})\n",
    "\n",
    "Q1. Write a code to print the data present in the second row of the dataframe, df."
   ]
  },
  {
   "cell_type": "code",
   "execution_count": 1,
   "id": "ce8b0e02-68db-4360-a659-bbb3237f9465",
   "metadata": {},
   "outputs": [
    {
     "name": "stdout",
     "output_type": "stream",
     "text": [
      "course_name    Machine Learning\n",
      "duration                      3\n",
      "Name: 1, dtype: object\n"
     ]
    }
   ],
   "source": [
    "import pandas as pd\n",
    "\n",
    "course_name = ['Data Science', 'Machine Learning', 'Big Data', 'Data Engineer']\n",
    "duration = [2, 3, 6, 4]\n",
    "df = pd.DataFrame(data={'course_name': course_name, 'duration': duration})\n",
    "\n",
    "# Access the second row (index 1) using .iloc[]\n",
    "second_row = df.iloc[1]\n",
    "print(second_row)\n"
   ]
  },
  {
   "cell_type": "code",
   "execution_count": null,
   "id": "44bee3c0-5236-40df-a630-759bd7efeeee",
   "metadata": {},
   "outputs": [],
   "source": []
  },
  {
   "cell_type": "code",
   "execution_count": null,
   "id": "33c8fd56-3684-49b4-9416-b164e1db2a08",
   "metadata": {},
   "outputs": [],
   "source": []
  },
  {
   "cell_type": "markdown",
   "id": "8836cc94-6b99-4793-9ccf-48e8d7bee787",
   "metadata": {},
   "source": [
    "Q2. What is the difference between the functions loc and iloc in pandas.DataFrame?"
   ]
  },
  {
   "cell_type": "markdown",
   "id": "1fc2819b-5710-420f-bdf2-255d759a2bec",
   "metadata": {},
   "source": [
    "ans - In pandas, both loc and iloc are used to access data in a DataFrame, but they differ in their methods of indexing:\n",
    "\n",
    "loc:\n",
    "loc is label-based indexing. It is used to access rows and columns in a DataFrame using labels.\n",
    "It works with the row and column labels. You specify the row and column labels to retrieve data.\n",
    "The syntax for loc is df.loc[row_label, column_label].\n",
    "It uses the actual row and column names in the DataFrame."
   ]
  },
  {
   "cell_type": "code",
   "execution_count": 2,
   "id": "8a4ef100-45a6-4798-8a8c-57c9162798cf",
   "metadata": {},
   "outputs": [],
   "source": [
    "# Accessing data at specific row and column using labels\n",
    "value = df.loc[1, 'course_name']  # Retrieves the value in the row with index 1 and 'course_name' column\n"
   ]
  },
  {
   "cell_type": "markdown",
   "id": "b81e4eb3-a0d5-4e14-baa1-499281d9084e",
   "metadata": {},
   "source": [
    "iloc:\n",
    "iloc is integer-based indexing. It is used to access rows and columns in a DataFrame using integer indices.\n",
    "It works with the integer positions or indices of the rows and columns.\n",
    "The syntax for iloc is df.iloc[row_index, column_index].\n",
    "It uses the integer position of rows and columns, starting from 0."
   ]
  },
  {
   "cell_type": "code",
   "execution_count": 3,
   "id": "dcd78828-1b03-4cc6-bba7-50046b8b31f4",
   "metadata": {},
   "outputs": [],
   "source": [
    "# Accessing data at specific row and column using integer indices\n",
    "value = df.iloc[1, 0]  # Retrieves the value in the second row (index 1) and first column (index 0)\n"
   ]
  },
  {
   "cell_type": "code",
   "execution_count": null,
   "id": "8bd2b699-e336-4ad2-8969-2ee82625b50e",
   "metadata": {},
   "outputs": [],
   "source": []
  },
  {
   "cell_type": "raw",
   "id": "2ab74de2-9e9d-4164-a2c6-3c17c65c59fe",
   "metadata": {},
   "source": [
    "Q3. Reindex the given dataframe using a variable, reindex = [3,0,1,2] and store it in the variable, new_df\n",
    "then find the output for both new_df.loc[2] and new_df.iloc[2].\n",
    "\n",
    "Did you observe any difference in both the outputs? If so then explain it.\n",
    "Consider the below code to answer further questions:\n",
    "import pandas as pd\n",
    "import numpy as np\n",
    "columns = ['column_1', 'column_2', 'column_3', 'column_4', 'column_5', 'column_6']\n",
    "indices = [1,2,3,4,5,6]\n",
    "#Creating a dataframe:\n",
    "df1 = pd.DataFrame(np.random.rand(6,6), columns = columns, index = indices)"
   ]
  },
  {
   "cell_type": "code",
   "execution_count": 4,
   "id": "a76d6695-9cfa-482f-9f84-6d12054942e1",
   "metadata": {},
   "outputs": [
    {
     "name": "stdout",
     "output_type": "stream",
     "text": [
      "New DataFrame (new_df):\n",
      "    column_1  column_2  column_3  column_4  column_5  column_6\n",
      "3  0.195811  0.680351  0.822092  0.017108  0.291375  0.518059\n",
      "0       NaN       NaN       NaN       NaN       NaN       NaN\n",
      "1  0.138074  0.815488  0.616914  0.723885  0.000537  0.648710\n",
      "2  0.742469  0.957019  0.338443  0.140288  0.845909  0.765372\n",
      "\n",
      "Output for new_df.loc[2]:\n",
      " column_1    0.742469\n",
      "column_2    0.957019\n",
      "column_3    0.338443\n",
      "column_4    0.140288\n",
      "column_5    0.845909\n",
      "column_6    0.765372\n",
      "Name: 2, dtype: float64\n",
      "\n",
      "Output for new_df.iloc[2]:\n",
      " column_1    0.138074\n",
      "column_2    0.815488\n",
      "column_3    0.616914\n",
      "column_4    0.723885\n",
      "column_5    0.000537\n",
      "column_6    0.648710\n",
      "Name: 1, dtype: float64\n"
     ]
    }
   ],
   "source": [
    "import pandas as pd\n",
    "import numpy as np\n",
    "\n",
    "columns = ['column_1', 'column_2', 'column_3', 'column_4', 'column_5', 'column_6']\n",
    "indices = [1, 2, 3, 4, 5, 6]\n",
    "# Creating a dataframe:\n",
    "df1 = pd.DataFrame(np.random.rand(6, 6), columns=columns, index=indices)\n",
    "\n",
    "# Reindexing the dataframe using reindex variable [3, 0, 1, 2]:\n",
    "reindex = [3, 0, 1, 2]\n",
    "new_df = df1.reindex(reindex)\n",
    "\n",
    "print(\"New DataFrame (new_df):\\n\", new_df)\n",
    "\n",
    "# Output for new_df.loc[2] and new_df.iloc[2]:\n",
    "print(\"\\nOutput for new_df.loc[2]:\\n\", new_df.loc[2])\n",
    "print(\"\\nOutput for new_df.iloc[2]:\\n\", new_df.iloc[2])\n"
   ]
  },
  {
   "cell_type": "code",
   "execution_count": null,
   "id": "656c83f3-eb93-40f2-8543-f76cae3423c2",
   "metadata": {},
   "outputs": [],
   "source": []
  },
  {
   "cell_type": "markdown",
   "id": "2efb90f2-ce3c-4236-979e-3f7918b70ad5",
   "metadata": {},
   "source": [
    "Q4. Write a code to find the following statistical measurements for the above dataframe df1:\n",
    "(i) mean of each and every column present in the dataframe.\n",
    "(ii) standard deviation of column, ‘column_2’"
   ]
  },
  {
   "cell_type": "code",
   "execution_count": 5,
   "id": "0504d21e-06bd-4e61-b117-b089a391e259",
   "metadata": {},
   "outputs": [
    {
     "name": "stdout",
     "output_type": "stream",
     "text": [
      "Mean of each column:\n",
      " column_1    0.426332\n",
      "column_2    0.390684\n",
      "column_3    0.536532\n",
      "column_4    0.641290\n",
      "column_5    0.442835\n",
      "column_6    0.527172\n",
      "dtype: float64\n",
      "\n",
      "Standard deviation of 'column_2': 0.21815916906023936\n"
     ]
    }
   ],
   "source": [
    "import pandas as pd\n",
    "import numpy as np\n",
    "\n",
    "# Assuming df1 is the given DataFrame\n",
    "columns = ['column_1', 'column_2', 'column_3', 'column_4', 'column_5', 'column_6']\n",
    "indices = [1, 2, 3, 4, 5, 6]\n",
    "# Creating a dataframe:\n",
    "df1 = pd.DataFrame(np.random.rand(6, 6), columns=columns, index=indices)\n",
    "\n",
    "# (i) Mean of each column\n",
    "column_means = df1.mean()\n",
    "print(\"Mean of each column:\\n\", column_means)\n",
    "\n",
    "# (ii) Standard deviation of column 'column_2'\n",
    "column_2_std = df1['column_2'].std()\n",
    "print(\"\\nStandard deviation of 'column_2':\", column_2_std)\n"
   ]
  },
  {
   "cell_type": "code",
   "execution_count": null,
   "id": "0ac74ba1-961f-4d21-a5e3-df843993b423",
   "metadata": {},
   "outputs": [],
   "source": []
  },
  {
   "cell_type": "markdown",
   "id": "08bd8317-bbe3-4254-a8ed-eb1829b4133b",
   "metadata": {},
   "source": [
    "Q5. Replace the data present in the second row of column, ‘column_2’ by a string variable then find the\n",
    "mean of column, column_2.\n",
    "If you are getting errors in executing it then explain why.\n",
    "[Hint: To replace the data use df1.loc[] and equate this to string data of your choice.]"
   ]
  },
  {
   "cell_type": "code",
   "execution_count": 6,
   "id": "8f34b4f8-1076-4a5c-a495-e109a268742e",
   "metadata": {},
   "outputs": [
    {
     "name": "stdout",
     "output_type": "stream",
     "text": [
      "Mean of 'column_2': 0.18809307328157907\n"
     ]
    }
   ],
   "source": [
    "import pandas as pd\n",
    "import numpy as np\n",
    "\n",
    "# Assuming df1 is the given DataFrame\n",
    "columns = ['column_1', 'column_2', 'column_3', 'column_4', 'column_5', 'column_6']\n",
    "indices = [1, 2, 3, 4, 5, 6]\n",
    "# Creating a dataframe:\n",
    "df1 = pd.DataFrame(np.random.rand(6, 6), columns=columns, index=indices)\n",
    "\n",
    "# Replace the data in the second row of 'column_2' with a string variable\n",
    "df1.loc[2, 'column_2'] = 'string_data'\n",
    "\n",
    "# Finding the mean of 'column_2'\n",
    "column_2_mean = df1['column_2'].replace('string_data', np.nan).astype(float).mean()\n",
    "print(\"Mean of 'column_2':\", column_2_mean)\n"
   ]
  },
  {
   "cell_type": "code",
   "execution_count": null,
   "id": "ef1afbeb-c004-43a1-8033-9709fbdafc7b",
   "metadata": {},
   "outputs": [],
   "source": []
  },
  {
   "cell_type": "markdown",
   "id": "5f917648-d775-4354-a806-20cb4c6f4c72",
   "metadata": {},
   "source": [
    "Q6. What do you understand about the windows function in pandas and list the types of windows\n",
    "functions?"
   ]
  },
  {
   "cell_type": "markdown",
   "id": "b52273af-405c-4c7a-8dc3-fe95617044f2",
   "metadata": {},
   "source": [
    "ans - In pandas, window functions are a powerful feature that allows you to perform calculations on a set of data points called a window. These functions enable you to apply operations like rolling calculations, aggregations, and transformations over a specified window of data.\n",
    "\n",
    "Window functions in pandas operate on a defined window of data points within a series or a DataFrame and are especially useful in time series data and data analysis tasks that involve moving or rolling calculations.\n",
    "\n",
    "Types of window functions in pandas include:\n",
    "\n",
    "Rolling Functions: These functions allow you to perform calculations on a rolling window of a specified size. Common rolling functions include mean, sum, min, max, variance, standard deviation, etc. The window \"rolls\" or moves along the data, and the function is applied to each window.\n",
    "\n",
    "Expanding Functions: These functions apply a calculation to all the data points up to the current point. It gradually expands the window size as it moves through the data.\n",
    "\n",
    "EWMA (Exponential Weighted Moving Average): This function calculates the exponentially weighted moving average by giving more weight to recent data points while diminishing the weight of older data points.\n",
    "\n",
    "Aggregate Functions: These functions allow you to perform operations like agg() or apply() within a window, enabling custom aggregation functions to be applied.\n"
   ]
  },
  {
   "cell_type": "code",
   "execution_count": null,
   "id": "465dc0d4-cb3d-4a2a-b6e6-eaa157b9aaf5",
   "metadata": {},
   "outputs": [],
   "source": []
  },
  {
   "cell_type": "markdown",
   "id": "82df28e5-9d38-4fb7-82c2-2c252f812bfd",
   "metadata": {},
   "source": [
    "Q7. Write a code to print only the current month and year at the time of answering this question.\n",
    "[Hint: Use pandas.datetime function]"
   ]
  },
  {
   "cell_type": "code",
   "execution_count": 7,
   "id": "0a9379ab-cbc1-47e3-b039-12058bfbd0f3",
   "metadata": {},
   "outputs": [
    {
     "name": "stdout",
     "output_type": "stream",
     "text": [
      "Current month: 1\n",
      "Current year: 2024\n"
     ]
    }
   ],
   "source": [
    "import pandas as pd\n",
    "from datetime import datetime\n",
    "\n",
    "# Get the current date\n",
    "current_date = datetime.now()\n",
    "\n",
    "# Extract the current month and year\n",
    "current_month = current_date.month\n",
    "current_year = current_date.year\n",
    "\n",
    "print(f\"Current month: {current_month}\")\n",
    "print(f\"Current year: {current_year}\")\n"
   ]
  },
  {
   "cell_type": "code",
   "execution_count": null,
   "id": "ad439709-5794-49fb-8ebb-c3ff6c2f7ab2",
   "metadata": {},
   "outputs": [],
   "source": []
  },
  {
   "cell_type": "markdown",
   "id": "7436fb8a-ab62-495e-9206-d7a4706643d3",
   "metadata": {},
   "source": [
    "Q8. Write a Python program that takes in two dates as input (in the format YYYY-MM-DD) and\n",
    "calculates the difference between them in days, hours, and minutes using Pandas time delta. The\n",
    "program should prompt the user to enter the dates and display the result."
   ]
  },
  {
   "cell_type": "code",
   "execution_count": null,
   "id": "952f2bf1-95da-4d47-a699-e96fd5e43a6f",
   "metadata": {},
   "outputs": [],
   "source": [
    "import pandas as pd\n",
    "\n",
    "def calculate_time_difference(date1, date2):\n",
    "    # Convert input strings to pandas datetime objects\n",
    "    date1 = pd.to_datetime(date1)\n",
    "    date2 = pd.to_datetime(date2)\n",
    "\n",
    "    # Calculate the time difference\n",
    "    time_diff = date2 - date1\n",
    "\n",
    "    # Extract days, hours, and minutes\n",
    "    days_diff = time_diff.days\n",
    "    hours_diff = time_diff.seconds // 3600  # 3600 seconds in an hour\n",
    "    minutes_diff = (time_diff.seconds % 3600) // 60  # 60 seconds in a minute\n",
    "\n",
    "    return days_diff, hours_diff, minutes_diff\n",
    "\n",
    "# Prompt the user to enter two dates\n",
    "date_input1 = input(\"Enter the first date (YYYY-MM-DD format): \")\n",
    "date_input2 = input(\"Enter the second date (YYYY-MM-DD format): \")\n",
    "\n",
    "# Calculate the difference between the dates\n",
    "days, hours, minutes = calculate_time_difference(date_input1, date_input2)\n",
    "\n",
    "# Display the result\n",
    "print(f\"Difference between the dates:\")\n",
    "print(f\"Days: {days}\")\n",
    "print(f\"Hours: {hours}\")\n",
    "print(f\"Minutes: {minutes}\")\n"
   ]
  },
  {
   "cell_type": "code",
   "execution_count": null,
   "id": "f3135511-2875-4ad3-a374-8b922c61b324",
   "metadata": {},
   "outputs": [],
   "source": []
  },
  {
   "cell_type": "markdown",
   "id": "b93c15c5-8c92-4005-967e-428f214e8a5b",
   "metadata": {},
   "source": [
    "Q9. Write a Python program that reads a CSV file containing categorical data and converts a specified\n",
    "column to a categorical data type. The program should prompt the user to enter the file path, column\n",
    "name, and category order, and then display the sorted data."
   ]
  },
  {
   "cell_type": "code",
   "execution_count": null,
   "id": "5841c91b-ff7a-4e69-9e34-4334a3192808",
   "metadata": {},
   "outputs": [],
   "source": [
    "import pandas as pd\n",
    "\n",
    "def convert_column_to_categorical(file_path, column_name, category_order):\n",
    "    # Read the CSV file\n",
    "    df = pd.read_csv(file_path)\n",
    "\n",
    "    # Convert the specified column to categorical\n",
    "    df[column_name] = pd.Categorical(df[column_name], categories=category_order, ordered=True)\n",
    "\n",
    "    # Display the sorted data\n",
    "    sorted_data = df.sort_values(by=[column_name])\n",
    "    print(sorted_data)\n",
    "\n",
    "# Prompt the user to enter file path, column name, and category order\n",
    "file_path = input(\"Enter the file path for the CSV file: \")\n",
    "column_name = input(\"Enter the column name to convert to categorical: \")\n",
    "category_order = input(\"Enter the category order (comma-separated): \").split(',')\n",
    "\n",
    "# Convert column to categorical and display sorted data\n",
    "convert_column_to_categorical(file_path, column_name, category_order)\n"
   ]
  },
  {
   "cell_type": "code",
   "execution_count": null,
   "id": "ea5488a1-6338-45de-ae8c-dc55087d272f",
   "metadata": {},
   "outputs": [],
   "source": []
  },
  {
   "cell_type": "markdown",
   "id": "42945526-8e62-4677-ac2b-57c5b841ea58",
   "metadata": {},
   "source": [
    "Q10. Write a Python program that reads a CSV file containing sales data for different products and\n",
    "visualizes the data using a stacked bar chart to show the sales of each product category over time. The\n",
    "program should prompt the user to enter the file path and display the chart."
   ]
  },
  {
   "cell_type": "code",
   "execution_count": null,
   "id": "3b2060b4-7270-46d5-bbac-b90fb7138792",
   "metadata": {},
   "outputs": [],
   "source": [
    "import pandas as pd\n",
    "import matplotlib.pyplot as plt\n",
    "\n",
    "def visualize_sales_data(file_path):\n",
    "    # Read the CSV file\n",
    "    df = pd.read_csv(file_path)\n",
    "\n",
    "    # Assuming the CSV contains columns: 'Date', 'Product Category', 'Sales'\n",
    "    # Convert 'Date' column to datetime if it's not already in datetime format\n",
    "    df['Date'] = pd.to_datetime(df['Date'])\n",
    "\n",
    "    # Pivot table to prepare data for stacked bar chart\n",
    "    pivot_df = df.pivot_table(index='Date', columns='Product Category', values='Sales', aggfunc='sum')\n",
    "\n",
    "    # Plotting the stacked bar chart\n",
    "    pivot_df.plot(kind='bar', stacked=True, figsize=(10, 6))\n",
    "    plt.title('Sales of Product Categories Over Time')\n",
    "    plt.xlabel('Date')\n",
    "    plt.ylabel('Sales')\n",
    "    plt.legend(title='Product Category')\n",
    "    plt.show()\n",
    "\n",
    "# Prompt the user to enter the file path for the CSV file\n",
    "file_path = input(\"Enter the file path for the CSV file containing sales data: \")\n",
    "\n",
    "# Visualize the sales data using a stacked bar chart\n",
    "visualize_sales_data(file_path)\n"
   ]
  },
  {
   "cell_type": "code",
   "execution_count": null,
   "id": "72055e25-fbfa-4091-846f-cc3e26cf5445",
   "metadata": {},
   "outputs": [],
   "source": []
  },
  {
   "cell_type": "markdown",
   "id": "01dc9637-f780-405b-9ac4-ef44803507be",
   "metadata": {},
   "source": [
    "Q11. You are given a CSV file containing student data that includes the student ID and their test score. Write\n",
    "a Python program that reads the CSV file, calculates the mean, median, and mode of the test scores, and\n",
    "displays the results in a table.\n",
    "The program should do the followingM\n",
    "I Prompt the user to enter the file path of the CSV file containing the student dataR\n",
    "I Read the CSV file into a Pandas DataFrameR\n",
    "I Calculate the mean, median, and mode of the test scores using Pandas toolsR\n",
    "I Display the mean, median, and mode in a table.\n",
    "Assume the CSV file contains the following columnsM\n",
    "I Student ID: The ID of the studentR\n",
    "I Test Score: The score of the student's test.\n",
    "Example usage of the program:\n",
    "Enter the file path of the CSV file containing the student data: student_data.csv\n",
    "+-----------+--------+\n",
    "| Statistic | Value |\n",
    "+-----------+--------+\n",
    "| Mean | 79.6 |\n",
    "| Median | 82 |\n",
    "| Mode | 85, 90 |\n",
    "+-----------+--------+\n",
    "Assume that the CSV file student_data.csv contains the following data:\n",
    "Student ID,Test Score\n",
    "1,85\n",
    "2,90\n",
    "3,80\n",
    "4,75\n",
    "5,85\n",
    "6,82\n",
    "7,78\n",
    "8,85\n",
    "9,90\n",
    "10,85\n",
    "The program should calculate the mean, median, and mode of the test scores and display the results\n",
    "in a table."
   ]
  },
  {
   "cell_type": "code",
   "execution_count": null,
   "id": "d7322862-b7d0-4344-b1ea-4f424aae9e69",
   "metadata": {},
   "outputs": [],
   "source": [
    "import pandas as pd\n",
    "\n",
    "def calculate_statistics(file_path):\n",
    "    # Read the CSV file into a Pandas DataFrame\n",
    "    df = pd.read_csv(file_path)\n",
    "\n",
    "    # Calculate mean, median, and mode of the test scores\n",
    "    mean_score = df['Test Score'].mean()\n",
    "    median_score = df['Test Score'].median()\n",
    "    mode_scores = df['Test Score'].mode()\n",
    "\n",
    "    # Display the statistics in a table format\n",
    "    statistics_table = pd.DataFrame({\n",
    "        'Statistic': ['Mean', 'Median', 'Mode'],\n",
    "        'Value': [mean_score, median_score, ', '.join(map(str, mode_scores))]\n",
    "    })\n",
    "\n",
    "    print(statistics_table.to_string(index=False))\n",
    "\n",
    "# Prompt the user to enter the file path of the CSV file\n",
    "file_path = input(\"Enter the file path of the CSV file containing the student data: \")\n",
    "\n",
    "# Calculate and display mean, median, and mode of test scores\n",
    "calculate_statistics(file_path)\n"
   ]
  },
  {
   "cell_type": "code",
   "execution_count": null,
   "id": "bc89c368-02a8-4685-9ef5-181c49f0be76",
   "metadata": {},
   "outputs": [],
   "source": []
  }
 ],
 "metadata": {
  "kernelspec": {
   "display_name": "Python 3 (ipykernel)",
   "language": "python",
   "name": "python3"
  },
  "language_info": {
   "codemirror_mode": {
    "name": "ipython",
    "version": 3
   },
   "file_extension": ".py",
   "mimetype": "text/x-python",
   "name": "python",
   "nbconvert_exporter": "python",
   "pygments_lexer": "ipython3",
   "version": "3.10.8"
  }
 },
 "nbformat": 4,
 "nbformat_minor": 5
}
