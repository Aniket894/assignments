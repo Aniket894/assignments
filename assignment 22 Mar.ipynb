{
 "cells": [
  {
   "cell_type": "markdown",
   "id": "08f8cfc1-3aa3-487d-8da5-864ceaec9dae",
   "metadata": {},
   "source": [
    "Q1. Pearson correlation coefficient is a measure of the linear relationship between two variables. Suppose\n",
    "you have collected data on the amount of time students spend studying for an exam and their final exam\n",
    "scores. Calculate the Pearson correlation coefficient between these two variables and interpret the result."
   ]
  },
  {
   "cell_type": "code",
   "execution_count": 1,
   "id": "f33eb0f0-2b4c-4a25-9b04-6c3fd7d0c3f5",
   "metadata": {},
   "outputs": [],
   "source": [
    "import pandas as pd"
   ]
  },
  {
   "cell_type": "code",
   "execution_count": 2,
   "id": "3ec7a707-bd8f-4024-a093-f2d19d91b45d",
   "metadata": {},
   "outputs": [],
   "source": [
    "df =pd.DataFrame({ \n",
    "    'study time(in hours)' :[3,4,5,6,7,8,9,10],\n",
    "    'exam scores' : [66,70,74,79,83,88,91,96]})"
   ]
  },
  {
   "cell_type": "code",
   "execution_count": 3,
   "id": "4c202410-c8c4-457e-85d1-98996547bf62",
   "metadata": {},
   "outputs": [
    {
     "data": {
      "text/html": [
       "<div>\n",
       "<style scoped>\n",
       "    .dataframe tbody tr th:only-of-type {\n",
       "        vertical-align: middle;\n",
       "    }\n",
       "\n",
       "    .dataframe tbody tr th {\n",
       "        vertical-align: top;\n",
       "    }\n",
       "\n",
       "    .dataframe thead th {\n",
       "        text-align: right;\n",
       "    }\n",
       "</style>\n",
       "<table border=\"1\" class=\"dataframe\">\n",
       "  <thead>\n",
       "    <tr style=\"text-align: right;\">\n",
       "      <th></th>\n",
       "      <th>study time(in hours)</th>\n",
       "      <th>exam scores</th>\n",
       "    </tr>\n",
       "  </thead>\n",
       "  <tbody>\n",
       "    <tr>\n",
       "      <th>0</th>\n",
       "      <td>3</td>\n",
       "      <td>66</td>\n",
       "    </tr>\n",
       "    <tr>\n",
       "      <th>1</th>\n",
       "      <td>4</td>\n",
       "      <td>70</td>\n",
       "    </tr>\n",
       "    <tr>\n",
       "      <th>2</th>\n",
       "      <td>5</td>\n",
       "      <td>74</td>\n",
       "    </tr>\n",
       "    <tr>\n",
       "      <th>3</th>\n",
       "      <td>6</td>\n",
       "      <td>79</td>\n",
       "    </tr>\n",
       "    <tr>\n",
       "      <th>4</th>\n",
       "      <td>7</td>\n",
       "      <td>83</td>\n",
       "    </tr>\n",
       "    <tr>\n",
       "      <th>5</th>\n",
       "      <td>8</td>\n",
       "      <td>88</td>\n",
       "    </tr>\n",
       "    <tr>\n",
       "      <th>6</th>\n",
       "      <td>9</td>\n",
       "      <td>91</td>\n",
       "    </tr>\n",
       "    <tr>\n",
       "      <th>7</th>\n",
       "      <td>10</td>\n",
       "      <td>96</td>\n",
       "    </tr>\n",
       "  </tbody>\n",
       "</table>\n",
       "</div>"
      ],
      "text/plain": [
       "   study time(in hours)  exam scores\n",
       "0                     3           66\n",
       "1                     4           70\n",
       "2                     5           74\n",
       "3                     6           79\n",
       "4                     7           83\n",
       "5                     8           88\n",
       "6                     9           91\n",
       "7                    10           96"
      ]
     },
     "execution_count": 3,
     "metadata": {},
     "output_type": "execute_result"
    }
   ],
   "source": [
    "df"
   ]
  },
  {
   "cell_type": "code",
   "execution_count": 4,
   "id": "8b6d5242-1ceb-4c84-92db-46403d686d12",
   "metadata": {},
   "outputs": [
    {
     "data": {
      "text/html": [
       "<div>\n",
       "<style scoped>\n",
       "    .dataframe tbody tr th:only-of-type {\n",
       "        vertical-align: middle;\n",
       "    }\n",
       "\n",
       "    .dataframe tbody tr th {\n",
       "        vertical-align: top;\n",
       "    }\n",
       "\n",
       "    .dataframe thead th {\n",
       "        text-align: right;\n",
       "    }\n",
       "</style>\n",
       "<table border=\"1\" class=\"dataframe\">\n",
       "  <thead>\n",
       "    <tr style=\"text-align: right;\">\n",
       "      <th></th>\n",
       "      <th>study time(in hours)</th>\n",
       "      <th>exam scores</th>\n",
       "    </tr>\n",
       "  </thead>\n",
       "  <tbody>\n",
       "    <tr>\n",
       "      <th>study time(in hours)</th>\n",
       "      <td>1.000000</td>\n",
       "      <td>0.999257</td>\n",
       "    </tr>\n",
       "    <tr>\n",
       "      <th>exam scores</th>\n",
       "      <td>0.999257</td>\n",
       "      <td>1.000000</td>\n",
       "    </tr>\n",
       "  </tbody>\n",
       "</table>\n",
       "</div>"
      ],
      "text/plain": [
       "                      study time(in hours)  exam scores\n",
       "study time(in hours)              1.000000     0.999257\n",
       "exam scores                       0.999257     1.000000"
      ]
     },
     "execution_count": 4,
     "metadata": {},
     "output_type": "execute_result"
    }
   ],
   "source": [
    "df.corr(method='pearson')"
   ]
  },
  {
   "cell_type": "markdown",
   "id": "b587f0be-750b-42c5-a5ae-d63a36a12ae1",
   "metadata": {},
   "source": [
    "it suggests a strong linear relationship between the two variables"
   ]
  },
  {
   "cell_type": "code",
   "execution_count": null,
   "id": "dd2e7244-187c-45ea-85b6-1dde5c646e5b",
   "metadata": {},
   "outputs": [],
   "source": []
  },
  {
   "cell_type": "markdown",
   "id": "85e0e377-f2c0-4098-8dd9-18bc31d55e98",
   "metadata": {},
   "source": [
    "Q2. Spearman's rank correlation is a measure of the monotonic relationship between two variables.\n",
    "Suppose you have collected data on the amount of sleep individuals get each night and their overall job\n",
    "satisfaction level on a scale of 1 to 10. Calculate the Spearman's rank correlation between these two\n",
    "variables and interpret the result."
   ]
  },
  {
   "cell_type": "code",
   "execution_count": 6,
   "id": "a601b83a-884f-449d-986a-76af2d7cd193",
   "metadata": {},
   "outputs": [],
   "source": [
    "import pandas as pd"
   ]
  },
  {
   "cell_type": "code",
   "execution_count": 7,
   "id": "c61d4522-eb01-48a6-8770-048a714b07c8",
   "metadata": {},
   "outputs": [],
   "source": [
    "df = pd.DataFrame({\n",
    "    'sleep (every night)' :[3,4,5,6,7,8,9],\n",
    "    'job satisfaction':[2,3,4,5,7,9,10]})"
   ]
  },
  {
   "cell_type": "code",
   "execution_count": 8,
   "id": "bcf7b3dc-e466-4bac-b287-6d8822eb9f20",
   "metadata": {},
   "outputs": [
    {
     "data": {
      "text/html": [
       "<div>\n",
       "<style scoped>\n",
       "    .dataframe tbody tr th:only-of-type {\n",
       "        vertical-align: middle;\n",
       "    }\n",
       "\n",
       "    .dataframe tbody tr th {\n",
       "        vertical-align: top;\n",
       "    }\n",
       "\n",
       "    .dataframe thead th {\n",
       "        text-align: right;\n",
       "    }\n",
       "</style>\n",
       "<table border=\"1\" class=\"dataframe\">\n",
       "  <thead>\n",
       "    <tr style=\"text-align: right;\">\n",
       "      <th></th>\n",
       "      <th>sleep (every night)</th>\n",
       "      <th>job satisfaction</th>\n",
       "    </tr>\n",
       "  </thead>\n",
       "  <tbody>\n",
       "    <tr>\n",
       "      <th>0</th>\n",
       "      <td>3</td>\n",
       "      <td>2</td>\n",
       "    </tr>\n",
       "    <tr>\n",
       "      <th>1</th>\n",
       "      <td>4</td>\n",
       "      <td>3</td>\n",
       "    </tr>\n",
       "    <tr>\n",
       "      <th>2</th>\n",
       "      <td>5</td>\n",
       "      <td>4</td>\n",
       "    </tr>\n",
       "    <tr>\n",
       "      <th>3</th>\n",
       "      <td>6</td>\n",
       "      <td>5</td>\n",
       "    </tr>\n",
       "    <tr>\n",
       "      <th>4</th>\n",
       "      <td>7</td>\n",
       "      <td>7</td>\n",
       "    </tr>\n",
       "    <tr>\n",
       "      <th>5</th>\n",
       "      <td>8</td>\n",
       "      <td>9</td>\n",
       "    </tr>\n",
       "    <tr>\n",
       "      <th>6</th>\n",
       "      <td>9</td>\n",
       "      <td>10</td>\n",
       "    </tr>\n",
       "  </tbody>\n",
       "</table>\n",
       "</div>"
      ],
      "text/plain": [
       "   sleep (every night)  job satisfaction\n",
       "0                    3                 2\n",
       "1                    4                 3\n",
       "2                    5                 4\n",
       "3                    6                 5\n",
       "4                    7                 7\n",
       "5                    8                 9\n",
       "6                    9                10"
      ]
     },
     "execution_count": 8,
     "metadata": {},
     "output_type": "execute_result"
    }
   ],
   "source": [
    "df"
   ]
  },
  {
   "cell_type": "code",
   "execution_count": 9,
   "id": "6419e073-ab00-483e-9b10-1864d5271f60",
   "metadata": {},
   "outputs": [
    {
     "data": {
      "text/html": [
       "<div>\n",
       "<style scoped>\n",
       "    .dataframe tbody tr th:only-of-type {\n",
       "        vertical-align: middle;\n",
       "    }\n",
       "\n",
       "    .dataframe tbody tr th {\n",
       "        vertical-align: top;\n",
       "    }\n",
       "\n",
       "    .dataframe thead th {\n",
       "        text-align: right;\n",
       "    }\n",
       "</style>\n",
       "<table border=\"1\" class=\"dataframe\">\n",
       "  <thead>\n",
       "    <tr style=\"text-align: right;\">\n",
       "      <th></th>\n",
       "      <th>sleep (every night)</th>\n",
       "      <th>job satisfaction</th>\n",
       "    </tr>\n",
       "  </thead>\n",
       "  <tbody>\n",
       "    <tr>\n",
       "      <th>sleep (every night)</th>\n",
       "      <td>1.0</td>\n",
       "      <td>1.0</td>\n",
       "    </tr>\n",
       "    <tr>\n",
       "      <th>job satisfaction</th>\n",
       "      <td>1.0</td>\n",
       "      <td>1.0</td>\n",
       "    </tr>\n",
       "  </tbody>\n",
       "</table>\n",
       "</div>"
      ],
      "text/plain": [
       "                     sleep (every night)  job satisfaction\n",
       "sleep (every night)                  1.0               1.0\n",
       "job satisfaction                     1.0               1.0"
      ]
     },
     "execution_count": 9,
     "metadata": {},
     "output_type": "execute_result"
    }
   ],
   "source": [
    "df.corr(method='spearman')"
   ]
  },
  {
   "cell_type": "markdown",
   "id": "ff050527-3752-443d-8923-7286913281ab",
   "metadata": {},
   "source": [
    " values closer to +1 indicating a strong positive monotonic relationship"
   ]
  },
  {
   "cell_type": "code",
   "execution_count": null,
   "id": "8c6b51bb-14b8-4a37-9a38-8931b3f25bcc",
   "metadata": {},
   "outputs": [],
   "source": []
  },
  {
   "cell_type": "code",
   "execution_count": null,
   "id": "4188e347-6404-4b80-a8a2-e37779d61632",
   "metadata": {},
   "outputs": [],
   "source": []
  },
  {
   "cell_type": "markdown",
   "id": "922dd644-0163-440b-99a5-391003d324f1",
   "metadata": {},
   "source": [
    "Q3. Suppose you are conducting a study to examine the relationship between the number of hours of\n",
    "exercise per week and body mass index (BMI) in a sample of adults. You collected data on both variables\n",
    "for 50 participants. Calculate the Pearson correlation coefficient and the Spearman's rank correlation\n",
    "between these two variables and compare the results."
   ]
  },
  {
   "cell_type": "code",
   "execution_count": 14,
   "id": "091f8cd3-a4e2-4f42-9a92-5d8c00089537",
   "metadata": {},
   "outputs": [],
   "source": [
    "import pandas as pd"
   ]
  },
  {
   "cell_type": "code",
   "execution_count": 21,
   "id": "15ebba0f-02bb-440c-b904-bb5d6c4be5aa",
   "metadata": {},
   "outputs": [],
   "source": [
    "data = {'BMI': [24.8, 27.5, 26.1, 30.2, 29.3, 25.5, 28.7, 31.5, 33.1, 22.4,\n",
    "               26.9, 28.1, 31.8, 27.4, 29.6, 25.3, 29.9, 26.8, 30.5, 33.2,\n",
    "               24.7, 26.3, 28.9, 30.1, 29.2, 26.8, 27.7, 32.4, 31.0, 25.9,\n",
    "               27.8, 30.5, 29.1, 28.6, 26.2, 28.9, 29.6, 27.1, 31.3, 32.1,\n",
    "               25.8, 27.3, 30.7, 28.5, 29.8, 26.5, 27.9, 30.0, 28.3, 32.6],\n",
    "        \n",
    "        'exercise_time': [4.5, 5.3, 4.2, 7.1, 6.4, 5.5, 6.8, 8.3, 9.5, 3.5,\n",
    "                          5.9, 6.1, 8.5, 5.2, 7.2, 4.9, 7.5, 5.8, 8.6, 9.6,\n",
    "                          4.4, 4.7, 6.3, 7.0, 6.3, 5.7, 5.9, 9.1, 8.7, 5.6,\n",
    "                          6.0, 7.9, 6.2, 6.4, 5.3, 6.9, 7.6, 5.7, 8.2, 9.2,\n",
    "                          4.6, 5.6, 7.3, 5.4, 7.1, 5.1, 5.8, 7.7, 6.6, 9.8]}\n",
    "\n"
   ]
  },
  {
   "cell_type": "code",
   "execution_count": 22,
   "id": "796a0d2b-5db7-4461-8000-cc42d71a90ec",
   "metadata": {},
   "outputs": [
    {
     "name": "stdout",
     "output_type": "stream",
     "text": [
      "    BMI  exercise_time\n",
      "0  24.8            4.5\n",
      "1  27.5            5.3\n",
      "2  26.1            4.2\n",
      "3  30.2            7.1\n",
      "4  29.3            6.4\n"
     ]
    }
   ],
   "source": [
    "df = pd.DataFrame(data)\n",
    "print(df.head())\n"
   ]
  },
  {
   "cell_type": "code",
   "execution_count": 23,
   "id": "4628d615-979e-4ed6-b8cb-b85d1cb8adf7",
   "metadata": {},
   "outputs": [
    {
     "data": {
      "text/html": [
       "<div>\n",
       "<style scoped>\n",
       "    .dataframe tbody tr th:only-of-type {\n",
       "        vertical-align: middle;\n",
       "    }\n",
       "\n",
       "    .dataframe tbody tr th {\n",
       "        vertical-align: top;\n",
       "    }\n",
       "\n",
       "    .dataframe thead th {\n",
       "        text-align: right;\n",
       "    }\n",
       "</style>\n",
       "<table border=\"1\" class=\"dataframe\">\n",
       "  <thead>\n",
       "    <tr style=\"text-align: right;\">\n",
       "      <th></th>\n",
       "      <th>BMI</th>\n",
       "      <th>exercise_time</th>\n",
       "    </tr>\n",
       "  </thead>\n",
       "  <tbody>\n",
       "    <tr>\n",
       "      <th>BMI</th>\n",
       "      <td>1.000000</td>\n",
       "      <td>0.958043</td>\n",
       "    </tr>\n",
       "    <tr>\n",
       "      <th>exercise_time</th>\n",
       "      <td>0.958043</td>\n",
       "      <td>1.000000</td>\n",
       "    </tr>\n",
       "  </tbody>\n",
       "</table>\n",
       "</div>"
      ],
      "text/plain": [
       "                    BMI  exercise_time\n",
       "BMI            1.000000       0.958043\n",
       "exercise_time  0.958043       1.000000"
      ]
     },
     "execution_count": 23,
     "metadata": {},
     "output_type": "execute_result"
    }
   ],
   "source": [
    "#spearman correlation coefficient \n",
    "df.corr(method = 'spearman')"
   ]
  },
  {
   "cell_type": "code",
   "execution_count": 26,
   "id": "3a3d64d4-3ca2-460d-ab48-6cf2d73b3dc3",
   "metadata": {},
   "outputs": [
    {
     "data": {
      "text/html": [
       "<div>\n",
       "<style scoped>\n",
       "    .dataframe tbody tr th:only-of-type {\n",
       "        vertical-align: middle;\n",
       "    }\n",
       "\n",
       "    .dataframe tbody tr th {\n",
       "        vertical-align: top;\n",
       "    }\n",
       "\n",
       "    .dataframe thead th {\n",
       "        text-align: right;\n",
       "    }\n",
       "</style>\n",
       "<table border=\"1\" class=\"dataframe\">\n",
       "  <thead>\n",
       "    <tr style=\"text-align: right;\">\n",
       "      <th></th>\n",
       "      <th>BMI</th>\n",
       "      <th>exercise_time</th>\n",
       "    </tr>\n",
       "  </thead>\n",
       "  <tbody>\n",
       "    <tr>\n",
       "      <th>BMI</th>\n",
       "      <td>1.000000</td>\n",
       "      <td>0.955063</td>\n",
       "    </tr>\n",
       "    <tr>\n",
       "      <th>exercise_time</th>\n",
       "      <td>0.955063</td>\n",
       "      <td>1.000000</td>\n",
       "    </tr>\n",
       "  </tbody>\n",
       "</table>\n",
       "</div>"
      ],
      "text/plain": [
       "                    BMI  exercise_time\n",
       "BMI            1.000000       0.955063\n",
       "exercise_time  0.955063       1.000000"
      ]
     },
     "execution_count": 26,
     "metadata": {},
     "output_type": "execute_result"
    }
   ],
   "source": [
    "#pearson correlation\n",
    "df.corr(method='pearson')"
   ]
  },
  {
   "cell_type": "markdown",
   "id": "2c4ffed7-dff7-4dc1-a1b2-25adab2f50c3",
   "metadata": {},
   "source": [
    "in spearman correlation coefficienta  indicates that there is a very strong positive monotonic relationship between exercise time and BMI, meaning that as the number of hours of exercise per week increases, the BMI tends to increase as well. However, it's important to keep in mind that correlation does not necessarily imply causation, and there may be other factors that are influencing this relationship."
   ]
  },
  {
   "cell_type": "markdown",
   "id": "8162f346-d761-48b0-8a3a-4d4635ae739e",
   "metadata": {},
   "source": [
    "in  Pearson correlation coefficient indicates a very strong positive linear relationship between the number of hours of exercise per week and body mass index (BMI) in your sample of 50 participants."
   ]
  },
  {
   "cell_type": "code",
   "execution_count": null,
   "id": "9c61eb58-8a92-42e6-bdfc-e693b5ec7832",
   "metadata": {},
   "outputs": [],
   "source": []
  },
  {
   "cell_type": "markdown",
   "id": "34f877e7-7725-4ca0-bde9-25672aaae5a4",
   "metadata": {},
   "source": [
    "Q4. A researcher is interested in examining the relationship between the number of hours individuals\n",
    "spend watching television per day and their level of physical activity. The researcher collected data on\n",
    "both variables from a sample of 50 participants. Calculate the Pearson correlation coefficient between\n",
    "these two variables."
   ]
  },
  {
   "cell_type": "code",
   "execution_count": 28,
   "id": "fc689784-84f3-458c-8d18-8d9e0334e1ac",
   "metadata": {},
   "outputs": [],
   "source": [
    "import pandas as pd\n",
    "import numpy as np\n"
   ]
  },
  {
   "cell_type": "code",
   "execution_count": 29,
   "id": "3cc9ee7c-9bd4-47e5-8425-4737f4bbac87",
   "metadata": {},
   "outputs": [],
   "source": [
    "# Generate random data for number of hours spent watching TV and level of physical activity\n",
    "hours_tv = np.random.uniform(low=0, high=8, size=50) # assuming people spend between 0 to 8 hours per day watching TV\n",
    "activity_level = np.random.randint(low=1, high=6, size=50) # assuming a scale of 1-5 for activity level\n"
   ]
  },
  {
   "cell_type": "code",
   "execution_count": 30,
   "id": "57774c28-16ef-45b8-abaf-1d064c900899",
   "metadata": {},
   "outputs": [],
   "source": [
    "data = {'Hours of TV': hours_tv, 'Activity Level': activity_level}\n"
   ]
  },
  {
   "cell_type": "code",
   "execution_count": 31,
   "id": "5bc700b4-7db1-4f7d-b590-5b2ab653aecb",
   "metadata": {},
   "outputs": [
    {
     "data": {
      "text/html": [
       "<div>\n",
       "<style scoped>\n",
       "    .dataframe tbody tr th:only-of-type {\n",
       "        vertical-align: middle;\n",
       "    }\n",
       "\n",
       "    .dataframe tbody tr th {\n",
       "        vertical-align: top;\n",
       "    }\n",
       "\n",
       "    .dataframe thead th {\n",
       "        text-align: right;\n",
       "    }\n",
       "</style>\n",
       "<table border=\"1\" class=\"dataframe\">\n",
       "  <thead>\n",
       "    <tr style=\"text-align: right;\">\n",
       "      <th></th>\n",
       "      <th>Hours of TV</th>\n",
       "      <th>Activity Level</th>\n",
       "    </tr>\n",
       "  </thead>\n",
       "  <tbody>\n",
       "    <tr>\n",
       "      <th>0</th>\n",
       "      <td>4.001789</td>\n",
       "      <td>4</td>\n",
       "    </tr>\n",
       "    <tr>\n",
       "      <th>1</th>\n",
       "      <td>5.721505</td>\n",
       "      <td>2</td>\n",
       "    </tr>\n",
       "    <tr>\n",
       "      <th>2</th>\n",
       "      <td>3.093658</td>\n",
       "      <td>3</td>\n",
       "    </tr>\n",
       "    <tr>\n",
       "      <th>3</th>\n",
       "      <td>4.475463</td>\n",
       "      <td>3</td>\n",
       "    </tr>\n",
       "    <tr>\n",
       "      <th>4</th>\n",
       "      <td>5.316791</td>\n",
       "      <td>4</td>\n",
       "    </tr>\n",
       "  </tbody>\n",
       "</table>\n",
       "</div>"
      ],
      "text/plain": [
       "   Hours of TV  Activity Level\n",
       "0     4.001789               4\n",
       "1     5.721505               2\n",
       "2     3.093658               3\n",
       "3     4.475463               3\n",
       "4     5.316791               4"
      ]
     },
     "execution_count": 31,
     "metadata": {},
     "output_type": "execute_result"
    }
   ],
   "source": [
    "df =pd.DataFrame(data)\n",
    "df.head()"
   ]
  },
  {
   "cell_type": "code",
   "execution_count": 32,
   "id": "a82bd7b9-7031-487b-9553-9e5aa59556da",
   "metadata": {},
   "outputs": [
    {
     "data": {
      "text/html": [
       "<div>\n",
       "<style scoped>\n",
       "    .dataframe tbody tr th:only-of-type {\n",
       "        vertical-align: middle;\n",
       "    }\n",
       "\n",
       "    .dataframe tbody tr th {\n",
       "        vertical-align: top;\n",
       "    }\n",
       "\n",
       "    .dataframe thead th {\n",
       "        text-align: right;\n",
       "    }\n",
       "</style>\n",
       "<table border=\"1\" class=\"dataframe\">\n",
       "  <thead>\n",
       "    <tr style=\"text-align: right;\">\n",
       "      <th></th>\n",
       "      <th>Hours of TV</th>\n",
       "      <th>Activity Level</th>\n",
       "    </tr>\n",
       "  </thead>\n",
       "  <tbody>\n",
       "    <tr>\n",
       "      <th>Hours of TV</th>\n",
       "      <td>1.00000</td>\n",
       "      <td>0.08135</td>\n",
       "    </tr>\n",
       "    <tr>\n",
       "      <th>Activity Level</th>\n",
       "      <td>0.08135</td>\n",
       "      <td>1.00000</td>\n",
       "    </tr>\n",
       "  </tbody>\n",
       "</table>\n",
       "</div>"
      ],
      "text/plain": [
       "                Hours of TV  Activity Level\n",
       "Hours of TV         1.00000         0.08135\n",
       "Activity Level      0.08135         1.00000"
      ]
     },
     "execution_count": 32,
     "metadata": {},
     "output_type": "execute_result"
    }
   ],
   "source": [
    "#pearson correlaation coefficent\n",
    "df.corr(method='pearson')\n"
   ]
  },
  {
   "cell_type": "markdown",
   "id": "4c4bf9a4-fd95-4e69-9376-40760bc99d34",
   "metadata": {},
   "source": [
    "in Pearson correlation coefficient indicates a very strong positive linear relationship between the  number of hours individuals\n",
    "spend watching television per day and their level of physical activity."
   ]
  },
  {
   "cell_type": "code",
   "execution_count": null,
   "id": "60e9267a-fe92-4ac9-bc05-e133dcaf1c45",
   "metadata": {},
   "outputs": [],
   "source": []
  },
  {
   "cell_type": "markdown",
   "id": "be9bdc9e-6c8e-4941-b7be-689de80cec2b",
   "metadata": {},
   "source": [
    "Q5. A survey was conducted to examine the relationship between age and preference for a particular\n",
    "brand of soft drink. The survey results are shown below:\n"
   ]
  },
  {
   "cell_type": "code",
   "execution_count": 33,
   "id": "8c8181ce-92b9-4204-a15b-64311c77e0f6",
   "metadata": {},
   "outputs": [],
   "source": [
    "import pandas as pd"
   ]
  },
  {
   "cell_type": "code",
   "execution_count": 42,
   "id": "49309c79-9e85-4e7a-b111-df3231a1112f",
   "metadata": {},
   "outputs": [],
   "source": [
    "df =pd.DataFrame({\n",
    "    \n",
    "    'Age(Years)':[25 ,42,37,19,31,28],\n",
    "    'Soft drink Preference':['Coke','Pepsi','Mountain dew','Coke','Pepsi','Coke'],\n",
    "})"
   ]
  },
  {
   "cell_type": "code",
   "execution_count": 43,
   "id": "6d0d2b70-46d5-4952-8043-a4d1c6e19624",
   "metadata": {},
   "outputs": [
    {
     "data": {
      "text/html": [
       "<div>\n",
       "<style scoped>\n",
       "    .dataframe tbody tr th:only-of-type {\n",
       "        vertical-align: middle;\n",
       "    }\n",
       "\n",
       "    .dataframe tbody tr th {\n",
       "        vertical-align: top;\n",
       "    }\n",
       "\n",
       "    .dataframe thead th {\n",
       "        text-align: right;\n",
       "    }\n",
       "</style>\n",
       "<table border=\"1\" class=\"dataframe\">\n",
       "  <thead>\n",
       "    <tr style=\"text-align: right;\">\n",
       "      <th></th>\n",
       "      <th>Age(Years)</th>\n",
       "      <th>Soft drink Preference</th>\n",
       "    </tr>\n",
       "  </thead>\n",
       "  <tbody>\n",
       "    <tr>\n",
       "      <th>0</th>\n",
       "      <td>25</td>\n",
       "      <td>Coke</td>\n",
       "    </tr>\n",
       "    <tr>\n",
       "      <th>1</th>\n",
       "      <td>42</td>\n",
       "      <td>Pepsi</td>\n",
       "    </tr>\n",
       "    <tr>\n",
       "      <th>2</th>\n",
       "      <td>37</td>\n",
       "      <td>Mountain dew</td>\n",
       "    </tr>\n",
       "    <tr>\n",
       "      <th>3</th>\n",
       "      <td>19</td>\n",
       "      <td>Coke</td>\n",
       "    </tr>\n",
       "    <tr>\n",
       "      <th>4</th>\n",
       "      <td>31</td>\n",
       "      <td>Pepsi</td>\n",
       "    </tr>\n",
       "  </tbody>\n",
       "</table>\n",
       "</div>"
      ],
      "text/plain": [
       "   Age(Years) Soft drink Preference\n",
       "0          25                  Coke\n",
       "1          42                 Pepsi\n",
       "2          37          Mountain dew\n",
       "3          19                  Coke\n",
       "4          31                 Pepsi"
      ]
     },
     "execution_count": 43,
     "metadata": {},
     "output_type": "execute_result"
    }
   ],
   "source": [
    "df.head()"
   ]
  },
  {
   "cell_type": "code",
   "execution_count": 44,
   "id": "6e15080d-e187-480c-86c3-f830a7281d2c",
   "metadata": {},
   "outputs": [
    {
     "name": "stderr",
     "output_type": "stream",
     "text": [
      "/tmp/ipykernel_1565/2969927184.py:1: FutureWarning: The default value of numeric_only in DataFrame.corr is deprecated. In a future version, it will default to False. Select only valid columns or specify the value of numeric_only to silence this warning.\n",
      "  df.corr(method ='spearman')\n"
     ]
    },
    {
     "data": {
      "text/html": [
       "<div>\n",
       "<style scoped>\n",
       "    .dataframe tbody tr th:only-of-type {\n",
       "        vertical-align: middle;\n",
       "    }\n",
       "\n",
       "    .dataframe tbody tr th {\n",
       "        vertical-align: top;\n",
       "    }\n",
       "\n",
       "    .dataframe thead th {\n",
       "        text-align: right;\n",
       "    }\n",
       "</style>\n",
       "<table border=\"1\" class=\"dataframe\">\n",
       "  <thead>\n",
       "    <tr style=\"text-align: right;\">\n",
       "      <th></th>\n",
       "      <th>Age(Years)</th>\n",
       "    </tr>\n",
       "  </thead>\n",
       "  <tbody>\n",
       "    <tr>\n",
       "      <th>Age(Years)</th>\n",
       "      <td>1.0</td>\n",
       "    </tr>\n",
       "  </tbody>\n",
       "</table>\n",
       "</div>"
      ],
      "text/plain": [
       "            Age(Years)\n",
       "Age(Years)         1.0"
      ]
     },
     "execution_count": 44,
     "metadata": {},
     "output_type": "execute_result"
    }
   ],
   "source": [
    "df.corr(method ='spearman')\n"
   ]
  },
  {
   "cell_type": "code",
   "execution_count": 45,
   "id": "2071097e-0e18-4241-8e04-64fc7995be02",
   "metadata": {},
   "outputs": [
    {
     "name": "stderr",
     "output_type": "stream",
     "text": [
      "/tmp/ipykernel_1565/3294333281.py:1: FutureWarning: The default value of numeric_only in DataFrame.corr is deprecated. In a future version, it will default to False. Select only valid columns or specify the value of numeric_only to silence this warning.\n",
      "  df.corr(method = 'pearson')\n"
     ]
    },
    {
     "data": {
      "text/html": [
       "<div>\n",
       "<style scoped>\n",
       "    .dataframe tbody tr th:only-of-type {\n",
       "        vertical-align: middle;\n",
       "    }\n",
       "\n",
       "    .dataframe tbody tr th {\n",
       "        vertical-align: top;\n",
       "    }\n",
       "\n",
       "    .dataframe thead th {\n",
       "        text-align: right;\n",
       "    }\n",
       "</style>\n",
       "<table border=\"1\" class=\"dataframe\">\n",
       "  <thead>\n",
       "    <tr style=\"text-align: right;\">\n",
       "      <th></th>\n",
       "      <th>Age(Years)</th>\n",
       "    </tr>\n",
       "  </thead>\n",
       "  <tbody>\n",
       "    <tr>\n",
       "      <th>Age(Years)</th>\n",
       "      <td>1.0</td>\n",
       "    </tr>\n",
       "  </tbody>\n",
       "</table>\n",
       "</div>"
      ],
      "text/plain": [
       "            Age(Years)\n",
       "Age(Years)         1.0"
      ]
     },
     "execution_count": 45,
     "metadata": {},
     "output_type": "execute_result"
    }
   ],
   "source": [
    "df.corr(method = 'pearson')"
   ]
  },
  {
   "cell_type": "code",
   "execution_count": null,
   "id": "988f3d39-ec70-4704-9f6d-9c4ddce2982b",
   "metadata": {},
   "outputs": [],
   "source": []
  },
  {
   "cell_type": "markdown",
   "id": "2a047768-1d7e-47a9-8a35-a8423c4be404",
   "metadata": {},
   "source": [
    "Q6. A company is interested in examining the relationship between the number of sales calls made per day\n",
    "and the number of sales made per week. The company collected data on both variables from a sample of\n",
    "30 sales representatives. Calculate the Pearson correlation coefficient between these two variables."
   ]
  },
  {
   "cell_type": "code",
   "execution_count": 47,
   "id": "5a5e49d0-095d-4f58-ba51-bf9c825734a2",
   "metadata": {},
   "outputs": [],
   "source": [
    "import pandas as pd\n",
    "import numpy as np\n"
   ]
  },
  {
   "cell_type": "code",
   "execution_count": 48,
   "id": "c66227ad-0ead-47fa-ad75-ecd1e428541a",
   "metadata": {},
   "outputs": [],
   "source": [
    "\n",
    "# Generate random data for sales calls and number of sales\n",
    "sales_calls = np.random.randint(low=50, high=200, size=30) # assuming sales reps make between 50-200 calls per day\n",
    "sales_made = np.random.randint(low=5, high=30, size=30) # assuming sales reps make between 5-30 sales per week\n",
    "\n"
   ]
  },
  {
   "cell_type": "code",
   "execution_count": 49,
   "id": "9243c913-375f-4325-aad9-f995e1ec2c4e",
   "metadata": {},
   "outputs": [],
   "source": [
    "# Create a dictionary to store the data\n",
    "data = {'Sales Calls': sales_calls, 'Sales Made': sales_made}\n",
    "\n"
   ]
  },
  {
   "cell_type": "code",
   "execution_count": 50,
   "id": "86e74e3e-d728-4d85-a528-b9f59de35ed1",
   "metadata": {},
   "outputs": [],
   "source": [
    "df =pd.DataFrame(data)"
   ]
  },
  {
   "cell_type": "code",
   "execution_count": 51,
   "id": "6d03417c-d3af-4250-844e-3890d9ae0976",
   "metadata": {},
   "outputs": [
    {
     "data": {
      "text/html": [
       "<div>\n",
       "<style scoped>\n",
       "    .dataframe tbody tr th:only-of-type {\n",
       "        vertical-align: middle;\n",
       "    }\n",
       "\n",
       "    .dataframe tbody tr th {\n",
       "        vertical-align: top;\n",
       "    }\n",
       "\n",
       "    .dataframe thead th {\n",
       "        text-align: right;\n",
       "    }\n",
       "</style>\n",
       "<table border=\"1\" class=\"dataframe\">\n",
       "  <thead>\n",
       "    <tr style=\"text-align: right;\">\n",
       "      <th></th>\n",
       "      <th>Sales Calls</th>\n",
       "      <th>Sales Made</th>\n",
       "    </tr>\n",
       "  </thead>\n",
       "  <tbody>\n",
       "    <tr>\n",
       "      <th>0</th>\n",
       "      <td>157</td>\n",
       "      <td>12</td>\n",
       "    </tr>\n",
       "    <tr>\n",
       "      <th>1</th>\n",
       "      <td>192</td>\n",
       "      <td>23</td>\n",
       "    </tr>\n",
       "    <tr>\n",
       "      <th>2</th>\n",
       "      <td>176</td>\n",
       "      <td>15</td>\n",
       "    </tr>\n",
       "    <tr>\n",
       "      <th>3</th>\n",
       "      <td>70</td>\n",
       "      <td>29</td>\n",
       "    </tr>\n",
       "    <tr>\n",
       "      <th>4</th>\n",
       "      <td>148</td>\n",
       "      <td>15</td>\n",
       "    </tr>\n",
       "  </tbody>\n",
       "</table>\n",
       "</div>"
      ],
      "text/plain": [
       "   Sales Calls  Sales Made\n",
       "0          157          12\n",
       "1          192          23\n",
       "2          176          15\n",
       "3           70          29\n",
       "4          148          15"
      ]
     },
     "execution_count": 51,
     "metadata": {},
     "output_type": "execute_result"
    }
   ],
   "source": [
    "df.head()"
   ]
  },
  {
   "cell_type": "code",
   "execution_count": 52,
   "id": "cc9b2733-e729-4f88-bfce-cb443a3f8f5b",
   "metadata": {},
   "outputs": [
    {
     "data": {
      "text/html": [
       "<div>\n",
       "<style scoped>\n",
       "    .dataframe tbody tr th:only-of-type {\n",
       "        vertical-align: middle;\n",
       "    }\n",
       "\n",
       "    .dataframe tbody tr th {\n",
       "        vertical-align: top;\n",
       "    }\n",
       "\n",
       "    .dataframe thead th {\n",
       "        text-align: right;\n",
       "    }\n",
       "</style>\n",
       "<table border=\"1\" class=\"dataframe\">\n",
       "  <thead>\n",
       "    <tr style=\"text-align: right;\">\n",
       "      <th></th>\n",
       "      <th>Sales Calls</th>\n",
       "      <th>Sales Made</th>\n",
       "    </tr>\n",
       "  </thead>\n",
       "  <tbody>\n",
       "    <tr>\n",
       "      <th>Sales Calls</th>\n",
       "      <td>1.000000</td>\n",
       "      <td>0.168451</td>\n",
       "    </tr>\n",
       "    <tr>\n",
       "      <th>Sales Made</th>\n",
       "      <td>0.168451</td>\n",
       "      <td>1.000000</td>\n",
       "    </tr>\n",
       "  </tbody>\n",
       "</table>\n",
       "</div>"
      ],
      "text/plain": [
       "             Sales Calls  Sales Made\n",
       "Sales Calls     1.000000    0.168451\n",
       "Sales Made      0.168451    1.000000"
      ]
     },
     "execution_count": 52,
     "metadata": {},
     "output_type": "execute_result"
    }
   ],
   "source": [
    "#pearson correlation\n",
    "df.corr(method ='pearson')"
   ]
  },
  {
   "cell_type": "markdown",
   "id": "2e4b200b-d11b-4236-8030-4a76abeeb155",
   "metadata": {},
   "source": [
    "in pearson correlation coefficient of 0.168451 suggests a weak positive correlation between two variables. The closer the value of the correlation coefficient is to 0, the weaker the correlation. In this case, a value of 0.168451 indicates that there is a positive relationship between the two variables, but it is not very strong. "
   ]
  }
 ],
 "metadata": {
  "kernelspec": {
   "display_name": "Python 3 (ipykernel)",
   "language": "python",
   "name": "python3"
  },
  "language_info": {
   "codemirror_mode": {
    "name": "ipython",
    "version": 3
   },
   "file_extension": ".py",
   "mimetype": "text/x-python",
   "name": "python",
   "nbconvert_exporter": "python",
   "pygments_lexer": "ipython3",
   "version": "3.10.8"
  }
 },
 "nbformat": 4,
 "nbformat_minor": 5
}
