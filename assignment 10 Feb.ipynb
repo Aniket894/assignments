{
 "cells": [
  {
   "cell_type": "markdown",
   "id": "bb643362-f0d8-4c81-a803-970a8fcd3e06",
   "metadata": {},
   "source": [
    "Q1. Which function is used to open a file? What are the different modes of opening a file? Explain each mode\n",
    "of file opening."
   ]
  },
  {
   "cell_type": "markdown",
   "id": "08e2ffc0-d31e-4b9d-8cf5-bad61574e3c6",
   "metadata": {},
   "source": [
    "ans - open() function is used to open a file.\n"
   ]
  },
  {
   "cell_type": "markdown",
   "id": "d1d819d6-f264-4ca8-9b26-80ba8b9310bb",
   "metadata": {},
   "source": [
    "there are four different modes of opening a file -"
   ]
  },
  {
   "cell_type": "code",
   "execution_count": null,
   "id": "e7a39aa8-7b9a-4e67-b385-ef867c01e9e9",
   "metadata": {},
   "outputs": [],
   "source": [
    "1 - \"w\" mode is used to write the file"
   ]
  },
  {
   "cell_type": "code",
   "execution_count": 6,
   "id": "770f7267-efad-4c82-b354-e199b7b49221",
   "metadata": {},
   "outputs": [],
   "source": [
    "f = open(\"text.txt\" ,\"w\") "
   ]
  },
  {
   "cell_type": "markdown",
   "id": "397cf127-8e14-438f-8729-a7c6ed4836f4",
   "metadata": {},
   "source": [
    "2 - \"r\" mode is used to read the file"
   ]
  },
  {
   "cell_type": "code",
   "execution_count": 7,
   "id": "66576f1e-6405-4c66-9bf6-9261d26dc349",
   "metadata": {},
   "outputs": [],
   "source": [
    "f = open(\"text.txt\", \"r\")\n"
   ]
  },
  {
   "cell_type": "markdown",
   "id": "602de558-85af-45be-882b-5fea57ee10f3",
   "metadata": {},
   "source": [
    "3 - \"a\" mode is used to open a file in append mode"
   ]
  },
  {
   "cell_type": "code",
   "execution_count": 8,
   "id": "2d7dc81f-c88b-4b40-9c6f-1abb36d49813",
   "metadata": {},
   "outputs": [],
   "source": [
    "f = open(\"text.txt\",\"a\")"
   ]
  },
  {
   "cell_type": "markdown",
   "id": "06cd036a-cd9d-4925-a22d-7428d699bcc8",
   "metadata": {},
   "source": [
    "4 - \"r+\" mode is used to opens file in the read & write mode and it does not remove existing content."
   ]
  },
  {
   "cell_type": "code",
   "execution_count": 9,
   "id": "b116c989-a692-4074-a77b-115a1fc9c766",
   "metadata": {},
   "outputs": [],
   "source": [
    "f = open(\"text.txt\",\"r+\")"
   ]
  },
  {
   "cell_type": "markdown",
   "id": "4350e741-fdce-4883-9142-360a09028755",
   "metadata": {},
   "source": [
    "5 - \"w+\" mode is used to open the file in the read & write mode & remove existing content. "
   ]
  },
  {
   "cell_type": "code",
   "execution_count": 10,
   "id": "151085a5-53bb-4d33-8b83-dbb3c0850dd0",
   "metadata": {},
   "outputs": [],
   "source": [
    "f = open(\"text.txt\" , \"w+\")"
   ]
  },
  {
   "cell_type": "markdown",
   "id": "5323a06c-dd71-431f-91bf-1f1746e84718",
   "metadata": {},
   "source": [
    "6 - \"a+\" mode is used to  file opens in the read & append mode and it does not remove existing content."
   ]
  },
  {
   "cell_type": "code",
   "execution_count": 12,
   "id": "20160fd6-7b47-4fe5-8d91-ae60257df418",
   "metadata": {},
   "outputs": [],
   "source": [
    "f = open(\"text.txt\" , \"a+\")"
   ]
  },
  {
   "cell_type": "code",
   "execution_count": null,
   "id": "3b3ea54e-998d-4f09-badd-6619119c57d3",
   "metadata": {},
   "outputs": [],
   "source": []
  },
  {
   "cell_type": "markdown",
   "id": "b108de50-834d-4f64-adee-bd2a7fd07c44",
   "metadata": {},
   "source": [
    "Q2. Why close() function is used? Why is it important to close a file?"
   ]
  },
  {
   "cell_type": "markdown",
   "id": "19ec55f6-9ff3-4041-ab1e-9534d4669a26",
   "metadata": {},
   "source": [
    "ans - close() file Python method can be defined as not closing the file in python which may lead to variability when running your scripts. Hence, implementing the close() file Python method over the opened file in python will help us to save the program resources. without use this function we cannot watch the file material."
   ]
  },
  {
   "cell_type": "markdown",
   "id": "3c06e84f-1cb7-4642-9457-8b85d11ac96a",
   "metadata": {},
   "source": [
    "Because files are limited resources managed by the operating system, making sure files are closed after use will protect against hard-to-debug issues like running out of file handles or experiencing corrupted data."
   ]
  },
  {
   "cell_type": "code",
   "execution_count": null,
   "id": "72678467-8476-4d58-8a11-30e8147d2107",
   "metadata": {},
   "outputs": [],
   "source": []
  },
  {
   "cell_type": "markdown",
   "id": "a5a97699-2f36-487b-9c94-00bee9e22c37",
   "metadata": {},
   "source": [
    "Q3. Write a python program to create a text file. Write ‘I want to become a Data Scientist’ in that file. Then\n",
    "close the file. Open this file and read the content of the file."
   ]
  },
  {
   "cell_type": "code",
   "execution_count": 14,
   "id": "874dce7f-2658-4078-b47e-a2e96f3eb4ad",
   "metadata": {},
   "outputs": [],
   "source": [
    "file = open(\"text1.txt\",\"w\")"
   ]
  },
  {
   "cell_type": "code",
   "execution_count": 15,
   "id": "be9327ae-6488-45ac-858e-8bc517793e30",
   "metadata": {},
   "outputs": [
    {
     "data": {
      "text/plain": [
       "33"
      ]
     },
     "execution_count": 15,
     "metadata": {},
     "output_type": "execute_result"
    }
   ],
   "source": [
    "file.write(\"I want to become a Data Scientist\")"
   ]
  },
  {
   "cell_type": "code",
   "execution_count": 16,
   "id": "4e2e5c89-6a91-4036-a080-754df92ddec6",
   "metadata": {},
   "outputs": [],
   "source": [
    "file.close()"
   ]
  },
  {
   "cell_type": "code",
   "execution_count": 18,
   "id": "f76194ea-a30c-428c-85ef-e006390e3441",
   "metadata": {},
   "outputs": [],
   "source": [
    "file = open(\"text1.txt\" ,\"r\")"
   ]
  },
  {
   "cell_type": "code",
   "execution_count": 19,
   "id": "b3667b4a-0a76-493a-9726-ae6335ba70ae",
   "metadata": {},
   "outputs": [
    {
     "data": {
      "text/plain": [
       "'I want to become a Data Scientist'"
      ]
     },
     "execution_count": 19,
     "metadata": {},
     "output_type": "execute_result"
    }
   ],
   "source": [
    "file.read()"
   ]
  },
  {
   "cell_type": "code",
   "execution_count": null,
   "id": "0eb1d734-4572-4d55-93d9-bbc5103c76cd",
   "metadata": {},
   "outputs": [],
   "source": []
  },
  {
   "cell_type": "markdown",
   "id": "6ddbe95c-fbd2-411f-982e-e9e308c99528",
   "metadata": {},
   "source": [
    "Q4. Explain the following with python code: read(), readline() and readlines()."
   ]
  },
  {
   "cell_type": "markdown",
   "id": "3c105efc-e4e7-4115-9be8-32028d4def5d",
   "metadata": {},
   "source": [
    "read() is used to read the file"
   ]
  },
  {
   "cell_type": "code",
   "execution_count": 21,
   "id": "f93803d7-0864-48fc-8732-8b641f822f7b",
   "metadata": {},
   "outputs": [],
   "source": [
    "f = open(\"text2.txt\",\"w\")"
   ]
  },
  {
   "cell_type": "code",
   "execution_count": 22,
   "id": "db5bcff5-808b-44c1-8b4a-6776641b6788",
   "metadata": {},
   "outputs": [
    {
     "data": {
      "text/plain": [
       "714"
      ]
     },
     "execution_count": 22,
     "metadata": {},
     "output_type": "execute_result"
    }
   ],
   "source": [
    "f.write(\"Python is an interpreted, object-oriented, high-level programming language with dynamic semantics. Its high-level built in data structures, combined with dynamic typing and dynamic binding, make it very attractive for Rapid Application Development, as well as for use as a scripting or glue language to connect existing components together. Python's simple, easy to learn syntax emphasizes readability and therefore reduces the cost of program maintenance. Python supports modules and packages, which encourages program modularity and code reuse. The Python interpreter and the extensive standard library are available in source or binary form without charge for all major platforms, and can be freely distributed.\")"
   ]
  },
  {
   "cell_type": "code",
   "execution_count": 23,
   "id": "309a5011-1a13-4b63-916c-5816e4eb705b",
   "metadata": {},
   "outputs": [],
   "source": [
    "f.close()"
   ]
  },
  {
   "cell_type": "code",
   "execution_count": 24,
   "id": "cbb49b18-1d3f-4558-a437-151e99df70d5",
   "metadata": {},
   "outputs": [],
   "source": [
    "f =  open(\"text2.txt\",\"r\")"
   ]
  },
  {
   "cell_type": "code",
   "execution_count": 25,
   "id": "d8dd33c3-9bb4-4d23-b7d1-a1d359aa79f8",
   "metadata": {},
   "outputs": [
    {
     "data": {
      "text/plain": [
       "\"Python is an interpreted, object-oriented, high-level programming language with dynamic semantics. Its high-level built in data structures, combined with dynamic typing and dynamic binding, make it very attractive for Rapid Application Development, as well as for use as a scripting or glue language to connect existing components together. Python's simple, easy to learn syntax emphasizes readability and therefore reduces the cost of program maintenance. Python supports modules and packages, which encourages program modularity and code reuse. The Python interpreter and the extensive standard library are available in source or binary form without charge for all major platforms, and can be freely distributed.\""
      ]
     },
     "execution_count": 25,
     "metadata": {},
     "output_type": "execute_result"
    }
   ],
   "source": [
    "f.read()"
   ]
  },
  {
   "cell_type": "code",
   "execution_count": null,
   "id": "5acdd41e-8ba9-472f-b27e-843da8e7f3d1",
   "metadata": {},
   "outputs": [],
   "source": []
  },
  {
   "cell_type": "markdown",
   "id": "6410a2ed-15c3-41f4-a9f1-02fbceeca2c4",
   "metadata": {},
   "source": [
    "Readline() is  used to reads a line of the file and returns in the form of a string."
   ]
  },
  {
   "cell_type": "code",
   "execution_count": 28,
   "id": "2ed5e528-4f1b-48ff-a96f-017eb1165763",
   "metadata": {},
   "outputs": [
    {
     "data": {
      "text/plain": [
       "0"
      ]
     },
     "execution_count": 28,
     "metadata": {},
     "output_type": "execute_result"
    }
   ],
   "source": [
    "f.seek(0)"
   ]
  },
  {
   "cell_type": "code",
   "execution_count": 29,
   "id": "b1d6dfc7-af1b-45a0-8a5f-3ecefe8833e8",
   "metadata": {},
   "outputs": [
    {
     "data": {
      "text/plain": [
       "\"Python is an interpreted, object-oriented, high-level programming language with dynamic semantics. Its high-level built in data structures, combined with dynamic typing and dynamic binding, make it very attractive for Rapid Application Development, as well as for use as a scripting or glue language to connect existing components together. Python's simple, easy to learn syntax emphasizes readability and therefore reduces the cost of program maintenance. Python supports modules and packages, which encourages program modularity and code reuse. The Python interpreter and the extensive standard library are available in source or binary form without charge for all major platforms, and can be freely distributed.\""
      ]
     },
     "execution_count": 29,
     "metadata": {},
     "output_type": "execute_result"
    }
   ],
   "source": [
    "f.readline()"
   ]
  },
  {
   "cell_type": "code",
   "execution_count": null,
   "id": "b25c0ad5-89c2-4aa0-9ce6-3f980c021464",
   "metadata": {},
   "outputs": [],
   "source": []
  },
  {
   "cell_type": "markdown",
   "id": "fba45965-198d-4011-824a-aac500f59042",
   "metadata": {},
   "source": [
    "readlines() is  used to reads all the lines and returns them as a string element in a list."
   ]
  },
  {
   "cell_type": "code",
   "execution_count": 31,
   "id": "0c4c30fd-2bec-44f5-b0e5-a9e4e7604fce",
   "metadata": {},
   "outputs": [
    {
     "data": {
      "text/plain": [
       "0"
      ]
     },
     "execution_count": 31,
     "metadata": {},
     "output_type": "execute_result"
    }
   ],
   "source": [
    "f.seek(0)"
   ]
  },
  {
   "cell_type": "code",
   "execution_count": 32,
   "id": "9643e492-1188-4684-883b-0a7b1fb92378",
   "metadata": {},
   "outputs": [
    {
     "data": {
      "text/plain": [
       "[\"Python is an interpreted, object-oriented, high-level programming language with dynamic semantics. Its high-level built in data structures, combined with dynamic typing and dynamic binding, make it very attractive for Rapid Application Development, as well as for use as a scripting or glue language to connect existing components together. Python's simple, easy to learn syntax emphasizes readability and therefore reduces the cost of program maintenance. Python supports modules and packages, which encourages program modularity and code reuse. The Python interpreter and the extensive standard library are available in source or binary form without charge for all major platforms, and can be freely distributed.\"]"
      ]
     },
     "execution_count": 32,
     "metadata": {},
     "output_type": "execute_result"
    }
   ],
   "source": [
    "f.readlines()\n"
   ]
  },
  {
   "cell_type": "code",
   "execution_count": null,
   "id": "eb4973dd-8205-4e7b-8226-232139ef2665",
   "metadata": {},
   "outputs": [],
   "source": []
  },
  {
   "cell_type": "markdown",
   "id": "78b7fa90-3685-4abb-9726-2eaff10828a8",
   "metadata": {},
   "source": [
    "Q5. Explain why with statement is used with open(). What is the advantage of using with statement and\n",
    "open() together?"
   ]
  },
  {
   "cell_type": "markdown",
   "id": "178a2cec-2c29-4cec-9ba8-1f1b679611ba",
   "metadata": {},
   "source": [
    "ans - The with statement works with the open() function to open a file.Unlike open() where you have to close the file with the close() method, the with statement closes the file for you without you telling it to.This is because the with statement calls 2 built-in methods behind the scene – __enter()__ and __exit()__."
   ]
  },
  {
   "cell_type": "markdown",
   "id": "18e83d2b-b9b8-47b1-8921-ae14c84d8841",
   "metadata": {},
   "source": [
    "Using with means that the file will be closed as soon as you leave the block. This is beneficial because closing a file is something that can easily be forgotten and ties up resources that you no longer need."
   ]
  },
  {
   "cell_type": "code",
   "execution_count": null,
   "id": "2490b1bd-67d1-49aa-b1d3-6d4a8193445e",
   "metadata": {},
   "outputs": [],
   "source": []
  },
  {
   "cell_type": "markdown",
   "id": "2d29c820-cf87-4221-aad7-2f3b63972437",
   "metadata": {},
   "source": [
    "Q6. Explain the write() and writelines() functions. Give a suitable example."
   ]
  },
  {
   "cell_type": "markdown",
   "id": "e6044282-df09-4a25-ad96-1d25144c64f3",
   "metadata": {},
   "source": [
    "ans - The write() function is used to write the content in the file without adding any extra characters."
   ]
  },
  {
   "cell_type": "code",
   "execution_count": 33,
   "id": "de8de59c-7b65-4a53-825f-117893e8d18d",
   "metadata": {},
   "outputs": [],
   "source": [
    "f = open(\"text3.txt\",\"w\")"
   ]
  },
  {
   "cell_type": "code",
   "execution_count": 34,
   "id": "68ff6ebc-5ccb-47e8-ade9-d48e3cbd87dd",
   "metadata": {},
   "outputs": [
    {
     "data": {
      "text/plain": [
       "24"
      ]
     },
     "execution_count": 34,
     "metadata": {},
     "output_type": "execute_result"
    }
   ],
   "source": [
    "f.write(\"this is a good statement\")"
   ]
  },
  {
   "cell_type": "code",
   "execution_count": 35,
   "id": "258220c1-fa93-4b55-a8c9-b21a8b22263c",
   "metadata": {},
   "outputs": [],
   "source": [
    "f.close()"
   ]
  },
  {
   "cell_type": "code",
   "execution_count": 36,
   "id": "728aa601-3d31-497b-815b-d1c3da7ea5b0",
   "metadata": {},
   "outputs": [],
   "source": [
    "f = open(\"text3.txt\",\"r\")"
   ]
  },
  {
   "cell_type": "code",
   "execution_count": 37,
   "id": "698fde66-6a66-4b8c-b296-382690d76e97",
   "metadata": {},
   "outputs": [
    {
     "data": {
      "text/plain": [
       "'this is a good statement'"
      ]
     },
     "execution_count": 37,
     "metadata": {},
     "output_type": "execute_result"
    }
   ],
   "source": [
    "f.read()"
   ]
  },
  {
   "cell_type": "code",
   "execution_count": null,
   "id": "960cd810-3901-49d0-b0d8-d6f5071405c5",
   "metadata": {},
   "outputs": [],
   "source": []
  },
  {
   "cell_type": "markdown",
   "id": "7079d8b7-4c9a-4254-bed5-f8782c719359",
   "metadata": {},
   "source": [
    "writelines() is  used to write list of file."
   ]
  },
  {
   "cell_type": "code",
   "execution_count": 54,
   "id": "e203cbb5-504b-40f0-aea7-c5171f830b08",
   "metadata": {},
   "outputs": [],
   "source": [
    "f = open(\"text4.txt\" ,\"a\")"
   ]
  },
  {
   "cell_type": "code",
   "execution_count": 55,
   "id": "a8c79611-c642-465b-b066-f07dd539dfe4",
   "metadata": {},
   "outputs": [],
   "source": [
    "f.writelines([\"\\nrohit\",\"\\nmohit\",\"\\nrohan\",\"\\nmohan\"])\n"
   ]
  },
  {
   "cell_type": "code",
   "execution_count": 62,
   "id": "3c8c5ad8-1ad7-4fbf-b6b2-1f088176e12b",
   "metadata": {},
   "outputs": [
    {
     "data": {
      "text/plain": [
       "''"
      ]
     },
     "execution_count": 62,
     "metadata": {},
     "output_type": "execute_result"
    }
   ],
   "source": [
    "f.read()"
   ]
  },
  {
   "cell_type": "code",
   "execution_count": null,
   "id": "67b7a26b-81fa-4b45-aa92-63afc50b8b88",
   "metadata": {},
   "outputs": [],
   "source": []
  },
  {
   "cell_type": "code",
   "execution_count": null,
   "id": "8618d348-9007-45a8-bf44-c3e504f5ece7",
   "metadata": {},
   "outputs": [],
   "source": []
  }
 ],
 "metadata": {
  "kernelspec": {
   "display_name": "Python 3 (ipykernel)",
   "language": "python",
   "name": "python3"
  },
  "language_info": {
   "codemirror_mode": {
    "name": "ipython",
    "version": 3
   },
   "file_extension": ".py",
   "mimetype": "text/x-python",
   "name": "python",
   "nbconvert_exporter": "python",
   "pygments_lexer": "ipython3",
   "version": "3.10.8"
  }
 },
 "nbformat": 4,
 "nbformat_minor": 5
}
