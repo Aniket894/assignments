{
 "cells": [
  {
   "cell_type": "markdown",
   "id": "b60dd3ce-5391-4cef-985c-1645561ef66c",
   "metadata": {},
   "source": [
    "Q 1 . Write a program to accept percentage from the  user and display the grade according to the \n",
    "following criteria:\n",
    "    \n",
    "    "
   ]
  },
  {
   "cell_type": "code",
   "execution_count": 6,
   "id": "dca86eb5-38c6-4a71-815e-71ba0a998046",
   "metadata": {},
   "outputs": [
    {
     "name": "stdin",
     "output_type": "stream",
     "text": [
      "enter your number 80\n"
     ]
    },
    {
     "name": "stdout",
     "output_type": "stream",
     "text": [
      "Your Grade is C\n"
     ]
    }
   ],
   "source": [
    "marks = int(input('enter your number'))\n",
    "if marks > 90 :\n",
    "    print('Your Grade is A')\n",
    "elif marks > 80 and marks <=90:\n",
    "    print('Your Grade is B')\n",
    "elif marks >=60 and marks <=80:\n",
    "    print('Your Grade is C')\n",
    "else :\n",
    "    print('Your Grade is D')\n",
    "    "
   ]
  },
  {
   "cell_type": "code",
   "execution_count": null,
   "id": "1ad84149-bcb7-4d71-86f5-2e339af05b58",
   "metadata": {},
   "outputs": [],
   "source": []
  },
  {
   "cell_type": "markdown",
   "id": "b9a11f97-b406-4614-a56b-04858a7f5c42",
   "metadata": {},
   "source": [
    "Q 2 . Write a program to accept the cost price of a bike and display the road tax to be\n",
    "paid according to the criteria:"
   ]
  },
  {
   "cell_type": "code",
   "execution_count": 11,
   "id": "7ca09a7c-c10f-4255-9a01-9841d4501328",
   "metadata": {},
   "outputs": [
    {
     "name": "stdin",
     "output_type": "stream",
     "text": [
      "enter your cost 89440\n"
     ]
    },
    {
     "name": "stdout",
     "output_type": "stream",
     "text": [
      "Your road tax is 10%\n"
     ]
    }
   ],
   "source": [
    "cost =  int(input('enter your cost'))\n",
    "\n",
    "if cost >100000:\n",
    "    print('Your road tax is 15%')\n",
    "elif  cost > 50000 and cost <= 100000:\n",
    "    print('Your road tax is 10%')\n",
    "else:\n",
    "    print('Your raod tax is 5%')"
   ]
  },
  {
   "cell_type": "code",
   "execution_count": null,
   "id": "735f6e73-b9a0-4485-8fae-2a1baa486d19",
   "metadata": {},
   "outputs": [],
   "source": []
  },
  {
   "cell_type": "markdown",
   "id": "8c0b7b93-9fbf-4aac-bbc1-bfad7502b7a8",
   "metadata": {},
   "source": [
    "Q 3. Accept any city from the user and display monuments of that city."
   ]
  },
  {
   "cell_type": "code",
   "execution_count": 19,
   "id": "aba512d5-b922-4843-92c5-9c55b95cd8ef",
   "metadata": {},
   "outputs": [
    {
     "name": "stdin",
     "output_type": "stream",
     "text": [
      "enter your city Delhi\n"
     ]
    },
    {
     "name": "stdout",
     "output_type": "stream",
     "text": [
      "Monuments of this city is Red Fort\n"
     ]
    }
   ],
   "source": [
    "city = input('enter your city')\n",
    "\n",
    "if city == 'Delhi' :\n",
    "    print('Monuments of this city is Red Fort')\n",
    "elif city == 'Agra'  :\n",
    "    print('Monument of this city is Taj Mahal')\n",
    "elif city == 'Jaipur':\n",
    "    print('Monument of this city is Jal Mahal')\n",
    "else:\n",
    "    print('No monuments available')\n",
    "    "
   ]
  },
  {
   "cell_type": "code",
   "execution_count": null,
   "id": "98c383d8-9e93-4a2e-a654-41e649412678",
   "metadata": {},
   "outputs": [],
   "source": []
  },
  {
   "cell_type": "markdown",
   "id": "4f5c100d-8f38-4fa5-9ac0-e2a077d70336",
   "metadata": {},
   "source": [
    "Q 4.  Check how many times a given number can be divided by 3 before it is less than or equal to 10."
   ]
  },
  {
   "cell_type": "code",
   "execution_count": 1,
   "id": "814051b6-7a8f-4ae9-a7b7-5bfe2949af1d",
   "metadata": {},
   "outputs": [
    {
     "name": "stdin",
     "output_type": "stream",
     "text": [
      "enter your number 56\n"
     ]
    },
    {
     "name": "stdout",
     "output_type": "stream",
     "text": [
      "Total iteration required 2\n"
     ]
    }
   ],
   "source": [
    "number = int(input('enter your number'))\n",
    "count = 0\n",
    "\n",
    "while number >= 10:\n",
    "    \n",
    "    number = number / 3\n",
    "    \n",
    "    count = count + 1\n",
    "print('Total iteration required', count)\n"
   ]
  },
  {
   "cell_type": "code",
   "execution_count": null,
   "id": "648694a0-f2c0-47c3-a7e1-4f9ca0414049",
   "metadata": {},
   "outputs": [],
   "source": []
  },
  {
   "cell_type": "markdown",
   "id": "0cbc502d-d7a8-4988-b6fa-ab8e29de84b7",
   "metadata": {},
   "source": [
    "Q 4. Why and when to use while loop in python give a detailed description with example.\n"
   ]
  },
  {
   "cell_type": "markdown",
   "id": "580940cb-1649-4f27-8b0a-a9e04719bcd0",
   "metadata": {},
   "source": [
    "ans - why and when to use while loop in python\n",
    "\n",
    "Infinite loop : if the condition in while loop is always True the loop is run forever. \n",
    "\n",
    "Reduce complexity : if we use while loop we didn't want to write the statement again and \n",
    "again this feature reduce complexity in coding.\n",
    "\n",
    "Automate and repeat tasks.: As we know, while loops execute blocks of code over and over\n",
    "again until the condition is met it allows us to automate and repeat tasks in an efficient manner.\n",
    "\n",
    "Indefinite Iteration: The while loop will run as often as necessary to complete a particular task. \n",
    "When the user doesn’t know the number of iterations before execution, while loop is used \n",
    "instead of a for loop\n"
   ]
  },
  {
   "cell_type": "code",
   "execution_count": 2,
   "id": "340da142-6a32-400e-82bf-491a7e522896",
   "metadata": {},
   "outputs": [
    {
     "name": "stdout",
     "output_type": "stream",
     "text": [
      "1\n",
      "2\n",
      "3\n",
      "4\n",
      "5\n"
     ]
    }
   ],
   "source": [
    "i = 1\n",
    "n = 5\n",
    "\n",
    "while i <=n:\n",
    "    print(i)\n",
    "    i = i +1"
   ]
  },
  {
   "cell_type": "code",
   "execution_count": null,
   "id": "e6413a7f-20b6-4238-b429-ccbd8930b625",
   "metadata": {},
   "outputs": [],
   "source": []
  },
  {
   "cell_type": "markdown",
   "id": "0a490944-d7dc-40ca-b4d9-e443642256a0",
   "metadata": {},
   "source": [
    "Q 5. Use nested while loop to print 3 different pattern."
   ]
  },
  {
   "cell_type": "code",
   "execution_count": 3,
   "id": "42f9b922-ea18-4692-8a52-1ebd124a4bf9",
   "metadata": {},
   "outputs": [
    {
     "name": "stdin",
     "output_type": "stream",
     "text": [
      "Enter number of rows :  4\n"
     ]
    },
    {
     "name": "stdout",
     "output_type": "stream",
     "text": [
      "* \n",
      "* * \n",
      "* * * \n",
      "* * * * \n"
     ]
    }
   ],
   "source": [
    "n = int(input('Enter number of rows : '))\n",
    " \n",
    "i = 1\n",
    "while i <= n :\n",
    "    j = 1\n",
    "    while j <= i:\n",
    "        print(\"*\", end = \" \")\n",
    "        j += 1\n",
    "    print()\n",
    "    i += 1"
   ]
  },
  {
   "cell_type": "code",
   "execution_count": 4,
   "id": "6464569c-d316-4b3f-88ee-45a167acef5c",
   "metadata": {},
   "outputs": [
    {
     "name": "stdin",
     "output_type": "stream",
     "text": [
      "Enter number of rows :  5\n"
     ]
    },
    {
     "name": "stdout",
     "output_type": "stream",
     "text": [
      "* * * * * \n",
      "* * * * \n",
      "* * * \n",
      "* * \n",
      "* \n"
     ]
    }
   ],
   "source": [
    "n = int(input('Enter number of rows : '))\n",
    " \n",
    "i = 1\n",
    "while i <= n :\n",
    "    j = n\n",
    "    while j >= i:\n",
    "        print(\"*\", end = \" \")\n",
    "        j -= 1\n",
    "    print()\n",
    "    i += 1"
   ]
  },
  {
   "cell_type": "code",
   "execution_count": 6,
   "id": "fd8ae01a-b690-4d03-820d-324eb964d53b",
   "metadata": {},
   "outputs": [
    {
     "name": "stdin",
     "output_type": "stream",
     "text": [
      "Enter number of rows :  5\n"
     ]
    },
    {
     "name": "stdout",
     "output_type": "stream",
     "text": [
      "  1 \n",
      "  2   3 \n",
      "  4   5   6 \n",
      "  7   8   9  10 \n",
      " 11  12  13  14  15 \n"
     ]
    }
   ],
   "source": [
    "n = int(input('Enter number of rows : '))\n",
    " \n",
    "k = 1\n",
    "i = 1\n",
    "while i <= n :\n",
    "    j = 1\n",
    "    while j <= i:\n",
    "        print(\"{:3d}\".format(k), end = \" \")\n",
    "        j += 1\n",
    "        k += 1\n",
    "    print()\n",
    "    i += 1"
   ]
  },
  {
   "cell_type": "code",
   "execution_count": null,
   "id": "46cd9e2e-5ac1-4048-b48c-e786fd67c923",
   "metadata": {},
   "outputs": [],
   "source": []
  },
  {
   "cell_type": "markdown",
   "id": "ccc8b162-5c5e-480a-8252-f06b4ccf2466",
   "metadata": {},
   "source": [
    "Q 7. Reverse a while loop to display numbers from 10 to 1."
   ]
  },
  {
   "cell_type": "code",
   "execution_count": 2,
   "id": "19bb4e6c-9982-4adf-ba28-4864e5d057e9",
   "metadata": {},
   "outputs": [
    {
     "name": "stdout",
     "output_type": "stream",
     "text": [
      "10\n",
      "9\n",
      "8\n",
      "7\n",
      "6\n",
      "5\n",
      "4\n",
      "3\n",
      "2\n",
      "1\n"
     ]
    }
   ],
   "source": [
    "num = 10\n",
    "\n",
    "while num >= 1:\n",
    "    print(num)\n",
    "    num -= 1\n"
   ]
  },
  {
   "cell_type": "markdown",
   "id": "5543b214-9966-4e7b-9d4a-23ad1453975b",
   "metadata": {},
   "source": [
    "Q 7. Reverse a while loop to display numbers from 10 to 1.\n"
   ]
  },
  {
   "cell_type": "code",
   "execution_count": 3,
   "id": "587a7f18-8462-4696-aaa1-740ca97abdc8",
   "metadata": {},
   "outputs": [
    {
     "name": "stdout",
     "output_type": "stream",
     "text": [
      "10\n",
      "9\n",
      "8\n",
      "7\n",
      "6\n",
      "5\n",
      "4\n",
      "3\n",
      "2\n",
      "1\n"
     ]
    }
   ],
   "source": [
    "num = 10\n",
    "\n",
    "while num >= 1:\n",
    "    print(num)\n",
    "    num -= 1\n"
   ]
  },
  {
   "cell_type": "code",
   "execution_count": null,
   "id": "88462f01-c510-4dc3-b0b0-7addbd86e065",
   "metadata": {},
   "outputs": [],
   "source": []
  }
 ],
 "metadata": {
  "kernelspec": {
   "display_name": "Python 3 (ipykernel)",
   "language": "python",
   "name": "python3"
  },
  "language_info": {
   "codemirror_mode": {
    "name": "ipython",
    "version": 3
   },
   "file_extension": ".py",
   "mimetype": "text/x-python",
   "name": "python",
   "nbconvert_exporter": "python",
   "pygments_lexer": "ipython3",
   "version": "3.10.8"
  }
 },
 "nbformat": 4,
 "nbformat_minor": 5
}
