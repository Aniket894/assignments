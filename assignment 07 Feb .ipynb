{
 "cells": [
  {
   "cell_type": "markdown",
   "id": "b2216b7f-919c-48e7-b67b-9e22830d2ea6",
   "metadata": {},
   "source": [
    "Q1. You are writing code for a company. The requirement of the company is that you create a python\n",
    "function that will check whether the password entered by the user is correct or not. The function should\n",
    "take the password as input and return the string “Valid Password” if the entered password follows the\n",
    "below-given password guidelines else it should return “Invalid Password”.\n",
    "\n",
    "\n",
    "Note: 1. The Password should contain at least two uppercase letters and at least two lowercase letters.\n",
    "\n",
    "2. The Password should contain at least a number and three special characters.\n",
    "\n",
    "3. The length of the password should be 10 characters long."
   ]
  },
  {
   "cell_type": "code",
   "execution_count": 16,
   "id": "3fe9837e-2bc8-4afb-a2b9-12891bf352a1",
   "metadata": {},
   "outputs": [
    {
     "name": "stdin",
     "output_type": "stream",
     "text": [
      "enter your password AnIk123!@#\n"
     ]
    },
    {
     "name": "stdout",
     "output_type": "stream",
     "text": [
      "Valid password\n"
     ]
    }
   ],
   "source": [
    "import re  \n",
    "\n",
    "password = input('enter your password') \n",
    "\n",
    "def validate_password(password):  \n",
    "    \n",
    "    if len(password) <=10:  \n",
    "        return True  \n",
    "    \n",
    "    if  re.search(\"[a-z]\", password) >=2 : \n",
    "       \n",
    "        \n",
    "        return True  \n",
    "    if  re.search(\"[A-Z]\", password) >=2 : \n",
    "        \n",
    "        return True  \n",
    "    if  re.search(\"[0-9]\", password): \n",
    "       \n",
    "        return True  \n",
    "    \n",
    "    if  re.search('[~!@#$%?]',password) >=3:\n",
    "         return True\n",
    "    \n",
    "    \n",
    "    return True  \n",
    "  \n",
    "\n",
    "if validate_password(password) == True:  \n",
    "    print(\"Valid password\")  \n",
    "else:  \n",
    "    print(\"Invalid password\")  "
   ]
  },
  {
   "cell_type": "code",
   "execution_count": 14,
   "id": "87b36626-93f7-4385-a6a3-4396b76a6bcd",
   "metadata": {},
   "outputs": [],
   "source": []
  },
  {
   "cell_type": "markdown",
   "id": "490cefe7-3818-4e67-bb9a-1c2f7c9785af",
   "metadata": {},
   "source": [
    "Q2. Solve the below-given questions using at least one of the following: \n",
    "\n",
    "1. Lambda function\n",
    "2. Filter function\n",
    "3. Zap function\n",
    "4. List Comprehension"
   ]
  },
  {
   "cell_type": "markdown",
   "id": "170c3ab3-1a42-4c43-a6f3-7e3901b6fe5c",
   "metadata": {},
   "source": [
    " Check if the string starts with a particular letter\n"
   ]
  },
  {
   "cell_type": "code",
   "execution_count": 36,
   "id": "daab8843-bbdc-41ee-a9f8-f1a40ed9a14a",
   "metadata": {},
   "outputs": [],
   "source": [
    "s = 'Ranjeet is best boy '"
   ]
  },
  {
   "cell_type": "code",
   "execution_count": 52,
   "id": "edd461a8-0131-481b-aa03-dbd07de29f28",
   "metadata": {},
   "outputs": [],
   "source": [
    "check = lambda a : True if a.startswith('R') else False"
   ]
  },
  {
   "cell_type": "code",
   "execution_count": 54,
   "id": "3907efc4-8113-42c6-943d-ff30e0241a3f",
   "metadata": {},
   "outputs": [
    {
     "data": {
      "text/plain": [
       "True"
      ]
     },
     "execution_count": 54,
     "metadata": {},
     "output_type": "execute_result"
    }
   ],
   "source": [
    "check(s)"
   ]
  },
  {
   "cell_type": "code",
   "execution_count": null,
   "id": "431b1427-f80d-4e5b-a486-21dcb81b347d",
   "metadata": {},
   "outputs": [],
   "source": []
  },
  {
   "cell_type": "markdown",
   "id": "ed8bfcde-106d-44dc-bc80-5b8890d62c53",
   "metadata": {},
   "source": [
    " Check if the string is numeric."
   ]
  },
  {
   "cell_type": "code",
   "execution_count": 84,
   "id": "d65088f3-df8b-4b59-9fee-9571f6c277fa",
   "metadata": {},
   "outputs": [],
   "source": [
    "s1 = '12345678'\n",
    "\n"
   ]
  },
  {
   "cell_type": "code",
   "execution_count": 87,
   "id": "931c612c-f178-46b5-8586-f58a72d30994",
   "metadata": {},
   "outputs": [],
   "source": [
    "check = lambda a : True if a.isnumeric() else False"
   ]
  },
  {
   "cell_type": "code",
   "execution_count": 88,
   "id": "869fe0a5-78d8-4dd0-830d-cb89e423d2fa",
   "metadata": {},
   "outputs": [
    {
     "data": {
      "text/plain": [
       "True"
      ]
     },
     "execution_count": 88,
     "metadata": {},
     "output_type": "execute_result"
    }
   ],
   "source": [
    "check(s1)"
   ]
  },
  {
   "cell_type": "code",
   "execution_count": null,
   "id": "6f9001fd-f97d-4636-977a-ced9291713c6",
   "metadata": {},
   "outputs": [],
   "source": []
  },
  {
   "cell_type": "markdown",
   "id": "e9f06c92-5ab6-4c47-9397-f9f3a0f1eb4f",
   "metadata": {},
   "source": [
    " Sort a list of tuples having fruit names and their quantity. [(\"mango\",99),(\"orange\",80), (\"grapes\", 1000)]"
   ]
  },
  {
   "cell_type": "code",
   "execution_count": 120,
   "id": "b84b0ce7-521b-4925-beb6-77c54bb19453",
   "metadata": {},
   "outputs": [],
   "source": [
    "l  = [(\"mango\",99),(\"orange\",80), (\"grapes\", 1000)]"
   ]
  },
  {
   "cell_type": "code",
   "execution_count": 121,
   "id": "6bcaa91f-fa8a-4be8-830c-11268cfc07d0",
   "metadata": {},
   "outputs": [],
   "source": [
    "l.sort(key = lambda a : a[1])"
   ]
  },
  {
   "cell_type": "code",
   "execution_count": 125,
   "id": "5d303e45-de9f-47de-a94a-b95d74b24e3a",
   "metadata": {},
   "outputs": [
    {
     "name": "stdout",
     "output_type": "stream",
     "text": [
      "[('orange', 80), ('mango', 99), ('grapes', 1000)]\n"
     ]
    }
   ],
   "source": [
    "print(l)"
   ]
  },
  {
   "cell_type": "code",
   "execution_count": null,
   "id": "9e3ad0cd-a036-4db9-a0c6-df606095b97a",
   "metadata": {},
   "outputs": [],
   "source": []
  },
  {
   "cell_type": "markdown",
   "id": "eea7cc6f-8a2e-4462-b0ed-66c50933df91",
   "metadata": {},
   "source": [
    " Find the squares of numbers from 1 to 10."
   ]
  },
  {
   "cell_type": "code",
   "execution_count": 1,
   "id": "d4d8182e-7974-454a-930c-e2e3ae3019a8",
   "metadata": {},
   "outputs": [],
   "source": [
    "l2 = list(range(1,11))"
   ]
  },
  {
   "cell_type": "code",
   "execution_count": 2,
   "id": "34f06e69-df1d-485e-9091-d01dd9bbe5b0",
   "metadata": {},
   "outputs": [
    {
     "data": {
      "text/plain": [
       "[1, 2, 3, 4, 5, 6, 7, 8, 9, 10]"
      ]
     },
     "execution_count": 2,
     "metadata": {},
     "output_type": "execute_result"
    }
   ],
   "source": [
    "l2"
   ]
  },
  {
   "cell_type": "code",
   "execution_count": 3,
   "id": "02c92579-6407-4762-872a-55c7044856ae",
   "metadata": {},
   "outputs": [],
   "source": [
    "squares = list(map(lambda x: x**2, range(1, 11)))\n",
    "\n"
   ]
  },
  {
   "cell_type": "code",
   "execution_count": 4,
   "id": "e36e71f2-31e4-4e65-aebc-0b8c0649b0d3",
   "metadata": {},
   "outputs": [
    {
     "name": "stdout",
     "output_type": "stream",
     "text": [
      "[1, 4, 9, 16, 25, 36, 49, 64, 81, 100]\n"
     ]
    }
   ],
   "source": [
    "print(squares)"
   ]
  },
  {
   "cell_type": "code",
   "execution_count": null,
   "id": "9671fcdf-7445-4db7-b393-cfc3c3677f98",
   "metadata": {},
   "outputs": [],
   "source": []
  },
  {
   "cell_type": "markdown",
   "id": "73f636a2-000c-4be9-aa13-0b328c246d04",
   "metadata": {},
   "source": [
    "Find the cube root of numbers from 1 to 10"
   ]
  },
  {
   "cell_type": "code",
   "execution_count": 1,
   "id": "f4dc6a9f-5884-405f-ba63-fe9d838491a4",
   "metadata": {},
   "outputs": [],
   "source": [
    "l3 = list(range(1,11))"
   ]
  },
  {
   "cell_type": "code",
   "execution_count": 2,
   "id": "bfad538d-87da-4b1c-af07-9fab7cb660e7",
   "metadata": {},
   "outputs": [
    {
     "data": {
      "text/plain": [
       "[1, 2, 3, 4, 5, 6, 7, 8, 9, 10]"
      ]
     },
     "execution_count": 2,
     "metadata": {},
     "output_type": "execute_result"
    }
   ],
   "source": [
    "l3"
   ]
  },
  {
   "cell_type": "code",
   "execution_count": 3,
   "id": "c6c15509-65f2-4e48-86e0-234cda361378",
   "metadata": {},
   "outputs": [
    {
     "data": {
      "text/plain": [
       "[1.0,\n",
       " 1.2599210498948732,\n",
       " 1.4422495703074083,\n",
       " 1.5874010519681994,\n",
       " 1.7099759466766968,\n",
       " 1.8171205928321397,\n",
       " 1.912931182772389,\n",
       " 2.0,\n",
       " 2.080083823051904,\n",
       " 2.154434690031884]"
      ]
     },
     "execution_count": 3,
     "metadata": {},
     "output_type": "execute_result"
    }
   ],
   "source": [
    "list(map(lambda a : a** (1/3),l3))"
   ]
  },
  {
   "cell_type": "code",
   "execution_count": null,
   "id": "02b4bf41-9dff-497a-9430-c9bebef05cd0",
   "metadata": {},
   "outputs": [],
   "source": []
  },
  {
   "cell_type": "code",
   "execution_count": null,
   "id": "1ec571ab-1aee-410f-92b1-7c1e7a98ed8b",
   "metadata": {},
   "outputs": [],
   "source": []
  },
  {
   "cell_type": "markdown",
   "id": "f5f67000-e433-4933-9e62-a830ce6c5cc7",
   "metadata": {},
   "source": [
    "Check if a given number is even"
   ]
  },
  {
   "cell_type": "code",
   "execution_count": 6,
   "id": "cef197d4-6e3e-4e53-9d49-500e82fb4888",
   "metadata": {},
   "outputs": [],
   "source": [
    "l4 = [23,53,7,34,55,76,78,24,56,567,98,77,64,63,46]"
   ]
  },
  {
   "cell_type": "code",
   "execution_count": 7,
   "id": "344cab04-5006-4e59-8a9e-75387b4ff91c",
   "metadata": {},
   "outputs": [
    {
     "data": {
      "text/plain": [
       "[34, 76, 78, 24, 56, 98, 64, 46]"
      ]
     },
     "execution_count": 7,
     "metadata": {},
     "output_type": "execute_result"
    }
   ],
   "source": [
    "[i for i in l4 if i%2 == 0 ]"
   ]
  },
  {
   "cell_type": "code",
   "execution_count": null,
   "id": "1f1a910e-be0a-4a67-b3e4-a4be673fd8b1",
   "metadata": {},
   "outputs": [],
   "source": []
  },
  {
   "cell_type": "markdown",
   "id": "b9cf1046-9100-4760-89a0-e14dedc50b44",
   "metadata": {},
   "source": [
    "Filter odd numbers from the given list.\n",
    "\n",
    " [1,2,3,4,5,6,7,8,9,10]"
   ]
  },
  {
   "cell_type": "code",
   "execution_count": 9,
   "id": "02dd2151-47f4-4bb3-bbeb-7465e8daf4d9",
   "metadata": {},
   "outputs": [],
   "source": [
    "l = [1,2,3,4,5,6,7,8,9,10]"
   ]
  },
  {
   "cell_type": "code",
   "execution_count": 10,
   "id": "7dd9a6cc-701e-413e-9ab2-215e07bf47db",
   "metadata": {},
   "outputs": [
    {
     "data": {
      "text/plain": [
       "[1, 3, 5, 7, 9]"
      ]
     },
     "execution_count": 10,
     "metadata": {},
     "output_type": "execute_result"
    }
   ],
   "source": [
    "[i for i in l if i %2 != 0 ]"
   ]
  },
  {
   "cell_type": "code",
   "execution_count": null,
   "id": "e6c13fb2-bfdc-4dc5-a2bb-7f8cc836d047",
   "metadata": {},
   "outputs": [],
   "source": []
  },
  {
   "cell_type": "markdown",
   "id": "2f61227c-db21-43ef-99d5-100ac0b5dc7b",
   "metadata": {},
   "source": [
    " Sort a list of integers into positive and negative integers lists.\n",
    "\n",
    " [1,2,3,4,5,6,-1,-2,-3,-4,-5,0]"
   ]
  },
  {
   "cell_type": "code",
   "execution_count": 11,
   "id": "f42fa30b-40dc-4a2b-9075-c89d65d73bbc",
   "metadata": {},
   "outputs": [],
   "source": [
    "l5 = [1,2,3,4,5,6,-1,-2,-3,-4,-5,0]"
   ]
  },
  {
   "cell_type": "code",
   "execution_count": 14,
   "id": "d6a99bd7-ed85-49df-bbdf-defacbe871a1",
   "metadata": {},
   "outputs": [
    {
     "data": {
      "text/plain": [
       "[-1, -2, -3, -4, -5]"
      ]
     },
     "execution_count": 14,
     "metadata": {},
     "output_type": "execute_result"
    }
   ],
   "source": [
    "list(filter(lambda a : a<0 ,l5))"
   ]
  },
  {
   "cell_type": "code",
   "execution_count": 15,
   "id": "c0d59331-5688-44de-8f22-fa1dda598999",
   "metadata": {},
   "outputs": [
    {
     "data": {
      "text/plain": [
       "[1, 2, 3, 4, 5, 6]"
      ]
     },
     "execution_count": 15,
     "metadata": {},
     "output_type": "execute_result"
    }
   ],
   "source": [
    "list(filter(lambda a : a> 0 ,l5))"
   ]
  },
  {
   "cell_type": "code",
   "execution_count": null,
   "id": "44db64d1-5183-4071-9e30-75b95ecfd26d",
   "metadata": {},
   "outputs": [],
   "source": []
  }
 ],
 "metadata": {
  "kernelspec": {
   "display_name": "Python 3 (ipykernel)",
   "language": "python",
   "name": "python3"
  },
  "language_info": {
   "codemirror_mode": {
    "name": "ipython",
    "version": 3
   },
   "file_extension": ".py",
   "mimetype": "text/x-python",
   "name": "python",
   "nbconvert_exporter": "python",
   "pygments_lexer": "ipython3",
   "version": "3.10.8"
  }
 },
 "nbformat": 4,
 "nbformat_minor": 5
}
