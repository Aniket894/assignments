{
 "cells": [
  {
   "cell_type": "markdown",
   "id": "c7437770-0ba8-4ea1-ae3d-0841bb78253e",
   "metadata": {},
   "source": [
    "Q1: What is Estimation Statistics? Explain point estimate and interval estimate."
   ]
  },
  {
   "cell_type": "markdown",
   "id": "3a0f4971-aee0-46b9-a61f-27b9bf6bce1d",
   "metadata": {},
   "source": [
    "ans - Estimation statistics is a branch of statistics that involves the use of sample data to make inferences about a population. It involves using statistical techniques to estimate unknown population parameters based on sample data.\n",
    "\n",
    "Point estimate is a single value that is used to estimate a population parameter. It is based on the sample data and is calculated using a specific formula. For example, the sample mean is a point estimate of the population mean."
   ]
  },
  {
   "cell_type": "code",
   "execution_count": null,
   "id": "a98d3877-fc35-4126-bd47-268a148b26c4",
   "metadata": {},
   "outputs": [],
   "source": []
  },
  {
   "cell_type": "markdown",
   "id": "6e29130d-6743-4654-9883-4bca87760d58",
   "metadata": {},
   "source": [
    "Q2. Write a Python function to estimate the population mean using a sample mean and standard\n",
    "deviation."
   ]
  },
  {
   "cell_type": "code",
   "execution_count": 5,
   "id": "3c53de13-ecc5-4f15-b2a0-cbb1278761af",
   "metadata": {},
   "outputs": [],
   "source": [
    "import math\n",
    "\n",
    "def estimate_pop_mean(sample_mean, sample_std_dev, sample_size):\n",
    "   \n",
    "    standard_error = sample_std_dev / math.sqrt(sample_size)\n",
    "    margin_of_error = 1.96 * standard_error  # assuming 95% confidence interval\n",
    "    lower_bound = sample_mean - margin_of_error\n",
    "    upper_bound = sample_mean + margin_of_error\n",
    "    \n",
    "    return (lower_bound + upper_bound) / 2\n"
   ]
  },
  {
   "cell_type": "code",
   "execution_count": 7,
   "id": "ecf51584-d313-4c20-9d44-34a1f1acbff0",
   "metadata": {},
   "outputs": [
    {
     "name": "stdout",
     "output_type": "stream",
     "text": [
      "The estimated population mean height is 165.00 cm.\n"
     ]
    }
   ],
   "source": [
    "\n",
    "sample_mean = 165\n",
    "sample_std_dev = 7\n",
    "sample_size = 50\n",
    "\n",
    "estimated_pop_mean = estimate_pop_mean(sample_mean, sample_std_dev, sample_size)\n",
    "\n",
    "print(f\"The estimated population mean height is {estimated_pop_mean:.2f} cm.\")"
   ]
  },
  {
   "cell_type": "code",
   "execution_count": null,
   "id": "0a9d7fd9-09e5-40be-93a9-e65bd93e3295",
   "metadata": {},
   "outputs": [],
   "source": []
  },
  {
   "cell_type": "markdown",
   "id": "9ff95e71-28e9-439d-8f2b-64db7e8271bb",
   "metadata": {},
   "source": [
    "Q3: What is Hypothesis testing? Why is it used? State the importance of Hypothesis testing."
   ]
  },
  {
   "cell_type": "markdown",
   "id": "182ca442-b668-4603-aded-a3fd443fbd69",
   "metadata": {},
   "source": [
    "ans - Hypothesis testing is a statistical method that is used to make decisions or draw conclusions about a population based on sample data. It involves testing a null hypothesis and rejecting or failing to reject it based on the evidence provided by the sample data.\n",
    "\n",
    "The null hypothesis is a statement that assumes that there is no significant difference or relationship between two populations or variables. The alternative hypothesis, on the other hand, is a statement that assumes that there is a significant difference or relationship between two populations or variables.\n",
    "\n",
    "Hypothesis testing is used to make decisions about whether to reject or fail to reject the null hypothesis. If the sample data provides strong evidence against the null hypothesis, we reject it in favor of the alternative hypothesis. If the sample data does not provide enough evidence against the null hypothesis, we fail to reject it.\n",
    "\n",
    "The importance of hypothesis testing lies in its ability to provide a formal and objective way of making decisions based on data. It allows us to test our assumptions and make inferences about a population based on a sample. Hypothesis testing is used in various fields, such as business, medicine, engineering, and social sciences, to make decisions and draw conclusions.\n",
    "\n",
    "In summary, hypothesis testing is a critical tool for making decisions based on data, as it allows us to test our assumptions, draw conclusions about a population, and make inferences based on a sample. It helps us to make more informed decisions and to be more confident in our conclusions."
   ]
  },
  {
   "cell_type": "code",
   "execution_count": null,
   "id": "fdd599bd-cfcb-4fd0-86b3-e407aeb025ff",
   "metadata": {},
   "outputs": [],
   "source": []
  },
  {
   "cell_type": "markdown",
   "id": "9b5a046b-f7b6-4072-826f-03fe1696f4d1",
   "metadata": {},
   "source": [
    "Q4. Create a hypothesis that states whether the average weight of male college students is greater than\n",
    "the average weight of female college students."
   ]
  },
  {
   "cell_type": "markdown",
   "id": "bc422dd9-577c-4698-bfe7-c853bdb404a7",
   "metadata": {},
   "source": [
    "ans - Null hypothesis: The average weight of male college students is not greater than the average weight of female college students.\n",
    "\n",
    "Alternative hypothesis: The average weight of male college students is greater than the average weight of female college students.\n",
    "\n",
    "Symbolically, we can represent the null and alternative hypotheses as follows:\n",
    "\n",
    "H0: μmale ≤ μfemale\n",
    "\n",
    "Ha: μmale > μfemale\n",
    "\n",
    "where H0 represents the null hypothesis, Ha represents the alternative hypothesis, μmale represents the population mean weight of male college students, and μfemale represents the population mean weight of female college students.\n",
    "\n",
    "To test this hypothesis, we would need to collect a sample of weights from both male and female college students and calculate the sample means. We could then perform a hypothesis test using statistical methods to determine whether the evidence supports the alternative hypothesis or not. The choice of statistical test would depend on the nature of the data and the assumptions underlying the test."
   ]
  },
  {
   "cell_type": "code",
   "execution_count": null,
   "id": "1a311e37-3c09-45d9-ac8b-c28fffc516d4",
   "metadata": {},
   "outputs": [],
   "source": []
  },
  {
   "cell_type": "markdown",
   "id": "0e8e5e20-c118-4ca5-af95-4d1f5d594095",
   "metadata": {},
   "source": [
    "Q5. Write a Python script to conduct a hypothesis test on the difference between two population means,\n",
    "given a sample from each population."
   ]
  },
  {
   "cell_type": "code",
   "execution_count": 9,
   "id": "e6391f7d-d230-49f7-83c7-e5b29ecf7cff",
   "metadata": {},
   "outputs": [
    {
     "name": "stdout",
     "output_type": "stream",
     "text": [
      "t-statistic: 2.98\n",
      "degrees of freedom: 8\n",
      "p-value: 0.0176\n",
      "Reject null hypothesis.\n"
     ]
    }
   ],
   "source": [
    "import numpy as np\n",
    "from scipy.stats import t\n",
    "\n",
    "def hypothesis_test(sample1, sample2, alpha):\n",
    "  \n",
    "    n1 = len(sample1)\n",
    "    n2 = len(sample2)\n",
    "    dof = n1 + n2 - 2  # degrees of freedom\n",
    "    s1 = np.var(sample1, ddof=1)\n",
    "    s2 = np.var(sample2, ddof=1)\n",
    "    pooled_var = ((n1-1)*s1 + (n2-1)*s2) / dof\n",
    "    std_error = np.sqrt(pooled_var * (1/n1 + 1/n2))\n",
    "    t_stat = (np.mean(sample1) - np.mean(sample2)) / std_error\n",
    "    p_val = t.sf(abs(t_stat), dof) * 2\n",
    "    reject_null = p_val < alpha\n",
    "    \n",
    "    return t_stat, dof, p_val, reject_null\n",
    "\n",
    "# Example usage\n",
    "sample1 = np.array([11.5, 12.7, 10.9, 13.2, 12.1])\n",
    "sample2 = np.array([9.6, 11.3, 8.9, 10.4, 11.1])\n",
    "alpha = 0.05\n",
    "\n",
    "t_stat, dof, p_val, reject_null = hypothesis_test(sample1, sample2, alpha)\n",
    "\n",
    "print(f\"t-statistic: {t_stat:.2f}\")\n",
    "print(f\"degrees of freedom: {dof}\")\n",
    "print(f\"p-value: {p_val:.4f}\")\n",
    "if reject_null:\n",
    "    print(\"Reject null hypothesis.\")\n",
    "else:\n",
    "    print(\"Fail to reject null hypothesis.\")\n"
   ]
  },
  {
   "cell_type": "code",
   "execution_count": null,
   "id": "9d6e58f5-f4b4-4607-bb8f-a3f3d80c3a47",
   "metadata": {},
   "outputs": [],
   "source": []
  },
  {
   "cell_type": "markdown",
   "id": "a3c289ed-f7e3-48c4-a00d-3c437efb14a2",
   "metadata": {},
   "source": [
    "Q6: What is a null and alternative hypothesis? Give some examples"
   ]
  },
  {
   "cell_type": "markdown",
   "id": "dce8ee81-0fee-4d4d-843f-6b527afe7a33",
   "metadata": {},
   "source": [
    "ans - In statistical hypothesis testing, a null hypothesis (H0) is a statement or assumption that there is no significant difference between two or more variables, while an alternative hypothesis (Ha) is a statement or assumption that there is a significant difference between them.\n",
    "\n",
    "Here are some examples of null and alternative hypotheses:\n",
    "\n",
    "Null hypothesis: The average height of male and female students in a college is the same.\n",
    "Alternative hypothesis: The average height of male and female students in a college is different.\n",
    "\n",
    "Null hypothesis: The mean response time of a website is 4 seconds or less.\n",
    "Alternative hypothesis: The mean response time of a website is greater than 4 seconds.\n",
    "\n",
    "Null hypothesis: The proportion of people who prefer Coke over Pepsi is 50%.\n",
    "Alternative hypothesis: The proportion of people who prefer Coke over Pepsi is different from 50%.\n",
    "\n",
    "Null hypothesis: There is no relationship between the amount of time spent studying and the final exam score.\n",
    "Alternative hypothesis: There is a positive relationship between the amount of time spent studying and the final exam score.\n",
    "\n",
    "Null hypothesis: The new drug has no effect on reducing cholesterol levels in patients.\n",
    "Alternative hypothesis: The new drug reduces cholesterol levels in patients.\n",
    "\n",
    "In each of these examples, the null hypothesis assumes that there is no significant difference or relationship between the variables being compared, while the alternative hypothesis proposes that there is a significant difference or relationship. The choice of null and alternative hypotheses depends on the research question and the nature of the data being analyzed."
   ]
  },
  {
   "cell_type": "code",
   "execution_count": null,
   "id": "976f4cc4-327e-4da6-a808-f10fbf990b63",
   "metadata": {},
   "outputs": [],
   "source": []
  },
  {
   "cell_type": "markdown",
   "id": "6976d55a-3fda-4834-af99-c68bd2cf2447",
   "metadata": {},
   "source": [
    "Q7: Write down the steps involved in hypothesis testing."
   ]
  },
  {
   "cell_type": "markdown",
   "id": "f740320d-ed61-407c-8639-08ca528808e2",
   "metadata": {},
   "source": [
    "ans - Here are the general steps involved in hypothesis testing:\n",
    "\n",
    "Formulate the research question: Identify the research question or problem that you want to investigate. This will guide the selection of the null and alternative hypotheses.\n",
    "\n",
    "State the null and alternative hypotheses: Based on the research question, formulate the null and alternative hypotheses. The null hypothesis assumes that there is no significant difference or relationship between the variables being compared, while the alternative hypothesis proposes that there is a significant difference or relationship.\n",
    "\n",
    "Determine the level of significance: Select a level of significance, denoted by alpha (α), which represents the probability of rejecting the null hypothesis when it is actually true. The most commonly used level of significance is 0.05.\n",
    "\n",
    "Select the appropriate statistical test: Based on the research question, data type, sample size, and assumptions, select an appropriate statistical test. Common statistical tests include t-tests, ANOVA, chi-square tests, and regression analysis.\n",
    "\n",
    "Collect the data: Collect data from the sample or population of interest. Ensure that the data are representative and unbiased.\n",
    "\n",
    "Calculate the test statistic: Calculate the test statistic based on the data and the selected statistical test. The test statistic measures the difference between the observed data and what would be expected under the null hypothesis.\n",
    "\n",
    "Determine the p-value: Determine the p-value, which is the probability of obtaining a test statistic as extreme or more extreme than the observed test statistic, assuming that the null hypothesis is true.\n",
    "\n",
    "Make a decision: Compare the p-value to the level of significance. If the p-value is less than the level of significance, reject the null hypothesis and accept the alternative hypothesis. If the p-value is greater than the level of significance, fail to reject the null hypothesis.\n",
    "\n",
    "Interpret the results: Interpret the results in the context of the research question and draw conclusions based on the findings.\n",
    "\n",
    "Communicate the results: Communicate the results of the hypothesis test in a clear and concise manner, including the test statistic, p-value, and conclusions."
   ]
  },
  {
   "cell_type": "code",
   "execution_count": null,
   "id": "ff73deec-b5b6-4cad-99e9-7fb62d2d3dbc",
   "metadata": {},
   "outputs": [],
   "source": []
  },
  {
   "cell_type": "markdown",
   "id": "944c2615-3cee-4692-9df9-f6e03a6fdfa2",
   "metadata": {},
   "source": [
    "Q8. Define p-value and explain its significance in hypothesis testing."
   ]
  },
  {
   "cell_type": "markdown",
   "id": "bc34f627-c69a-458f-a557-5c659944375e",
   "metadata": {},
   "source": [
    "ans - In hypothesis testing, the p-value is the probability of obtaining a test statistic as extreme or more extreme than the observed test statistic, assuming that the null hypothesis is true. It measures the strength of evidence against the null hypothesis and provides a basis for making a decision about whether to reject or fail to reject the null hypothesis.\n",
    "\n",
    "The p-value is a critical component of hypothesis testing because it provides a way to quantify the level of evidence against the null hypothesis. If the p-value is small (e.g., less than the chosen level of significance), it suggests that the observed data are unlikely to have occurred by chance alone, and therefore provides evidence against the null hypothesis. Conversely, if the p-value is large, it suggests that the observed data are consistent with the null hypothesis, and therefore does not provide sufficient evidence to reject the null hypothesis.\n",
    "\n",
    "The significance level (alpha) of a hypothesis test is the threshold at which we reject the null hypothesis. The p-value is compared to this significance level to determine whether the null hypothesis should be rejected or not. If the p-value is less than or equal to the significance level, we reject the null hypothesis. If the p-value is greater than the significance level, we fail to reject the null hypothesis.\n",
    "\n",
    "It is important to note that the p-value is not the probability that the null hypothesis is true or false. It is simply a measure of the strength of evidence against the null hypothesis based on the observed data. Therefore, the interpretation of the p-value must be done in the context of the research question and the specific hypothesis being tested.\n"
   ]
  },
  {
   "cell_type": "code",
   "execution_count": null,
   "id": "907e5feb-fdc5-4db0-9987-f4fb266c43d7",
   "metadata": {},
   "outputs": [],
   "source": []
  },
  {
   "cell_type": "markdown",
   "id": "0d87aa38-126c-48de-8d64-577f3619654f",
   "metadata": {},
   "source": [
    "Q9. Generate a Student's t-distribution plot using Python's matplotlib library, with the degrees of freedom\n",
    "parameter set to 10."
   ]
  },
  {
   "cell_type": "code",
   "execution_count": 11,
   "id": "338e7905-f073-4cfc-a093-3d85ed5600a9",
   "metadata": {},
   "outputs": [
    {
     "data": {
      "image/png": "[encoded data removed]",
      "text/plain": [
       "<Figure size 640x480 with 1 Axes>"
      ]
     },
     "metadata": {},
     "output_type": "display_data"
    }
   ],
   "source": [
    "import numpy as np\n",
    "import matplotlib.pyplot as plt\n",
    "import scipy \n",
    "# Set the degrees of freedom\n",
    "df = 10\n",
    "\n",
    "# Generate data for the x-axis\n",
    "x = np.linspace(-4, 4, 1000)\n",
    "\n",
    "# Calculate the probability density function (pdf) of the t-distribution\n",
    "pdf = np.exp(np.log(np.abs(np.sqrt(df) * np.exp(np.log(np.pi)) * np.exp(scipy.special.gammaln((df + 1) / 2))) / np.sqrt(df) / np.exp(np.log(2)) * (1 + x**2 / df)**(-(df + 1) / 2))) / np.sqrt(df)\n",
    "\n",
    "# Create a figure and axis object\n",
    "fig, ax = plt.subplots()\n",
    "\n",
    "# Plot the t-distribution pdf\n",
    "ax.plot(x, pdf)\n",
    "\n",
    "# Set the title and labels\n",
    "ax.set_title(f'Student\\'s t-Distribution (df={df})')\n",
    "ax.set_xlabel('t-value')\n",
    "ax.set_ylabel('Probability Density')\n",
    "\n",
    "# Show the plot\n",
    "plt.show()\n"
   ]
  },
  {
   "cell_type": "code",
   "execution_count": null,
   "id": "e6f7dfec-d2d3-43ac-be14-1aaf8bbeed41",
   "metadata": {},
   "outputs": [],
   "source": []
  },
  {
   "cell_type": "markdown",
   "id": "edf03f72-d0e4-4bc9-9552-e9516a5e75ad",
   "metadata": {},
   "source": [
    "Q10. Write a Python program to calculate the two-sample t-test for independent samples, given two\n",
    "random samples of equal size and a null hypothesis that the population means are equal."
   ]
  },
  {
   "cell_type": "code",
   "execution_count": 12,
   "id": "b140dfa1-4a59-485e-a6fb-5f98e7195198",
   "metadata": {},
   "outputs": [
    {
     "name": "stdout",
     "output_type": "stream",
     "text": [
      "Null hypothesis: Population means are equal\n",
      "Sample 1: [2, 4, 6, 8, 10]\n",
      "Sample 2: [1, 3, 5, 7, 9]\n",
      "t-statistic: 0.5\n",
      "p-value: 0.6305360755569764\n"
     ]
    }
   ],
   "source": [
    "import scipy.stats as stats\n",
    "\n",
    "# Define the two samples\n",
    "sample1 = [2, 4, 6, 8, 10]\n",
    "sample2 = [1, 3, 5, 7, 9]\n",
    "\n",
    "# Define the null hypothesis (population means are equal)\n",
    "null_hypothesis = 'Population means are equal'\n",
    "\n",
    "# Calculate the t-statistic and p-value using the t-test function\n",
    "t_statistic, p_value = stats.ttest_ind(sample1, sample2)\n",
    "\n",
    "# Print the results\n",
    "print('Null hypothesis:', null_hypothesis)\n",
    "print('Sample 1:', sample1)\n",
    "print('Sample 2:', sample2)\n",
    "print('t-statistic:', t_statistic)\n",
    "print('p-value:', p_value)\n"
   ]
  },
  {
   "cell_type": "code",
   "execution_count": null,
   "id": "a68ae2f1-e641-47ba-b3d8-9e5a8e8e59cf",
   "metadata": {},
   "outputs": [],
   "source": []
  },
  {
   "cell_type": "markdown",
   "id": "38857711-b7ed-4bbf-beba-dd30e1fc87f6",
   "metadata": {},
   "source": [
    "Q11: What is Student’s t distribution? When to use the t-Distribution"
   ]
  },
  {
   "cell_type": "markdown",
   "id": "47d70f04-3ab2-4c64-a744-0adb94783bde",
   "metadata": {},
   "source": [
    "ans - Student's t-distribution is a probability distribution that is used to estimate the population mean of a normally distributed variable when the sample size is small (less than 30) and/or the population variance is unknown. It is similar to the standard normal distribution but has heavier tails, which makes it more appropriate for small sample sizes.\n",
    "\n",
    "The t-distribution is parameterized by the degrees of freedom (df), which determine the shape of the distribution. As the degrees of freedom increase, the t-distribution approaches the standard normal distribution.\n",
    "\n",
    "The t-distribution is used in hypothesis testing to calculate the t-statistic, which measures the difference between the sample mean and the hypothesized population mean in units of the standard error. The t-statistic is then compared to a critical value from the t-distribution with the appropriate degrees of freedom to determine whether to reject or fail to reject the null hypothesis.\n",
    "\n",
    "In summary, the t-distribution is used when the sample size is small and/or the population variance is unknown, and when estimating the population mean and conducting hypothesis tests for normally distributed variables."
   ]
  },
  {
   "cell_type": "code",
   "execution_count": null,
   "id": "7e999d42-a4d8-4f8a-8461-b4f8559708ad",
   "metadata": {},
   "outputs": [],
   "source": []
  },
  {
   "cell_type": "markdown",
   "id": "f7e7f041-ead7-484a-a4d5-fb5683a06abc",
   "metadata": {},
   "source": [
    "Q12: What is t-statistic? State the formula for t-statistic."
   ]
  },
  {
   "cell_type": "markdown",
   "id": "c53e5052-af7b-423e-b3a3-d6504692a951",
   "metadata": {},
   "source": [
    "ans - The t-statistic is a measure of the difference between a sample mean and a hypothesized population mean in units of the standard error. It is used in hypothesis testing to determine whether to reject or fail to reject the null hypothesis.\n",
    "\n",
    "The formula for the t-statistic is:\n",
    "\n",
    "t = (x̄ - μ) / (s / √n)\n",
    "\n",
    "Where:\n",
    "\n",
    "x̄ is the sample mean\n",
    "μ is the hypothesized population mean\n",
    "s is the sample standard deviation\n",
    "n is the sample size\n",
    "The t-statistic measures how many standard errors the sample mean is away from the hypothesized population mean. If the t-statistic is large (i.e., farther away from zero), it indicates that the sample mean is unlikely to have occurred by chance, and the null hypothesis can be rejected in favor of the alternative hypothesis. If the t-statistic is small (i.e., closer to zero), it indicates that the sample mean is likely to have occurred by chance, and the null hypothesis cannot be rejected.\n",
    "\n",
    "The t-statistic follows a t-distribution with n-1 degrees of freedom, where n is the sample size. The critical value of the t-distribution is used to determine the p-value of the t-statistic, which in turn is used to make a decision about whether to reject or fail to reject the null hypothesis."
   ]
  },
  {
   "cell_type": "code",
   "execution_count": null,
   "id": "ce1a5500-7115-4f89-bf0d-e2b8e4cf04cc",
   "metadata": {},
   "outputs": [],
   "source": []
  },
  {
   "cell_type": "markdown",
   "id": "d79e0342-07b4-4828-adda-8069325f2fe7",
   "metadata": {},
   "source": [
    "Q13. A coffee shop owner wants to estimate the average daily revenue for their shop. They take a random\n",
    "sample of 50 days and find the sample mean revenue to be $500 with a standard deviation of $50.\n",
    "Estimate the population mean revenue with a 95% confidence interval."
   ]
  },
  {
   "cell_type": "markdown",
   "id": "2dea5ae3-8310-4a4e-8df3-41d834eae897",
   "metadata": {},
   "source": [
    "ans - To estimate the population mean revenue with a 95% confidence interval, we can use the t-distribution with n-1 degrees of freedom, where n is the sample size.\n",
    "\n",
    "The formula for the confidence interval for a population mean with unknown population variance is:\n",
    "\n",
    "CI = x̄ ± t*(s/√n)\n",
    "\n",
    "Where:\n",
    "\n",
    "x̄ is the sample mean revenue\n",
    "t is the critical value of the t-distribution with n-1 degrees of freedom and a 95% confidence level (from a t-table or using a t-distribution calculator)\n",
    "s is the sample standard deviation of revenue\n",
    "n is the sample size\n",
    "Substituting the given values, we have:\n",
    "\n",
    "CI = $500 ± t*(50/√50)\n",
    "\n",
    "The critical value of the t-distribution with 49 degrees of freedom and a 95% confidence level is approximately 2.009 (from a t-table or using a t-distribution calculator). Substituting this value, we have:\n",
    "\n",
    "CI = $500 ± 2.009*(50/√50)\n",
    "CI = $500 ± $14.14\n",
    "\n",
    "Therefore, the 95% confidence interval for the population mean revenue is $485.86 to $514.14. This means that we are 95% confident that the true population mean revenue is between $485.86 and $514.14 based on the sample of 50 days."
   ]
  },
  {
   "cell_type": "code",
   "execution_count": null,
   "id": "307662ea-0184-45a1-882d-7e939632e5f8",
   "metadata": {},
   "outputs": [],
   "source": []
  },
  {
   "cell_type": "markdown",
   "id": "7272ea9f-bb2e-46c9-be04-c5f2edfde6e1",
   "metadata": {},
   "source": [
    "Q14. A researcher hypothesizes that a new drug will decrease blood pressure by 10 mmHg. They conduct a\n",
    "clinical trial with 100 patients and find that the sample mean decrease in blood pressure is 8 mmHg with a\n",
    "standard deviation of 3 mmHg. Test the hypothesis with a significance level of 0.05."
   ]
  },
  {
   "cell_type": "markdown",
   "id": "8a736d16-70f0-4cc3-b0bc-fa2432f826b3",
   "metadata": {},
   "source": [
    "To test the hypothesis that the new drug decreases blood pressure by 10 mmHg, we can conduct a one-sample t-test with a null hypothesis of:\n",
    "\n",
    "H0: μ = 10 (The new drug has no effect on blood pressure)\n",
    "HA: μ < 10 (The new drug decreases blood pressure)\n",
    "\n",
    "We can use the t-distribution with 99 degrees of freedom, where n = 100 - the sample size.\n",
    "\n",
    "The formula for the t-statistic is:\n",
    "\n",
    "t = (x̄ - μ) / (s / √n)\n",
    "\n",
    "Where:\n",
    "\n",
    "x̄ is the sample mean decrease in blood pressure\n",
    "μ is the hypothesized population mean decrease in blood pressure under the null hypothesis\n",
    "s is the sample standard deviation of decrease in blood pressure\n",
    "n is the sample size\n",
    "Substituting the given values, we have:\n",
    "\n",
    "t = (8 - 10) / (3 / √100)\n",
    "t = -2 / 0.3\n",
    "t = -6.67\n",
    "\n"
   ]
  },
  {
   "cell_type": "code",
   "execution_count": null,
   "id": "437f2d17-95e9-4b61-a22a-27c3ae3d014e",
   "metadata": {},
   "outputs": [],
   "source": []
  },
  {
   "cell_type": "markdown",
   "id": "0851a092-ca7c-4001-9540-9f19e3de6e2e",
   "metadata": {},
   "source": [
    "Q15. An electronics company produces a certain type of product with a mean weight of 5 pounds and a\n",
    "standard deviation of 0.5 pounds. A random sample of 25 products is taken, and the sample mean weight\n",
    "is found to be 4.8 pounds. Test the hypothesis that the true mean weight of the products is less than 5\n",
    "pounds with a significance level of 0.01."
   ]
  },
  {
   "cell_type": "markdown",
   "id": "b05162ad-21fd-4578-a01a-89403743a3a4",
   "metadata": {},
   "source": [
    "ans - \n",
    "To test the hypothesis that the true mean weight of the products is less than 5 pounds, we can conduct a one-sample t-test with a null hypothesis of:\n",
    "\n",
    "H0: μ ≥ 5 (The true mean weight of the products is greater than or equal to 5 pounds)\n",
    "HA: μ < 5 (The true mean weight of the products is less than 5 pounds)\n",
    "\n",
    "We can use the t-distribution with 24 degrees of freedom, where n = 25 - the sample size.\n",
    "\n",
    "The formula for the t-statistic is:\n",
    "\n",
    "t = (x̄ - μ) / (s / √n)\n",
    "\n",
    "Where:\n",
    "\n",
    "x̄ is the sample mean weight of the products\n",
    "μ is the hypothesized population mean weight of the products under the null hypothesis\n",
    "s is the sample standard deviation of the weight of the products\n",
    "n is the sample size\n",
    "Substituting the given values, we have:\n",
    "\n",
    "t = (4.8 - 5) / (0.5 / √25)\n",
    "t = -0.2 / 0.1\n",
    "t = -2\n",
    "\n",
    "The calculated t-statistic of -2 is the number of standard errors the sample mean is away from the hypothesized population mean under the null hypothesis.\n",
    "\n",
    "Using a t-distribution calculator with 24 degrees of freedom, we find that the p-value associated with a t-statistic of -2 is less than 0.01. Since the p-value is less than the significance level of 0.01, we reject the null hypothesis and conclude that there is sufficient evidence to suggest that the true mean weight of the products is less than 5 pounds.\n"
   ]
  },
  {
   "cell_type": "code",
   "execution_count": null,
   "id": "6cd35edc-da17-4eae-95f9-25b6d0bbc66e",
   "metadata": {},
   "outputs": [],
   "source": []
  },
  {
   "cell_type": "markdown",
   "id": "82642d12-48d7-490c-bd8c-ed4cb0ec64c6",
   "metadata": {},
   "source": [
    "Q16. Two groups of students are given different study materials to prepare for a test. The first group (n1 =\n",
    "30) has a mean score of 80 with a standard deviation of 10, and the second group (n2 = 40) has a mean\n",
    "score of 75 with a standard deviation of 8. Test the hypothesis that the population means for the two\n",
    "groups are equal with a significance level of 0.01."
   ]
  },
  {
   "cell_type": "markdown",
   "id": "de11a6b6-654f-476c-842f-c869c08401ab",
   "metadata": {},
   "source": [
    "ans - To test the hypothesis that the population means for the two groups are equal, we can conduct a two-sample t-test with a null hypothesis of:\n",
    "\n",
    "H0: μ1 = μ2 (The population means for the two groups are equal)\n",
    "HA: μ1 ≠ μ2 (The population means for the two groups are not equal)\n",
    "\n",
    "We can use the t-distribution to test this hypothesis, with the degrees of freedom given by:\n",
    "\n",
    "df = (s1^2/n1 + s2^2/n2)^2 / [((s1^2/n1)^2 / (n1 - 1)) + ((s2^2/n2)^2 / (n2 - 1))]\n",
    "\n",
    "where s1 and s2 are the sample standard deviations of the two groups, n1 and n2 are the sample sizes, and ^2 denotes squaring.\n",
    "\n",
    "Substituting the given values, we have:\n",
    "\n",
    "df = (10^2/30 + 8^2/40)^2 / [((10^2/30)^2 / (30 - 1)) + ((8^2/40)^2 / (40 - 1))]\n",
    "df ≈ 67.79\n",
    "\n",
    "Using a t-distribution calculator with 67 degrees of freedom, and a significance level of 0.01 (corresponding to a two-tailed test), we find the critical t-value to be approximately ±2.646.\n",
    "\n",
    "The formula for the t-statistic is:\n",
    "\n",
    "t = (x̄1 - x̄2) / √(s1^2/n1 + s2^2/n2)\n",
    "\n",
    "Where:\n",
    "\n",
    "x̄1 and x̄2 are the sample means of the two groups\n",
    "s1 and s2 are the sample standard deviations of the two groups\n",
    "n1 and n2 are the sample sizes\n",
    "Substituting the given values, we have:\n",
    "\n",
    "t = (80 - 75) / √(10^2/30 + 8^2/40)\n",
    "t ≈ 1.39\n",
    "\n",
    "Since the calculated t-statistic of 1.39 is less than the critical t-value of ±2.646, we fail to reject the null hypothesis and conclude that there is not enough evidence to suggest that the population means for the two groups are different at a significance level of 0.01.\n",
    "\n",
    "\n",
    "\n",
    "\n"
   ]
  },
  {
   "cell_type": "code",
   "execution_count": null,
   "id": "fa14fbb3-14c3-41c2-9384-33936ff82908",
   "metadata": {},
   "outputs": [],
   "source": []
  },
  {
   "cell_type": "markdown",
   "id": "e6356f27-3052-4c71-8918-af465889bb7e",
   "metadata": {},
   "source": [
    "Q17. A marketing company wants to estimate the average number of ads watched by viewers during a TV\n",
    "program. They take a random sample of 50 viewers and find that the sample mean is 4 with a standard\n",
    "deviation of 1.5. Estimate the population mean with a 99% confidence interval."
   ]
  },
  {
   "cell_type": "markdown",
   "id": "e05d0e97-cbbe-45f2-8c7f-88fa571bee3c",
   "metadata": {},
   "source": [
    "ans - To estimate the population mean with a 99% confidence interval, we can use the following formula:\n",
    "\n",
    "Confidence interval = sample mean ± margin of error\n",
    "\n",
    "where the margin of error is given by:\n",
    "\n",
    "Margin of error = critical value * (standard deviation / sqrt(sample size))\n",
    "\n",
    "The critical value can be found using the t-distribution table or a t-distribution calculator. For a 99% confidence level with 49 degrees of freedom (n-1), the critical value is 2.680.\n",
    "\n",
    "Substituting the given values into the formula, we get:\n",
    "\n",
    "Margin of error = 2.680 * (1.5 / sqrt(50)) = 0.611\n",
    "\n",
    "Confidence interval = 4 ± 0.611 = (3.389, 4.611)\n",
    "\n",
    "Therefore, we can say with 99% confidence that the population mean number of ads watched by viewers during a TV program falls between 3.389 and 4.611."
   ]
  }
 ],
 "metadata": {
  "kernelspec": {
   "display_name": "Python 3 (ipykernel)",
   "language": "python",
   "name": "python3"
  },
  "language_info": {
   "codemirror_mode": {
    "name": "ipython",
    "version": 3
   },
   "file_extension": ".py",
   "mimetype": "text/x-python",
   "name": "python",
   "nbconvert_exporter": "python",
   "pygments_lexer": "ipython3",
   "version": "3.10.8"
  }
 },
 "nbformat": 4,
 "nbformat_minor": 5
}
