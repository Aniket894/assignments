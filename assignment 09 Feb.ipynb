{
 "cells": [
  {
   "cell_type": "markdown",
   "id": "1b9e3387-bb6a-4b25-8d05-74397cbe1d6d",
   "metadata": {},
   "source": [
    "Q1, Create a vehicle class with an init method having instance variables as name_of_vehicle, max_speed\n",
    "and average_of_vehicle."
   ]
  },
  {
   "cell_type": "code",
   "execution_count": 1,
   "id": "fa222fb9-2d8e-446f-8794-0ddc77dfd6c2",
   "metadata": {},
   "outputs": [],
   "source": [
    "class Vehicle:\n",
    "    def __init__(self, name_of_vehicle, max_speed, average_of_vehicle):\n",
    "        self.name_of_vehicle = name_of_vehicle\n",
    "        self.max_speed = max_speed\n",
    "        self.average_of_vehicle = average_of_vehicle\n"
   ]
  },
  {
   "cell_type": "code",
   "execution_count": 2,
   "id": "8a43da45-0fc7-4b97-953c-bdf4b9feafd3",
   "metadata": {},
   "outputs": [],
   "source": [
    "car = Vehicle(\"Car\", 200, 50)\n"
   ]
  },
  {
   "cell_type": "code",
   "execution_count": 3,
   "id": "c002d8cf-a87b-469c-8c5f-7d81a46920e9",
   "metadata": {},
   "outputs": [
    {
     "data": {
      "text/plain": [
       "50"
      ]
     },
     "execution_count": 3,
     "metadata": {},
     "output_type": "execute_result"
    }
   ],
   "source": [
    "car.average_of_vehicle"
   ]
  },
  {
   "cell_type": "code",
   "execution_count": 4,
   "id": "cbd17a05-6003-44c0-9847-088302b3a339",
   "metadata": {},
   "outputs": [
    {
     "data": {
      "text/plain": [
       "200"
      ]
     },
     "execution_count": 4,
     "metadata": {},
     "output_type": "execute_result"
    }
   ],
   "source": [
    "car.max_speed"
   ]
  },
  {
   "cell_type": "code",
   "execution_count": 5,
   "id": "e226b346-b5ed-474a-91ef-989c5673107f",
   "metadata": {},
   "outputs": [
    {
     "data": {
      "text/plain": [
       "'Car'"
      ]
     },
     "execution_count": 5,
     "metadata": {},
     "output_type": "execute_result"
    }
   ],
   "source": [
    "car.name_of_vehicle"
   ]
  },
  {
   "cell_type": "code",
   "execution_count": null,
   "id": "a9c82e17-4db3-4677-b299-778d89b32519",
   "metadata": {},
   "outputs": [],
   "source": []
  },
  {
   "cell_type": "markdown",
   "id": "a7841d48-8a49-480e-a42b-e13685becc0f",
   "metadata": {},
   "source": [
    "Q2. Create a child class car from the vehicle class created in Que 1, which will inherit the vehicle class.\n",
    "Create a method named seating_capacity which takes capacity as an argument and returns the name of\n",
    "the vehicle and its seating capacity."
   ]
  },
  {
   "cell_type": "code",
   "execution_count": 6,
   "id": "8ee5a41d-11fb-41c7-a9f2-6d1444875efb",
   "metadata": {},
   "outputs": [],
   "source": [
    "class Car(Vehicle):\n",
    "    def __init__(self, name_of_vehicle, max_speed, average_of_vehicle):\n",
    "        super().__init__(name_of_vehicle, max_speed, average_of_vehicle)\n",
    "        \n",
    "    def seating_capacity(self, capacity):\n",
    "        return f\"The {self.name_of_vehicle} has a seating capacity of {capacity} passengers.\"\n"
   ]
  },
  {
   "cell_type": "code",
   "execution_count": 8,
   "id": "c4bea987-7b8f-4f03-a013-0c91b24023cf",
   "metadata": {},
   "outputs": [],
   "source": [
    "car = Car(\"Toyota Camry\", 180, 4)\n"
   ]
  },
  {
   "cell_type": "code",
   "execution_count": 9,
   "id": "b2e3d564-5728-4295-ae96-285532d563ff",
   "metadata": {},
   "outputs": [
    {
     "name": "stdout",
     "output_type": "stream",
     "text": [
      "The Toyota Camry has a seating capacity of 5 passengers.\n"
     ]
    }
   ],
   "source": [
    "print(car.seating_capacity(5))\n"
   ]
  },
  {
   "cell_type": "code",
   "execution_count": null,
   "id": "b5c3fe0f-2a9a-4195-aa73-c3a95413edcf",
   "metadata": {},
   "outputs": [],
   "source": []
  },
  {
   "cell_type": "markdown",
   "id": "c824c3cb-a323-41cb-88b5-ecdc5a3ea845",
   "metadata": {},
   "source": [
    "Q3. What is multiple inheritance? Write a python code to demonstrate multiple inheritance."
   ]
  },
  {
   "cell_type": "markdown",
   "id": "2b0b7528-388b-4127-a2c7-4504ad782ad2",
   "metadata": {},
   "source": [
    "ans - Multiple inheritance is a feature in object-oriented programming where a class can inherit attributes and methods from more than one parent class. This allows a child class to inherit and combine features from multiple parent classes."
   ]
  },
  {
   "cell_type": "code",
   "execution_count": 10,
   "id": "072e2b3b-dc77-430b-a17c-33fdfa94f1b0",
   "metadata": {},
   "outputs": [
    {
     "name": "stdout",
     "output_type": "stream",
     "text": [
      "Mammal: I can speak!\n"
     ]
    }
   ],
   "source": [
    "class Animal:\n",
    "    def __init__(self, name):\n",
    "        self.name = name\n",
    "\n",
    "    def speak(self):\n",
    "        pass\n",
    "\n",
    "\n",
    "class Mammal(Animal):\n",
    "    def __init__(self, name):\n",
    "        super().__init__(name)\n",
    "\n",
    "    def speak(self):\n",
    "        return \"Mammal: I can speak!\"\n",
    "\n",
    "\n",
    "class Flyer(Animal):\n",
    "    def __init__(self, name):\n",
    "        super().__init__(name)\n",
    "\n",
    "    def speak(self):\n",
    "        return \"Flyer: I can speak!\"\n",
    "\n",
    "\n",
    "class Bat(Mammal, Flyer):\n",
    "    def __init__(self, name):\n",
    "        super().__init__(name)\n",
    "\n",
    "\n",
    "bat = Bat(\"Batty\")\n",
    "print(bat.speak())\n"
   ]
  },
  {
   "cell_type": "code",
   "execution_count": null,
   "id": "924cc407-380c-4e32-a803-c79934b2dad4",
   "metadata": {},
   "outputs": [],
   "source": []
  },
  {
   "cell_type": "markdown",
   "id": "56663bba-2c57-4160-b9a1-7e848ed86327",
   "metadata": {},
   "source": [
    "Q4. What are getter and setter in python? Create a class and create a getter and a setter method in this\n",
    "class."
   ]
  },
  {
   "cell_type": "markdown",
   "id": "6c939a0d-700d-40d1-9b4f-e17f92042a91",
   "metadata": {},
   "source": [
    "ans - In Python, getters and setters are methods used to access and modify the values of class attributes. They provide a way to encapsulate attribute access and allow for controlled access to class variables."
   ]
  },
  {
   "cell_type": "code",
   "execution_count": 14,
   "id": "fa872e8c-b7c0-4648-b70f-1b819804de45",
   "metadata": {},
   "outputs": [
    {
     "name": "stdout",
     "output_type": "stream",
     "text": [
      "John\n",
      "Jane\n"
     ]
    }
   ],
   "source": [
    "class Person:\n",
    "    def __init__(self, name):\n",
    "        self._name = name  # Private attribute with underscore convention\n",
    "\n",
    "    def get_name(self):\n",
    "        return self._name\n",
    "\n",
    "    def set_name(self, new_name):\n",
    "        self._name = new_name\n",
    "\n",
    "# Creating an instance of the Person class\n",
    "person = Person(\"John\")\n",
    "\n",
    "# Accessing the name attribute using the getter\n",
    "print(person.get_name())  # Output: John\n",
    "\n",
    "# Modifying the name attribute using the setter\n",
    "person.set_name(\"Jane\")\n",
    "print(person.get_name())  # Output: Jane\n"
   ]
  },
  {
   "cell_type": "code",
   "execution_count": null,
   "id": "a967bc85-599d-47ea-90da-58b9d1ca166f",
   "metadata": {},
   "outputs": [],
   "source": []
  },
  {
   "cell_type": "markdown",
   "id": "14108fa8-5ef2-4771-9811-d5c18a8151ef",
   "metadata": {},
   "source": [
    "Q5.What is method overriding in python? Write a python code to demonstrate method overriding."
   ]
  },
  {
   "cell_type": "markdown",
   "id": "5f2c08ce-0148-4420-9a55-9f77f810d93e",
   "metadata": {},
   "source": [
    "ans - Method overriding is a feature in object-oriented programming where a child class provides its own implementation of a method that is already defined in its parent class. It allows a child class to modify or extend the behavior of a method inherited from the parent class"
   ]
  },
  {
   "cell_type": "code",
   "execution_count": 15,
   "id": "186b0205-9827-4ff5-9155-02e27a99f007",
   "metadata": {},
   "outputs": [
    {
     "name": "stdout",
     "output_type": "stream",
     "text": [
      "Dog: Woof!\n",
      "Cat: Meow!\n"
     ]
    }
   ],
   "source": [
    "class Animal:\n",
    "    def speak(self):\n",
    "        return \"Animal: I can speak!\"\n",
    "\n",
    "\n",
    "class Dog(Animal):\n",
    "    def speak(self):\n",
    "        return \"Dog: Woof!\"\n",
    "\n",
    "\n",
    "class Cat(Animal):\n",
    "    def speak(self):\n",
    "        return \"Cat: Meow!\"\n",
    "\n",
    "\n",
    "# Creating instances of the Dog and Cat classes\n",
    "dog = Dog()\n",
    "cat = Cat()\n",
    "\n",
    "# Invoking the speak method on instances\n",
    "print(dog.speak())  # Output: Dog: Woof!\n",
    "print(cat.speak())  # Output: Cat: Meow!\n"
   ]
  },
  {
   "cell_type": "code",
   "execution_count": null,
   "id": "dda66916-8c99-4f17-8f6b-6a1f018a4a0a",
   "metadata": {},
   "outputs": [],
   "source": []
  }
 ],
 "metadata": {
  "kernelspec": {
   "display_name": "Python 3 (ipykernel)",
   "language": "python",
   "name": "python3"
  },
  "language_info": {
   "codemirror_mode": {
    "name": "ipython",
    "version": 3
   },
   "file_extension": ".py",
   "mimetype": "text/x-python",
   "name": "python",
   "nbconvert_exporter": "python",
   "pygments_lexer": "ipython3",
   "version": "3.10.8"
  }
 },
 "nbformat": 4,
 "nbformat_minor": 5
}
