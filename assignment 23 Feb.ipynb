{
 "cells": [
  {
   "cell_type": "markdown",
   "id": "a2fcd8d4-c781-4b63-8764-57c8717b8e23",
   "metadata": {},
   "source": [
    "Q1. Create a Pandas Series that contains the following data: 4, 8, 15, 16, 23, and 42. Then, print the series."
   ]
  },
  {
   "cell_type": "code",
   "execution_count": 4,
   "id": "3b897dd2-11fe-43d8-b70b-121460c1dcde",
   "metadata": {},
   "outputs": [
    {
     "name": "stdout",
     "output_type": "stream",
     "text": [
      "Requirement already satisfied: pandas in /opt/conda/lib/python3.10/site-packages (1.5.2)\n",
      "Requirement already satisfied: python-dateutil>=2.8.1 in /opt/conda/lib/python3.10/site-packages (from pandas) (2.8.2)\n",
      "Requirement already satisfied: pytz>=2020.1 in /opt/conda/lib/python3.10/site-packages (from pandas) (2022.6)\n",
      "Requirement already satisfied: numpy>=1.21.0 in /opt/conda/lib/python3.10/site-packages (from pandas) (1.23.5)\n",
      "Requirement already satisfied: six>=1.5 in /opt/conda/lib/python3.10/site-packages (from python-dateutil>=2.8.1->pandas) (1.16.0)\n",
      "Note: you may need to restart the kernel to use updated packages.\n"
     ]
    }
   ],
   "source": [
    "pip install pandas"
   ]
  },
  {
   "cell_type": "code",
   "execution_count": 10,
   "id": "42ea8fbe-f363-4ca0-bf96-8ad09f061387",
   "metadata": {},
   "outputs": [],
   "source": [
    "import pandas as pd\n"
   ]
  },
  {
   "cell_type": "code",
   "execution_count": 11,
   "id": "99ef1c17-8408-4efe-8ab4-e6fb9212f864",
   "metadata": {},
   "outputs": [],
   "source": [
    "data = [ 4, 8, 15, 16, 23, 42]"
   ]
  },
  {
   "cell_type": "code",
   "execution_count": 12,
   "id": "c2b3d8fa-5227-4b65-9ea3-7c871f83edf2",
   "metadata": {},
   "outputs": [],
   "source": [
    "ser = pd.Series( data)\n"
   ]
  },
  {
   "cell_type": "code",
   "execution_count": 13,
   "id": "8148c205-e955-4888-bda5-957d2267dda3",
   "metadata": {},
   "outputs": [
    {
     "name": "stdout",
     "output_type": "stream",
     "text": [
      "0     4\n",
      "1     8\n",
      "2    15\n",
      "3    16\n",
      "4    23\n",
      "5    42\n",
      "dtype: int64\n"
     ]
    }
   ],
   "source": [
    "print(ser)"
   ]
  },
  {
   "cell_type": "markdown",
   "id": "4f8f6770-d684-4ee8-a346-279620a905ce",
   "metadata": {},
   "source": [
    "Q2. Create a variable of list type containing 10 elements in it, and apply pandas.Series function on the\n",
    "variable print it."
   ]
  },
  {
   "cell_type": "code",
   "execution_count": 14,
   "id": "eed088eb-303a-4be9-b568-eb7a8cd6e0bb",
   "metadata": {},
   "outputs": [],
   "source": [
    "#make list of 10 elements\n",
    "data1 = ['aniket','mohit','ravi','ranjeet','ramesh','pushpa','nancy','dilip','nisha','muskan']\n",
    "         "
   ]
  },
  {
   "cell_type": "code",
   "execution_count": 15,
   "id": "cafaba2a-dd93-4316-a2ea-9521883fcfb9",
   "metadata": {},
   "outputs": [],
   "source": [
    "#make a series \n",
    "ser1 = pd.Series(data1)"
   ]
  },
  {
   "cell_type": "code",
   "execution_count": 23,
   "id": "dcea1cce-5fca-4149-a6e6-9c4e2bbf7cab",
   "metadata": {},
   "outputs": [
    {
     "name": "stdout",
     "output_type": "stream",
     "text": [
      "0     aniket\n",
      "1      mohit\n",
      "2       ravi\n",
      "3    ranjeet\n",
      "4     ramesh\n",
      "5     pushpa\n",
      "6      nancy\n",
      "7      dilip\n",
      "8      nisha\n",
      "9     muskan\n",
      "dtype: object\n"
     ]
    }
   ],
   "source": [
    "#print the series\n",
    "print(ser1)"
   ]
  },
  {
   "cell_type": "code",
   "execution_count": null,
   "id": "14c26735-d23b-458f-9eeb-d617b1539b39",
   "metadata": {},
   "outputs": [],
   "source": []
  },
  {
   "cell_type": "markdown",
   "id": "8bcb2297-1bd2-41cb-bad6-5d2acee88bfe",
   "metadata": {},
   "source": [
    "Q3. Create a Pandas DataFrame that contains the following data:"
   ]
  },
  {
   "cell_type": "code",
   "execution_count": 24,
   "id": "9f502051-beb0-456c-a63c-c7795ec98f0c",
   "metadata": {},
   "outputs": [
    {
     "data": {
      "text/html": [
       "<div>\n",
       "<style scoped>\n",
       "    .dataframe tbody tr th:only-of-type {\n",
       "        vertical-align: middle;\n",
       "    }\n",
       "\n",
       "    .dataframe tbody tr th {\n",
       "        vertical-align: top;\n",
       "    }\n",
       "\n",
       "    .dataframe thead th {\n",
       "        text-align: right;\n",
       "    }\n",
       "</style>\n",
       "<table border=\"1\" class=\"dataframe\">\n",
       "  <thead>\n",
       "    <tr style=\"text-align: right;\">\n",
       "      <th></th>\n",
       "      <th>Name</th>\n",
       "      <th>Age</th>\n",
       "      <th>Gender</th>\n",
       "    </tr>\n",
       "  </thead>\n",
       "  <tbody>\n",
       "    <tr>\n",
       "      <th>0</th>\n",
       "      <td>Alice</td>\n",
       "      <td>25</td>\n",
       "      <td>Female</td>\n",
       "    </tr>\n",
       "    <tr>\n",
       "      <th>1</th>\n",
       "      <td>Bob</td>\n",
       "      <td>30</td>\n",
       "      <td>Male</td>\n",
       "    </tr>\n",
       "    <tr>\n",
       "      <th>2</th>\n",
       "      <td>Claire</td>\n",
       "      <td>27</td>\n",
       "      <td>Female</td>\n",
       "    </tr>\n",
       "  </tbody>\n",
       "</table>\n",
       "</div>"
      ],
      "text/plain": [
       "     Name  Age  Gender\n",
       "0   Alice   25  Female\n",
       "1     Bob   30    Male\n",
       "2  Claire   27  Female"
      ]
     },
     "execution_count": 24,
     "metadata": {},
     "output_type": "execute_result"
    }
   ],
   "source": [
    "# Import pandas library\n",
    "import pandas as pd\n",
    "\n",
    "# make list of lists\n",
    "data = [['Alice', 25 , 'Female'], ['Bob', 30 , 'Male'], ['Claire', 27 , 'Female']]\n",
    "\n",
    "# Create the pandas DataFrame\n",
    "df = pd.DataFrame(data, columns=['Name', 'Age' , 'Gender'])\n",
    "\n",
    "# print dataframe.\n",
    "df\n"
   ]
  },
  {
   "cell_type": "code",
   "execution_count": null,
   "id": "b75ac918-1bb9-4e31-9b9c-95cf78164a04",
   "metadata": {},
   "outputs": [],
   "source": []
  },
  {
   "cell_type": "markdown",
   "id": "0904d76e-e679-4fd7-8720-4c59afbffd16",
   "metadata": {},
   "source": [
    "Q4. What is ‘DataFrame’ in pandas and how is it different from pandas.series? Explain with an example."
   ]
  },
  {
   "cell_type": "markdown",
   "id": "40f81310-23ec-4535-9a97-b356f1cfc3d5",
   "metadata": {},
   "source": [
    "ans -  Pandas Series is a one-dimensional labeled array capable of holding data of any type (integer, string, float, python objects, etc.). The axis labels are collectively called indexes. Pandas Series is nothing but a column in an excel sheet. Labels need not be unique but must be a hashable type. The object supports both integer and label-based indexing and provides a host of methods for performing operations involving the index."
   ]
  },
  {
   "cell_type": "code",
   "execution_count": 25,
   "id": "05db132d-c384-4997-b47f-75162c5e8fd8",
   "metadata": {},
   "outputs": [
    {
     "data": {
      "text/plain": [
       "0    12\n",
       "1    34\n",
       "2    56\n",
       "3    78\n",
       "4    99\n",
       "5    88\n",
       "6    76\n",
       "7    54\n",
       "8    33\n",
       "9    21\n",
       "dtype: int64"
      ]
     },
     "execution_count": 25,
     "metadata": {},
     "output_type": "execute_result"
    }
   ],
   "source": [
    "#make a list \n",
    "data4 = [12,34,56,78,99,88,76,54,33,21]\n",
    "\n",
    "#make a series\n",
    "ser4 = pd.Series(data4)\n",
    "\n",
    "#print series\n",
    "ser4"
   ]
  },
  {
   "cell_type": "code",
   "execution_count": null,
   "id": "7c72c5a0-dc19-4d01-865a-a9427e25dfae",
   "metadata": {},
   "outputs": [],
   "source": [
    "\n"
   ]
  },
  {
   "cell_type": "markdown",
   "id": "edaa0f7d-ee5b-4c1d-b13b-d2cb425d4ed7",
   "metadata": {},
   "source": [
    "Pandas DataFrame is a two-dimensional size-mutable, potentially heterogeneous tabular data structure with labeled axes (rows and columns). A Data frame is a two-dimensional data structure, i.e., data is aligned in a tabular fashion in rows and columns. Pandas DataFrame consists of three principal components, the data, rows, and columns"
   ]
  },
  {
   "cell_type": "code",
   "execution_count": 26,
   "id": "f8d850bf-194c-4367-bd50-d04226643796",
   "metadata": {},
   "outputs": [
    {
     "data": {
      "text/html": [
       "<div>\n",
       "<style scoped>\n",
       "    .dataframe tbody tr th:only-of-type {\n",
       "        vertical-align: middle;\n",
       "    }\n",
       "\n",
       "    .dataframe tbody tr th {\n",
       "        vertical-align: top;\n",
       "    }\n",
       "\n",
       "    .dataframe thead th {\n",
       "        text-align: right;\n",
       "    }\n",
       "</style>\n",
       "<table border=\"1\" class=\"dataframe\">\n",
       "  <thead>\n",
       "    <tr style=\"text-align: right;\">\n",
       "      <th></th>\n",
       "      <th>name</th>\n",
       "      <th>Age</th>\n",
       "      <th>salary</th>\n",
       "    </tr>\n",
       "  </thead>\n",
       "  <tbody>\n",
       "    <tr>\n",
       "      <th>0</th>\n",
       "      <td>aniket</td>\n",
       "      <td>19</td>\n",
       "      <td>400000</td>\n",
       "    </tr>\n",
       "    <tr>\n",
       "      <th>1</th>\n",
       "      <td>mohit</td>\n",
       "      <td>39</td>\n",
       "      <td>1500000</td>\n",
       "    </tr>\n",
       "    <tr>\n",
       "      <th>2</th>\n",
       "      <td>roit</td>\n",
       "      <td>43</td>\n",
       "      <td>900000</td>\n",
       "    </tr>\n",
       "  </tbody>\n",
       "</table>\n",
       "</div>"
      ],
      "text/plain": [
       "     name   Age   salary\n",
       "0  aniket    19   400000\n",
       "1   mohit    39  1500000\n",
       "2    roit    43   900000"
      ]
     },
     "execution_count": 26,
     "metadata": {},
     "output_type": "execute_result"
    }
   ],
   "source": [
    "#make a list of dict\n",
    "data5  = [{'name' : \"aniket\" ,\" Age\" : 19 , \"salary\" : 400000},\n",
    "          {'name' : \"mohit\" ,\" Age\" : 39 , \"salary\" : 1500000},\n",
    "          {'name' : \"roit\" ,\" Age\" : 43 , \"salary\" : 900000}]\n",
    "          \n",
    "#make dataframe\n",
    "df5 = pd.DataFrame(data5)\n",
    "\n",
    "#print dataframe\n",
    "df5"
   ]
  },
  {
   "cell_type": "code",
   "execution_count": null,
   "id": "1cbbae46-d630-434e-824e-0ab25564561b",
   "metadata": {},
   "outputs": [],
   "source": []
  },
  {
   "cell_type": "markdown",
   "id": "2fe03d46-5494-4b18-b854-16c302f0bfc3",
   "metadata": {},
   "source": [
    "Q5. What are some common functions you can use to manipulate data in a Pandas DataFrame? Can\n",
    "you give an example of when you might use one of these functions?"
   ]
  },
  {
   "cell_type": "markdown",
   "id": "b99f213e-f8ff-46c0-bbad-27d3cec038d3",
   "metadata": {},
   "source": [
    "ans - read_csv is used to read csv file\n",
    "\n",
    "      2 -   head() is used to read first five records of file and also used to read desired number of records by filling number in bracket\n",
    "      \n",
    "    3 -   tail() is used to read last five records of file and also used to read desired number of records by filling number in bracket\n",
    "    \n",
    "    4 -  shape() is used to returns the no. of rows and columns enclosed in a tuple.\n",
    "    \n",
    "    5 -  describe is used to get  Summary of Statistics of DataFrame\n",
    "    \n",
    "    6-  dropna() is used to removes all the NaN values in the dataframe.\n",
    "    \n",
    "    7 - merge()  is used to arguments passed are the dataframes to be merged along with the column name.\n",
    "    \n",
    "    8 - replace() is used to replace the file heading name\n",
    "    \n",
    "    9 - sort_values()  is used to sort the dataframes\n",
    "    \n",
    "    10 - .loc is label base & .iloc is integer position based methods used for slicing & indexing of data."
   ]
  },
  {
   "cell_type": "code",
   "execution_count": 29,
   "id": "1de541b7-5250-43e4-af21-e1e1e2226363",
   "metadata": {},
   "outputs": [
    {
     "data": {
      "text/html": [
       "<div>\n",
       "<style scoped>\n",
       "    .dataframe tbody tr th:only-of-type {\n",
       "        vertical-align: middle;\n",
       "    }\n",
       "\n",
       "    .dataframe tbody tr th {\n",
       "        vertical-align: top;\n",
       "    }\n",
       "\n",
       "    .dataframe thead th {\n",
       "        text-align: right;\n",
       "    }\n",
       "</style>\n",
       "<table border=\"1\" class=\"dataframe\">\n",
       "  <thead>\n",
       "    <tr style=\"text-align: right;\">\n",
       "      <th></th>\n",
       "      <th>name</th>\n",
       "      <th>Age</th>\n",
       "      <th>salary</th>\n",
       "    </tr>\n",
       "  </thead>\n",
       "  <tbody>\n",
       "    <tr>\n",
       "      <th>0</th>\n",
       "      <td>aniket</td>\n",
       "      <td>19</td>\n",
       "      <td>400000</td>\n",
       "    </tr>\n",
       "    <tr>\n",
       "      <th>2</th>\n",
       "      <td>roit</td>\n",
       "      <td>43</td>\n",
       "      <td>900000</td>\n",
       "    </tr>\n",
       "    <tr>\n",
       "      <th>1</th>\n",
       "      <td>mohit</td>\n",
       "      <td>39</td>\n",
       "      <td>1500000</td>\n",
       "    </tr>\n",
       "  </tbody>\n",
       "</table>\n",
       "</div>"
      ],
      "text/plain": [
       "     name   Age   salary\n",
       "0  aniket    19   400000\n",
       "2    roit    43   900000\n",
       "1   mohit    39  1500000"
      ]
     },
     "execution_count": 29,
     "metadata": {},
     "output_type": "execute_result"
    }
   ],
   "source": [
    "#using dataframe of q4 to sort \n",
    "df5.sort_values(by = ['salary'] , ascending = True)"
   ]
  },
  {
   "cell_type": "code",
   "execution_count": null,
   "id": "8e8e155e-9cb4-4595-8648-d428ae9eb9ed",
   "metadata": {},
   "outputs": [],
   "source": []
  },
  {
   "cell_type": "markdown",
   "id": "0d2aea8e-f071-42ff-a445-d9ef1525bd88",
   "metadata": {},
   "source": [
    "Q6. Which of the following is mutable in nature Series, DataFrame, Panel?\n"
   ]
  },
  {
   "cell_type": "markdown",
   "id": "b167a0b4-568c-4166-860f-14fd2561aad4",
   "metadata": {},
   "source": [
    "ans - All Pandas (Dataframe , Panel ) data structures are value mutable (can be changed) and except Series all are size mutable. Series is size immutable."
   ]
  },
  {
   "cell_type": "markdown",
   "id": "5983aff6-7e13-475c-8bd7-8a3556511b70",
   "metadata": {},
   "source": [
    "DataFrame is widely used and one of the most important data structures. Panel is used much less."
   ]
  },
  {
   "cell_type": "code",
   "execution_count": null,
   "id": "c2442a57-c502-4e39-b1d0-be5bd765372f",
   "metadata": {},
   "outputs": [],
   "source": []
  },
  {
   "cell_type": "markdown",
   "id": "54a85c87-8e28-4058-971d-583c1a2061ed",
   "metadata": {},
   "source": [
    "Q7. Create a DataFrame using multiple Series. Explain with an example."
   ]
  },
  {
   "cell_type": "code",
   "execution_count": 40,
   "id": "a7fbf1cb-f8fe-402d-8af9-210d27187b93",
   "metadata": {},
   "outputs": [
    {
     "name": "stdout",
     "output_type": "stream",
     "text": [
      "     name class class teacher\n",
      "0  aniket    12        ankit \n",
      "1   Mohit     9          sudh\n",
      "2    Ravi    11       arijit \n",
      "3   Rinku    BA       ravish \n"
     ]
    }
   ],
   "source": [
    "import pandas as pd\n",
    "# Create pandas Series\n",
    "name = pd.Series([\"aniket\" ,\"Mohit\" ,\"Ravi\",\"Rinku\"], name = 'name')\n",
    "clas = pd.Series([ 12 , 9 , 11 , \"BA\" ], name = \"class\")\n",
    "clasteacher = pd.Series([\"ankit \" , \"sudh\" , \"arijit \" , \"ravish \"], name = \"class teacher\")  \n",
    "\n",
    "# Combine two series.\n",
    "df=pd.concat([name , clas],axis=1)\n",
    "\n",
    "# It also supports to combine multiple series.\n",
    "df=pd.concat([name, clas ,clasteacher],axis=1)\n",
    "print(df)"
   ]
  },
  {
   "cell_type": "code",
   "execution_count": null,
   "id": "8c4ecad6-5444-4788-8739-8777da7a80b8",
   "metadata": {},
   "outputs": [],
   "source": []
  }
 ],
 "metadata": {
  "kernelspec": {
   "display_name": "Python 3 (ipykernel)",
   "language": "python",
   "name": "python3"
  },
  "language_info": {
   "codemirror_mode": {
    "name": "ipython",
    "version": 3
   },
   "file_extension": ".py",
   "mimetype": "text/x-python",
   "name": "python",
   "nbconvert_exporter": "python",
   "pygments_lexer": "ipython3",
   "version": "3.10.8"
  }
 },
 "nbformat": 4,
 "nbformat_minor": 5
}
