{
 "cells": [
  {
   "cell_type": "markdown",
   "id": "2e79a2f7-c6d9-4d17-8b21-18ecad35c923",
   "metadata": {},
   "source": [
    "Q1. Explain GET and POST methods."
   ]
  },
  {
   "cell_type": "markdown",
   "id": "129cbdf7-a7fb-43eb-9a79-ceb80f939696",
   "metadata": {},
   "source": [
    "ans - HTTP GET : The Hypertext Transfer Protocol(HTTP) Get method is mainly used at the client (Browser) side to send a request to a specified server to get certain data or resources. Using this method the server should only let us receive the data and not change its state. Hence it is only used to view something and not to change it. Get method is one of the most used HTTP method. The request parameter of the get method is appended to the URL. Get request is better for the data which does not need to be secure (It means the data which does not contain images or word documents)."
   ]
  },
  {
   "cell_type": "markdown",
   "id": "a1810ce6-76ab-48b7-815a-63c651f0e2eb",
   "metadata": {},
   "source": [
    "HTTP POST: The Hypertext Transfer Protocol(HTTP) Post method is mainly used at the client (Browser) side to send data to a Specified server in order to create or rewrite a particular resource/data. This data sent to the server is stored in the request body of the HTTP request. Post method eventually leads to the creation of a new resource or updating an existing one. Due to this dynamic use, it is one of the most used HTTP methods. It is not one of the most secure methods because the data that is been sent is included in the body of the request and not in the URL. Post request is better for the data which needs to be secure (It means the data which contains images or word documents)."
   ]
  },
  {
   "cell_type": "code",
   "execution_count": null,
   "id": "d50bea6d-e485-49d0-ab79-766d34376fbe",
   "metadata": {},
   "outputs": [],
   "source": []
  },
  {
   "cell_type": "markdown",
   "id": "20af3e7c-59f6-4768-9097-f2600e666be0",
   "metadata": {},
   "source": [
    "Q2. Why is request used in Flask?"
   ]
  },
  {
   "cell_type": "markdown",
   "id": "2218c6f8-9d33-4e10-87cb-936444a7ec83",
   "metadata": {},
   "source": [
    "ans - When the Flask application handles a request, it creates a Request object based on the environment it received from the WSGI server. Because a worker (thread, process, or coroutine depending on the server) handles only one request at a time, the request data can be considered global to that worker during that request"
   ]
  },
  {
   "cell_type": "code",
   "execution_count": null,
   "id": "9f6740b9-0f2b-4288-af9c-b907b217beb2",
   "metadata": {},
   "outputs": [],
   "source": []
  },
  {
   "cell_type": "markdown",
   "id": "a736a451-b736-4a81-b43e-cd766e2d12ad",
   "metadata": {},
   "source": [
    "Q3. Why is redirect() used in Flask?\n"
   ]
  },
  {
   "cell_type": "markdown",
   "id": "e91425f2-8ace-4fe7-98d5-e44a7c8791c4",
   "metadata": {},
   "source": [
    "ans - Flask class has a redirect() function. When called, it returns a response object and redirects the user to another target location with specified status code. location parameter is the URL where response should be redirected."
   ]
  },
  {
   "cell_type": "code",
   "execution_count": null,
   "id": "37109ce7-b562-478d-bf96-8bca85bcf569",
   "metadata": {},
   "outputs": [],
   "source": []
  },
  {
   "cell_type": "markdown",
   "id": "980feccc-443e-4a44-98c2-301603428b9b",
   "metadata": {},
   "source": [
    "Q4. What are templates in Flask? Why is the render_template() function used?\n"
   ]
  },
  {
   "cell_type": "markdown",
   "id": "eefe9f26-0d49-414e-8873-8e676eeac772",
   "metadata": {},
   "source": [
    "ans -  flask template is a template of a webpage that can be used by web developers to reduce the hectic work of writing the code for each webpage of a website. For example, web developers can create a template that has headers like a navbar and footer which is the same for all web pages. so instead of writing code for the header and footer of every webpage, we can use that template."
   ]
  },
  {
   "cell_type": "markdown",
   "id": "d26ae8b1-0cd0-4c3d-a3ee-6c8282bee533",
   "metadata": {},
   "source": [
    "The render_template() method, allows us to fetch the HTML files, and, pass them to the browser. Hence, instead of rendering, raw string or inline HTML code, from the backend code to the browser, we can have a separate HTML file, passed to the client."
   ]
  },
  {
   "cell_type": "markdown",
   "id": "1b446a39-1564-43c6-bc89-12ab26f4c7dd",
   "metadata": {},
   "source": [
    "Q5. Create a simple API. Use Postman to test it. Attach the screenshot of the output in the Jupyter Notebook."
   ]
  },
  {
   "cell_type": "code",
   "execution_count": null,
   "id": "f9de6188-add5-4dfa-b0c4-a3e6bf5a8635",
   "metadata": {},
   "outputs": [
    {
     "name": "stdout",
     "output_type": "stream",
     "text": [
      " * Serving Flask app '__main__'\n",
      " * Debug mode: off\n"
     ]
    },
    {
     "name": "stderr",
     "output_type": "stream",
     "text": [
      "WARNING: This is a development server. Do not use it in a production deployment. Use a production WSGI server instead.\n",
      " * Running on http://127.0.0.1:8900\n",
      "Press CTRL+C to quit\n"
     ]
    }
   ],
   "source": [
    "from flask import Flask, jsonify\n",
    "\n",
    "app = Flask(__name__)\n",
    "\n",
    "@app.route('/')\n",
    "def hello_world():\n",
    "    return jsonify(message='Hello, World!')\n",
    "\n",
    "if __name__ == '__main__':\n",
    "    app.run(port=8900)\n"
   ]
  },
  {
   "cell_type": "code",
   "execution_count": null,
   "id": "283e76f1-dca2-4959-87b2-9161816d4e06",
   "metadata": {},
   "outputs": [],
   "source": [
    "from IPython.display import Image\n",
    "\n",
    "# Specify the path to the image file\n",
    "image_path = 'path/to/screenshot1.png'\n",
    "\n",
    "# Display the image\n",
    "Image(filename=image_path)\n"
   ]
  },
  {
   "cell_type": "code",
   "execution_count": null,
   "id": "621f9cf8-d718-4571-a59b-6df1d5e8d892",
   "metadata": {},
   "outputs": [],
   "source": []
  }
 ],
 "metadata": {
  "kernelspec": {
   "display_name": "Python 3 (ipykernel)",
   "language": "python",
   "name": "python3"
  },
  "language_info": {
   "codemirror_mode": {
    "name": "ipython",
    "version": 3
   },
   "file_extension": ".py",
   "mimetype": "text/x-python",
   "name": "python",
   "nbconvert_exporter": "python",
   "pygments_lexer": "ipython3",
   "version": "3.10.8"
  }
 },
 "nbformat": 4,
 "nbformat_minor": 5
}
