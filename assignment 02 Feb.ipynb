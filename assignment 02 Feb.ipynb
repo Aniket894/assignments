{
 "cells": [
  {
   "cell_type": "markdown",
   "id": "238927a5-dc4c-4e18-a9ea-d305a86870b0",
   "metadata": {},
   "source": [
    "Q1.  Explain with an example each when to use a for loop and a while loop"
   ]
  },
  {
   "cell_type": "markdown",
   "id": "219cabd5-b792-464b-8770-7fa1d3e09cb7",
   "metadata": {},
   "source": [
    " Ans - for loop geven the data from list and it does not check condition before execution"
   ]
  },
  {
   "cell_type": "code",
   "execution_count": 1,
   "id": "2695514e-a73b-4ec5-bd03-b8843c8143b2",
   "metadata": {},
   "outputs": [],
   "source": [
    "l= [43,56,578,79,78,452,543,574]"
   ]
  },
  {
   "cell_type": "code",
   "execution_count": 2,
   "id": "091b3ca5-1bbf-412e-ab10-6365ec067da4",
   "metadata": {},
   "outputs": [
    {
     "name": "stdout",
     "output_type": "stream",
     "text": [
      "43\n",
      "56\n",
      "578\n",
      "79\n",
      "78\n",
      "452\n",
      "543\n",
      "574\n"
     ]
    }
   ],
   "source": [
    "for a in l:\n",
    "    print(a)"
   ]
  },
  {
   "cell_type": "markdown",
   "id": "131e03a3-4d3d-4a14-8da1-7e1f3555ee82",
   "metadata": {},
   "source": [
    "while loop is check the condition before execution , if the condition false the while loop\n",
    " stop working"
   ]
  },
  {
   "cell_type": "code",
   "execution_count": 3,
   "id": "2ca81879-b647-4ebf-a6f0-7e6a68e3ec8f",
   "metadata": {},
   "outputs": [
    {
     "name": "stdout",
     "output_type": "stream",
     "text": [
      "1\n",
      "2\n",
      "3\n",
      "4\n",
      "5\n",
      "6\n",
      "7\n",
      "8\n",
      "9\n",
      "10\n",
      "11\n",
      "12\n",
      "13\n",
      "14\n",
      "15\n",
      "16\n",
      "17\n",
      "18\n",
      "19\n",
      "20\n",
      "21\n",
      "22\n",
      "23\n",
      "24\n",
      "25\n"
     ]
    }
   ],
   "source": [
    "a = 1\n",
    " \n",
    "while a <=25:\n",
    "    print(a)\n",
    "    a = a +1\n",
    "    \n"
   ]
  },
  {
   "cell_type": "markdown",
   "id": "f1e0b9f0-7b40-47ab-8499-3e884e5c399d",
   "metadata": {},
   "source": [
    "Q2.  Write a python program to print the sum and product of the first 10 natural numbers using for \n",
    "and while loop"
   ]
  },
  {
   "cell_type": "markdown",
   "id": "604c3203-e1c9-458a-9354-16b668f78bc1",
   "metadata": {},
   "source": [
    "sum of the first 10 natural numbers using for loop"
   ]
  },
  {
   "cell_type": "code",
   "execution_count": 4,
   "id": "016760e0-6791-418a-87fa-ff634f990d82",
   "metadata": {},
   "outputs": [
    {
     "name": "stdout",
     "output_type": "stream",
     "text": [
      "55\n"
     ]
    }
   ],
   "source": [
    "a= 0\n",
    "for i in range(0,11):\n",
    "    a = a +i\n",
    "print(a)\n"
   ]
  },
  {
   "cell_type": "markdown",
   "id": "128c2d0e-1755-415e-a084-ba134a3ee9d5",
   "metadata": {},
   "source": [
    "sum of the first 10 natual number using while loop"
   ]
  },
  {
   "cell_type": "code",
   "execution_count": 5,
   "id": "a4c4efba-605f-420a-b9a2-95e05458602c",
   "metadata": {},
   "outputs": [
    {
     "name": "stdout",
     "output_type": "stream",
     "text": [
      "55\n"
     ]
    }
   ],
   "source": [
    "a = 0\n",
    "i = 1\n",
    "\n",
    "while i <= 10:\n",
    "    a = a + i\n",
    "    i = i + 1\n",
    "print(a)   "
   ]
  },
  {
   "cell_type": "markdown",
   "id": "8ce4ce61-60c0-46bb-ae4e-ad140de374f4",
   "metadata": {},
   "source": [
    "product of first 10 natural nummber using for loop"
   ]
  },
  {
   "cell_type": "code",
   "execution_count": 9,
   "id": "9afbc40c-bab1-4cec-a891-724dbf23664a",
   "metadata": {},
   "outputs": [
    {
     "name": "stdout",
     "output_type": "stream",
     "text": [
      "1\n",
      "2\n",
      "6\n",
      "24\n",
      "120\n",
      "720\n",
      "5040\n",
      "40320\n",
      "362880\n",
      "3628800\n"
     ]
    }
   ],
   "source": [
    "l = range(1,11)\n",
    "prod = 1\n",
    "\n",
    "for i in l :\n",
    "    prod = prod * i\n",
    "    print(prod)\n"
   ]
  },
  {
   "cell_type": "markdown",
   "id": "342ec64c-6f3e-4d78-9ff0-1b5a4d374fa7",
   "metadata": {},
   "source": [
    "product of first 10 natural number by using while loop"
   ]
  },
  {
   "cell_type": "code",
   "execution_count": 8,
   "id": "82bb3b03-8535-4189-9da4-e935f83f0af9",
   "metadata": {},
   "outputs": [
    {
     "name": "stdout",
     "output_type": "stream",
     "text": [
      "1\n",
      "2\n",
      "6\n",
      "24\n",
      "120\n",
      "720\n",
      "5040\n",
      "40320\n",
      "362880\n",
      "3628800\n"
     ]
    }
   ],
   "source": [
    "n = 10\n",
    "\n",
    "i= 0 \n",
    "p = 1\n",
    "while i < n:\n",
    "    i = i +1\n",
    "    p= p*i\n",
    "    \n",
    "    print(p)    "
   ]
  },
  {
   "cell_type": "markdown",
   "id": "998edc1b-63a4-4fed-a13d-ed48d736d4d7",
   "metadata": {},
   "source": [
    "Q3. Create a python program to compute the electricity bill for a household.\n",
    "\n",
    "The per-unit charges in rupees are as follows: For the first 100 units, the user will be charged Rs. 4.5 per \n",
    "unit, for the next 100 units, the user will be charged Rs. 6 per unit, and for the next 100 units, the user will \n",
    "be charged Rs. 10 per unit, After 300 units and above the user will be charged Rs. 20 per unit.\n",
    "\n",
    "\n",
    "You are required to take the units of electricity consumed in a month from the user as input.\n",
    "\n",
    "\n",
    "Your program must pass this test case: when the unit of electricity consumed by the user in a month is \n",
    "310, the total electricity bill should be 2250."
   ]
  },
  {
   "cell_type": "code",
   "execution_count": 10,
   "id": "6d63ff61-b21e-4691-8aec-245b869ef347",
   "metadata": {},
   "outputs": [
    {
     "name": "stdin",
     "output_type": "stream",
     "text": [
      "Enter your unit:  310\n"
     ]
    },
    {
     "name": "stdout",
     "output_type": "stream",
     "text": [
      "Bill Per Unit: 2250\n"
     ]
    }
   ],
   "source": [
    "unit = int(input(\"Enter your unit: \"))\n",
    "if unit <= 100:\n",
    "    bill = unit * 4.5\n",
    "elif unit >= 101 and unit <= 200:\n",
    "    bill = 346 + (unit - 100) * 6\n",
    "elif unit >= 201 and unit <= 300:\n",
    "    bill =  1050 + (unit - 200) * 10\n",
    "else:\n",
    "    bill = 2050 + (unit - 300) * 20\n",
    "print(\"Bill Per Unit:\",bill)\n"
   ]
  },
  {
   "cell_type": "markdown",
   "id": "6ec33ce0-bbef-4a03-9383-6a7971fd8412",
   "metadata": {},
   "source": [
    "Q4. Create a list of numbers from 1 to 100. Use for loop and while loop to calculate the cube of each \n",
    "number and if the cube of that number is divisible by 4 or 5 then append that number in a list and print \n",
    "that list."
   ]
  },
  {
   "cell_type": "code",
   "execution_count": 12,
   "id": "7cd0f6d5-c651-4287-b8a7-4d1fa5a3a09f",
   "metadata": {},
   "outputs": [
    {
     "data": {
      "text/plain": [
       "[8,\n",
       " 64,\n",
       " 216,\n",
       " 512,\n",
       " 1000,\n",
       " 1728,\n",
       " 2744,\n",
       " 4096,\n",
       " 5832,\n",
       " 8000,\n",
       " 10648,\n",
       " 13824,\n",
       " 17576,\n",
       " 21952,\n",
       " 27000,\n",
       " 32768,\n",
       " 39304,\n",
       " 46656,\n",
       " 54872,\n",
       " 64000,\n",
       " 74088,\n",
       " 85184,\n",
       " 97336,\n",
       " 110592,\n",
       " 125000,\n",
       " 140608,\n",
       " 157464,\n",
       " 175616,\n",
       " 195112,\n",
       " 216000,\n",
       " 238328,\n",
       " 262144,\n",
       " 287496,\n",
       " 314432,\n",
       " 343000,\n",
       " 373248,\n",
       " 405224,\n",
       " 438976,\n",
       " 474552,\n",
       " 512000,\n",
       " 551368,\n",
       " 592704,\n",
       " 636056,\n",
       " 681472,\n",
       " 729000,\n",
       " 778688,\n",
       " 830584,\n",
       " 884736,\n",
       " 941192,\n",
       " 1000000]"
      ]
     },
     "execution_count": 12,
     "metadata": {},
     "output_type": "execute_result"
    }
   ],
   "source": [
    "l2 = []\n",
    "for i in range(1,101):\n",
    "    a= i**3\n",
    "    if a %4== 0 or a %4== 0:\n",
    "        l2.append(a)\n",
    "l2    \n",
    "       \n",
    "            "
   ]
  },
  {
   "cell_type": "markdown",
   "id": "4e1da311-45ec-4ea7-b355-5cac92699db5",
   "metadata": {},
   "source": [
    "Q5.  Write a program to filter count vowels in the below-given string.\n",
    "\n",
    "string = \"I want to become a data scientist\""
   ]
  },
  {
   "cell_type": "code",
   "execution_count": 13,
   "id": "72c17545-4810-41b9-aa0b-e64111932abd",
   "metadata": {},
   "outputs": [
    {
     "name": "stdout",
     "output_type": "stream",
     "text": [
      "11\n"
     ]
    }
   ],
   "source": [
    "str = \"I want to become a data scientist\"\n",
    "vowel = 0\n",
    "\n",
    "for i in str:\n",
    "    if i == 'a' or i == 'e' or i == 'i' or i == 'o' or i == 'u':\n",
    "      \n",
    "        vowel = vowel + 1\n",
    "\n",
    "print(vowel)"
   ]
  },
  {
   "cell_type": "code",
   "execution_count": null,
   "id": "55c81b41-ebd2-458b-9ab4-eadb75f63951",
   "metadata": {},
   "outputs": [],
   "source": []
  }
 ],
 "metadata": {
  "kernelspec": {
   "display_name": "Python 3 (ipykernel)",
   "language": "python",
   "name": "python3"
  },
  "language_info": {
   "codemirror_mode": {
    "name": "ipython",
    "version": 3
   },
   "file_extension": ".py",
   "mimetype": "text/x-python",
   "name": "python",
   "nbconvert_exporter": "python",
   "pygments_lexer": "ipython3",
   "version": "3.10.8"
  }
 },
 "nbformat": 4,
 "nbformat_minor": 5
}
