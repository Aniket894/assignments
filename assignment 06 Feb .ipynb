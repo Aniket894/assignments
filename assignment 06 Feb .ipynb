{
 "cells": [
  {
   "cell_type": "markdown",
   "id": "53287e61-a5c8-4de7-9984-6d82f8d158fe",
   "metadata": {},
   "source": [
    "Q1. Create a function which will take a list as an argument and return the product of all the numbers after creating a flat list.\n",
    "\n",
    "Use the below-given list as an argument for your function.\n",
    "\n",
    "list1 = [1,2,3,4, [44,55,66, True], False, (34,56,78,89,34), {1,2,3,3,2,1}, {1:34, \"key2\": [55, 67, 78, 89], 4: (45, 22, 61, 34)}, [56, 'data science'], 'Machine Learning']\n",
    "\n",
    "Note: you must extract numeric keys and values of the dictionary also."
   ]
  },
  {
   "cell_type": "code",
   "execution_count": 1,
   "id": "773f5dfc-da90-4220-85bd-a00aa05c6875",
   "metadata": {},
   "outputs": [],
   "source": [
    "list1 = [1,2,3,4, [44,55,66, True], False, (34,56,78,89,34), {1,2,3,3,2,1}, {1:34, \"key2\": [55, 67, 78, 89], 4: (45, 22, 61, 34)}, [56, 'data science'], 'Machine Learning']"
   ]
  },
  {
   "cell_type": "code",
   "execution_count": 12,
   "id": "f085472d-6f84-470c-8eb6-e149781ebace",
   "metadata": {},
   "outputs": [],
   "source": [
    "flat_list = []\n",
    "def get_flat_list(list1):\n",
    "    \n",
    "    for items in list1:\n",
    "        if type(items) == int:\n",
    "            flat_list.append(items)\n",
    "        elif type(items) == list:\n",
    "            for sub_item in items:\n",
    "                if type(sub_item) == int:\n",
    "                    flat_list.append(sub_item)\n",
    "        elif type(items) == str:\n",
    "            pass\n",
    "        elif type(items) == tuple:\n",
    "            for sub_item in items:\n",
    "                if type(sub_item) == int:\n",
    "                    flat_list.append(sub_item)\n",
    "        elif type(items) == set:\n",
    "            for sub_item in items:\n",
    "                if type(sub_item) == int:\n",
    "                    flat_list.append(sub_item)\n",
    "        elif type(items) == dict:\n",
    "            for sub_item in items:\n",
    "                if type(sub_item) == int:\n",
    "                    flat_list.append(sub_item)\n",
    "                if type(items[sub_item]) == int:\n",
    "                    flat_list.append(items[sub_item])\n",
    "                if type(sub_item) == str:\n",
    "                    pass\n",
    "                if type(items[sub_item]) == list or type(items[sub_item]) == tuple:\n",
    "                    for i in items[sub_item]:\n",
    "                        flat_list.append(i)\n",
    "        elif type(items) == list:\n",
    "            for sub_item in items:\n",
    "                if type(sub_item) == int:\n",
    "                    flat_list.append(sub_item)\n",
    "        else:\n",
    "            pass\n",
    "        \n",
    "    return flat_list\n",
    "\n",
    "\n",
    "\n",
    "        \n",
    "        \n",
    "    "
   ]
  },
  {
   "cell_type": "code",
   "execution_count": 14,
   "id": "640d5a84-e36b-4e26-b4b5-731b615ef014",
   "metadata": {},
   "outputs": [
    {
     "data": {
      "text/plain": [
       "[1,\n",
       " 2,\n",
       " 3,\n",
       " 4,\n",
       " 44,\n",
       " 55,\n",
       " 66,\n",
       " 34,\n",
       " 56,\n",
       " 78,\n",
       " 89,\n",
       " 34,\n",
       " 1,\n",
       " 2,\n",
       " 3,\n",
       " 1,\n",
       " 34,\n",
       " 55,\n",
       " 67,\n",
       " 78,\n",
       " 89,\n",
       " 4,\n",
       " 45,\n",
       " 22,\n",
       " 61,\n",
       " 34,\n",
       " 56,\n",
       " 1,\n",
       " 2,\n",
       " 3,\n",
       " 4,\n",
       " 44,\n",
       " 55,\n",
       " 66,\n",
       " 34,\n",
       " 56,\n",
       " 78,\n",
       " 89,\n",
       " 34,\n",
       " 1,\n",
       " 2,\n",
       " 3,\n",
       " 1,\n",
       " 34,\n",
       " 55,\n",
       " 67,\n",
       " 78,\n",
       " 89,\n",
       " 4,\n",
       " 45,\n",
       " 22,\n",
       " 61,\n",
       " 34,\n",
       " 56]"
      ]
     },
     "execution_count": 14,
     "metadata": {},
     "output_type": "execute_result"
    }
   ],
   "source": [
    "get_flat_list(list1)"
   ]
  },
  {
   "cell_type": "code",
   "execution_count": 16,
   "id": "f228edfc-ae1c-4577-88ce-ef27e7572832",
   "metadata": {},
   "outputs": [],
   "source": [
    "l2 = get_flat_list(list1)"
   ]
  },
  {
   "cell_type": "code",
   "execution_count": 17,
   "id": "3202aa76-1bc6-4c06-9512-d3ffc5548fa3",
   "metadata": {},
   "outputs": [
    {
     "data": {
      "text/plain": [
       "[1,\n",
       " 2,\n",
       " 3,\n",
       " 4,\n",
       " 44,\n",
       " 55,\n",
       " 66,\n",
       " 34,\n",
       " 56,\n",
       " 78,\n",
       " 89,\n",
       " 34,\n",
       " 1,\n",
       " 2,\n",
       " 3,\n",
       " 1,\n",
       " 34,\n",
       " 55,\n",
       " 67,\n",
       " 78,\n",
       " 89,\n",
       " 4,\n",
       " 45,\n",
       " 22,\n",
       " 61,\n",
       " 34,\n",
       " 56,\n",
       " 1,\n",
       " 2,\n",
       " 3,\n",
       " 4,\n",
       " 44,\n",
       " 55,\n",
       " 66,\n",
       " 34,\n",
       " 56,\n",
       " 78,\n",
       " 89,\n",
       " 34,\n",
       " 1,\n",
       " 2,\n",
       " 3,\n",
       " 1,\n",
       " 34,\n",
       " 55,\n",
       " 67,\n",
       " 78,\n",
       " 89,\n",
       " 4,\n",
       " 45,\n",
       " 22,\n",
       " 61,\n",
       " 34,\n",
       " 56,\n",
       " 1,\n",
       " 2,\n",
       " 3,\n",
       " 4,\n",
       " 44,\n",
       " 55,\n",
       " 66,\n",
       " 34,\n",
       " 56,\n",
       " 78,\n",
       " 89,\n",
       " 34,\n",
       " 1,\n",
       " 2,\n",
       " 3,\n",
       " 1,\n",
       " 34,\n",
       " 55,\n",
       " 67,\n",
       " 78,\n",
       " 89,\n",
       " 4,\n",
       " 45,\n",
       " 22,\n",
       " 61,\n",
       " 34,\n",
       " 56]"
      ]
     },
     "execution_count": 17,
     "metadata": {},
     "output_type": "execute_result"
    }
   ],
   "source": [
    "l2"
   ]
  },
  {
   "cell_type": "code",
   "execution_count": 18,
   "id": "a7e066cb-2778-49f0-a55c-6cc2605d0b35",
   "metadata": {},
   "outputs": [
    {
     "name": "stdout",
     "output_type": "stream",
     "text": [
      "1\n",
      "2\n",
      "6\n",
      "24\n",
      "1056\n",
      "58080\n",
      "3833280\n",
      "130331520\n",
      "7298565120\n",
      "569288079360\n",
      "50666639063040\n",
      "1722665728143360\n",
      "1722665728143360\n",
      "3445331456286720\n",
      "10335994368860160\n",
      "10335994368860160\n",
      "351423808541245440\n",
      "19328309469768499200\n",
      "1294996734474489446400\n",
      "101009745289010176819200\n",
      "8989867330721905736908800\n",
      "35959469322887622947635200\n",
      "1618176119529943032643584000\n",
      "35599874629658746718158848000\n",
      "2171592352409183549807689728000\n",
      "73834139981912240693461450752000\n",
      "4134711838987085478833841242112000\n",
      "4134711838987085478833841242112000\n",
      "8269423677974170957667682484224000\n",
      "24808271033922512873003047452672000\n",
      "99233084135690051492012189810688000\n",
      "4366255701970362265648536351670272000\n",
      "240144063608369924610669499341864960000\n",
      "15849508198152415024304186956563087360000\n",
      "538883278737182110826342356523144970240000\n",
      "30177463609282198206275171965296118333440000\n",
      "2353842161524011460089463413293097230008320000\n",
      "209491952375637019947962243783085653470740480000\n",
      "7122726380771658678230716288624912218005176320000\n",
      "7122726380771658678230716288624912218005176320000\n",
      "14245452761543317356461432577249824436010352640000\n",
      "42736358284629952069384297731749473308031057920000\n",
      "42736358284629952069384297731749473308031057920000\n",
      "1453036181677418370359066122879482092473055969280000\n",
      "79916989992258010369748636758371515086018078310400000\n",
      "5354438329481286694773158662810891510763211246796800000\n",
      "417646189699540362192306375699249537839530477250150400000\n",
      "37170510883259092235115267437233208867718212475263385600000\n",
      "148682043533036368940461069748932835470872849901053542400000\n",
      "6690691958986636602320748138701977596189278245547409408000000\n",
      "147195223097706005251056459051443507116164121402043006976000000\n",
      "8978908608960066320314444002138053934086011405524623425536000000\n",
      "305282892704642254890691096072693833758924387787837196468224000000\n",
      "17095841991459966273878701380070854690499765716118883002220544000000\n",
      "17095841991459966273878701380070854690499765716118883002220544000000\n",
      "34191683982919932547757402760141709380999531432237766004441088000000\n",
      "102575051948759797643272208280425128142998594296713298013323264000000\n",
      "410300207795039190573088833121700512571994377186853192053293056000000\n",
      "18053209142981724385215908657354822553167752596221540450344894464000000\n",
      "992926502863994841186874976154515240424226392792184724768969195520000000\n",
      "65533149189023659518333748426198005867998941924284191834751966904320000000\n",
      "2228127072426804423623347446490732199511964025425662522381566874746880000000\n",
      "124775116055901047722907457003481003172669985423837101253367744985825280000000\n",
      "9732459052360281722386781646271518247468258863059293897762684108894371840000000\n",
      "866188855660065073292423566518165124024675038812277156900878885691599093760000000\n",
      "29450421092442212491942401261617614216838951319617423334629882113514369187840000000\n",
      "29450421092442212491942401261617614216838951319617423334629882113514369187840000000\n",
      "58900842184884424983884802523235228433677902639234846669259764227028738375680000000\n",
      "176702526554653274951654407569705685301033707917704540007779292681086215127040000000\n",
      "176702526554653274951654407569705685301033707917704540007779292681086215127040000000\n",
      "6007885902858211348356249857369993300235146069201954360264495951156931314319360000000\n",
      "330433724657201624159593742155349631512933033806107489814547277313631222287564800000000\n",
      "22139059552032508818692780724408425311366513265009201817574667580013291893266841600000000\n",
      "1726846645058535687858036896503857174286588034670717741770824071241036767674813644800000000\n",
      "153689351410209676219365283788843288511506335085693879017603342340452272323058414387200000000\n",
      "614757405640838704877461135155373154046025340342775516070413369361809089292233657548800000000\n",
      "27664083253837741719485751081991791932071140315424898223168601621281409018150514589696000000000\n",
      "608609831584430317828686523803819422505565086939347760909709235668190998399311320973312000000000\n",
      "37125199726650249387549877952032984772839470303300213415492263375759650902357990579372032000000000\n",
      "1262256790706108479176695850369121482276541990312207256126736954775828130680171679698649088000000000\n",
      "70686380279542074833894967620670803007486351457483606343097269467446375318089614063124348928000000000\n"
     ]
    }
   ],
   "source": [
    "l4 = []\n",
    "prod=1\n",
    "\n",
    "for i in l2:\n",
    "    prod = prod * i\n",
    "    print(prod)"
   ]
  },
  {
   "cell_type": "code",
   "execution_count": null,
   "id": "481427f6-22d1-40ef-bb24-18dbb28f65f3",
   "metadata": {},
   "outputs": [],
   "source": []
  },
  {
   "cell_type": "markdown",
   "id": "940dc559-c90e-47cf-8b3a-41573c3e925f",
   "metadata": {},
   "source": [
    "Q2. Write a python program for encrypting a message sent to you by your friend. The logic of encryption\n",
    "should be such that, for a the output should be z. For b, the output should be y. For c, the output should\n",
    "be x respectively. Also, the whitespace should be replaced with a dollar sign. Keep the punctuation\n",
    "marks unchanged.\n",
    "\n",
    "\n",
    "Input Sentence: I want to become a Data Scientist.\n",
    "\n",
    "\n",
    "Encrypt the above input sentence using the program you just created.\n",
    "\n",
    "\n",
    "Note: Convert the given input sentence into lowercase before encrypting. The final output should be\n",
    "lowercase."
   ]
  },
  {
   "cell_type": "code",
   "execution_count": 19,
   "id": "e8ddafd8-9a72-475c-a551-1d38f7926757",
   "metadata": {},
   "outputs": [],
   "source": [
    "s= 'I want to become a Data Scientist'"
   ]
  },
  {
   "cell_type": "code",
   "execution_count": 22,
   "id": "33c32813-a39c-4a0e-9fb5-3539f6097d3a",
   "metadata": {},
   "outputs": [],
   "source": [
    "s1 = s.lower()"
   ]
  },
  {
   "cell_type": "code",
   "execution_count": 32,
   "id": "07ae1e42-da9e-49ef-bb55-7de5170360ff",
   "metadata": {},
   "outputs": [
    {
     "data": {
      "text/plain": [
       "'i want to become a data scientist'"
      ]
     },
     "execution_count": 32,
     "metadata": {},
     "output_type": "execute_result"
    }
   ],
   "source": [
    "s1"
   ]
  },
  {
   "cell_type": "code",
   "execution_count": 35,
   "id": "5f9dfe45-dcdc-4ebe-bc28-6606af4edcf1",
   "metadata": {},
   "outputs": [
    {
     "name": "stdout",
     "output_type": "stream",
     "text": [
      "i$wznt$to$yexome$z$dztz$sxientist\n"
     ]
    }
   ],
   "source": [
    "encrypt = \"i want to become a data scientist\"\n",
    "\n",
    "dict = {\"a\": \"z\", \"b\": \"y\",\n",
    "\t\t\"c\": \"x\", \" \": \"$\",}\n",
    "\t\n",
    "num = encrypt\n",
    "\n",
    "for i in dict:\n",
    "\tnum = num.replace(i, dict[i])\n",
    "\n",
    "print(num)\n",
    "\n"
   ]
  },
  {
   "cell_type": "code",
   "execution_count": null,
   "id": "1cf00be4-8457-4293-a702-5c8681639502",
   "metadata": {},
   "outputs": [],
   "source": []
  }
 ],
 "metadata": {
  "kernelspec": {
   "display_name": "Python 3 (ipykernel)",
   "language": "python",
   "name": "python3"
  },
  "language_info": {
   "codemirror_mode": {
    "name": "ipython",
    "version": 3
   },
   "file_extension": ".py",
   "mimetype": "text/x-python",
   "name": "python",
   "nbconvert_exporter": "python",
   "pygments_lexer": "ipython3",
   "version": "3.10.8"
  }
 },
 "nbformat": 4,
 "nbformat_minor": 5
}
