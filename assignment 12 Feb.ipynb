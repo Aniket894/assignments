{
 "cells": [
  {
   "cell_type": "markdown",
   "id": "086ccf5f-02ca-4b7a-87d9-df4e600e0708",
   "metadata": {},
   "source": [
    "Q1. What is \n",
    "an Exception in python? Write the difference between Exceptions \n",
    "and syntax errors."
   ]
  },
  {
   "cell_type": "markdown",
   "id": "0d5e5366-63ab-410b-af1e-24b9ed5c1f34",
   "metadata": {},
   "source": [
    "ans - There are several built-in exceptions in Python that are raised when errors occur.all exceptions must be instances of a class that derives from BaseException . In a try statement with an except clause that mentions a particular class, that clause also handles any exception classes derived from that class (but not exception classes from which it is derived)."
   ]
  },
  {
   "cell_type": "markdown",
   "id": "122908ef-8b24-4c15-aa7e-dea8f323b556",
   "metadata": {},
   "source": [
    "Syntex errors  :  This exception is raised when the interpreter encounters a syntax error in the code, such as a misspelled keyword, a missing    colon, or an unbalanced parenthesis.This error is caused by the wrong syntax in the code. It leads to the termination of the program. \n",
    "\n",
    "Exceptions : Exceptions are raised when the program is syntactically correct, but the code results in an error. This error does not stop the execution of the program, however, it changes the normal flow of the program."
   ]
  },
  {
   "cell_type": "code",
   "execution_count": null,
   "id": "7f0a2d9d-d4ae-443f-b6d9-12cbba02d7d5",
   "metadata": {},
   "outputs": [],
   "source": []
  },
  {
   "cell_type": "markdown",
   "id": "2b54b7d3-b761-4878-9ed7-4f5228246739",
   "metadata": {},
   "source": [
    "Q2. What happens when an exception is not handled? Explain with an example."
   ]
  },
  {
   "cell_type": "markdown",
   "id": "06bbb30c-8786-4d07-aefe-fdea7c71c03e",
   "metadata": {},
   "source": [
    "ans - If an exception occurs during execution of the try clause, the exception may be handled by an except clause. If the exception is not handled by an except clause, the exception is re-raised after the finally clause has been executed."
   ]
  },
  {
   "cell_type": "code",
   "execution_count": 13,
   "id": "d7108c05-131b-43db-86ae-5527d2e462a5",
   "metadata": {},
   "outputs": [],
   "source": [
    "import logging"
   ]
  },
  {
   "cell_type": "code",
   "execution_count": 14,
   "id": "6980aa3d-cb4c-4ffb-bb55-503b9da3651b",
   "metadata": {},
   "outputs": [],
   "source": [
    "logging.basicConfig(filename = \"assignment.log\" , level = logging.DEBUG)"
   ]
  },
  {
   "cell_type": "code",
   "execution_count": 16,
   "id": "ab285b0c-b1f6-4ed8-b2c3-beb86d0b9523",
   "metadata": {},
   "outputs": [],
   "source": [
    "def divide (x,y):\n",
    "    logging.info(\"make a function to divide and get division error\")\n",
    "    return x/y\n",
    "    "
   ]
  },
  {
   "cell_type": "code",
   "execution_count": 17,
   "id": "266c9b7d-b2e4-4d9c-9f1d-fdee01851827",
   "metadata": {},
   "outputs": [
    {
     "ename": "ZeroDivisionError",
     "evalue": "division by zero",
     "output_type": "error",
     "traceback": [
      "\u001b[0;31m---------------------------------------------------------------------------\u001b[0m",
      "\u001b[0;31mZeroDivisionError\u001b[0m                         Traceback (most recent call last)",
      "Cell \u001b[0;32mIn[17], line 1\u001b[0m\n\u001b[0;32m----> 1\u001b[0m \u001b[43mdivide\u001b[49m\u001b[43m(\u001b[49m\u001b[38;5;241;43m2\u001b[39;49m\u001b[43m,\u001b[49m\u001b[38;5;241;43m0\u001b[39;49m\u001b[43m)\u001b[49m\n",
      "Cell \u001b[0;32mIn[16], line 3\u001b[0m, in \u001b[0;36mdivide\u001b[0;34m(x, y)\u001b[0m\n\u001b[1;32m      1\u001b[0m \u001b[38;5;28;01mdef\u001b[39;00m \u001b[38;5;21mdivide\u001b[39m (x,y):\n\u001b[1;32m      2\u001b[0m     logging\u001b[38;5;241m.\u001b[39minfo(\u001b[38;5;124m\"\u001b[39m\u001b[38;5;124mmake a function to divide and get division error\u001b[39m\u001b[38;5;124m\"\u001b[39m)\n\u001b[0;32m----> 3\u001b[0m     \u001b[38;5;28;01mreturn\u001b[39;00m \u001b[43mx\u001b[49m\u001b[38;5;241;43m/\u001b[39;49m\u001b[43my\u001b[49m\n",
      "\u001b[0;31mZeroDivisionError\u001b[0m: division by zero"
     ]
    }
   ],
   "source": [
    "divide(2,0)\n",
    "    logging.info(\"divide 2 by 0 to get zero division error\")"
   ]
  },
  {
   "cell_type": "code",
   "execution_count": 18,
   "id": "86ea9d8f-b3c2-450f-8443-238e23833820",
   "metadata": {},
   "outputs": [
    {
     "name": "stdout",
     "output_type": "stream",
     "text": [
      "this is an divison error division by zero\n",
      "try some trick to achieve\n"
     ]
    }
   ],
   "source": [
    "try :\n",
    "    result = 2/0\n",
    "    logging.info(\"this is to get result\")\n",
    "    \n",
    "except Exception as e :\n",
    "    print(\"this is an divison error\" ,e)\n",
    "    logging.info(\"this is exception clause\")\n",
    "    \n",
    "else:\n",
    "    print(result)\n",
    "    logging.info(\"this is else statement\")\n",
    "    \n",
    "finally:\n",
    "    print(\"try some trick to achieve\")\n",
    "    logging.info(\"this is finally statement that always execute\")"
   ]
  },
  {
   "cell_type": "code",
   "execution_count": null,
   "id": "98e12ea0-30c4-4307-89d5-1b50027b99ed",
   "metadata": {},
   "outputs": [],
   "source": []
  },
  {
   "cell_type": "markdown",
   "id": "63070617-7465-4b05-8987-c4313e241053",
   "metadata": {},
   "source": [
    "Q3. Which  Python statement are used to catch and handle statements? Explain with an example."
   ]
  },
  {
   "cell_type": "markdown",
   "id": "7c0bbbfb-b943-49a5-97b3-217773737940",
   "metadata": {},
   "source": [
    "ans - The try and except block  statements are used in Python to catch and handle exceptions. Python executes code following the try statement as a “normal” part of the program. "
   ]
  },
  {
   "cell_type": "code",
   "execution_count": 20,
   "id": "69485752-4cb3-47d5-86c7-8872bba21599",
   "metadata": {},
   "outputs": [],
   "source": [
    "def add(a , b):\n",
    "    return a + b\n",
    "logging.info(\"make an add function to perform the task\")"
   ]
  },
  {
   "cell_type": "code",
   "execution_count": 22,
   "id": "f02db231-833f-4407-a68d-b4283815e6fe",
   "metadata": {},
   "outputs": [
    {
     "ename": "TypeError",
     "evalue": "unsupported operand type(s) for +: 'int' and 'str'",
     "output_type": "error",
     "traceback": [
      "\u001b[0;31m---------------------------------------------------------------------------\u001b[0m",
      "\u001b[0;31mTypeError\u001b[0m                                 Traceback (most recent call last)",
      "Cell \u001b[0;32mIn[22], line 1\u001b[0m\n\u001b[0;32m----> 1\u001b[0m add(\u001b[38;5;241;43m23\u001b[39;49m\u001b[43m \u001b[49m\u001b[38;5;241;43m+\u001b[39;49m\u001b[43m \u001b[49m\u001b[38;5;124;43m\"\u001b[39;49m\u001b[38;5;124;43maniket\u001b[39;49m\u001b[38;5;124;43m\"\u001b[39;49m) \n\u001b[1;32m      2\u001b[0m logging\u001b[38;5;241m.\u001b[39minfo(\u001b[38;5;124m\"\u001b[39m\u001b[38;5;124mthis is done to get error\u001b[39m\u001b[38;5;124m\"\u001b[39m)\n",
      "\u001b[0;31mTypeError\u001b[0m: unsupported operand type(s) for +: 'int' and 'str'"
     ]
    }
   ],
   "source": [
    "add(23 + \"aniket\") \n",
    "logging.info(\"this is done to get error\")"
   ]
  },
  {
   "cell_type": "code",
   "execution_count": 24,
   "id": "83d069a5-567a-4b12-8b86-54c231069572",
   "metadata": {},
   "outputs": [
    {
     "name": "stdout",
     "output_type": "stream",
     "text": [
      "str not add into int unsupported operand type(s) for +: 'int' and 'str'\n"
     ]
    }
   ],
   "source": [
    "try :\n",
    "    result = add(23 + \"aniket\")\n",
    "    logging.info(\"this will get result \")\n",
    "    \n",
    "except Exception as e :\n",
    "    print(\"str not add into int\" ,e)\n",
    "    logging.info(\"giving an exception\")"
   ]
  },
  {
   "cell_type": "code",
   "execution_count": null,
   "id": "79d4f69b-6735-4701-8739-d628d5fcc9f5",
   "metadata": {},
   "outputs": [],
   "source": []
  },
  {
   "cell_type": "markdown",
   "id": "8e9eee4f-6e07-4ec4-9c60-516437c92d2b",
   "metadata": {},
   "source": [
    "Q4 Explain with an example.\n",
    "\n",
    "a - try and else\n",
    "\n",
    "b - finally\n",
    "\n",
    "c - raise"
   ]
  },
  {
   "cell_type": "markdown",
   "id": "7b0855d3-916b-4ac5-a048-978cafca6900",
   "metadata": {},
   "source": [
    "ans a  - try and else"
   ]
  },
  {
   "cell_type": "code",
   "execution_count": 29,
   "id": "f6468968-2bd9-4192-98a7-9f09f20d50b0",
   "metadata": {},
   "outputs": [],
   "source": [
    "def divide(a , b):\n",
    "    return a / b\n",
    "logging.info(\"this  is a function \")"
   ]
  },
  {
   "cell_type": "code",
   "execution_count": 35,
   "id": "f78fe7c7-a561-49bb-9ce1-b622c8eb6dc6",
   "metadata": {},
   "outputs": [
    {
     "data": {
      "text/plain": [
       "-1.7142857142857142"
      ]
     },
     "execution_count": 35,
     "metadata": {},
     "output_type": "execute_result"
    }
   ],
   "source": [
    "divide(12,-7) \n"
   ]
  },
  {
   "cell_type": "code",
   "execution_count": 43,
   "id": "2a474000-a958-479d-b838-6a645a27a3c8",
   "metadata": {},
   "outputs": [
    {
     "name": "stdout",
     "output_type": "stream",
     "text": [
      "-1.7142857142857142\n"
     ]
    }
   ],
   "source": [
    "try:\n",
    "    result = divide (12,-7)\n",
    "    logging.info(\"this is code that i want to iterate\")\n",
    "    \n",
    "except Exception as e:\n",
    "    print(\"this wil not execute \" ,e)\n",
    "    logging.info(\"this is exception of the code\")\n",
    "    \n",
    "else:\n",
    "    print(result)\n",
    "    logging.info(\"this is my else statement\")\n"
   ]
  },
  {
   "cell_type": "code",
   "execution_count": null,
   "id": "0b53f378-da21-494b-b8c7-0af8a05edd80",
   "metadata": {},
   "outputs": [],
   "source": []
  },
  {
   "cell_type": "markdown",
   "id": "00e55f20-184b-4bb9-b43a-a07f68316942",
   "metadata": {},
   "source": [
    "b - finally"
   ]
  },
  {
   "cell_type": "code",
   "execution_count": 47,
   "id": "513c0165-caec-454b-b0c0-cce4aa9d3c7f",
   "metadata": {},
   "outputs": [
    {
     "name": "stdout",
     "output_type": "stream",
     "text": [
      "0.1791044776119403\n",
      "this is always execute\n"
     ]
    }
   ],
   "source": [
    "try:\n",
    "    result = divide (12,67)\n",
    "    logging.info(\"this is code that i want to iterate\")\n",
    "    \n",
    "except Exception as e:\n",
    "    print(\"this wil not execute \" ,e)\n",
    "    logging.info(\"this is exception of the code\")\n",
    "    \n",
    "else:\n",
    "    print(result)\n",
    "    logging.info(\"this is my else statement\")\n",
    "    \n",
    "finally:\n",
    "    print(\"this is always execute\")\n",
    "    logging.info(\"this is my finally statement that can always execute\")\n"
   ]
  },
  {
   "cell_type": "code",
   "execution_count": null,
   "id": "92fc4db1-92a8-46c5-888d-da4a21f6a579",
   "metadata": {},
   "outputs": [],
   "source": []
  },
  {
   "cell_type": "markdown",
   "id": "8bbc0de0-2eae-480b-b59c-185b97a2b00c",
   "metadata": {},
   "source": [
    "c - raise"
   ]
  },
  {
   "cell_type": "code",
   "execution_count": 49,
   "id": "6d676674-7fa4-43d0-8fc0-a405386c3667",
   "metadata": {},
   "outputs": [],
   "source": [
    "a = 'aniket'"
   ]
  },
  {
   "cell_type": "code",
   "execution_count": 55,
   "id": "6fe960d5-36c3-4115-a4ce-0965cfb13288",
   "metadata": {},
   "outputs": [],
   "source": [
    "result  = int(a)"
   ]
  },
  {
   "cell_type": "code",
   "execution_count": 63,
   "id": "6931ddd4-4382-49e6-8979-0c4d3eef48ce",
   "metadata": {},
   "outputs": [
    {
     "ename": "Exception",
     "evalue": "this is to raise",
     "output_type": "error",
     "traceback": [
      "\u001b[0;31m---------------------------------------------------------------------------\u001b[0m",
      "\u001b[0;31mValueError\u001b[0m                                Traceback (most recent call last)",
      "Cell \u001b[0;32mIn[63], line 2\u001b[0m\n\u001b[1;32m      1\u001b[0m \u001b[38;5;28;01mtry\u001b[39;00m :\n\u001b[0;32m----> 2\u001b[0m     result \u001b[38;5;241m=\u001b[39m \u001b[38;5;28;43mint\u001b[39;49m\u001b[43m(\u001b[49m\u001b[43ma\u001b[49m\u001b[43m)\u001b[49m\n\u001b[1;32m      3\u001b[0m \u001b[38;5;28;01mexcept\u001b[39;00m \u001b[38;5;167;01mException\u001b[39;00m :\n",
      "\u001b[0;31mValueError\u001b[0m: invalid literal for int() with base 10: 'aniket'",
      "\nDuring handling of the above exception, another exception occurred:\n",
      "\u001b[0;31mException\u001b[0m                                 Traceback (most recent call last)",
      "Cell \u001b[0;32mIn[63], line 4\u001b[0m\n\u001b[1;32m      2\u001b[0m     result \u001b[38;5;241m=\u001b[39m \u001b[38;5;28mint\u001b[39m(a)\n\u001b[1;32m      3\u001b[0m \u001b[38;5;28;01mexcept\u001b[39;00m \u001b[38;5;167;01mException\u001b[39;00m :\n\u001b[0;32m----> 4\u001b[0m     \u001b[38;5;28;01mraise\u001b[39;00m \u001b[38;5;167;01mException\u001b[39;00m(\u001b[38;5;124m\"\u001b[39m\u001b[38;5;124mthis is to raise\u001b[39m\u001b[38;5;124m\"\u001b[39m)\n\u001b[1;32m      5\u001b[0m \u001b[38;5;28;01melse\u001b[39;00m:\n\u001b[1;32m      6\u001b[0m     \u001b[38;5;28mprint\u001b[39m(result)\n",
      "\u001b[0;31mException\u001b[0m: this is to raise"
     ]
    }
   ],
   "source": [
    "try :\n",
    "    result = int(a)\n",
    "except Exception :\n",
    "    raise Exception(\"this is to raise\")\n"
   ]
  },
  {
   "cell_type": "code",
   "execution_count": null,
   "id": "940cc3f2-f1c9-4aff-a2e9-d5bbc4863f4a",
   "metadata": {},
   "outputs": [],
   "source": []
  },
  {
   "cell_type": "markdown",
   "id": "62f2d48c-471e-4b62-8eaa-b571af2237c4",
   "metadata": {},
   "source": [
    "Q5 . What are Custom Exception in python? Why do we need Custom Exceptions? Explain with an example."
   ]
  },
  {
   "cell_type": "markdown",
   "id": "61869eab-0211-4b15-a3c4-e1405df54cba",
   "metadata": {},
   "source": [
    "ans - Custom Exception are that which is made by us to fulfill our custom requirements.\n",
    "\n",
    "\n",
    "\n",
    "Sometimes based on project requirement, a we needs to create our own exceptions and raise explicitly for corresponding scenarios. Such types of exceptions are called customized Exceptions or Programmatic Exceptions. We can raise a custom exception by using the keyword ‘raise’."
   ]
  },
  {
   "cell_type": "code",
   "execution_count": 71,
   "id": "0bbb00ed-cfab-4693-9154-6c79afee9e08",
   "metadata": {},
   "outputs": [
    {
     "name": "stdin",
     "output_type": "stream",
     "text": [
      "enter your age 18\n"
     ]
    }
   ],
   "source": [
    "age = int(input('enter your age'))"
   ]
  },
  {
   "cell_type": "code",
   "execution_count": 72,
   "id": "b3e4b412-4542-4b8e-88bd-c51d062fc69a",
   "metadata": {},
   "outputs": [],
   "source": [
    "class validateage(Exception):\n",
    "    \n",
    "    def  __init__(self,msg):\n",
    "        \n",
    "        self.msg = msg"
   ]
  },
  {
   "cell_type": "code",
   "execution_count": 76,
   "id": "f19e915d-082d-4c02-858e-da00b4d9c629",
   "metadata": {},
   "outputs": [],
   "source": [
    "def voter(age):\n",
    "    \n",
    "    if age < 18:\n",
    "        raise validateage(\"You are not eligible to give vote\")\n",
    "        \n",
    "    else :\n",
    "        raise validateage(\"You are eligible to give vote\")"
   ]
  },
  {
   "cell_type": "code",
   "execution_count": 77,
   "id": "afe5a08d-4671-4669-8dee-18ed7217fac8",
   "metadata": {},
   "outputs": [
    {
     "name": "stdin",
     "output_type": "stream",
     "text": [
      "enter your age 15\n"
     ]
    },
    {
     "name": "stdout",
     "output_type": "stream",
     "text": [
      "You are not eligible to give vote\n"
     ]
    }
   ],
   "source": [
    "try:\n",
    "    age = int(input('enter your age'))\n",
    "    voter(age)\n",
    "    \n",
    "except validateage as e:\n",
    "    print(e)"
   ]
  },
  {
   "cell_type": "code",
   "execution_count": null,
   "id": "b31fbae9-1f25-47f6-9197-bdeaf48603ee",
   "metadata": {},
   "outputs": [],
   "source": []
  },
  {
   "cell_type": "markdown",
   "id": "9af1719b-450e-40c9-9cac-f11b16405057",
   "metadata": {},
   "source": [
    "Q.6 Create a custom exception class. Use this class to handle this exception."
   ]
  },
  {
   "cell_type": "code",
   "execution_count": null,
   "id": "ff35a8f6-da9c-4f8a-b9a2-e658ab7ba2c3",
   "metadata": {},
   "outputs": [],
   "source": []
  },
  {
   "cell_type": "code",
   "execution_count": 79,
   "id": "0565c51b-4772-4ec7-bfdd-fac54addea2a",
   "metadata": {},
   "outputs": [],
   "source": [
    "class validatetaxpayer(Exception):\n",
    "    \n",
    "    def  __init__(self,msg):\n",
    "        \n",
    "        self.msg = msg"
   ]
  },
  {
   "cell_type": "code",
   "execution_count": 87,
   "id": "3e570994-13f4-4b91-82bb-89bbec45f9f1",
   "metadata": {},
   "outputs": [],
   "source": [
    "def taxpayer(income):\n",
    "    \n",
    "    if income > 500000:\n",
    "        raise validatetaxpayer(\"You are not eligible to pay tax\")\n",
    "        \n",
    "    else :\n",
    "        raise validatetaxpayer(\"You are eligible to pay tax\")"
   ]
  },
  {
   "cell_type": "code",
   "execution_count": 88,
   "id": "6c44e893-1d9d-40e8-ba1a-f5b751bfd5f2",
   "metadata": {},
   "outputs": [
    {
     "name": "stdin",
     "output_type": "stream",
     "text": [
      "enter your age 300000\n"
     ]
    },
    {
     "name": "stdout",
     "output_type": "stream",
     "text": [
      "You are eligible to pay tax\n",
      "this to code to check who are eligible to pay taxes\n"
     ]
    }
   ],
   "source": [
    "try:\n",
    "    income = int(input('enter your age'))\n",
    "    taxpayer(income)\n",
    "    \n",
    "except validatetaxpayer as e:\n",
    "    print(e)\n",
    "finally:\n",
    "    print(\"this to code to check who are eligible to pay taxes\")"
   ]
  },
  {
   "cell_type": "code",
   "execution_count": null,
   "id": "e3d41fac-a74a-442a-bd67-b558ec6f0c43",
   "metadata": {},
   "outputs": [],
   "source": []
  }
 ],
 "metadata": {
  "kernelspec": {
   "display_name": "Python 3 (ipykernel)",
   "language": "python",
   "name": "python3"
  },
  "language_info": {
   "codemirror_mode": {
    "name": "ipython",
    "version": 3
   },
   "file_extension": ".py",
   "mimetype": "text/x-python",
   "name": "python",
   "nbconvert_exporter": "python",
   "pygments_lexer": "ipython3",
   "version": "3.10.8"
  }
 },
 "nbformat": 4,
 "nbformat_minor": 5
}
