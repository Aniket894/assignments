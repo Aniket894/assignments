{
 "cells": [
  {
   "cell_type": "markdown",
   "id": "676d294c-44be-4300-a06f-7da39c3f8b92",
   "metadata": {},
   "source": [
    "Q1. What is the Probability density function?"
   ]
  },
  {
   "cell_type": "markdown",
   "id": "4bab0c21-828b-4653-a7e9-d767affac448",
   "metadata": {},
   "source": [
    "ans - The Probability Density Function (PDF) is a mathematical function that describes the probability distribution of a continuous random variable. It is used to model the relative likelihood of observing different values of a continuous random variable, and is defined as the derivative of the cumulative distribution function (CDF) of the variable.\n",
    "\n",
    "The PDF assigns a probability density value to each point in the range of the random variable, which represents the relative likelihood of the variable taking on that value. The area under the PDF curve between two points on the horizontal axis represents the probability that the variable will take on a value between those two points.\n",
    "\n",
    "The PDF is a key concept in probability theory and statistics, and is widely used in fields such as physics, engineering, finance, and economics to model and analyze continuous random variables. It is also used to calculate various statistical measures, such as mean, variance, and skewness.\n",
    "\n",
    "Examples of commonly used PDFs include the normal distribution (or Gaussian distribution), which is used to model a wide range of naturally occurring phenomena, and the exponential distribution, which is used to model waiting times and lifetimes of objects or systems."
   ]
  },
  {
   "cell_type": "code",
   "execution_count": null,
   "id": "73379546-65f0-4932-981f-b3f7320d8dc6",
   "metadata": {},
   "outputs": [],
   "source": []
  },
  {
   "cell_type": "markdown",
   "id": "b5467b0c-d37c-4a62-aff6-378062f82fef",
   "metadata": {},
   "source": [
    "Q2. What are the types of Probability distribution?"
   ]
  },
  {
   "cell_type": "markdown",
   "id": "e7f9bf3b-353e-4d50-9ba4-883c087aa3a5",
   "metadata": {},
   "source": [
    "ans - There are two main types of probability distributions: discrete probability distributions and continuous probability distributions.\n",
    "\n",
    "Discrete probability distributions - Discrete probability distributions are used for random variables that can only take on a finite or countably infinite set of values. The probability of each possible value of the variable is given by a probability mass function (PMF), which assigns a probability to each value in the range of the variable. Examples of discrete probability distributions include the binomial distribution, the Poisson distribution, and the hypergeometric distribution.\n",
    "\n",
    "Continuous probability distributions - Continuous probability distributions are used for random variables that can take on any value in a continuous range. The probability of the variable taking on a particular value is given by a probability density function (PDF), which represents the relative likelihood of observing different values of the variable. Examples of continuous probability distributions include the normal distribution, the exponential distribution, and the beta distribution.\n",
    "\n",
    "Both discrete and continuous probability distributions are important in probability theory and statistics, and are used to model and analyze a wide range of phenomena in fields such as physics, engineering, finance, and biology."
   ]
  },
  {
   "cell_type": "code",
   "execution_count": null,
   "id": "b2515fc8-f146-43ce-8b65-fa2f27150e5b",
   "metadata": {},
   "outputs": [],
   "source": []
  },
  {
   "cell_type": "markdown",
   "id": "cd696d7a-f4dd-4f12-afd4-3fcad4066544",
   "metadata": {},
   "source": [
    "Q3. Write a Python function to calculate the probability density function of a normal distribution with\n",
    "given mean and standard deviation at a given point.\n",
    "\n"
   ]
  },
  {
   "cell_type": "code",
   "execution_count": 1,
   "id": "16125e3f-c210-4d54-bc25-c2f4f3e0c9d2",
   "metadata": {},
   "outputs": [],
   "source": [
    "import math\n",
    "\n",
    "def normal_pdf(x, mu, sigma):\n",
    "    \"\"\"\n",
    "    Calculates the probability density function of a normal distribution with mean mu and standard deviation sigma at point x.\n",
    "    \"\"\"\n",
    "    return (1 / (sigma * math.sqrt(2 * math.pi))) * math.exp(-(x - mu)**2 / (2 * sigma**2))\n",
    "\n"
   ]
  },
  {
   "cell_type": "markdown",
   "id": "b70bbc26-8afc-4867-ac4e-f97b0eb4b7e1",
   "metadata": {},
   "source": [
    "This function takes three arguments:\n",
    "\n",
    "x: The point at which to calculate the PDF.\n",
    "mu: The mean of the normal distribution.\n",
    "sigma: The standard deviation of the normal distribution."
   ]
  },
  {
   "cell_type": "code",
   "execution_count": 11,
   "id": "f716d279-f4c1-4965-b5af-7f908911dac7",
   "metadata": {},
   "outputs": [
    {
     "data": {
      "text/plain": [
       "0.12951759566589174"
      ]
     },
     "execution_count": 11,
     "metadata": {},
     "output_type": "execute_result"
    }
   ],
   "source": [
    "normal_pdf(1.5, 0, 1)\n",
    "0.12951759566589174\n"
   ]
  },
  {
   "cell_type": "markdown",
   "id": "17c37d10-e849-4f7f-ac4a-79353b9c03ba",
   "metadata": {},
   "source": [
    "This calculates the PDF of a normal distribution with mean 0 and standard deviation 1 at point 1.5, which is approximately 0.1295."
   ]
  },
  {
   "cell_type": "code",
   "execution_count": null,
   "id": "fea36c92-7957-40c0-a0a2-dd7e3d164ee3",
   "metadata": {},
   "outputs": [],
   "source": []
  },
  {
   "cell_type": "markdown",
   "id": "f55b7e8c-29b9-4530-9d6a-c4479eb34924",
   "metadata": {},
   "source": [
    "Q4. What are the properties of Binomial distribution? Give two examples of events where binomial\n",
    "distribution can be applied."
   ]
  },
  {
   "cell_type": "markdown",
   "id": "2449de4a-1e6e-4e05-bcdc-11e4582bcb3a",
   "metadata": {},
   "source": [
    "ans - The properties of the binomial distribution are as follows:\n",
    "\n",
    "The binomial distribution is a discrete probability distribution that describes the number of successes in a fixed number of independent trials.\n",
    "\n",
    "Each trial has only two possible outcomes, often called success and failure.\n",
    "\n",
    "The probability of success is constant for each trial.\n",
    "\n",
    "The trials are independent, meaning that the outcome of one trial does not affect the outcome of the other trials.\n",
    "\n",
    "The binomial distribution is characterized by two parameters: the number of trials (n) and the probability of success in each trial (p).\n",
    "\n",
    "Two examples of events where the binomial distribution can be applied are:\n",
    "\n",
    "A manufacturer produces a batch of 100 light bulbs. The probability of a bulb being defective is 0.02. What is the probability that there are exactly 3 defective bulbs in the batch? This is an example of a binomial distribution with n = 100 and p = 0.02.\n",
    "\n",
    "A survey of 500 people is conducted to determine the proportion of people who prefer a particular brand of soda. The probability of a person preferring the brand is 0.6. What is the probability that more than 300 people prefer the brand? This is another example of a binomial distribution with n = 500 and p = 0.6."
   ]
  },
  {
   "cell_type": "code",
   "execution_count": null,
   "id": "4bfe9be0-e62d-4fec-8f9a-74853d89a50c",
   "metadata": {},
   "outputs": [],
   "source": []
  },
  {
   "cell_type": "markdown",
   "id": "1763a2aa-0e96-4352-8ee9-ed5e9ee11752",
   "metadata": {},
   "source": [
    "Q5. Generate a random sample of size 1000 from a binomial distribution with probability of success 0.4\n",
    "and plot a histogram of the results using matplotlib."
   ]
  },
  {
   "cell_type": "code",
   "execution_count": 12,
   "id": "0c258be1-9153-4ac8-bc64-e59f5c84f418",
   "metadata": {},
   "outputs": [
    {
     "data": {
      "image/png": "[encoded data removed]",
      "text/plain": [
       "<Figure size 640x480 with 1 Axes>"
      ]
     },
     "metadata": {},
     "output_type": "display_data"
    }
   ],
   "source": [
    "import numpy as np\n",
    "import matplotlib.pyplot as plt\n",
    "\n",
    "# Set parameters\n",
    "n = 1000\n",
    "p = 0.4\n",
    "\n",
    "# Generate random sample from binomial distribution\n",
    "sample = np.random.binomial(n, p, size=1000)\n",
    "\n",
    "# Plot histogram of results\n",
    "plt.hist(sample, bins=30)\n",
    "plt.title('Binomial Distribution Histogram')\n",
    "plt.xlabel('Number of Successes')\n",
    "plt.ylabel('Frequency')\n",
    "plt.show()\n"
   ]
  },
  {
   "cell_type": "code",
   "execution_count": null,
   "id": "72e96e7f-5a98-475f-8ce0-04778d9237c0",
   "metadata": {},
   "outputs": [],
   "source": []
  },
  {
   "cell_type": "markdown",
   "id": "85e169c3-2f8f-44d2-9f8d-25f93cc3333c",
   "metadata": {},
   "source": [
    "Q6. Write a Python function to calculate the cumulative distribution function of a Poisson distribution\n",
    "with given mean at a given point."
   ]
  },
  {
   "cell_type": "code",
   "execution_count": 13,
   "id": "97306409-ed37-4acc-8ab7-574f18bd707e",
   "metadata": {},
   "outputs": [],
   "source": [
    "from scipy.stats import poisson\n",
    "\n",
    "def poisson_cdf(mu, k):\n",
    "    cdf = poisson.cdf(k, mu)\n",
    "    return cdf\n"
   ]
  },
  {
   "cell_type": "code",
   "execution_count": 14,
   "id": "1ef3c3de-fe20-4cd2-b056-d02fa995630c",
   "metadata": {},
   "outputs": [
    {
     "name": "stdout",
     "output_type": "stream",
     "text": [
      "0.42319008112684364\n"
     ]
    }
   ],
   "source": [
    "result = poisson_cdf(3, 2)\n",
    "print(result)\n"
   ]
  },
  {
   "cell_type": "code",
   "execution_count": null,
   "id": "166e2016-2b83-44d9-ae1d-b4f211997569",
   "metadata": {},
   "outputs": [],
   "source": []
  },
  {
   "cell_type": "markdown",
   "id": "3ed4b2c7-44ba-4f90-b8af-9661049f2239",
   "metadata": {},
   "source": [
    "Q7. How Binomial distribution different from Poisson distribution?"
   ]
  },
  {
   "cell_type": "markdown",
   "id": "72ea219f-fafa-4c9d-b095-8865dc1ad81f",
   "metadata": {},
   "source": [
    "ans - Binomial and Poisson distributions are both discrete probability distributions that are commonly used in statistical analysis. However, they differ in some key ways:\n",
    "\n",
    "Definition: Binomial distribution models the number of successes in a fixed number of independent trials, where each trial has the same probability of success.\n",
    "Poisson distribution models the number of rare events occurring in a fixed time or space interval.\n",
    "\n",
    "\n",
    "Parameters:Binomial distribution has two parameters: the number of trials n and the probability of success p.\n",
    "Poisson distribution has one parameter: the rate parameter λ.\n",
    "\n",
    "\n",
    "Assumptions:Binomial distribution assumes that the trials are independent and identically distributed, and that the probability of success is constant across all trials.\n",
    "Poisson distribution assumes that rare events occur independently of one another, and that the probability of occurrence is constant over time or space.\n",
    "\n",
    "\n",
    "Shape :Binomial distribution is bell-shaped and approaches a normal distribution as the number of trials increases.\n",
    "Poisson distribution is a skewed distribution with a long right tail.\n",
    "\n",
    "\n",
    "Relationship:Poisson distribution can be thought of as a limiting case of the binomial distribution, where the number of trials becomes very large and the probability of success becomes very small."
   ]
  },
  {
   "cell_type": "code",
   "execution_count": null,
   "id": "63a40bfa-50ce-4de8-8ca0-ca766b49e5df",
   "metadata": {},
   "outputs": [],
   "source": []
  },
  {
   "cell_type": "markdown",
   "id": "f303d58d-279d-4b0a-935b-95206609a014",
   "metadata": {},
   "source": [
    "Q8. Generate a random sample of size 1000 from a Poisson distribution with mean 5 and calculate the\n",
    "sample mean and variance."
   ]
  },
  {
   "cell_type": "code",
   "execution_count": 15,
   "id": "887becff-ee4c-46e8-aa08-d7bc4ea09a4f",
   "metadata": {},
   "outputs": [
    {
     "name": "stdout",
     "output_type": "stream",
     "text": [
      "Sample mean: 5.029\n",
      "Sample variance: 5.016159000000001\n"
     ]
    }
   ],
   "source": [
    "import numpy as np\n",
    "\n",
    "# Generate random sample\n",
    "sample = np.random.poisson(lam=5, size=1000)\n",
    "\n",
    "# Calculate sample mean and variance\n",
    "mean = np.mean(sample)\n",
    "variance = np.var(sample)\n",
    "\n",
    "print(\"Sample mean:\", mean)\n",
    "print(\"Sample variance:\", variance)\n"
   ]
  },
  {
   "cell_type": "code",
   "execution_count": null,
   "id": "023912e8-744a-4ea0-8513-215349374e6e",
   "metadata": {},
   "outputs": [],
   "source": []
  },
  {
   "cell_type": "code",
   "execution_count": null,
   "id": "8c186a1a-66ac-42d4-8c03-c05e81b4fa3e",
   "metadata": {},
   "outputs": [],
   "source": []
  },
  {
   "cell_type": "markdown",
   "id": "76ee5f1f-f407-4086-aac9-d90ee17c66a1",
   "metadata": {},
   "source": [
    "Q9. How mean and variance are related in Binomial distribution and Poisson distribution?\n"
   ]
  },
  {
   "cell_type": "markdown",
   "id": "6e6a95a6-c86f-4909-8f96-5299119b30ad",
   "metadata": {},
   "source": [
    "ans - In both the binomial and Poisson distributions, the mean and variance are related, but in slightly different ways.\n",
    "\n",
    "For a binomial distribution with parameters n and p, the mean is given by μ = np and the variance is given by σ^2 = np(1-p). So, in this case, the variance depends on both the probability of success and the number of trials. As the probability of success increases, the variance decreases, while as the number of trials increases, the variance increases.\n",
    "\n",
    "For a Poisson distribution with parameter λ, both the mean and variance are equal to λ. So in this case, the variance depends only on the mean, and not on any other parameter. As the mean increases, the variance also increases.\n",
    "\n",
    "Overall, the relationship between mean and variance depends on the specific distribution being used."
   ]
  },
  {
   "cell_type": "code",
   "execution_count": null,
   "id": "c0401563-d538-4980-ac6e-44d9482d891c",
   "metadata": {},
   "outputs": [],
   "source": []
  },
  {
   "cell_type": "markdown",
   "id": "9b4c7667-731e-49c7-bec3-bc8dd72aabd4",
   "metadata": {},
   "source": [
    "Q10. In normal distribution with respect to mean position, where does the least frequent data appear?"
   ]
  },
  {
   "cell_type": "markdown",
   "id": "9d4d014f-dfd0-41e4-bf23-3bc7d29b4634",
   "metadata": {},
   "source": [
    "ans - \n",
    "In a normal distribution, the least frequent data appears in the tails of the distribution, which are located farthest from the mean. Specifically, the data points that are more than two standard deviations away from the mean (i.e., in the upper and lower 2.5% of the distribution) are considered to be outliers or extreme values, and are less frequent than those closer to the mean. This is because the normal distribution is symmetric, with the majority of data clustered around the mean, and the tails becoming progressively thinner as they move farther away from the center of the distribution."
   ]
  }
 ],
 "metadata": {
  "kernelspec": {
   "display_name": "Python 3 (ipykernel)",
   "language": "python",
   "name": "python3"
  },
  "language_info": {
   "codemirror_mode": {
    "name": "ipython",
    "version": 3
   },
   "file_extension": ".py",
   "mimetype": "text/x-python",
   "name": "python",
   "nbconvert_exporter": "python",
   "pygments_lexer": "ipython3",
   "version": "3.10.8"
  }
 },
 "nbformat": 4,
 "nbformat_minor": 5
}
