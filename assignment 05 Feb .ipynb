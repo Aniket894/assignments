{
 "cells": [
  {
   "cell_type": "markdown",
   "id": "01e69631-bd30-4b4d-a397-cbaecbc587f0",
   "metadata": {},
   "source": [
    "Q1. Explain Class and Object with respect to Object-Oriented Programming. Give a suitable example."
   ]
  },
  {
   "cell_type": "markdown",
   "id": "124079f4-47a5-4b31-a335-4c536a0f76c0",
   "metadata": {},
   "source": [
    "ans - Almost everything in Python is an object, with its properties and methods. \n",
    "A Class is like an object constructor, or a \"blueprint\" for creating objects."
   ]
  },
  {
   "cell_type": "code",
   "execution_count": 5,
   "id": "d141f0e7-0936-4431-b572-1499ce5715f7",
   "metadata": {},
   "outputs": [],
   "source": [
    "class bike:\n",
    "    name = ' '\n",
    "    gear = 0"
   ]
  },
  {
   "cell_type": "code",
   "execution_count": 6,
   "id": "b3d2f28e-f9d4-4cdb-a0e8-314ba4bb5c6a",
   "metadata": {},
   "outputs": [],
   "source": [
    "bike1= bike()"
   ]
  },
  {
   "cell_type": "code",
   "execution_count": 8,
   "id": "984fc7c0-5126-4776-ab1e-1ce36d7f804d",
   "metadata": {},
   "outputs": [],
   "source": [
    "bike1.gear = 11\n",
    "bike1.name = \"MoBike\"\n"
   ]
  },
  {
   "cell_type": "code",
   "execution_count": 10,
   "id": "37a84220-51ce-4567-9bae-7fa5a1264841",
   "metadata": {},
   "outputs": [
    {
     "name": "stdout",
     "output_type": "stream",
     "text": [
      "Name: Mountain Bike, Gears: 11 \n"
     ]
    }
   ],
   "source": [
    "print(f\"Name: {bike1.name}, Gears: {bike1.gear} \")"
   ]
  },
  {
   "cell_type": "markdown",
   "id": "09a93a67-f84b-4f14-ae87-afa11f637d79",
   "metadata": {},
   "source": [
    "Q2. Name the four pillars of OOPs."
   ]
  },
  {
   "cell_type": "markdown",
   "id": "8c6b83ad-8911-45f5-ac2c-c424e5fa86ca",
   "metadata": {},
   "source": [
    "ans - OOPs four pillars are Inheritance, Polymorphism, Encapsulation and Abstraction."
   ]
  },
  {
   "cell_type": "markdown",
   "id": "c7b47dc1-0db7-408e-819c-1cbb0eb439b0",
   "metadata": {},
   "source": [
    "Q3. Explain why the __init__() function is used. Give a suitable example.\n"
   ]
  },
  {
   "cell_type": "markdown",
   "id": "f42d5dbc-4a79-465f-b1ff-ce6cdf37c3a6",
   "metadata": {},
   "source": [
    "ans - __init__ is a special python method that runs whenever a new object is created.\n",
    "     These types of functions are used to initialize the attributes of that class,\n",
    "    his type of function is also known as the constructor function. A constructor \n",
    "    function is a function that is called every time a new class object is created."
   ]
  },
  {
   "cell_type": "code",
   "execution_count": 11,
   "id": "db1d3767-9e36-46d4-b04f-8bb8a7eec06a",
   "metadata": {},
   "outputs": [],
   "source": [
    "class trip:\n",
    "    \n",
    "    def __init__(self,country,from_country,flight ,cost):\n",
    "        self.country1 = country\n",
    "        self.from_country1 = from_country\n",
    "        self.flight1 = flight\n",
    "        self.cost1 = cost\n",
    "        \n",
    "    def trip_details(self):\n",
    "        return self.country1,self.from_country1,self.flight1,self.cost1\n",
    "    "
   ]
  },
  {
   "cell_type": "code",
   "execution_count": 12,
   "id": "c2d5baf1-4683-437c-9f9f-500f47eae8ea",
   "metadata": {},
   "outputs": [],
   "source": [
    "anik = trip('usa','India','Air India',120000)"
   ]
  },
  {
   "cell_type": "code",
   "execution_count": 13,
   "id": "76ce82ec-a5a0-489d-a93d-e1b9ec6495b1",
   "metadata": {},
   "outputs": [
    {
     "data": {
      "text/plain": [
       "('usa', 'India', 'Air India', 120000)"
      ]
     },
     "execution_count": 13,
     "metadata": {},
     "output_type": "execute_result"
    }
   ],
   "source": [
    "anik.trip_details()"
   ]
  },
  {
   "cell_type": "code",
   "execution_count": 39,
   "id": "d6675d53-2186-4d70-b078-0524b0628e95",
   "metadata": {},
   "outputs": [],
   "source": [
    "class pwskills34:\n",
    "    \n",
    "    def __init__(ani,course,time,cost,mentor):\n",
    "        \n",
    "        ani.course =course\n",
    "        ani.time = time\n",
    "        ani.cost = cost\n",
    "        ani.mentor = mentor\n",
    "    \n",
    "    def return_student_details(ani):\n",
    "        return ani.course,ani.time,ani.cost,ani.mentor\n",
    "    \n",
    "    "
   ]
  },
  {
   "cell_type": "code",
   "execution_count": 41,
   "id": "ea7acaa8-ee44-4383-af00-4a387dd09c7d",
   "metadata": {},
   "outputs": [],
   "source": [
    "aniket = pwskills34('data_science', 3,3500,'sudhanshu')\n"
   ]
  },
  {
   "cell_type": "code",
   "execution_count": 43,
   "id": "1d535697-f352-44ea-bddb-c356db9e1bf6",
   "metadata": {},
   "outputs": [
    {
     "data": {
      "text/plain": [
       "('data_science', 3, 3500, 'sudhanshu')"
      ]
     },
     "execution_count": 43,
     "metadata": {},
     "output_type": "execute_result"
    }
   ],
   "source": [
    "aniket.return_student_details()"
   ]
  },
  {
   "cell_type": "code",
   "execution_count": 45,
   "id": "7d52a096-72a8-46fb-a8e3-3c4e3d3b8aac",
   "metadata": {},
   "outputs": [
    {
     "data": {
      "text/plain": [
       "3"
      ]
     },
     "execution_count": 45,
     "metadata": {},
     "output_type": "execute_result"
    }
   ],
   "source": [
    "aniket.time"
   ]
  },
  {
   "cell_type": "code",
   "execution_count": 46,
   "id": "df03b572-53bb-4317-a986-a2b04ce3892a",
   "metadata": {},
   "outputs": [
    {
     "data": {
      "text/plain": [
       "'sudhanshu'"
      ]
     },
     "execution_count": 46,
     "metadata": {},
     "output_type": "execute_result"
    }
   ],
   "source": [
    "aniket.mentor"
   ]
  },
  {
   "cell_type": "markdown",
   "id": "7674ed33-02b8-4d7e-8fe2-3fa0be30d0f0",
   "metadata": {},
   "source": [
    "Q4. Why self is used in OOPs?"
   ]
  },
  {
   "cell_type": "markdown",
   "id": "c1ae246e-b2d7-4530-a3ec-01f478910403",
   "metadata": {},
   "source": [
    "ans- The use of self makes it easier to distinguish between instance attributes \n",
    "     (and methods) from local variables. \n",
    "    The self variable is used to represent the instance of the class\n",
    "    which is often used in object-oriented programming. It works as \n",
    "    a reference to the object. Python uses the self parameter to \n",
    "    refer to instance attributes and methods of the class"
   ]
  },
  {
   "cell_type": "code",
   "execution_count": null,
   "id": "7b5e5af0-9450-48c3-a1cd-dab38b2280dd",
   "metadata": {},
   "outputs": [],
   "source": []
  },
  {
   "cell_type": "markdown",
   "id": "ce713d01-8d79-4619-bc55-61713aa07487",
   "metadata": {},
   "source": [
    "Q5. What is inheritance? Give an example for each type of inheritance."
   ]
  },
  {
   "cell_type": "markdown",
   "id": "1c0cfb1e-aa24-490d-8116-e76b9d918bb8",
   "metadata": {},
   "source": [
    "ans - Inheritance allows us to define a class that inherits all the methods and properties \n",
    "     from another class. Parent class is the class being inherited from, also called base class.\n",
    "   Child class is the class that inherits from another class, also called derived class."
   ]
  },
  {
   "cell_type": "markdown",
   "id": "591c4ca0-f174-4358-b9dd-6c030f626629",
   "metadata": {},
   "source": [
    "single inheritance"
   ]
  },
  {
   "cell_type": "code",
   "execution_count": 2,
   "id": "e466738c-9b47-49cb-8856-437954709e69",
   "metadata": {},
   "outputs": [],
   "source": [
    "class dad:\n",
    "    \n",
    "    def dad_name(self):\n",
    "        return ' rajesh'"
   ]
  },
  {
   "cell_type": "code",
   "execution_count": 3,
   "id": "66ead76f-0e12-4956-8d0e-f5794fe8fdf2",
   "metadata": {},
   "outputs": [],
   "source": [
    "class son(dad):\n",
    "    \n",
    "    pass"
   ]
  },
  {
   "cell_type": "code",
   "execution_count": 4,
   "id": "f3ea727a-c327-4abf-b672-fbb74b8cdd0b",
   "metadata": {},
   "outputs": [],
   "source": [
    "son_obj = son()"
   ]
  },
  {
   "cell_type": "code",
   "execution_count": 5,
   "id": "64d58c1d-8655-45aa-a7ca-6a7125e513b8",
   "metadata": {},
   "outputs": [
    {
     "data": {
      "text/plain": [
       "' rajesh'"
      ]
     },
     "execution_count": 5,
     "metadata": {},
     "output_type": "execute_result"
    }
   ],
   "source": [
    "son_obj.dad_name()"
   ]
  },
  {
   "cell_type": "markdown",
   "id": "e137e904-4084-42a4-a424-037c55e1cf77",
   "metadata": {},
   "source": [
    "Multiple inheritance"
   ]
  },
  {
   "cell_type": "code",
   "execution_count": 7,
   "id": "986e646f-19a7-4cce-aee9-695212743ee5",
   "metadata": {},
   "outputs": [],
   "source": [
    "class tesla_X1:\n",
    "    \n",
    "    def cost_tesla_X1(self):\n",
    "        return '50 lakhs'"
   ]
  },
  {
   "cell_type": "code",
   "execution_count": 8,
   "id": "e5b09501-9bf9-4e7f-ae80-e5f995cc8b2d",
   "metadata": {},
   "outputs": [],
   "source": [
    "class tesla_roadstor:\n",
    "    \n",
    "    def cost_tesla_roadstor(self):\n",
    "        return ' 80 lakhs'"
   ]
  },
  {
   "cell_type": "code",
   "execution_count": 9,
   "id": "e05d87df-2c84-46e4-9b10-2cb920dd5dd8",
   "metadata": {},
   "outputs": [],
   "source": [
    "class tesla(tesla_X1, tesla_roadstor):\n",
    "    \n",
    "    pass"
   ]
  },
  {
   "cell_type": "code",
   "execution_count": 10,
   "id": "b35ea4d7-d136-4237-8932-5012e061aca7",
   "metadata": {},
   "outputs": [],
   "source": [
    "tes = tesla()"
   ]
  },
  {
   "cell_type": "code",
   "execution_count": 11,
   "id": "3e3f8e29-69d8-45ab-8f1d-0f5e50661dde",
   "metadata": {},
   "outputs": [
    {
     "data": {
      "text/plain": [
       "'50 lakhs'"
      ]
     },
     "execution_count": 11,
     "metadata": {},
     "output_type": "execute_result"
    }
   ],
   "source": [
    "tes.cost_tesla_X1()"
   ]
  },
  {
   "cell_type": "code",
   "execution_count": 12,
   "id": "9e705909-1878-484a-a774-b8d6b631337a",
   "metadata": {},
   "outputs": [
    {
     "data": {
      "text/plain": [
       "' 80 lakhs'"
      ]
     },
     "execution_count": 12,
     "metadata": {},
     "output_type": "execute_result"
    }
   ],
   "source": [
    "tes.cost_tesla_roadstor()"
   ]
  },
  {
   "cell_type": "markdown",
   "id": "c68b6612-e261-4a03-92b4-001ae7aa1521",
   "metadata": {},
   "source": [
    "multilevel inheritance"
   ]
  },
  {
   "cell_type": "code",
   "execution_count": 25,
   "id": "ac41809d-892d-42da-9212-c52a0b4bf201",
   "metadata": {},
   "outputs": [],
   "source": [
    "class google:\n",
    "    \n",
    "    def valuation_google(self):\n",
    "        return ' 11.2 trillion'\n",
    "    "
   ]
  },
  {
   "cell_type": "code",
   "execution_count": 26,
   "id": "ac8b3193-bc7d-48d9-a21f-71aff959e6f9",
   "metadata": {},
   "outputs": [],
   "source": [
    "class youtube(google):\n",
    "    \n",
    "    def valuation_youtube(self):\n",
    "        return ' 8 trillion'\n",
    "    "
   ]
  },
  {
   "cell_type": "code",
   "execution_count": 27,
   "id": "03f53e37-3298-4fe3-b836-a2315b73d6df",
   "metadata": {},
   "outputs": [],
   "source": [
    "class gmail(youtube):\n",
    "    \n",
    "    def valuation_gmail(self):\n",
    "        return ' 6 trillion'"
   ]
  },
  {
   "cell_type": "code",
   "execution_count": 28,
   "id": "a8e2e298-f4bf-4205-9bfb-c27f87fb446d",
   "metadata": {},
   "outputs": [],
   "source": [
    "class google_pixel(gmail):\n",
    "    \n",
    "    def valuation_pixel(self):\n",
    "        return ' 4.7 trillion'"
   ]
  },
  {
   "cell_type": "code",
   "execution_count": 29,
   "id": "879bfb6a-ec6c-4af2-9331-c73d35fc752b",
   "metadata": {},
   "outputs": [],
   "source": [
    "class alphabet(google_pixel):\n",
    "    \n",
    "    def valuation_alphabet(self):\n",
    "        return ' 29 trillion'"
   ]
  },
  {
   "cell_type": "code",
   "execution_count": 30,
   "id": "9e9514e0-df68-43a9-98f4-efd00496ebe4",
   "metadata": {},
   "outputs": [],
   "source": [
    "alp= alphabet()"
   ]
  },
  {
   "cell_type": "code",
   "execution_count": 31,
   "id": "2f80b76e-661f-4dc5-9aa6-502c77b24ed9",
   "metadata": {},
   "outputs": [
    {
     "data": {
      "text/plain": [
       "' 29 trillion'"
      ]
     },
     "execution_count": 31,
     "metadata": {},
     "output_type": "execute_result"
    }
   ],
   "source": [
    "alp.valuation_alphabet()"
   ]
  },
  {
   "cell_type": "code",
   "execution_count": 32,
   "id": "a1d22001-9da4-4c5e-847c-17c0ad9f10fb",
   "metadata": {},
   "outputs": [
    {
     "data": {
      "text/plain": [
       "' 6 trillion'"
      ]
     },
     "execution_count": 32,
     "metadata": {},
     "output_type": "execute_result"
    }
   ],
   "source": [
    "alp.valuation_gmail()"
   ]
  },
  {
   "cell_type": "code",
   "execution_count": 33,
   "id": "66300b9e-2c5e-456f-8e15-16d341cc698b",
   "metadata": {},
   "outputs": [
    {
     "data": {
      "text/plain": [
       "' 8 trillion'"
      ]
     },
     "execution_count": 33,
     "metadata": {},
     "output_type": "execute_result"
    }
   ],
   "source": [
    "alp.valuation_youtube()"
   ]
  },
  {
   "cell_type": "code",
   "execution_count": 34,
   "id": "4b996e22-51cc-404a-a958-4ff05af122f0",
   "metadata": {},
   "outputs": [
    {
     "data": {
      "text/plain": [
       "' 4.7 trillion'"
      ]
     },
     "execution_count": 34,
     "metadata": {},
     "output_type": "execute_result"
    }
   ],
   "source": [
    "alp.valuation_pixel()"
   ]
  },
  {
   "cell_type": "markdown",
   "id": "8bcbc714-92f0-4c7d-91f6-8394ade6306d",
   "metadata": {},
   "source": [
    "Hierarchical Inheritance:"
   ]
  },
  {
   "cell_type": "code",
   "execution_count": 60,
   "id": "c897e722-4883-46e2-aa9e-b129554783a1",
   "metadata": {},
   "outputs": [],
   "source": [
    "class father_name:\n",
    "    \n",
    "    def fathersalary(self):\n",
    "        return ' 10 lakhs'"
   ]
  },
  {
   "cell_type": "code",
   "execution_count": 61,
   "id": "ca42e1b1-da19-4944-9228-c392cf279251",
   "metadata": {},
   "outputs": [],
   "source": [
    "class rohit(father_name):\n",
    "    \n",
    "    def salary(self):\n",
    "        return ' 20 thousand per month'\n",
    "        \n",
    "         "
   ]
  },
  {
   "cell_type": "code",
   "execution_count": 62,
   "id": "b41d1813-3f4e-4456-b12a-01f48e80131e",
   "metadata": {},
   "outputs": [],
   "source": [
    "class mohit(father_name):\n",
    "    \n",
    "    def salary(self):\n",
    "        return '36 thousand per month'\n",
    "       "
   ]
  },
  {
   "cell_type": "code",
   "execution_count": 63,
   "id": "878009ff-af92-4621-9436-5b7be378b461",
   "metadata": {},
   "outputs": [],
   "source": [
    "mo = mohit()"
   ]
  },
  {
   "cell_type": "code",
   "execution_count": 64,
   "id": "97162b67-a55a-4504-ad70-5cac661badf7",
   "metadata": {},
   "outputs": [
    {
     "data": {
      "text/plain": [
       "'36 thousand per month'"
      ]
     },
     "execution_count": 64,
     "metadata": {},
     "output_type": "execute_result"
    }
   ],
   "source": [
    "mo.salary()"
   ]
  },
  {
   "cell_type": "code",
   "execution_count": 65,
   "id": "f298a531-918c-4241-91b3-78a7dbf4ef9c",
   "metadata": {},
   "outputs": [
    {
     "data": {
      "text/plain": [
       "' 10 lakhs'"
      ]
     },
     "execution_count": 65,
     "metadata": {},
     "output_type": "execute_result"
    }
   ],
   "source": [
    "mo.fathersalary()"
   ]
  },
  {
   "cell_type": "code",
   "execution_count": 66,
   "id": "c1edb30b-4f38-49df-8352-db13aab9c789",
   "metadata": {},
   "outputs": [],
   "source": [
    "ro = rohit()"
   ]
  },
  {
   "cell_type": "code",
   "execution_count": 67,
   "id": "15f987c9-a59e-4f56-8890-b1995377ca29",
   "metadata": {},
   "outputs": [
    {
     "data": {
      "text/plain": [
       "' 20 thousand per month'"
      ]
     },
     "execution_count": 67,
     "metadata": {},
     "output_type": "execute_result"
    }
   ],
   "source": [
    "ro.salary()"
   ]
  },
  {
   "cell_type": "code",
   "execution_count": 68,
   "id": "09500127-b317-49ce-8720-32e878fee0b4",
   "metadata": {},
   "outputs": [
    {
     "data": {
      "text/plain": [
       "' 10 lakhs'"
      ]
     },
     "execution_count": 68,
     "metadata": {},
     "output_type": "execute_result"
    }
   ],
   "source": [
    "ro.fathersalary()"
   ]
  },
  {
   "cell_type": "markdown",
   "id": "d34ac2a0-7795-4e6e-8b31-a26c1fe68adf",
   "metadata": {},
   "source": [
    "Hybrid Inheritance:"
   ]
  },
  {
   "cell_type": "code",
   "execution_count": 14,
   "id": "1705a04c-8004-4005-b6ce-b25392b2e2ed",
   "metadata": {},
   "outputs": [],
   "source": [
    "class tata_cult:\n",
    "    \n",
    "    def tata_value(self):\n",
    "        return ' 600 biilion'"
   ]
  },
  {
   "cell_type": "code",
   "execution_count": 15,
   "id": "3c07a17d-5d45-4990-b809-7fd7c494f010",
   "metadata": {},
   "outputs": [],
   "source": [
    "class bata(tata_cult):\n",
    "    \n",
    "    def bata_value(self):\n",
    "        return '5 billion'"
   ]
  },
  {
   "cell_type": "code",
   "execution_count": 16,
   "id": "6b4a131f-687a-48e3-8dd5-c02b88f03fbb",
   "metadata": {},
   "outputs": [],
   "source": [
    "class meta(bata):\n",
    "    \n",
    "    def meta_value(self):\n",
    "        return '1 trillion'"
   ]
  },
  {
   "cell_type": "code",
   "execution_count": 17,
   "id": "c01d68e8-ae61-49d6-bda6-9ecd328c704b",
   "metadata": {},
   "outputs": [],
   "source": [
    "class School:\n",
    "\tdef func1(self):\n",
    "\t\tprint(\"Shivam Public School \")"
   ]
  },
  {
   "cell_type": "code",
   "execution_count": 18,
   "id": "1362525f-1eb7-458e-8e95-ef395c180b23",
   "metadata": {},
   "outputs": [],
   "source": [
    "class Student1(School):\n",
    "\tdef func2(self):\n",
    "\t\tprint(\"Govt.Boys Sr.Sec school \")\n"
   ]
  },
  {
   "cell_type": "code",
   "execution_count": 19,
   "id": "c4cbd462-8f4b-4070-aa14-5bd17caf4d0e",
   "metadata": {},
   "outputs": [],
   "source": [
    "class Student2(Student1):\n",
    "\tdef func3(self):\n",
    "\t\tprint(\"Ganga internation school.\")\n"
   ]
  },
  {
   "cell_type": "code",
   "execution_count": 20,
   "id": "9308e811-0835-4774-a152-33348cc1e08a",
   "metadata": {},
   "outputs": [],
   "source": [
    "\n",
    "class Student3(Student1, School):\n",
    "\tdef func4(self):\n",
    "\t\tprint(\"Co-ed  school of learning\")"
   ]
  },
  {
   "cell_type": "code",
   "execution_count": 21,
   "id": "e08bf880-8e06-4afe-b30c-1dfcd919f6d5",
   "metadata": {},
   "outputs": [],
   "source": [
    "object = Student3()\n"
   ]
  },
  {
   "cell_type": "code",
   "execution_count": 22,
   "id": "8d013dcf-f355-4725-80cb-8e2f066f7ff4",
   "metadata": {},
   "outputs": [
    {
     "name": "stdout",
     "output_type": "stream",
     "text": [
      "Shivam Public School \n"
     ]
    }
   ],
   "source": [
    "\n",
    "object.func1()\n"
   ]
  },
  {
   "cell_type": "code",
   "execution_count": 23,
   "id": "0cbb21ac-8d4f-4f9e-bafb-64d047b29ff9",
   "metadata": {},
   "outputs": [
    {
     "name": "stdout",
     "output_type": "stream",
     "text": [
      "Govt.Boys Sr.Sec school \n"
     ]
    }
   ],
   "source": [
    "object.func2()"
   ]
  },
  {
   "cell_type": "code",
   "execution_count": 24,
   "id": "85dbba34-2a87-44b9-ba1a-6b5e602da204",
   "metadata": {},
   "outputs": [
    {
     "name": "stdout",
     "output_type": "stream",
     "text": [
      "Co-ed  school of learning\n"
     ]
    }
   ],
   "source": [
    "object.func4()"
   ]
  },
  {
   "cell_type": "code",
   "execution_count": null,
   "id": "1d77827f-f266-4ec6-878b-d487ee2ffd97",
   "metadata": {},
   "outputs": [],
   "source": []
  },
  {
   "cell_type": "code",
   "execution_count": null,
   "id": "6822db96-12eb-4007-a3aa-28226e3dbd64",
   "metadata": {},
   "outputs": [],
   "source": []
  }
 ],
 "metadata": {
  "kernelspec": {
   "display_name": "Python 3 (ipykernel)",
   "language": "python",
   "name": "python3"
  },
  "language_info": {
   "codemirror_mode": {
    "name": "ipython",
    "version": 3
   },
   "file_extension": ".py",
   "mimetype": "text/x-python",
   "name": "python",
   "nbconvert_exporter": "python",
   "pygments_lexer": "ipython3",
   "version": "3.10.8"
  }
 },
 "nbformat": 4,
 "nbformat_minor": 5
}
