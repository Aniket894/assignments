{
 "cells": [
  {
   "cell_type": "markdown",
   "id": "dc84cfc3-a829-4e86-a2a5-08ad98b7336a",
   "metadata": {},
   "source": [
    "Q.1 What is multithreading in python? Why is it used ?Name the module used to handle threads in python."
   ]
  },
  {
   "cell_type": "markdown",
   "id": "ff3d849d-b983-4f89-b597-ad796124071c",
   "metadata": {},
   "source": [
    "ans - Multithreading is defined as the ability of a processor to execute multiple threads concurrently."
   ]
  },
  {
   "cell_type": "markdown",
   "id": "5b655092-7d63-4c1b-b50d-08c8658a613e",
   "metadata": {},
   "source": [
    "Multithreading in Python streamlines the efficient utilization of resources as the threads share the same memory and data space.\n",
    "It also allows the concurrent appearance of multiple tasks and reduces the response time. This improves the performance."
   ]
  },
  {
   "cell_type": "markdown",
   "id": "cf7fe84c-947b-4e3d-89d4-9baa870d9732",
   "metadata": {},
   "source": [
    "The thread Module is used to handle threads in python. This method starts a new thread and return its identifier"
   ]
  },
  {
   "cell_type": "code",
   "execution_count": null,
   "id": "7fe0e049-ae45-47e2-a6cb-aec89362d872",
   "metadata": {},
   "outputs": [],
   "source": []
  },
  {
   "cell_type": "markdown",
   "id": "6a82cd83-6039-410b-9ef5-502e85d60b27",
   "metadata": {},
   "source": [
    "Q.2 Why threading module used? Write the use of the following functions.\n",
    "\n",
    "1 . activeCount()\n",
    "2 . currentThread()\n",
    "3 . enumerate()"
   ]
  },
  {
   "cell_type": "markdown",
   "id": "10b0ff70-9b43-46cb-b7a7-f55e3c04ad29",
   "metadata": {},
   "source": [
    "ans - The threading module exposes all the methods of the thread module and provides some additional methods."
   ]
  },
  {
   "cell_type": "markdown",
   "id": "6f8ea14d-1d9a-4111-82b9-9f4c794d95fb",
   "metadata": {},
   "source": [
    "activeCount() returns the number of thread objects that are active"
   ]
  },
  {
   "cell_type": "code",
   "execution_count": 10,
   "id": "b475f647-4b02-4b51-b450-aab179ca8485",
   "metadata": {},
   "outputs": [
    {
     "name": "stdout",
     "output_type": "stream",
     "text": [
      "Number of active threads in the starting: 8\n",
      "The active threads in the starting is 1 which is the main thread that executes till the program runs\n",
      "number of active threads : 11\n",
      "value of thread 2: 2\n",
      "number of acive threads : 10\n",
      "value of thread 1 : 1\n",
      "number of active threads : 9\n",
      "value of thread 3 : 3\n"
     ]
    }
   ],
   "source": [
    "#this python program is to demonstrate the use of activeCount() module\n",
    "\n",
    "import threading\n",
    "import time\n",
    "\n",
    "#make a  function\n",
    "def thread_1(i):\n",
    "    time.sleep(5)\n",
    "    print('number of acive threads :', threading.active_count())\n",
    "    print('value of thread 1 :', i)\n",
    "    \n",
    "#make a second function\n",
    "def thread_2(i):\n",
    "    time.sleep(2)\n",
    "    print('number of active threads :' , threading.active_count())\n",
    "    print('value of thread 2:' , i)\n",
    "    \n",
    "#make third function\n",
    "def thread_3(i):\n",
    "    time.sleep(8)\n",
    "    print('number of active threads :' , threading.active_count())\n",
    "    print('value of thread 3 :' , i)\n",
    "    \n",
    "#creating threads\n",
    "t1 = threading.Thread(target = thread_1 , args = (1,))\n",
    "t2 = threading.Thread(target = thread_2 , args = (2 ,))\n",
    "t3 = threading.Thread(target = thread_3 , args = (3 ,))\n",
    "\n",
    "print(\"Number of active threads in the starting:\", threading.active_count())\n",
    "print(\"The active threads in the starting is 1 which is the main thread that executes till the program runs\")\n",
    "\n",
    "#start the threads\n",
    "t1.start()\n",
    "t2.start()\n",
    "t3.start()"
   ]
  },
  {
   "cell_type": "code",
   "execution_count": null,
   "id": "b87354f0-562e-4a58-8f10-7dfc60b0b338",
   "metadata": {},
   "outputs": [],
   "source": []
  },
  {
   "cell_type": "markdown",
   "id": "65cf8fc4-1167-4ed0-a46c-0151c3e95fe4",
   "metadata": {},
   "source": [
    "currentThread() − Returns the number of thread objects in the caller's thread control."
   ]
  },
  {
   "cell_type": "code",
   "execution_count": 12,
   "id": "cd1266a0-dfa8-48b2-bcad-f4f85508d868",
   "metadata": {},
   "outputs": [
    {
     "name": "stdout",
     "output_type": "stream",
     "text": [
      "current acitve thread: <_MainThread(MainThread, started 139743195195200)>\n",
      "number of acive threads : <Thread(Thread-29 (thread_1), started 139742690649664)>\n",
      "value of thread 1 : 1\n",
      "number of active threads : <Thread(Thread-30 (thread_2), started 139742707435072)>\n",
      "value of thread 2: 2\n",
      "number of active threads : <Thread(Thread-31 (thread_3), started 139742699042368)>\n",
      "value of thread 3 : 3\n"
     ]
    }
   ],
   "source": [
    "#this python program is to demonstrate the use of currentthread() module\n",
    "\n",
    "import threading\n",
    "import time\n",
    "\n",
    "#make a  function\n",
    "def thread_1(i):\n",
    "    time.sleep(2)\n",
    "    print('number of acive threads :', threading.current_thread())\n",
    "    print('value of thread 1 :', i)\n",
    "    \n",
    "#make a second function\n",
    "def thread_2(i):\n",
    "    time.sleep(4)\n",
    "    print('number of active threads :' , threading.current_thread())\n",
    "    print('value of thread 2:' , i)\n",
    "    \n",
    "#make third function\n",
    "def thread_3(i):\n",
    "    time.sleep(8)\n",
    "    print('number of active threads :' , threading.current_thread())\n",
    "    print('value of thread 3 :' , i)\n",
    "    \n",
    "#creating threads\n",
    "t1 = threading.Thread(target = thread_1 , args = (1,))\n",
    "t2 = threading.Thread(target = thread_2 , args = (2 ,))\n",
    "t3 = threading.Thread(target = thread_3 , args = (3 ,))\n",
    "\n",
    "print(\"current acitve thread:\", threading.current_thread())\n",
    "\n",
    "\n",
    "#start the threads\n",
    "t1.start()\n",
    "t2.start()\n",
    "t3.start()"
   ]
  },
  {
   "cell_type": "code",
   "execution_count": null,
   "id": "f67c880c-5454-4bb3-884f-3e63758e17b4",
   "metadata": {},
   "outputs": [],
   "source": []
  },
  {
   "cell_type": "markdown",
   "id": "c0e78646-4ce3-4d09-b1d1-ffb5b8380bca",
   "metadata": {},
   "source": [
    "enumerate() − Returns a list of all thread objects that are currently active."
   ]
  },
  {
   "cell_type": "code",
   "execution_count": 16,
   "id": "107f8606-4e4f-4009-a28e-d00edf5b3632",
   "metadata": {},
   "outputs": [
    {
     "name": "stdout",
     "output_type": "stream",
     "text": [
      "threads alive in the starting: [<_MainThread(MainThread, started 139743195195200)>, <Thread(IOPub, started daemon 139743124665920)>, <Heartbeat(Heartbeat, started daemon 139743116273216)>, <Thread(Thread-3 (_watch_pipe_fd), started daemon 139743091095104)>, <Thread(Thread-4 (_watch_pipe_fd), started daemon 139743082702400)>, <ControlThread(Control, started daemon 139742733661760)>, <HistorySavingThread(IPythonHistorySavingThread, started 139742725269056)>, <ParentPollerUnix(Thread-2, started daemon 139742716876352)>]\n",
      "threads alive when thread 2 is execute: [<_MainThread(MainThread, started 139743195195200)>, <Thread(IOPub, started daemon 139743124665920)>, <Heartbeat(Heartbeat, started daemon 139743116273216)>, <Thread(Thread-3 (_watch_pipe_fd), started daemon 139743091095104)>, <Thread(Thread-4 (_watch_pipe_fd), started daemon 139743082702400)>, <ControlThread(Control, started daemon 139742733661760)>, <HistorySavingThread(IPythonHistorySavingThread, started 139742725269056)>, <ParentPollerUnix(Thread-2, started daemon 139742716876352)>, <Thread(Thread-38 (thread_1), started 139742707435072)>, <Thread(Thread-39 (thread_2), started 139742690649664)>, <Thread(Thread-40 (thread_3), started 139742699042368)>]\n",
      "\n",
      "threads alive when thread 1 is execute: [<_MainThread(MainThread, started 139743195195200)>, <Thread(IOPub, started daemon 139743124665920)>, <Heartbeat(Heartbeat, started daemon 139743116273216)>, <Thread(Thread-3 (_watch_pipe_fd), started daemon 139743091095104)>, <Thread(Thread-4 (_watch_pipe_fd), started daemon 139743082702400)>, <ControlThread(Control, started daemon 139742733661760)>, <HistorySavingThread(IPythonHistorySavingThread, started 139742725269056)>, <ParentPollerUnix(Thread-2, started daemon 139742716876352)>, <Thread(Thread-38 (thread_1), started 139742707435072)>, <Thread(Thread-40 (thread_3), started 139742699042368)>]\n",
      "\n",
      "threads alive when thread 2 is execute: [<_MainThread(MainThread, started 139743195195200)>, <Thread(IOPub, started daemon 139743124665920)>, <Heartbeat(Heartbeat, started daemon 139743116273216)>, <Thread(Thread-3 (_watch_pipe_fd), started daemon 139743091095104)>, <Thread(Thread-4 (_watch_pipe_fd), started daemon 139743082702400)>, <ControlThread(Control, started daemon 139742733661760)>, <HistorySavingThread(IPythonHistorySavingThread, started 139742725269056)>, <ParentPollerUnix(Thread-2, started daemon 139742716876352)>, <Thread(Thread-40 (thread_3), started 139742699042368)>]\n",
      "\n"
     ]
    }
   ],
   "source": [
    "#this python program is to demonstrate the use of enumerate() module\n",
    "\n",
    "import threading\n",
    "import time\n",
    "\n",
    "#make a  function\n",
    "def thread_1(i):\n",
    "    time.sleep(5)\n",
    "    print('threads alive when thread 1 is execute:', threading.enumerate())\n",
    "    print()\n",
    "    \n",
    "#make a second function\n",
    "def thread_2(i):\n",
    "    time.sleep(2)\n",
    "    print('threads alive when thread 2 is execute:' , threading.enumerate())\n",
    "    print()\n",
    "    \n",
    "#make third function\n",
    "def thread_3(i):\n",
    "    time.sleep(8)\n",
    "    print('threads alive when thread 3 is execute:' , threading.enumerate())\n",
    "    print()\n",
    "    \n",
    "#creating threads\n",
    "t1 = threading.Thread(target = thread_1 , args = (5,))\n",
    "t2 = threading.Thread(target = thread_2 , args = (9 ,))\n",
    "t3 = threading.Thread(target = thread_3 , args = (13 ,))\n",
    "\n",
    "print(\"threads alive in the starting:\", threading.enumerate())\n",
    "\n",
    "\n",
    "#start the threads\n",
    "t1.start()\n",
    "t2.start()\n",
    "t3.start()"
   ]
  },
  {
   "cell_type": "code",
   "execution_count": null,
   "id": "548aa39e-6d7e-4599-99a8-6ed6e75563d5",
   "metadata": {},
   "outputs": [],
   "source": []
  },
  {
   "cell_type": "markdown",
   "id": "745737d3-c4dc-4100-ba6a-2a9ace1dbbc8",
   "metadata": {},
   "source": [
    "Q.3 Explain the following functions\n",
    "\n",
    "1. run()\n",
    "2. start()\n",
    "3. join()\n",
    "4. isAlive()"
   ]
  },
  {
   "cell_type": "markdown",
   "id": "92333084-06e6-4657-876a-cd6f5ec3066e",
   "metadata": {},
   "source": [
    "1.run() − The run() method is the entry point for a thread.\n"
   ]
  },
  {
   "cell_type": "code",
   "execution_count": 23,
   "id": "b3aff5ec-7345-4d8d-925c-0e1f398df057",
   "metadata": {},
   "outputs": [
    {
     "name": "stdout",
     "output_type": "stream",
     "text": [
      "rani is walk up at  8\n",
      "rani comes from school at  2\n",
      "rani go to the bed at  9\n"
     ]
    }
   ],
   "source": [
    "#the method is to illustrate the use of the run function\n",
    "\n",
    "#import in - build module threading\n",
    "import threading\n",
    "\n",
    "#make a fucntion\n",
    "def thread1(i):\n",
    "    print('rani is walk up at ', i)\n",
    "    \n",
    "#make second function\n",
    "def thread2(i):\n",
    "    print('rani comes from school at ', i)\n",
    "    \n",
    "#make third function\n",
    "def thread3(i):\n",
    "    print('rani go to the bed at ', i)\n",
    "    \n",
    "#making threads\n",
    "t1 = threading.Thread(target = thread1 , args = (8 ,))\n",
    "t2 = threading.Thread(target = thread2 , args = (2 , ))\n",
    "t3 = threading.Thread(target = thread3 , args = (9 , ))\n",
    "\n",
    "\n",
    "#running the threads\n",
    "t1.run()\n",
    "t2.run()\n",
    "t3.run()"
   ]
  },
  {
   "cell_type": "code",
   "execution_count": null,
   "id": "50919188-ac70-44bc-8798-bde77712151f",
   "metadata": {},
   "outputs": [],
   "source": []
  },
  {
   "cell_type": "markdown",
   "id": "5cf04daa-63e2-4e2f-a121-854f81f44e19",
   "metadata": {},
   "source": [
    "2. start() − The start() method starts a thread by calling the run method"
   ]
  },
  {
   "cell_type": "code",
   "execution_count": 35,
   "id": "8a37127e-09d4-4919-827e-9bd8b93642ac",
   "metadata": {},
   "outputs": [
    {
     "name": "stdout",
     "output_type": "stream",
     "text": [
      "0.0002442244440317154\n",
      "name of the student :  aniket\n",
      "course of the student :  data_scientist\n",
      "name of the student :  mohit\n",
      "course of the student :  java with dsa\n"
     ]
    }
   ],
   "source": [
    "#this is to demonstrate the start module\n",
    "\n",
    "#import in- built threading\n",
    "import threading\n",
    "import time\n",
    "\n",
    "#make a function\n",
    "def thread1(i):\n",
    "    print(\"name of the student : \", i)\n",
    "\n",
    "#make a second function\n",
    "def thread2(i):\n",
    "    print(\"course of the student : \" , i)\n",
    "\n",
    "time1 = time.perf_counter()\n",
    "#making threads\n",
    "t1 = threading.Thread(target = thread1 , args = ('aniket',))\n",
    "t2 =  threading.Thread(target = thread2 ,args = ('data_scientist',))\n",
    "t3 = threading.Thread(target = thread1 , args = ('mohit',))\n",
    "t4 =  threading.Thread(target = thread2 ,args = ('java with dsa',))\n",
    "\n",
    "time2 = time.perf_counter()\n",
    "print(time2 - time1)\n",
    "\n",
    "#start the threads\n",
    "t1.start()\n",
    "t2.start()\n",
    "t3.start()\n",
    "t4.start()\n",
    "    "
   ]
  },
  {
   "cell_type": "code",
   "execution_count": null,
   "id": "ff022cfd-9f25-4416-a333-bfeb16ef47c1",
   "metadata": {},
   "outputs": [],
   "source": []
  },
  {
   "cell_type": "markdown",
   "id": "63ea3c37-6b57-4135-a27e-325db4bc9cef",
   "metadata": {},
   "source": [
    "3. join() − The join() waits for threads to terminate."
   ]
  },
  {
   "cell_type": "code",
   "execution_count": 38,
   "id": "5b56b70f-6487-4991-8b10-c5d43c246fc2",
   "metadata": {},
   "outputs": [
    {
     "name": "stdout",
     "output_type": "stream",
     "text": [
      "name of the student :  aniket\n",
      "course of the student :  data_scientist\n",
      "name of the student :  mohit\n",
      "course of the student :  java with dsa\n",
      "0.00026162248104810715\n"
     ]
    }
   ],
   "source": [
    "#this is to demonstrate the start module\n",
    "\n",
    "#import in- built threading\n",
    "import threading\n",
    "import time\n",
    "\n",
    "#make a function\n",
    "def thread1(i):\n",
    "    print(\"name of the student : \", i)\n",
    "\n",
    "#make a second function\n",
    "def thread2(i):\n",
    "    print(\"course of the student : \" , i)\n",
    "\n",
    "time1 = time.perf_counter()\n",
    "#making threads\n",
    "t1 = threading.Thread(target = thread1 , args = ('aniket',))\n",
    "t2 =  threading.Thread(target = thread2 ,args = ('data_scientist',))\n",
    "t3 = threading.Thread(target = thread1 , args = ('mohit',))\n",
    "t4 =  threading.Thread(target = thread2 ,args = ('java with dsa',))\n",
    "\n",
    "time2 = time.perf_counter()\n",
    "\n",
    "\n",
    "#start the threads\n",
    "t1.start()\n",
    "t1.join()\n",
    "\n",
    "t2.start()\n",
    "t2.join()\n",
    "\n",
    "t3.start()\n",
    "t3.join()\n",
    "\n",
    "t4.start()\n",
    "t4.join()\n",
    "\n",
    "print(time2 - time1)"
   ]
  },
  {
   "cell_type": "markdown",
   "id": "90c347a4-23f7-49a9-a3d3-c8425fd9bef2",
   "metadata": {},
   "source": [
    "4. isAlive() − The isAlive() method checks whether a thread is still executing."
   ]
  },
  {
   "cell_type": "code",
   "execution_count": 42,
   "id": "e550c706-67ce-4c2a-a5b2-60806c765bd0",
   "metadata": {},
   "outputs": [
    {
     "name": "stdout",
     "output_type": "stream",
     "text": [
      "is thread1 is alive False\n",
      "is thread2 is alive False\n",
      "is thread3 is alive False\n",
      "is thread1 is alive True\n",
      "is thread2 is alive True\n",
      "is thread3 is alive True\n",
      "value of thread1 : 3\n",
      "value of thread1 : 1\n",
      "value of thread1 : 6\n"
     ]
    }
   ],
   "source": [
    "#this is to illustrate the isalive() module\n",
    "\n",
    "import threading\n",
    "import time\n",
    "\n",
    "def thread1(i):\n",
    "    time.sleep(5)\n",
    "    print(\"value of thread1 :\" , i)\n",
    "    \n",
    "def thread2(i):\n",
    "    time.sleep(2)\n",
    "    print(\"value of thread1 :\" , i)\n",
    "    \n",
    "def thread3(i):\n",
    "    time.sleep(9)\n",
    "    print(\"value of thread1 :\" , i)\n",
    "    \n",
    "t1 = threading.Thread(target = thread1 , args = (1 ,))\n",
    "t2 = threading.Thread(target = thread2 , args  = (3 ,))\n",
    "t3 = threading.Thread(target = thread3 , args = (6 ,))\n",
    "\n",
    "print(\"is thread1 is alive\" , t1.is_alive())\n",
    "print(\"is thread2 is alive\",  t2.is_alive())\n",
    "print(\"is thread3 is alive\" , t3.is_alive())\n",
    "\n",
    "t1.start()\n",
    "t2.start()\n",
    "t3.start()\n",
    "\n",
    "\n",
    "print(\"is thread1 is alive\" , t1.is_alive())\n",
    "print(\"is thread2 is alive\",  t2.is_alive())\n",
    "print(\"is thread3 is alive\" , t3.is_alive())\n"
   ]
  },
  {
   "cell_type": "code",
   "execution_count": null,
   "id": "276eb847-dec2-41ea-8578-d1c4f30770e5",
   "metadata": {},
   "outputs": [],
   "source": [
    "\n"
   ]
  },
  {
   "cell_type": "markdown",
   "id": "7b20b847-0b76-4c7a-8170-89a90d6768eb",
   "metadata": {},
   "source": [
    "\n",
    "Q.4.  Write a python program to create two threads. Thread one must print the list of squares and thread\n",
    "two must print the list of cubes."
   ]
  },
  {
   "cell_type": "code",
   "execution_count": 18,
   "id": "c8b1e31e-88ec-466c-877b-b25e20a5bb17",
   "metadata": {},
   "outputs": [],
   "source": [
    "#this is to get square of list by threading\n",
    "\n",
    "def print_square1(num):\n",
    "    \n",
    "    print(num**2)\n",
    "   "
   ]
  },
  {
   "cell_type": "code",
   "execution_count": 19,
   "id": "63b4f0f0-0d74-47f7-884f-8e8dcdd9d917",
   "metadata": {},
   "outputs": [],
   "source": [
    "#make a thread\n",
    "t3 = [threading.Thread(target = print_square1 , args = (i,)) for i in range(10)]"
   ]
  },
  {
   "cell_type": "code",
   "execution_count": 20,
   "id": "634c8464-b42e-49d0-87cb-9538fe1f16f1",
   "metadata": {},
   "outputs": [
    {
     "name": "stdout",
     "output_type": "stream",
     "text": [
      "0\n",
      "1\n",
      "4\n",
      "9\n",
      "16\n",
      "25\n",
      "36\n",
      "49\n",
      "64\n",
      "81\n"
     ]
    }
   ],
   "source": [
    "#start the thread\n",
    "for t in t3:\n",
    "    t.start()"
   ]
  },
  {
   "cell_type": "code",
   "execution_count": 21,
   "id": "8f9b8f73-c8dc-4f1a-9d1c-5a53a8fe9707",
   "metadata": {},
   "outputs": [],
   "source": [
    "#this is to get cubes of list by threading\n",
    "\n",
    "def print_cubes(n):\n",
    "    print(n**3)\n",
    "    "
   ]
  },
  {
   "cell_type": "code",
   "execution_count": 22,
   "id": "d80fce63-4fa0-4fc1-b6c7-e72eb2fc1515",
   "metadata": {},
   "outputs": [],
   "source": [
    "#make a thread\n",
    "t1 =  [threading.Thread(target = print_cubes , args = (i,)) for i in range(10)]"
   ]
  },
  {
   "cell_type": "code",
   "execution_count": 23,
   "id": "502f7c64-3ccd-44ed-904b-deb2afe00099",
   "metadata": {},
   "outputs": [
    {
     "name": "stdout",
     "output_type": "stream",
     "text": [
      "0\n",
      "1\n",
      "8\n",
      "27\n",
      "64\n",
      "125\n",
      "216\n",
      "343\n",
      "512\n",
      "729\n"
     ]
    }
   ],
   "source": [
    "#start the thread\n",
    "for t in t1:\n",
    "    t.start()"
   ]
  },
  {
   "cell_type": "code",
   "execution_count": null,
   "id": "93f71050-74f1-439b-abc0-33be9c0c1c11",
   "metadata": {},
   "outputs": [],
   "source": []
  },
  {
   "cell_type": "markdown",
   "id": "ad8d7f9c-6351-4008-b65f-cd55f4eb5d5d",
   "metadata": {},
   "source": [
    "\n",
    "5. State advantages and disadvantages of multithreading."
   ]
  },
  {
   "cell_type": "markdown",
   "id": "de41d67a-3e9e-4136-9ed7-8146434b7c34",
   "metadata": {},
   "source": [
    "ans - Advantages:\n",
    "\n",
    "1. It doesn’t block the user. This is because threads are independent of each other.\n",
    "2. Better use of system resources is possible since threads execute tasks parallely.\n",
    "3. Enhanced performance on multi-processor machines.\n",
    "4. Multi-threaded servers and interactive GUIs use multithreading exclusively."
   ]
  },
  {
   "cell_type": "markdown",
   "id": "e278c50c-c864-47df-8827-de4cc5e8e14b",
   "metadata": {},
   "source": [
    "Disadvantages:\n",
    "\n",
    "1. As number of threads increase, complexity increases.\n",
    "2. Synchronization of shared resources (objects, data) is necessary.\n",
    "3. It is difficult to debug, result is sometimes unpredictable.\n",
    "4. Potential deadlocks which leads to starvation, i.e. some threads may not be served with a bad design\n",
    "5. Constructing and synchronizing threads is CPU/memory intensive."
   ]
  },
  {
   "cell_type": "code",
   "execution_count": null,
   "id": "f3acfaaf-ab42-49df-8640-0064f54977de",
   "metadata": {},
   "outputs": [],
   "source": []
  },
  {
   "cell_type": "markdown",
   "id": "50f30e38-485a-4d19-9c58-99c6f20694ca",
   "metadata": {},
   "source": [
    "\n",
    "Q.6. Explain deadlocks and race conditions"
   ]
  },
  {
   "cell_type": "markdown",
   "id": "1a1ddf4d-60c0-41fc-9877-cb1166f26a2d",
   "metadata": {},
   "source": [
    "ans - Deadlocks are situations where processes are waiting indefinitely for each other, while race conditions occur when multiple threads or processes access shared resources concurrently, leading to unpredictable outcomes. Both deadlocks and race conditions are common issues in concurrent programming that require careful synchronization and resource management to avoi Both share some similarities, such as they both occur in multi-thread solutions and hamper device performance. However, both are not the same. A race condition occurs when two threads use the same variable at a given time. Deadlock exists when two threads seek one lock simultaneously."
   ]
  }
 ],
 "metadata": {
  "kernelspec": {
   "display_name": "Python 3 (ipykernel)",
   "language": "python",
   "name": "python3"
  },
  "language_info": {
   "codemirror_mode": {
    "name": "ipython",
    "version": 3
   },
   "file_extension": ".py",
   "mimetype": "text/x-python",
   "name": "python",
   "nbconvert_exporter": "python",
   "pygments_lexer": "ipython3",
   "version": "3.10.8"
  }
 },
 "nbformat": 4,
 "nbformat_minor": 5
}
