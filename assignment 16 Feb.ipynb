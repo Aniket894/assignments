{
 "cells": [
  {
   "cell_type": "markdown",
   "id": "d4969fe4-7e9f-43f3-bd34-7cf0a1f34641",
   "metadata": {},
   "source": [
    "Q1. What is a database? Differentiate between SQL and NoSQL databases."
   ]
  },
  {
   "cell_type": "markdown",
   "id": "d7542c14-9287-40e1-86ad-ece7d1342b23",
   "metadata": {},
   "source": [
    "ans - A database is an organized collection of structured information, or data, typically stored electronically in a computer system. A database is usually controlled by a database management system (DBMS). Together, the data and the DBMS, along with the applications that are associated with them, are referred to as a database system, often shortened to just database.\n",
    "\n",
    "Data within the most common types of databases in operation today is typically modeled in rows and columns in a series of tables to make processing and data querying efficient. The data can then be easily accessed, managed, modified, updated, controlled, and organized. Most databases use structured query language (SQL) for writing and querying data."
   ]
  },
  {
   "cell_type": "markdown",
   "id": "42364782-77d6-41da-8448-36565ba3d824",
   "metadata": {},
   "source": []
  },
  {
   "cell_type": "markdown",
   "id": "929419c4-9204-4aed-b576-154ad50b50fe",
   "metadata": {},
   "source": [
    "SQL, which stands for “Structured Query Language,” is the programming language that’s been widely used in managing data in relational database management systems (RDBMS) since the 1970s. In the early years, when storage was expensive, SQL databases focused on reducing data duplication.\n",
    "\n",
    "Fast-forward to today, and SQL is still widely used for querying relational databases, where data is stored in rows and tables that are linked in various ways. One table record may link to one other or to many others, or many table records may be related to many records in another table. These relational databases, which offer fast data storage and recovery, can handle great amounts of data and complex SQL queries."
   ]
  },
  {
   "cell_type": "markdown",
   "id": "27436c31-3eaf-4b29-9ee0-758f9dde2fc5",
   "metadata": {},
   "source": []
  },
  {
   "cell_type": "markdown",
   "id": "f959faca-4ef2-4dc6-8155-f9c753c284c5",
   "metadata": {},
   "source": [
    "NoSQL is a non-relational database, meaning it allows different structures than a SQL database (not rows and columns) and more flexibility to use a format that best fits the data. The term “NoSQL” was not coined until the early 2000s. It doesn’t mean the systems don’t use SQL, as NoSQL databases do sometimes support some SQL commands. More accurately, “NoSQL” is sometimes defined as “not only SQL.”"
   ]
  },
  {
   "cell_type": "markdown",
   "id": "b34015f8-8ac6-4536-a3b3-c881561bda62",
   "metadata": {},
   "source": []
  },
  {
   "cell_type": "markdown",
   "id": "ca06028c-d8ae-444a-be7a-451773dd0ae3",
   "metadata": {},
   "source": [
    "Q2. What is DDL? Explain why CREATE, DROP, ALTER, and TRUNCATE are used with an example."
   ]
  },
  {
   "cell_type": "markdown",
   "id": "5da383d7-21da-40a2-afea-df0c569c176c",
   "metadata": {},
   "source": [
    "ans - Data definition language (DDL) describes the portion of SQL that creates, alters, and deletes database objects. These database objects include schemas, tables, views, sequences, catalogs, indexes, variables, masks, permissions, and aliases."
   ]
  },
  {
   "cell_type": "markdown",
   "id": "22b81bfe-bca0-4943-8c8c-f1bd0975c3f2",
   "metadata": {},
   "source": [
    "CREATE: This command is used to create the database or its objects (like table, index, function, views, store procedure, and triggers).\n"
   ]
  },
  {
   "cell_type": "markdown",
   "id": "4e80a4bb-1d22-4a47-9d7b-281fdadb7637",
   "metadata": {},
   "source": [
    "CREATE TABLE Persons (\n",
    "    PersonID int,\n",
    "    LastName varchar(255),\n",
    "    FirstName varchar(255),\n",
    "    Address varchar(255),\n",
    "    City varchar(255)\n",
    ");"
   ]
  },
  {
   "cell_type": "markdown",
   "id": "27f0a621-f1d9-4e07-a3fb-717bdecd290c",
   "metadata": {},
   "source": [
    "ALTER: This is used to alter the structure of the database."
   ]
  },
  {
   "cell_type": "markdown",
   "id": "d7c0e620-b42f-4348-8717-b78482dabe0e",
   "metadata": {},
   "source": [
    "ALTER TABLE Customers\n",
    "ADD Email varchar(255);"
   ]
  },
  {
   "cell_type": "markdown",
   "id": "8fd921ba-68a1-4aec-b7cc-99f8741fc044",
   "metadata": {},
   "source": [
    "DROP: This command is used to delete objects from the database."
   ]
  },
  {
   "cell_type": "markdown",
   "id": "49af22f1-5d2d-4145-98c2-489aefbc2c10",
   "metadata": {},
   "source": [
    "DROP TABLE Persons;"
   ]
  },
  {
   "cell_type": "markdown",
   "id": "955e6032-946c-4808-a6e9-503a1d3a6847",
   "metadata": {},
   "source": [
    "TRUNCATE: This is used to remove all records from a table, including all spaces allocated for the records are removed.\n"
   ]
  },
  {
   "cell_type": "markdown",
   "id": "d7d9f8ff-325a-421a-8da3-a8a3380892a3",
   "metadata": {},
   "source": [
    "TRUNCATE TABLE City ;"
   ]
  },
  {
   "cell_type": "code",
   "execution_count": null,
   "id": "b18397a7-2155-4697-bff0-daf114ea4688",
   "metadata": {},
   "outputs": [],
   "source": []
  },
  {
   "cell_type": "markdown",
   "id": "bb523a31-f643-46a1-813c-ef638fdbe197",
   "metadata": {},
   "source": [
    "Q3. What is DML? Explain INSERT, UPDATE, and DELETE with an example."
   ]
  },
  {
   "cell_type": "markdown",
   "id": "c563d962-23ba-42da-9289-8ca63829b710",
   "metadata": {},
   "source": [
    "DML(Data Manipulation Language): This SQL commands that deals with the manipulation of data present in the database belong to DML or Data Manipulation Language and this includes most of the SQL statements. It is the component of the SQL statement that controls access to data and to the database. Basically, DCL statements are grouped with DML statements.\n"
   ]
  },
  {
   "cell_type": "markdown",
   "id": "b0c9a103-b238-444e-83a0-4b5fe2428b61",
   "metadata": {},
   "source": [
    "INSERT : It is used to insert data into a table."
   ]
  },
  {
   "cell_type": "markdown",
   "id": "8306dd69-7a2e-4627-9fcd-10453d828abc",
   "metadata": {},
   "source": [
    "INSERT INTO Student VALUES \n",
    "('5','HARSH','WEST BENGAL',\n",
    "'9662348929','19');"
   ]
  },
  {
   "cell_type": "markdown",
   "id": "5ccb4acd-1715-4b49-b5d0-808cc0de1453",
   "metadata": {},
   "source": [
    "\n",
    "UPDATE: It is used to update existing data within a table."
   ]
  },
  {
   "cell_type": "markdown",
   "id": "8c1dd4df-1df6-4820-86db-a9846cf26342",
   "metadata": {},
   "source": [
    "UPDATE Student SET NAME = 'PRATIK' WHERE Age = 20;"
   ]
  },
  {
   "cell_type": "markdown",
   "id": "64503bae-d93d-461c-a81b-d8c77ac960f5",
   "metadata": {},
   "source": [
    "DELETE : It is used to delete records from a database table."
   ]
  },
  {
   "cell_type": "markdown",
   "id": "0a76ad94-7a5f-4c61-9447-d86927584116",
   "metadata": {},
   "source": [
    "DELETE FROM GFG_EMPLOyees WHERE NAME = 'Rithvik';  "
   ]
  },
  {
   "cell_type": "markdown",
   "id": "5e098692-7329-48ed-909c-7e568123a4c3",
   "metadata": {},
   "source": []
  },
  {
   "cell_type": "markdown",
   "id": "23ef2fff-0878-4478-8e07-66e977733764",
   "metadata": {},
   "source": [
    "Q4. What is DQL? Explain SELECT with an example.\n"
   ]
  },
  {
   "cell_type": "markdown",
   "id": "a1e17329-55ec-4570-8d34-b0e4c510a991",
   "metadata": {},
   "source": [
    "ans - DQL statements are used for performing queries on the data within schema objects. The purpose of the DQL Command is to get some schema relation based on the query passed to it. We can define DQL as follows it is a component of SQL statement that allows getting data from the database and imposing order upon it. It includes the SELECT statement."
   ]
  },
  {
   "cell_type": "markdown",
   "id": "4ae74b99-2bdf-40a3-9f58-68e8386f31a1",
   "metadata": {},
   "source": [
    "SELECT: It is used to retrieve data from the database."
   ]
  },
  {
   "cell_type": "markdown",
   "id": "182636a4-cee3-440c-a3d8-b5710c0170db",
   "metadata": {},
   "source": [
    "SELECT ROLL_NO, NAME, AGE FROM Student;"
   ]
  },
  {
   "cell_type": "code",
   "execution_count": null,
   "id": "4ed927a0-8bf0-4ec5-a7ad-95c8c8525212",
   "metadata": {},
   "outputs": [],
   "source": []
  },
  {
   "cell_type": "markdown",
   "id": "23ce8478-b952-4e13-8679-d006341fb6de",
   "metadata": {},
   "source": [
    "Q5. Explain Primary Key and Foreign Key"
   ]
  },
  {
   "cell_type": "markdown",
   "id": "8ce8f748-441d-44ca-b00c-9f01acb5e27b",
   "metadata": {},
   "source": [
    "ans  - A primary key uniquely identifies a row in a table, while a foreign key is used to link two tables together by referencing the primary key of the related table. The most important difference that you should note here is that a primary key cannot have a NULL value, whereas a foreign key can accept NULL values."
   ]
  },
  {
   "cell_type": "code",
   "execution_count": null,
   "id": "19914b25-82cc-4dd8-87e0-8b1c800f839c",
   "metadata": {},
   "outputs": [],
   "source": []
  },
  {
   "cell_type": "markdown",
   "id": "8bc1c266-79ce-47a2-8c8a-685b50ab0759",
   "metadata": {},
   "source": [
    "Q6. Write a python code to connect MySQL to python. Explain the cursor() and execute() method."
   ]
  },
  {
   "cell_type": "markdown",
   "id": "b1a6396c-49bc-48a1-972a-83f2405c053e",
   "metadata": {},
   "source": [
    "import mysql.connector\n",
    "\n",
    "mydb = mysql.connector.connect(\n",
    "  host=\"localhost\",\n",
    "  user=\"abc\",\n",
    "  password=\"password\"\n",
    ")\n",
    "mycursor = mydb.cursor()\n",
    "mycursor.execute(\"CREATE TABLE TEST;\")\n",
    "\n",
    "mydb.close()\n"
   ]
  },
  {
   "cell_type": "markdown",
   "id": "9eef7b0d-15ef-4ca8-b5a8-f8f83a6ca9af",
   "metadata": {},
   "source": [
    "A cursor in SQL is a database object stored in temp memory and used to work with datasets. You can use cursors to manipulate data in a database, one row at a time. A cursor uses a SQL SELECT statement to fetch a rowset from a database and then can read and manipulate one row at a time"
   ]
  },
  {
   "cell_type": "markdown",
   "id": "0686e4dd-4ffa-4f68-9f13-cde94e9c9aac",
   "metadata": {},
   "source": [
    " EXECUTE command in standard SQL is used to execute stored procedures and query strings in database servers. For the uninitiated, a stored procedure is a SQL code that can be saved and reused later. A stored procedure can be system defined or user-defined."
   ]
  },
  {
   "cell_type": "markdown",
   "id": "a564c6c4-ccf9-4716-be71-749c48e2fc18",
   "metadata": {},
   "source": [
    "Q7. Give the order of execution of SQL clauses in an SQL query.\n"
   ]
  },
  {
   "cell_type": "markdown",
   "id": "81f66833-7394-44d1-8acc-54b8acb31b68",
   "metadata": {},
   "source": [
    "Order\tClause\tFunction\n",
    "1\t   FROM\t    Tables are joined to get the base data.\n",
    "2\t   WHERE\tThe base data is filtered.\n",
    "3\t   GROUP BY\tThe filtered base data is grouped.\n",
    "4      HAVING\tThe grouped base data is filtered.\n",
    "5\t   SELECT\tThe final data is returned.\n",
    "6\t   ORDER BY\tThe final data is sorted.\n",
    "7\t   LIMIT\tThe returned data is limited to row count."
   ]
  }
 ],
 "metadata": {
  "kernelspec": {
   "display_name": "Python 3 (ipykernel)",
   "language": "python",
   "name": "python3"
  },
  "language_info": {
   "codemirror_mode": {
    "name": "ipython",
    "version": 3
   },
   "file_extension": ".py",
   "mimetype": "text/x-python",
   "name": "python",
   "nbconvert_exporter": "python",
   "pygments_lexer": "ipython3",
   "version": "3.10.8"
  }
 },
 "nbformat": 4,
 "nbformat_minor": 5
}
