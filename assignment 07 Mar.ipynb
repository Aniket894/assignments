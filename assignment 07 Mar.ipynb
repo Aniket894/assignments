{
 "cells": [
  {
   "cell_type": "markdown",
   "id": "874a5ff4-0d94-4346-9b24-3d35e5775153",
   "metadata": {},
   "source": [
    "Q1. What are the three measures of central tendency?"
   ]
  },
  {
   "cell_type": "markdown",
   "id": "88ca0515-b2b4-4072-abb7-e6927c93c64d",
   "metadata": {},
   "source": [
    "ans - The three measures of central tendency are:\n",
    "\n",
    "Mean: The mean is the most commonly used measure of central tendency. It is calculated by summing all the values in a data set and dividing by the total number of values. The mean is affected by extreme values or outliers in the data.\n",
    "\n",
    "Median: The median is the middle value of a data set when it is arranged in order from smallest to largest. If there are an even number of values, the median is the average of the two middle values. The median is less affected by extreme values in the data than the mean.\n",
    "\n",
    "Mode: The mode is the value that appears most frequently in a data set. A data set can have multiple modes or no mode at all. The mode is useful when dealing with categorical data or when trying to find the most common value in a data set."
   ]
  },
  {
   "cell_type": "code",
   "execution_count": null,
   "id": "b0042931-3750-4165-a68f-7d4f9741cc2a",
   "metadata": {},
   "outputs": [],
   "source": []
  },
  {
   "cell_type": "markdown",
   "id": "e7518a28-3d63-4fdc-a8b9-0a2cc5c1f133",
   "metadata": {},
   "source": [
    "Q2. What is the difference between the mean, median, and mode? How are they used to measure the\n",
    "central tendency of a dataset?"
   ]
  },
  {
   "cell_type": "markdown",
   "id": "e80f4980-86fa-4436-8214-f6ec541a0b3a",
   "metadata": {},
   "source": [
    "ans - The mean, median, and mode are all measures of central tendency, but they differ in how they represent the \"center\" of a dataset:\n",
    "\n",
    "Mean: The mean is the average value of a dataset, calculated by adding up all the values and dividing by the total number of values. The mean is sensitive to outliers, which can significantly affect its value. The mean is commonly used in situations where the data is normally distributed, or roughly bell-shaped.\n",
    "\n",
    "Median: The median is the middle value of a dataset, such that half of the values are above and half are below it. The median is less sensitive to outliers than the mean, which makes it useful for skewed data. The median is often used when the data is not normally distributed or when there are extreme values.\n",
    "\n",
    "Mode: The mode is the most common value in a dataset, the value that appears most frequently. The mode is useful when dealing with categorical data or data with discrete values. If a dataset has no repeating values, it has no mode.\n",
    "\n",
    "In summary, the mean, median, and mode are used to measure the central tendency of a dataset. The mean is commonly used when the data is normally distributed, the median is useful when the data is skewed, and the mode is useful when dealing with categorical data. Depending on the data and the research question, different measures of central tendency may be more appropriate to use.\n"
   ]
  },
  {
   "cell_type": "code",
   "execution_count": null,
   "id": "372b1945-85cf-4a7c-83c9-073ec6df0180",
   "metadata": {},
   "outputs": [],
   "source": []
  },
  {
   "cell_type": "raw",
   "id": "f49f3547-66f6-4def-9d08-fa08affddb5c",
   "metadata": {},
   "source": [
    "Q3. Measure the three measures of central tendency for the given height data:\n",
    "\n",
    " [178,177,176,177,178.2,178,175,179,180,175,178.9,176.2,177,172.5,178,176.5]"
   ]
  },
  {
   "cell_type": "code",
   "execution_count": 3,
   "id": "cd49297b-5106-4530-b064-3f0d119d4255",
   "metadata": {},
   "outputs": [],
   "source": [
    "data =  [178,177,176,177,178.2,178,175,179,180,175,178.9,176.2,177,172.5,178,176.5]"
   ]
  },
  {
   "cell_type": "code",
   "execution_count": 4,
   "id": "b7229be9-77eb-4dc7-9678-b20b4ad89351",
   "metadata": {},
   "outputs": [
    {
     "data": {
      "text/plain": [
       "177.01875"
      ]
     },
     "execution_count": 4,
     "metadata": {},
     "output_type": "execute_result"
    }
   ],
   "source": [
    "#mean\n",
    "import numpy as np\n",
    "np.mean(data)"
   ]
  },
  {
   "cell_type": "code",
   "execution_count": 5,
   "id": "0c8be687-5656-4870-9a10-dcdefaadbebe",
   "metadata": {},
   "outputs": [
    {
     "data": {
      "text/plain": [
       "177.0"
      ]
     },
     "execution_count": 5,
     "metadata": {},
     "output_type": "execute_result"
    }
   ],
   "source": [
    "#median\n",
    "np.median(data)"
   ]
  },
  {
   "cell_type": "code",
   "execution_count": 12,
   "id": "00a3ea64-8ca0-4d72-9db6-41b4aeb0b701",
   "metadata": {},
   "outputs": [
    {
     "data": {
      "text/plain": [
       "178"
      ]
     },
     "execution_count": 12,
     "metadata": {},
     "output_type": "execute_result"
    }
   ],
   "source": [
    "#mode\n",
    "import statistics\n",
    "\n",
    "statistics.mode(data)"
   ]
  },
  {
   "cell_type": "code",
   "execution_count": null,
   "id": "451c5fbc-87e7-46dd-91ad-763974961882",
   "metadata": {},
   "outputs": [],
   "source": []
  },
  {
   "cell_type": "markdown",
   "id": "a07a467a-c3d9-4ab3-8c0c-b1c26495c02e",
   "metadata": {},
   "source": [
    "Q4. Find the standard deviation for the given data:\n",
    "\n",
    "[178,177,176,177,178.2,178,175,179,180,175,178.9,176.2,177,172.5,178,176.5]"
   ]
  },
  {
   "cell_type": "code",
   "execution_count": 8,
   "id": "49ed89b3-9e55-4345-b67e-b43c7dc9cc78",
   "metadata": {},
   "outputs": [],
   "source": [
    "data1 = [178,177,176,177,178.2,178,175,179,180,175,178.9,176.2,177,172.5,178,176.5]"
   ]
  },
  {
   "cell_type": "code",
   "execution_count": 13,
   "id": "e2ba76cd-177d-462e-b5d3-5eaf069aa792",
   "metadata": {},
   "outputs": [
    {
     "data": {
      "text/plain": [
       "1.7885814036548633"
      ]
     },
     "execution_count": 13,
     "metadata": {},
     "output_type": "execute_result"
    }
   ],
   "source": [
    "import numpy as np\n",
    "\n",
    "np.std(data1)"
   ]
  },
  {
   "cell_type": "code",
   "execution_count": null,
   "id": "ea2bd894-6c64-437c-a145-e2bd2786dd1f",
   "metadata": {},
   "outputs": [],
   "source": []
  },
  {
   "cell_type": "markdown",
   "id": "09d0346a-088b-44e5-aa09-9b84f11d7066",
   "metadata": {},
   "source": [
    "Q5. How are measures of dispersion such as range, variance, and standard deviation used to describe\n",
    "the spread of a dataset? Provide an example.\n",
    "\n"
   ]
  },
  {
   "cell_type": "markdown",
   "id": "c5c7043a-4904-439c-8ca4-294b5fe5bf2f",
   "metadata": {},
   "source": [
    "ans -  Measures of dispersion, such as range, variance, and standard deviation, are used to describe the spread or variability of a dataset. They provide information about how much the data points deviate from the central tendency measures, such as mean or median.\n",
    "\n",
    "Range: Range is the difference between the largest and smallest values in the dataset. It gives an idea about the spread of the dataset but is sensitive to outliers. A larger range indicates a wider spread of values in the dataset. For example, consider the following two datasets:\n",
    "\n",
    "Dataset A: [10, 20, 30, 40, 50] (range = 50 - 10 = 40)\n",
    "Dataset B: [5, 15, 25, 45, 55] (range = 55 - 5 = 50)\n",
    "\n",
    "Both datasets have the same median (30), but dataset B has a larger range, indicating a wider spread of values.\n",
    "\n",
    "Variance: Variance measures how much the values in the dataset vary from the mean. It is calculated by taking the sum of the squared deviations from the mean and dividing by the number of values in the dataset. A higher variance indicates that the data points are more spread out from the mean. For example, consider the following dataset:\n",
    "\n",
    "Dataset: [10, 20, 30, 40, 50]\n",
    "Mean: (10 + 20 + 30 + 40 + 50) / 5 = 30\n",
    "Variance: ((10 - 30)² + (20 - 30)² + (30 - 30)² + (40 - 30)² + (50 - 30)²) / 5\n",
    "= (400 + 100 + 0 + 100 + 400) / 5\n",
    "= 200\n",
    "Standard deviation: sqrt(200) = 14.14\n",
    "\n",
    "The variance of this dataset is 200, indicating a higher spread of data points from the mean.\n",
    "\n",
    "Standard deviation: Standard deviation is the square root of the variance. It provides a measure of the amount of variation or dispersion of data points in a dataset. A higher standard deviation indicates a greater spread of values in the dataset. For example, consider the following two datasets:\n",
    "\n",
    "Dataset A: [10, 20, 30, 40, 50] (standard deviation = 14.14)\n",
    "Dataset B: [5, 15, 25, 35, 45] (standard deviation = 14.14)\n",
    "\n",
    "Both datasets have the same mean (30), but dataset B has a greater spread of values, resulting in the same standard deviation as dataset A.\n",
    "\n",
    "In summary, measures of dispersion such as range, variance, and standard deviation provide information about the spread of data points in a dataset. They can be used to compare the spread of different datasets or to identify outliers in a dataset."
   ]
  },
  {
   "cell_type": "code",
   "execution_count": null,
   "id": "897fb1ff-79aa-4a07-ad62-95aae0e71de9",
   "metadata": {},
   "outputs": [],
   "source": []
  },
  {
   "cell_type": "markdown",
   "id": "d770f10d-d9cd-47b2-90d1-5136217defd8",
   "metadata": {},
   "source": [
    "Q6. What is a Venn diagram?"
   ]
  },
  {
   "cell_type": "markdown",
   "id": "0ac2d7ff-4d81-4eb9-a707-defed9e192f1",
   "metadata": {},
   "source": [
    "ans - A Venn diagram is a graphical representation of the relationships between sets. It consists of a series of overlapping circles or ellipses, with each circle representing a set and the overlap between the circles representing the intersection of the sets.\n",
    "\n",
    "Venn diagrams are often used to illustrate the relationships between different groups of objects, people, or concepts. For example, a Venn diagram could be used to show the overlap between different categories of products in a store, or the shared features of different types of animals.\n",
    "\n",
    "The size and position of the circles in a Venn diagram can be adjusted to reflect the relative sizes of the sets being represented. The areas where the circles overlap represent the elements that are common to all of the sets being compared, while the areas outside of the circles represent the elements that are unique to each set.\n",
    "\n",
    "Overall, Venn diagrams are a useful tool for visually representing the relationships between different sets and helping to identify commonalities and differences between them."
   ]
  },
  {
   "cell_type": "code",
   "execution_count": null,
   "id": "a698bb85-a60c-456b-a9e5-8168d9f31511",
   "metadata": {},
   "outputs": [],
   "source": []
  },
  {
   "cell_type": "markdown",
   "id": "35a7f362-420e-4f1d-b9de-492a6ad584a0",
   "metadata": {},
   "source": [
    "Q7. For the two given sets A = (2,3,4,5,6,7) & B = (0,2,6,8,10). Find:\n",
    "\n",
    "(i) \tA B\n",
    "\n",
    "(ii)\tA ⋃ B"
   ]
  },
  {
   "cell_type": "markdown",
   "id": "b9089692-bd4d-4349-bb9c-41c960bbb198",
   "metadata": {},
   "source": [
    "ans  - Given sets:\n",
    "A = {2, 3, 4, 5, 6, 7}\n",
    "B = {0, 2, 6, 8, 10}\n",
    "\n",
    "(i) A intersection B (A ∩ B) represents the common elements between sets A and B. The common elements between A and B are 2 and 6.\n",
    "\n",
    "So, A ∩ B = {2, 6}\n",
    "\n",
    "(ii) A union B (A ⋃ B) represents all the elements present in both sets A and B, including any duplicates.\n",
    "\n",
    "So, A ⋃ B = {0, 2, 3, 4, 5, 6, 7, 8, 10}\n",
    "\n",
    "Therefore:\n",
    "A ∩ B = {2, 6}\n",
    "A ⋃ B = {0, 2, 3, 4, 5, 6, 7, 8, 10}"
   ]
  },
  {
   "cell_type": "code",
   "execution_count": null,
   "id": "dda481d2-9b67-4204-a828-2159a6c7dd4c",
   "metadata": {},
   "outputs": [],
   "source": []
  },
  {
   "cell_type": "markdown",
   "id": "db46391e-2df7-41d6-97e4-718615812ca2",
   "metadata": {},
   "source": [
    "Q8. What do you understand about skewness in data?"
   ]
  },
  {
   "cell_type": "markdown",
   "id": "b598283f-4f4f-4271-8675-75fb3b95cbcb",
   "metadata": {},
   "source": [
    "ans - Skewness is a measure of the asymmetry of a probability distribution. In other words, it is a measure of how much a distribution deviates from symmetry.\n",
    "\n",
    "If a distribution is symmetric, then the mean, median, and mode are all the same value, and the skewness is 0. A distribution is said to be skewed if it is not symmetric, and the direction and degree of skewness depend on the direction and degree of the deviation from symmetry.\n",
    "\n",
    "Positive skewness occurs when the tail of a distribution extends to the right of the peak, with the mean greater than the median. This is also referred to as right skewness.\n",
    "\n",
    "Negative skewness occurs when the tail of a distribution extends to the left of the peak, with the mean less than the median. This is also referred to as left skewness.\n",
    "\n",
    "Skewness is important in statistics because it can affect the interpretation of results and the validity of statistical tests. For example, some statistical tests assume that the data is normally distributed, and skewness can violate this assumption. Skewed data may also require different statistical techniques for analysis or transformation to obtain normality.\n",
    "\n",
    "\n",
    "\n",
    "\n"
   ]
  },
  {
   "cell_type": "code",
   "execution_count": null,
   "id": "352c2130-b20a-46f8-9846-b46328c8b4d4",
   "metadata": {},
   "outputs": [],
   "source": []
  },
  {
   "cell_type": "markdown",
   "id": "93834e00-7a39-4e4e-b601-12138930a12c",
   "metadata": {},
   "source": [
    "Q9. If a data is right skewed then what will be the position of median with respect to mean?"
   ]
  },
  {
   "cell_type": "markdown",
   "id": "aa2b5475-36cc-4e87-933b-5bc8796da5e1",
   "metadata": {},
   "source": [
    "ans - \n",
    "If a data is right skewed, the tail of the distribution will extend to the right of the peak, and there will be some extreme values that are much larger than the rest of the data. As a result, the mean will be greater than the median.\n",
    "\n",
    "This is because the mean is influenced by the extreme values in the tail, which pull it in the direction of the skewness. In contrast, the median is not affected by extreme values, and so it remains closer to the center of the distribution.\n",
    "\n",
    "Therefore, for a right-skewed distribution, the median will be smaller than the mean, and the mean will be pulled in the direction of the tail of the distribution."
   ]
  },
  {
   "cell_type": "code",
   "execution_count": null,
   "id": "7f8f496c-408f-40f1-9689-be90863a0da7",
   "metadata": {},
   "outputs": [],
   "source": []
  },
  {
   "cell_type": "markdown",
   "id": "b0f01de5-d6a4-4a1a-9a37-8aedd31fb0fe",
   "metadata": {},
   "source": [
    "Q10. Explain the difference between covariance and correlation. How are these measures used in\n",
    "statistical analysis?"
   ]
  },
  {
   "cell_type": "markdown",
   "id": "803cd9be-c634-4b7b-9a83-428fd328b9d9",
   "metadata": {},
   "source": [
    "ans  - Covariance and correlation are both measures of the relationship between two variables. However, they have some key differences:\n",
    "\n",
    "Covariance is a measure of how two variables change together. It indicates the degree to which two variables are linearly related, but it does not standardize the variables or provide information about the strength or direction of the relationship. Covariance can be positive, negative, or zero, depending on the direction and strength of the relationship between the variables.\n",
    "\n",
    "Correlation is a standardized measure of the relationship between two variables. It is calculated as the covariance divided by the product of the standard deviations of the two variables. Correlation ranges from -1 to 1, with values of -1 indicating a perfect negative relationship, values of 1 indicating a perfect positive relationship, and a value of 0 indicating no relationship.\n",
    "\n",
    "In statistical analysis, both covariance and correlation are used to study the relationship between two variables. Covariance is useful for identifying the direction of the relationship between two variables, as well as the degree to which they change together. However, covariance is not standardized, so it can be difficult to interpret the magnitude of the relationship.\n",
    "\n",
    "Correlation, on the other hand, provides a standardized measure of the relationship between two variables, which makes it easier to compare the strength of the relationship between different pairs of variables. Correlation is often used to assess the strength and direction of the relationship between variables in regression analysis, hypothesis testing, and other statistical procedures.\n"
   ]
  },
  {
   "cell_type": "code",
   "execution_count": null,
   "id": "7c94df65-b0c5-40cd-bf12-5e64cead0c51",
   "metadata": {},
   "outputs": [],
   "source": []
  },
  {
   "cell_type": "markdown",
   "id": "26aee396-51da-4b8d-80d6-e39de501f7db",
   "metadata": {},
   "source": [
    "Q11. What is the formula for calculating the sample mean? Provide an example calculation for a\n",
    "dataset.\n"
   ]
  },
  {
   "cell_type": "markdown",
   "id": "e67376ac-a611-4ba1-a207-26c5a14cd3be",
   "metadata": {},
   "source": [
    "ans - The formula for calculating the sample mean is:\n",
    "\n",
    "sample mean = sum of all values in the sample / number of values in the sample\n",
    "\n",
    "In mathematical notation, it can be written as:\n",
    "\n",
    "X̄ = ΣX / n\n",
    "\n",
    "where X̄ is the sample mean, ΣX is the sum of all values in the sample, and n is the number of values in the sample.\n",
    "\n",
    "Here is an example calculation for a dataset:\n",
    "\n",
    "Suppose we have the following dataset of 10 values: 2, 4, 6, 8, 10, 12, 14, 16, 18, 20\n",
    "\n",
    "The sample mean can be calculated as follows:\n",
    "\n",
    "X̄ = (2 + 4 + 6 + 8 + 10 + 12 + 14 + 16 + 18 + 20) / 10\n",
    "\n",
    "X̄ = 110 / 10\n",
    "\n",
    "X̄ = 11\n",
    "\n",
    "Therefore, the sample mean for this dataset is 11."
   ]
  },
  {
   "cell_type": "code",
   "execution_count": null,
   "id": "e7839f1e-92e0-4729-9b3e-69846b2d430a",
   "metadata": {},
   "outputs": [],
   "source": []
  },
  {
   "cell_type": "markdown",
   "id": "365ce7fb-3ade-4d49-907a-869a8e5b1001",
   "metadata": {},
   "source": [
    "Q12. For a normal distribution data what is the relationship between its measure of central tendency?\n"
   ]
  },
  {
   "cell_type": "markdown",
   "id": "ce9ddf20-5e8b-4f4f-a6f6-4ab6a0bec46c",
   "metadata": {},
   "source": [
    "ans - For a normal distribution, the measures of central tendency (mean, median, and mode) are equal to each other. This is because a normal distribution is symmetric around its mean, which means that the median (the middle value) and the mode (the most frequently occurring value) are also equal to the mean.\n",
    "\n",
    "This relationship between the measures of central tendency is one of the characteristics that make the normal distribution useful in many statistical applications. It means that the mean, median, and mode can be used interchangeably as measures of central tendency in a normal distribution, and they will all provide the same information about the distribution's center.\n",
    "\n",
    "This is also why the mean is often used as the default measure of central tendency in statistical analysis, because it is easy to calculate and provides a good estimate of the center of a normal distribution. However, in some cases, such as when the data is skewed or has outliers, the median or mode may be a more appropriate measure of central tendency.\n",
    "\n"
   ]
  },
  {
   "cell_type": "code",
   "execution_count": null,
   "id": "08250f35-4902-4ab4-90a9-431176316e0e",
   "metadata": {},
   "outputs": [],
   "source": []
  },
  {
   "cell_type": "markdown",
   "id": "8dcadbf2-38a7-443e-b13a-a97825efcb5b",
   "metadata": {},
   "source": [
    "Q13. How is covariance different from correlation?\n"
   ]
  },
  {
   "cell_type": "markdown",
   "id": "3199139f-6bdd-4d81-8246-ae65f11a2152",
   "metadata": {},
   "source": [
    "ans - Covariance and correlation are both measures of the relationship between two variables, but they have some important differences:\n",
    "\n",
    "Covariance measures the degree to which two variables are linearly related. It indicates the direction of the relationship between the variables (positive or negative) and its strength, but does not provide information on the magnitude of the relationship. Covariance can take on any value, positive, negative, or zero, depending on the relationship between the variables.\n",
    "\n",
    "Correlation, on the other hand, is a standardized measure of the relationship between two variables. It takes into account the scale of the variables and provides a value between -1 and 1, where values close to -1 indicate a strong negative relationship, values close to 1 indicate a strong positive relationship, and values close to 0 indicate no relationship. Correlation also indicates the direction of the relationship between the variables, but it provides information on the strength of the relationship.\n",
    "\n",
    "In summary, covariance provides information on the direction and strength of the relationship between two variables, while correlation additionally standardizes the values and provides information on the magnitude of the relationship. Correlation is a more commonly used measure of association because it can be more easily interpreted than covariance, and it is also more useful when comparing relationships between variables with different scales."
   ]
  },
  {
   "cell_type": "code",
   "execution_count": null,
   "id": "f9691152-4ea7-4411-b9c3-f4504f055b13",
   "metadata": {},
   "outputs": [],
   "source": []
  },
  {
   "cell_type": "markdown",
   "id": "4e5f6dc0-fd29-46c4-bd5e-6e47307fce83",
   "metadata": {},
   "source": [
    "Q14. How do outliers affect measures of central tendency and dispersion? Provide an example."
   ]
  },
  {
   "cell_type": "markdown",
   "id": "bcdeedd2-a36c-468d-a3d6-6ba16bd41ddd",
   "metadata": {},
   "source": [
    "ans - Outliers can have a significant effect on measures of central tendency and dispersion, as they can shift the values of these measures in different directions depending on their position in the dataset.\n",
    "\n",
    "For measures of central tendency, outliers can cause the mean to be pulled towards their extreme value, while the median and mode may remain relatively unaffected. This is because the mean is sensitive to extreme values, while the median and mode are resistant to them. For example, consider the following dataset of 10 values:\n",
    "\n",
    "1, 2, 3, 4, 5, 6, 7, 8, 9, 100\n",
    "\n",
    "The mean of this dataset is 16.5, which is much higher than the median and mode, both of which are 5. This is because the outlier value of 100 is much larger than the other values in the dataset, and it pulls the mean upwards.\n",
    "\n",
    "For measures of dispersion, outliers can increase the range, variance, and standard deviation of the dataset. This is because these measures are sensitive to extreme values, and outliers can increase the spread of the dataset. For example, consider the following dataset of 10 values:\n",
    "\n",
    "1, 2, 3, 4, 5, 6, 7, 8, 9, 100\n",
    "\n",
    "The range of this dataset is 99, which is much larger than the other measures of dispersion. The variance and standard deviation of the dataset are also much larger than they would be without the outlier value of 100.\n",
    "\n",
    "In summary, outliers can have a significant effect on measures of central tendency and dispersion, and it is important to identify and handle them appropriately when analyzing a dataset."
   ]
  }
 ],
 "metadata": {
  "kernelspec": {
   "display_name": "Python 3 (ipykernel)",
   "language": "python",
   "name": "python3"
  },
  "language_info": {
   "codemirror_mode": {
    "name": "ipython",
    "version": 3
   },
   "file_extension": ".py",
   "mimetype": "text/x-python",
   "name": "python",
   "nbconvert_exporter": "python",
   "pygments_lexer": "ipython3",
   "version": "3.10.8"
  }
 },
 "nbformat": 4,
 "nbformat_minor": 5
}
