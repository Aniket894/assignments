{
 "cells": [
  {
   "cell_type": "markdown",
   "id": "e4216d76-284f-4b1d-96e2-3bb0dc85eb4a",
   "metadata": {},
   "source": [
    "Q1. Which keyword is used to create a function? Create a function to return a list of odd numbers in the \n",
    "range of 1 to 25."
   ]
  },
  {
   "cell_type": "markdown",
   "id": "66ece56f-87ce-4239-b664-2a50cde24ab8",
   "metadata": {},
   "source": [
    "ans - def test() is used to create a function.\n"
   ]
  },
  {
   "cell_type": "code",
   "execution_count": 17,
   "id": "77333a04-7710-45e1-8fff-9ba561f4994b",
   "metadata": {},
   "outputs": [],
   "source": [
    "l=list(range(1,26))"
   ]
  },
  {
   "cell_type": "code",
   "execution_count": 18,
   "id": "757b996b-aef2-431c-968b-d53fd56a021b",
   "metadata": {},
   "outputs": [
    {
     "data": {
      "text/plain": [
       "[1,\n",
       " 2,\n",
       " 3,\n",
       " 4,\n",
       " 5,\n",
       " 6,\n",
       " 7,\n",
       " 8,\n",
       " 9,\n",
       " 10,\n",
       " 11,\n",
       " 12,\n",
       " 13,\n",
       " 14,\n",
       " 15,\n",
       " 16,\n",
       " 17,\n",
       " 18,\n",
       " 19,\n",
       " 20,\n",
       " 21,\n",
       " 22,\n",
       " 23,\n",
       " 24,\n",
       " 25]"
      ]
     },
     "execution_count": 18,
     "metadata": {},
     "output_type": "execute_result"
    }
   ],
   "source": [
    "l"
   ]
  },
  {
   "cell_type": "code",
   "execution_count": 22,
   "id": "247c56c7-d9ba-453a-8e67-070580af7275",
   "metadata": {},
   "outputs": [],
   "source": [
    "def test1(l):\n",
    "    l1=[]\n",
    "    for i in l:\n",
    "        if i%2 != 0:\n",
    "            l1.append(i)\n",
    "    return l1\n"
   ]
  },
  {
   "cell_type": "code",
   "execution_count": 23,
   "id": "b9f82823-33d2-404e-9798-dc07642bcbdb",
   "metadata": {},
   "outputs": [
    {
     "data": {
      "text/plain": [
       "[1, 3, 5, 7, 9, 11, 13, 15, 17, 19, 21, 23, 25]"
      ]
     },
     "execution_count": 23,
     "metadata": {},
     "output_type": "execute_result"
    }
   ],
   "source": [
    "test1(l)"
   ]
  },
  {
   "cell_type": "code",
   "execution_count": null,
   "id": "7edb7475-8564-4b44-b4d7-815cf47e691f",
   "metadata": {},
   "outputs": [],
   "source": []
  },
  {
   "cell_type": "markdown",
   "id": "b26158d6-b969-443a-9d72-be7f3b9853f8",
   "metadata": {},
   "source": [
    "Q2. Why *args and **kwargs is used in some functions? Create a function each for *args and **kwargs \n",
    "to demonstrate their use."
   ]
  },
  {
   "cell_type": "code",
   "execution_count": null,
   "id": "3602d7f9-f4c3-47d7-93f0-4ed98688c1a0",
   "metadata": {},
   "outputs": [],
   "source": [
    "ans - *args is use to get the given data"
   ]
  },
  {
   "cell_type": "code",
   "execution_count": 25,
   "id": "79af09ee-087b-4757-9d9b-5bf5342f2b5f",
   "metadata": {},
   "outputs": [],
   "source": [
    "def test2(*args):\n",
    "    return args"
   ]
  },
  {
   "cell_type": "code",
   "execution_count": 27,
   "id": "74f2b94c-b0b7-4fe9-b778-d3a9c4deb4de",
   "metadata": {},
   "outputs": [
    {
     "data": {
      "text/plain": [
       "(12, (34+5j), 4, 44, 675, 'aniket', 'ranjeet', 24.76)"
      ]
     },
     "execution_count": 27,
     "metadata": {},
     "output_type": "execute_result"
    }
   ],
   "source": [
    "test2(12,34+5j,4,44,675,'aniket', 'ranjeet', 24.76)"
   ]
  },
  {
   "cell_type": "markdown",
   "id": "b9befb10-d27f-41b3-827d-15f50aba0079",
   "metadata": {},
   "source": [
    "*kwargs is use to get values in dict data type"
   ]
  },
  {
   "cell_type": "code",
   "execution_count": 32,
   "id": "6b5ee780-4a79-401a-92a4-eb5c101ee89f",
   "metadata": {},
   "outputs": [],
   "source": [
    "def test3(**kwargs):\n",
    "    return kwargs\n"
   ]
  },
  {
   "cell_type": "code",
   "execution_count": 37,
   "id": "047d4c23-b189-4bcd-bf68-bd5380354593",
   "metadata": {},
   "outputs": [
    {
     "data": {
      "text/plain": [
       "{'a': 'aniket', 'b': 12, 'c': 2894, 'd': ' english'}"
      ]
     },
     "execution_count": 37,
     "metadata": {},
     "output_type": "execute_result"
    }
   ],
   "source": [
    "test3(a  ='aniket', b = 12,c  = 2894 , d =' english')"
   ]
  },
  {
   "cell_type": "code",
   "execution_count": null,
   "id": "47d9d975-4ccb-4ecf-8eba-39cbd35fb3f6",
   "metadata": {},
   "outputs": [],
   "source": []
  },
  {
   "cell_type": "markdown",
   "id": "044ea4ae-69e9-4bf2-88ab-b7d12fbbfcab",
   "metadata": {},
   "source": [
    "Q3.  What is an iterator in python? Name the method used to initialise the iterator object and the method\n",
    "used for iteration. Use these methods to print the first five elements of the given list [2, 4, 6, 8, 10, 12, 14,\n",
    "16, 18, 20]."
   ]
  },
  {
   "cell_type": "markdown",
   "id": "e4dda91b-bccd-4a46-bb6e-2a0c75021222",
   "metadata": {},
   "source": [
    "ans - an iterator is an object that is use to loop through items in list, tuple,dict,set and string"
   ]
  },
  {
   "cell_type": "markdown",
   "id": "82234f70-77ac-4de1-a299-b7ccd44ae806",
   "metadata": {},
   "source": [
    "Iter() method is used to initialize the iterator object "
   ]
  },
  {
   "cell_type": "markdown",
   "id": "9921d28b-0547-4f23-a452-e4254f3febde",
   "metadata": {},
   "source": [
    "next() method is used to iterate over the iterable objects and get elemants form iter"
   ]
  },
  {
   "cell_type": "code",
   "execution_count": 44,
   "id": "e383d0c3-1d07-4928-8f08-aef888f264b4",
   "metadata": {},
   "outputs": [],
   "source": [
    "l = [ 2,4,6,8,10,12,14,16,18,20]"
   ]
  },
  {
   "cell_type": "code",
   "execution_count": 46,
   "id": "1cff6cf3-93b1-48bd-b006-6681109aa0ec",
   "metadata": {},
   "outputs": [],
   "source": [
    "c = iter(l)"
   ]
  },
  {
   "cell_type": "code",
   "execution_count": 49,
   "id": "75814565-0940-4289-ac6f-62e5eec004cd",
   "metadata": {},
   "outputs": [
    {
     "name": "stdout",
     "output_type": "stream",
     "text": [
      "2\n",
      "4\n",
      "6\n",
      "8\n",
      "10\n"
     ]
    }
   ],
   "source": [
    "for i in range(5):\n",
    "    print(next(c))"
   ]
  },
  {
   "cell_type": "code",
   "execution_count": null,
   "id": "8fd9c0a7-690d-4a7d-8f2e-a943846d710d",
   "metadata": {},
   "outputs": [],
   "source": []
  },
  {
   "cell_type": "markdown",
   "id": "09fceb48-049f-4f3a-8f25-1b40579ffe4a",
   "metadata": {},
   "source": [
    "Q4.  What is a generator function in python? Why yield keyword is used? Give an example of a generator\n",
    "function."
   ]
  },
  {
   "cell_type": "markdown",
   "id": "0292b982-bc6d-4863-adbb-cffa6184c5b6",
   "metadata": {},
   "source": [
    "ans - a generator function returns iterator and not get memory in pc means when we\n",
    "      need to produce large no of data which we don't want to store in memory"
   ]
  },
  {
   "cell_type": "markdown",
   "id": "b0d7a2e1-5d7d-4e3b-8d39-093d773f6bd1",
   "metadata": {},
   "source": [
    "The yield statement returns a generator object to the one who calls the function which contains yield and yield function is also like return"
   ]
  },
  {
   "cell_type": "code",
   "execution_count": 55,
   "id": "76c71fc1-236f-472e-b0fa-9a503006dab4",
   "metadata": {},
   "outputs": [],
   "source": [
    "def nextSquare():\n",
    "    i = 1\n",
    "    while True:\n",
    "        yield i*i\n",
    "        i += 1  \n",
    "\n"
   ]
  },
  {
   "cell_type": "code",
   "execution_count": 58,
   "id": "89af947a-de4c-4aae-bb12-54a2f361db9d",
   "metadata": {},
   "outputs": [
    {
     "name": "stdout",
     "output_type": "stream",
     "text": [
      "1\n",
      "4\n",
      "9\n",
      "16\n",
      "25\n",
      "36\n",
      "49\n",
      "64\n",
      "81\n",
      "100\n"
     ]
    }
   ],
   "source": [
    "for num in nextSquare():\n",
    "    if num > 100:\n",
    "        break\n",
    "    print(num)"
   ]
  },
  {
   "cell_type": "code",
   "execution_count": null,
   "id": "15e8869c-3814-4e93-9f3d-e2da74450772",
   "metadata": {},
   "outputs": [],
   "source": []
  },
  {
   "cell_type": "markdown",
   "id": "1b36f655-937d-4886-97c4-eb68583c50f6",
   "metadata": {},
   "source": [
    "Q5. Create a generator function for prime numbers less than 1000. Use the next() method to print the\n",
    "first 20 prime numbers."
   ]
  },
  {
   "cell_type": "code",
   "execution_count": 4,
   "id": "b428a3f7-ec85-4507-8dce-28fd5e543623",
   "metadata": {},
   "outputs": [],
   "source": [
    "def test1():\n",
    "    l1 =[]\n",
    "    for i in range(1,1001):\n",
    "        if i%2 != 0:\n",
    "            yield i\n",
    "            \n",
    "           "
   ]
  },
  {
   "cell_type": "code",
   "execution_count": 5,
   "id": "461d0f29-4786-461f-b59e-409d26987c1d",
   "metadata": {},
   "outputs": [
    {
     "data": {
      "text/plain": [
       "[1,\n",
       " 3,\n",
       " 5,\n",
       " 7,\n",
       " 9,\n",
       " 11,\n",
       " 13,\n",
       " 15,\n",
       " 17,\n",
       " 19,\n",
       " 21,\n",
       " 23,\n",
       " 25,\n",
       " 27,\n",
       " 29,\n",
       " 31,\n",
       " 33,\n",
       " 35,\n",
       " 37,\n",
       " 39,\n",
       " 41,\n",
       " 43,\n",
       " 45,\n",
       " 47,\n",
       " 49,\n",
       " 51,\n",
       " 53,\n",
       " 55,\n",
       " 57,\n",
       " 59,\n",
       " 61,\n",
       " 63,\n",
       " 65,\n",
       " 67,\n",
       " 69,\n",
       " 71,\n",
       " 73,\n",
       " 75,\n",
       " 77,\n",
       " 79,\n",
       " 81,\n",
       " 83,\n",
       " 85,\n",
       " 87,\n",
       " 89,\n",
       " 91,\n",
       " 93,\n",
       " 95,\n",
       " 97,\n",
       " 99,\n",
       " 101,\n",
       " 103,\n",
       " 105,\n",
       " 107,\n",
       " 109,\n",
       " 111,\n",
       " 113,\n",
       " 115,\n",
       " 117,\n",
       " 119,\n",
       " 121,\n",
       " 123,\n",
       " 125,\n",
       " 127,\n",
       " 129,\n",
       " 131,\n",
       " 133,\n",
       " 135,\n",
       " 137,\n",
       " 139,\n",
       " 141,\n",
       " 143,\n",
       " 145,\n",
       " 147,\n",
       " 149,\n",
       " 151,\n",
       " 153,\n",
       " 155,\n",
       " 157,\n",
       " 159,\n",
       " 161,\n",
       " 163,\n",
       " 165,\n",
       " 167,\n",
       " 169,\n",
       " 171,\n",
       " 173,\n",
       " 175,\n",
       " 177,\n",
       " 179,\n",
       " 181,\n",
       " 183,\n",
       " 185,\n",
       " 187,\n",
       " 189,\n",
       " 191,\n",
       " 193,\n",
       " 195,\n",
       " 197,\n",
       " 199,\n",
       " 201,\n",
       " 203,\n",
       " 205,\n",
       " 207,\n",
       " 209,\n",
       " 211,\n",
       " 213,\n",
       " 215,\n",
       " 217,\n",
       " 219,\n",
       " 221,\n",
       " 223,\n",
       " 225,\n",
       " 227,\n",
       " 229,\n",
       " 231,\n",
       " 233,\n",
       " 235,\n",
       " 237,\n",
       " 239,\n",
       " 241,\n",
       " 243,\n",
       " 245,\n",
       " 247,\n",
       " 249,\n",
       " 251,\n",
       " 253,\n",
       " 255,\n",
       " 257,\n",
       " 259,\n",
       " 261,\n",
       " 263,\n",
       " 265,\n",
       " 267,\n",
       " 269,\n",
       " 271,\n",
       " 273,\n",
       " 275,\n",
       " 277,\n",
       " 279,\n",
       " 281,\n",
       " 283,\n",
       " 285,\n",
       " 287,\n",
       " 289,\n",
       " 291,\n",
       " 293,\n",
       " 295,\n",
       " 297,\n",
       " 299,\n",
       " 301,\n",
       " 303,\n",
       " 305,\n",
       " 307,\n",
       " 309,\n",
       " 311,\n",
       " 313,\n",
       " 315,\n",
       " 317,\n",
       " 319,\n",
       " 321,\n",
       " 323,\n",
       " 325,\n",
       " 327,\n",
       " 329,\n",
       " 331,\n",
       " 333,\n",
       " 335,\n",
       " 337,\n",
       " 339,\n",
       " 341,\n",
       " 343,\n",
       " 345,\n",
       " 347,\n",
       " 349,\n",
       " 351,\n",
       " 353,\n",
       " 355,\n",
       " 357,\n",
       " 359,\n",
       " 361,\n",
       " 363,\n",
       " 365,\n",
       " 367,\n",
       " 369,\n",
       " 371,\n",
       " 373,\n",
       " 375,\n",
       " 377,\n",
       " 379,\n",
       " 381,\n",
       " 383,\n",
       " 385,\n",
       " 387,\n",
       " 389,\n",
       " 391,\n",
       " 393,\n",
       " 395,\n",
       " 397,\n",
       " 399,\n",
       " 401,\n",
       " 403,\n",
       " 405,\n",
       " 407,\n",
       " 409,\n",
       " 411,\n",
       " 413,\n",
       " 415,\n",
       " 417,\n",
       " 419,\n",
       " 421,\n",
       " 423,\n",
       " 425,\n",
       " 427,\n",
       " 429,\n",
       " 431,\n",
       " 433,\n",
       " 435,\n",
       " 437,\n",
       " 439,\n",
       " 441,\n",
       " 443,\n",
       " 445,\n",
       " 447,\n",
       " 449,\n",
       " 451,\n",
       " 453,\n",
       " 455,\n",
       " 457,\n",
       " 459,\n",
       " 461,\n",
       " 463,\n",
       " 465,\n",
       " 467,\n",
       " 469,\n",
       " 471,\n",
       " 473,\n",
       " 475,\n",
       " 477,\n",
       " 479,\n",
       " 481,\n",
       " 483,\n",
       " 485,\n",
       " 487,\n",
       " 489,\n",
       " 491,\n",
       " 493,\n",
       " 495,\n",
       " 497,\n",
       " 499,\n",
       " 501,\n",
       " 503,\n",
       " 505,\n",
       " 507,\n",
       " 509,\n",
       " 511,\n",
       " 513,\n",
       " 515,\n",
       " 517,\n",
       " 519,\n",
       " 521,\n",
       " 523,\n",
       " 525,\n",
       " 527,\n",
       " 529,\n",
       " 531,\n",
       " 533,\n",
       " 535,\n",
       " 537,\n",
       " 539,\n",
       " 541,\n",
       " 543,\n",
       " 545,\n",
       " 547,\n",
       " 549,\n",
       " 551,\n",
       " 553,\n",
       " 555,\n",
       " 557,\n",
       " 559,\n",
       " 561,\n",
       " 563,\n",
       " 565,\n",
       " 567,\n",
       " 569,\n",
       " 571,\n",
       " 573,\n",
       " 575,\n",
       " 577,\n",
       " 579,\n",
       " 581,\n",
       " 583,\n",
       " 585,\n",
       " 587,\n",
       " 589,\n",
       " 591,\n",
       " 593,\n",
       " 595,\n",
       " 597,\n",
       " 599,\n",
       " 601,\n",
       " 603,\n",
       " 605,\n",
       " 607,\n",
       " 609,\n",
       " 611,\n",
       " 613,\n",
       " 615,\n",
       " 617,\n",
       " 619,\n",
       " 621,\n",
       " 623,\n",
       " 625,\n",
       " 627,\n",
       " 629,\n",
       " 631,\n",
       " 633,\n",
       " 635,\n",
       " 637,\n",
       " 639,\n",
       " 641,\n",
       " 643,\n",
       " 645,\n",
       " 647,\n",
       " 649,\n",
       " 651,\n",
       " 653,\n",
       " 655,\n",
       " 657,\n",
       " 659,\n",
       " 661,\n",
       " 663,\n",
       " 665,\n",
       " 667,\n",
       " 669,\n",
       " 671,\n",
       " 673,\n",
       " 675,\n",
       " 677,\n",
       " 679,\n",
       " 681,\n",
       " 683,\n",
       " 685,\n",
       " 687,\n",
       " 689,\n",
       " 691,\n",
       " 693,\n",
       " 695,\n",
       " 697,\n",
       " 699,\n",
       " 701,\n",
       " 703,\n",
       " 705,\n",
       " 707,\n",
       " 709,\n",
       " 711,\n",
       " 713,\n",
       " 715,\n",
       " 717,\n",
       " 719,\n",
       " 721,\n",
       " 723,\n",
       " 725,\n",
       " 727,\n",
       " 729,\n",
       " 731,\n",
       " 733,\n",
       " 735,\n",
       " 737,\n",
       " 739,\n",
       " 741,\n",
       " 743,\n",
       " 745,\n",
       " 747,\n",
       " 749,\n",
       " 751,\n",
       " 753,\n",
       " 755,\n",
       " 757,\n",
       " 759,\n",
       " 761,\n",
       " 763,\n",
       " 765,\n",
       " 767,\n",
       " 769,\n",
       " 771,\n",
       " 773,\n",
       " 775,\n",
       " 777,\n",
       " 779,\n",
       " 781,\n",
       " 783,\n",
       " 785,\n",
       " 787,\n",
       " 789,\n",
       " 791,\n",
       " 793,\n",
       " 795,\n",
       " 797,\n",
       " 799,\n",
       " 801,\n",
       " 803,\n",
       " 805,\n",
       " 807,\n",
       " 809,\n",
       " 811,\n",
       " 813,\n",
       " 815,\n",
       " 817,\n",
       " 819,\n",
       " 821,\n",
       " 823,\n",
       " 825,\n",
       " 827,\n",
       " 829,\n",
       " 831,\n",
       " 833,\n",
       " 835,\n",
       " 837,\n",
       " 839,\n",
       " 841,\n",
       " 843,\n",
       " 845,\n",
       " 847,\n",
       " 849,\n",
       " 851,\n",
       " 853,\n",
       " 855,\n",
       " 857,\n",
       " 859,\n",
       " 861,\n",
       " 863,\n",
       " 865,\n",
       " 867,\n",
       " 869,\n",
       " 871,\n",
       " 873,\n",
       " 875,\n",
       " 877,\n",
       " 879,\n",
       " 881,\n",
       " 883,\n",
       " 885,\n",
       " 887,\n",
       " 889,\n",
       " 891,\n",
       " 893,\n",
       " 895,\n",
       " 897,\n",
       " 899,\n",
       " 901,\n",
       " 903,\n",
       " 905,\n",
       " 907,\n",
       " 909,\n",
       " 911,\n",
       " 913,\n",
       " 915,\n",
       " 917,\n",
       " 919,\n",
       " 921,\n",
       " 923,\n",
       " 925,\n",
       " 927,\n",
       " 929,\n",
       " 931,\n",
       " 933,\n",
       " 935,\n",
       " 937,\n",
       " 939,\n",
       " 941,\n",
       " 943,\n",
       " 945,\n",
       " 947,\n",
       " 949,\n",
       " 951,\n",
       " 953,\n",
       " 955,\n",
       " 957,\n",
       " 959,\n",
       " 961,\n",
       " 963,\n",
       " 965,\n",
       " 967,\n",
       " 969,\n",
       " 971,\n",
       " 973,\n",
       " 975,\n",
       " 977,\n",
       " 979,\n",
       " 981,\n",
       " 983,\n",
       " 985,\n",
       " 987,\n",
       " 989,\n",
       " 991,\n",
       " 993,\n",
       " 995,\n",
       " 997,\n",
       " 999]"
      ]
     },
     "execution_count": 5,
     "metadata": {},
     "output_type": "execute_result"
    }
   ],
   "source": [
    "list(test1())"
   ]
  },
  {
   "cell_type": "code",
   "execution_count": 6,
   "id": "6ba3a6f1-e1d5-4b6f-a3d0-5ad395791bae",
   "metadata": {},
   "outputs": [],
   "source": [
    "k = test1()"
   ]
  },
  {
   "cell_type": "code",
   "execution_count": 7,
   "id": "dd99af41-d750-4bc7-935f-0437f0766802",
   "metadata": {},
   "outputs": [
    {
     "name": "stdout",
     "output_type": "stream",
     "text": [
      "1\n",
      "3\n",
      "5\n",
      "7\n",
      "9\n",
      "11\n",
      "13\n",
      "15\n",
      "17\n",
      "19\n",
      "21\n",
      "23\n",
      "25\n",
      "27\n",
      "29\n",
      "31\n",
      "33\n",
      "35\n",
      "37\n",
      "39\n"
     ]
    }
   ],
   "source": [
    "for i in range(20):\n",
    "    print(next(k))"
   ]
  },
  {
   "cell_type": "code",
   "execution_count": null,
   "id": "8517d32c-e4a9-4153-94c8-d3f80621da63",
   "metadata": {},
   "outputs": [],
   "source": []
  },
  {
   "cell_type": "markdown",
   "id": "8c79442b-904d-47ff-b1ee-8b7ce5876212",
   "metadata": {},
   "source": [
    "Q6. Write a python program to print the first 10 Fibonacci numbers using a while loop."
   ]
  },
  {
   "cell_type": "code",
   "execution_count": null,
   "id": "3471c48e-c863-4d1e-a4b8-6b9decbcd740",
   "metadata": {},
   "outputs": [],
   "source": []
  },
  {
   "cell_type": "code",
   "execution_count": 3,
   "id": "01a74ade-6b92-442a-8952-f36cda07f218",
   "metadata": {},
   "outputs": [
    {
     "name": "stdout",
     "output_type": "stream",
     "text": [
      "0\n",
      "1\n",
      "1\n",
      "2\n",
      "3\n",
      "5\n",
      "8\n",
      "13\n",
      "21\n",
      "34\n",
      "55\n"
     ]
    }
   ],
   "source": [
    "a= 0\n",
    "b= 1\n",
    "count = 0\n",
    "while count <=10:\n",
    "    print (a)\n",
    "    c = a + b\n",
    "    a = b\n",
    "    b = c\n",
    "    count = count + 1\n",
    "    "
   ]
  },
  {
   "cell_type": "markdown",
   "id": "249061f1-be96-4e04-9e16-fc7c8736e344",
   "metadata": {},
   "source": [
    "Q7. Write a List Comprehension to iterate through the given string: ‘pwskills’.\n",
    "\n",
    "Expected output: ['p', 'w', 's', 'k', 'i', 'l', 'l', 's'] "
   ]
  },
  {
   "cell_type": "code",
   "execution_count": 4,
   "id": "664e7f13-0ef0-48b3-b981-8e836dcf8e66",
   "metadata": {},
   "outputs": [],
   "source": [
    "s = 'pwskills'"
   ]
  },
  {
   "cell_type": "code",
   "execution_count": 5,
   "id": "392e41a0-0f32-4c9a-accb-541067b1bf3e",
   "metadata": {},
   "outputs": [
    {
     "data": {
      "text/plain": [
       "['p', 'w', 's', 'k', 'i', 'l', 'l', 's']"
      ]
     },
     "execution_count": 5,
     "metadata": {},
     "output_type": "execute_result"
    }
   ],
   "source": [
    "[i for i in s ]"
   ]
  },
  {
   "cell_type": "code",
   "execution_count": null,
   "id": "0c10547f-5abd-4187-a406-3aba28e1602c",
   "metadata": {},
   "outputs": [],
   "source": []
  },
  {
   "cell_type": "markdown",
   "id": "d4a49f06-a069-40db-a867-af4ebebe8613",
   "metadata": {},
   "source": [
    "Q8. Write a python program to check whether a given number is Palindrome or not using a while loop"
   ]
  },
  {
   "cell_type": "code",
   "execution_count": 38,
   "id": "ce61cf85-a847-4978-bc0d-c152bdf63548",
   "metadata": {},
   "outputs": [
    {
     "name": "stdin",
     "output_type": "stream",
     "text": [
      "Enter any number : 678\n"
     ]
    },
    {
     "name": "stdout",
     "output_type": "stream",
     "text": [
      "It is not a palindrome\n"
     ]
    }
   ],
   "source": [
    "n = input(\"Enter any number :\")\n",
    "i = 0\n",
    "for i in range(len(n)):\n",
    "    if n[i]!=n[-1-i]:\n",
    "        print('It is not a palindrome')\n",
    "        break\n",
    "else:\n",
    "    print('It is a palindrome')"
   ]
  },
  {
   "cell_type": "code",
   "execution_count": null,
   "id": "d9f3a769-2c0e-4b88-8655-43eeae6b7790",
   "metadata": {},
   "outputs": [],
   "source": []
  },
  {
   "cell_type": "markdown",
   "id": "b0fe8c41-c3e3-4822-9c38-90ccd77169f8",
   "metadata": {},
   "source": [
    "Q9. Write a code to print odd numbers from 1 to 100 using list comprehension.\n",
    "\n",
    "Note: Use a list comprehension to create a list from 1 to 100 and use another List comprehension to filter\n",
    "out odd numbers."
   ]
  },
  {
   "cell_type": "code",
   "execution_count": 23,
   "id": "d8a42180-b09d-43b2-bf74-cc40c1cec339",
   "metadata": {},
   "outputs": [],
   "source": [
    "k = [ i for i in range(1,101)]"
   ]
  },
  {
   "cell_type": "code",
   "execution_count": 24,
   "id": "72987057-dcca-45ce-9592-dd3fd51355d5",
   "metadata": {},
   "outputs": [
    {
     "name": "stdout",
     "output_type": "stream",
     "text": [
      "[1, 2, 3, 4, 5, 6, 7, 8, 9, 10, 11, 12, 13, 14, 15, 16, 17, 18, 19, 20, 21, 22, 23, 24, 25, 26, 27, 28, 29, 30, 31, 32, 33, 34, 35, 36, 37, 38, 39, 40, 41, 42, 43, 44, 45, 46, 47, 48, 49, 50, 51, 52, 53, 54, 55, 56, 57, 58, 59, 60, 61, 62, 63, 64, 65, 66, 67, 68, 69, 70, 71, 72, 73, 74, 75, 76, 77, 78, 79, 80, 81, 82, 83, 84, 85, 86, 87, 88, 89, 90, 91, 92, 93, 94, 95, 96, 97, 98, 99, 100]\n"
     ]
    }
   ],
   "source": [
    "print(k)"
   ]
  },
  {
   "cell_type": "code",
   "execution_count": 25,
   "id": "bc828d79-bbee-4483-b0ce-815c1458b365",
   "metadata": {},
   "outputs": [
    {
     "data": {
      "text/plain": [
       "[1,\n",
       " 3,\n",
       " 5,\n",
       " 7,\n",
       " 9,\n",
       " 11,\n",
       " 13,\n",
       " 15,\n",
       " 17,\n",
       " 19,\n",
       " 21,\n",
       " 23,\n",
       " 25,\n",
       " 27,\n",
       " 29,\n",
       " 31,\n",
       " 33,\n",
       " 35,\n",
       " 37,\n",
       " 39,\n",
       " 41,\n",
       " 43,\n",
       " 45,\n",
       " 47,\n",
       " 49,\n",
       " 51,\n",
       " 53,\n",
       " 55,\n",
       " 57,\n",
       " 59,\n",
       " 61,\n",
       " 63,\n",
       " 65,\n",
       " 67,\n",
       " 69,\n",
       " 71,\n",
       " 73,\n",
       " 75,\n",
       " 77,\n",
       " 79,\n",
       " 81,\n",
       " 83,\n",
       " 85,\n",
       " 87,\n",
       " 89,\n",
       " 91,\n",
       " 93,\n",
       " 95,\n",
       " 97,\n",
       " 99]"
      ]
     },
     "execution_count": 25,
     "metadata": {},
     "output_type": "execute_result"
    }
   ],
   "source": [
    "[i for i in k  if i%2 != 0 ]"
   ]
  },
  {
   "cell_type": "code",
   "execution_count": null,
   "id": "883a5e57-43bc-464b-b18c-e85c1af54ca7",
   "metadata": {},
   "outputs": [],
   "source": []
  }
 ],
 "metadata": {
  "kernelspec": {
   "display_name": "Python 3 (ipykernel)",
   "language": "python",
   "name": "python3"
  },
  "language_info": {
   "codemirror_mode": {
    "name": "ipython",
    "version": 3
   },
   "file_extension": ".py",
   "mimetype": "text/x-python",
   "name": "python",
   "nbconvert_exporter": "python",
   "pygments_lexer": "ipython3",
   "version": "3.10.8"
  }
 },
 "nbformat": 4,
 "nbformat_minor": 5
}
