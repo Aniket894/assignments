{
 "cells": [
  {
   "cell_type": "markdown",
   "id": "73a688aa-0a87-42ee-843a-7b6ee0ed17f1",
   "metadata": {},
   "source": [
    "Q1. What is Abstraction in OOps? Explain with an example."
   ]
  },
  {
   "cell_type": "markdown",
   "id": "a47e83a7-fa22-41bf-8881-70dba6aaca38",
   "metadata": {},
   "source": [
    "ans - Abstraction can be considered as a blueprint  or skeleton for other classes.\n",
    "     It allows you to create a set of methods that must be created within any child \n",
    "    classes built from the abstract class. A class which contains one or more abstract \n",
    "    methods is called an abstract class. An abstract method is a method that has a \n",
    "    declaration but does not have an implementation. While we are designing large \n",
    "    functional units we use an abstract class. When we want to provide a common \n",
    "    interface for different implementations of a component, we use an abstract class. "
   ]
  },
  {
   "cell_type": "code",
   "execution_count": 16,
   "id": "64296026-66c8-49b8-9062-18cc28e7b5fd",
   "metadata": {},
   "outputs": [],
   "source": [
    "import abc\n",
    "\n",
    "class mammal:\n",
    "    \n",
    "    @abc.abstractmethod\n",
    "    def mammal_test(self):\n",
    "        pass\n",
    "    "
   ]
  },
  {
   "cell_type": "code",
   "execution_count": 17,
   "id": "0c95e042-3722-4c73-b06a-ad98f9bfe5f1",
   "metadata": {},
   "outputs": [],
   "source": [
    "class human(mammal):\n",
    "    \n",
    "    def mammal_test(self):\n",
    "        return ' Human being are mammal'"
   ]
  },
  {
   "cell_type": "code",
   "execution_count": 18,
   "id": "728f92db-958d-4a62-9716-e8d8e7725beb",
   "metadata": {},
   "outputs": [],
   "source": [
    "class aligator(mammal):\n",
    "    \n",
    "    def mammal_test(self):\n",
    "        return ' aligator are not mammal'\n",
    "    \n",
    "    "
   ]
  },
  {
   "cell_type": "code",
   "execution_count": 19,
   "id": "c3ce4f71-f214-4dab-b694-8db37deeb47a",
   "metadata": {},
   "outputs": [],
   "source": [
    "class bats(mammal):\n",
    "    \n",
    "    def mammal_test(self):\n",
    "        return 'bats are mammal'\n",
    "    "
   ]
  },
  {
   "cell_type": "code",
   "execution_count": 20,
   "id": "f9010ad9-8078-4a9f-a9f7-75f8cc1a515e",
   "metadata": {},
   "outputs": [],
   "source": [
    "cla_obj = bats()"
   ]
  },
  {
   "cell_type": "code",
   "execution_count": 21,
   "id": "77bc7eba-af0a-433e-805e-f9fe867513f7",
   "metadata": {},
   "outputs": [
    {
     "data": {
      "text/plain": [
       "'bats are mammal'"
      ]
     },
     "execution_count": 21,
     "metadata": {},
     "output_type": "execute_result"
    }
   ],
   "source": [
    "cla_obj.mammal_test()"
   ]
  },
  {
   "cell_type": "code",
   "execution_count": 22,
   "id": "48162239-97cc-4246-b741-425ba831e4d9",
   "metadata": {},
   "outputs": [],
   "source": [
    "human = human()"
   ]
  },
  {
   "cell_type": "code",
   "execution_count": 23,
   "id": "33aea69a-08e8-4efc-9acb-b147f8c5ec77",
   "metadata": {},
   "outputs": [
    {
     "data": {
      "text/plain": [
       "' Human being are mammal'"
      ]
     },
     "execution_count": 23,
     "metadata": {},
     "output_type": "execute_result"
    }
   ],
   "source": [
    "human.mammal_test()"
   ]
  },
  {
   "cell_type": "code",
   "execution_count": 24,
   "id": "4b180cc3-a475-418c-aa7e-d993a2a344e4",
   "metadata": {},
   "outputs": [],
   "source": [
    "aligater_obj = aligator()"
   ]
  },
  {
   "cell_type": "code",
   "execution_count": 25,
   "id": "643473f1-0d04-4c86-b348-f741e6470887",
   "metadata": {},
   "outputs": [
    {
     "data": {
      "text/plain": [
       "' aligator are not mammal'"
      ]
     },
     "execution_count": 25,
     "metadata": {},
     "output_type": "execute_result"
    }
   ],
   "source": [
    "aligater_obj.mammal_test()"
   ]
  },
  {
   "cell_type": "code",
   "execution_count": null,
   "id": "e296fe3e-8178-4dc1-ad26-0a9d6cb3ee05",
   "metadata": {},
   "outputs": [],
   "source": []
  },
  {
   "cell_type": "markdown",
   "id": "f9645d0d-7af9-4c3f-8b76-62cff466aee7",
   "metadata": {},
   "source": [
    "Q2. Differentiate between Abstraction and Encapsulation. Explain with an example."
   ]
  },
  {
   "cell_type": "markdown",
   "id": "27fbbe3f-63ca-43ea-955d-dd4dbe7cb8fa",
   "metadata": {},
   "source": [
    "ans - Abstraction is act as skeleton or blueprint for class.Abstraction is a design\n",
    "     level process and it is used to reduce the complexity at the designing stage of a project. \n",
    "\n",
    "Encapsulation describes the idea of wrapping data and the methods that work on data within one unit. This puts restrictions on accessing variables and methods directly and can prevent the accidental modification of data. "
   ]
  },
  {
   "cell_type": "markdown",
   "id": "7173c875-b6ff-4613-b099-d5edcab048f2",
   "metadata": {},
   "source": [
    "example of abstraction"
   ]
  },
  {
   "cell_type": "code",
   "execution_count": 28,
   "id": "88ce29d8-9176-44db-af0d-c5cb92278b8a",
   "metadata": {},
   "outputs": [],
   "source": [
    "import abc\n",
    "\n",
    "class cricket:\n",
    "    \n",
    "    @abc.abstractmethod\n",
    "    def runs(self):\n",
    "        pass\n",
    "    \n",
    "    @abc.abstractmethod\n",
    "    def over(self):\n",
    "        pass\n",
    "    \n",
    "    @abc.abstractmethod\n",
    "    def six(self):\n",
    "        pass\n",
    "        \n",
    "    @abc.abstractmethod\n",
    "    def four(self):\n",
    "        pass\n",
    "    \n",
    "    @abc.abstractmethod\n",
    "    def single(self):\n",
    "        pass"
   ]
  },
  {
   "cell_type": "code",
   "execution_count": 30,
   "id": "4365037d-431c-4eb1-a332-60b4d84a3bc4",
   "metadata": {},
   "outputs": [],
   "source": [
    "class rohit(cricket):\n",
    "    \n",
    "    def runs(self):\n",
    "        return 124\n",
    "    \n",
    "    def six(self):\n",
    "        return 8\n",
    "    \n",
    "    def four(self):\n",
    "        return 3\n",
    "        \n",
    "    "
   ]
  },
  {
   "cell_type": "code",
   "execution_count": 31,
   "id": "3959a21a-f45c-487a-ab55-25514fc49339",
   "metadata": {},
   "outputs": [],
   "source": [
    "class virat(cricket):\n",
    "    \n",
    "    def runs(self):\n",
    "        return 89\n",
    "    \n",
    "    def over(self):\n",
    "        return 4"
   ]
  },
  {
   "cell_type": "code",
   "execution_count": 32,
   "id": "6460574a-b221-47f0-981f-d3ef664e96b9",
   "metadata": {},
   "outputs": [],
   "source": [
    "v_obj = virat()"
   ]
  },
  {
   "cell_type": "code",
   "execution_count": 33,
   "id": "8bbdee5d-0c51-4b5d-b47c-734f43a89ad9",
   "metadata": {},
   "outputs": [
    {
     "data": {
      "text/plain": [
       "4"
      ]
     },
     "execution_count": 33,
     "metadata": {},
     "output_type": "execute_result"
    }
   ],
   "source": [
    "v_obj.over()"
   ]
  },
  {
   "cell_type": "code",
   "execution_count": 34,
   "id": "56293e3f-3d2c-409d-ab99-76cd7727eed8",
   "metadata": {},
   "outputs": [
    {
     "data": {
      "text/plain": [
       "89"
      ]
     },
     "execution_count": 34,
     "metadata": {},
     "output_type": "execute_result"
    }
   ],
   "source": [
    "v_obj.runs()"
   ]
  },
  {
   "cell_type": "code",
   "execution_count": 35,
   "id": "3f3bc8b4-de8d-4597-b785-6d3707bb1794",
   "metadata": {},
   "outputs": [],
   "source": [
    "r_obj = rohit()"
   ]
  },
  {
   "cell_type": "code",
   "execution_count": 36,
   "id": "80119814-ddb7-4275-84dd-0c8eb18a1fdc",
   "metadata": {},
   "outputs": [
    {
     "data": {
      "text/plain": [
       "124"
      ]
     },
     "execution_count": 36,
     "metadata": {},
     "output_type": "execute_result"
    }
   ],
   "source": [
    "r_obj.runs()"
   ]
  },
  {
   "cell_type": "code",
   "execution_count": 37,
   "id": "e2baba3f-01ff-48e9-ae5b-a65e5c9021c4",
   "metadata": {},
   "outputs": [
    {
     "data": {
      "text/plain": [
       "8"
      ]
     },
     "execution_count": 37,
     "metadata": {},
     "output_type": "execute_result"
    }
   ],
   "source": [
    "r_obj.six()"
   ]
  },
  {
   "cell_type": "code",
   "execution_count": 38,
   "id": "fefc051c-403e-4ab6-a93e-80847c464aa2",
   "metadata": {},
   "outputs": [
    {
     "data": {
      "text/plain": [
       "3"
      ]
     },
     "execution_count": 38,
     "metadata": {},
     "output_type": "execute_result"
    }
   ],
   "source": [
    "r_obj.four()"
   ]
  },
  {
   "cell_type": "markdown",
   "id": "f7b02880-a904-4971-8db0-96a1a6d03a63",
   "metadata": {},
   "source": [
    "example of encapsultion\n"
   ]
  },
  {
   "cell_type": "code",
   "execution_count": 44,
   "id": "73d6e59b-ba27-498a-99cd-7c11edaed22f",
   "metadata": {},
   "outputs": [],
   "source": [
    "class employee:\n",
    "    \n",
    "    def __init__(self,emp_id,salary, experiance,role):\n",
    "        self.__emp_id = emp_id\n",
    "        self.__salary  = salary\n",
    "        self.__experiance = experiance\n",
    "        self.__role = role\n",
    "        \n",
    "    def emp_dt(self):\n",
    "        return self.__emp_id, self.__salary,self.__experiance"
   ]
  },
  {
   "cell_type": "markdown",
   "id": "840f2724-52fd-4557-bb93-2087ac278083",
   "metadata": {},
   "source": [
    "anik = employee(1234,'45 k ',3,'data scientist')"
   ]
  },
  {
   "cell_type": "code",
   "execution_count": 46,
   "id": "2fe2e539-1755-4dae-881b-1871d9f758e0",
   "metadata": {},
   "outputs": [
    {
     "data": {
      "text/plain": [
       "(1234, '45 k ', 3)"
      ]
     },
     "execution_count": 46,
     "metadata": {},
     "output_type": "execute_result"
    }
   ],
   "source": [
    "anik.emp_dt()"
   ]
  },
  {
   "cell_type": "code",
   "execution_count": 47,
   "id": "100475e0-3956-4430-89cc-7c06c8afaf3f",
   "metadata": {},
   "outputs": [],
   "source": [
    "ravi = employee(987,'30 k','1.5 years', 'engineer')"
   ]
  },
  {
   "cell_type": "code",
   "execution_count": 48,
   "id": "ae27698f-09ae-4ce2-ad70-f955b0d1b309",
   "metadata": {},
   "outputs": [
    {
     "data": {
      "text/plain": [
       "(987, '30 k', '1.5 years')"
      ]
     },
     "execution_count": 48,
     "metadata": {},
     "output_type": "execute_result"
    }
   ],
   "source": [
    "ravi.emp_dt()"
   ]
  },
  {
   "cell_type": "code",
   "execution_count": null,
   "id": "7a34224b-520f-4140-9050-0854dc73a92d",
   "metadata": {},
   "outputs": [],
   "source": []
  },
  {
   "cell_type": "markdown",
   "id": "d2feb890-b0d6-4120-a2a9-0a4a753db9c9",
   "metadata": {},
   "source": [
    "Q3. What is abc module in python? Why is it used?"
   ]
  },
  {
   "cell_type": "markdown",
   "id": "f739d28d-a441-4e1c-a2b6-09f93e2ddfd2",
   "metadata": {},
   "source": [
    "ans = abc module is used  to  abstracte the class.his module provides the infrastructure\n",
    "    for defining abstract base classes (ABCs) in Python, as outlined in PEP 3119; see the \n",
    "    PEP for why this was added to Python. See also PEP 3141 and the numbers module regarding \n",
    "    a type hierarchy for numbers based on ABCs."
   ]
  },
  {
   "cell_type": "code",
   "execution_count": null,
   "id": "1eb49f6f-fc6b-4cd4-9bd4-ee86441a964d",
   "metadata": {},
   "outputs": [],
   "source": []
  },
  {
   "cell_type": "markdown",
   "id": "3cfcbbb2-135b-4508-9c0e-9605b70290fb",
   "metadata": {},
   "source": [
    "Q4. How can we achieve data abstraction?"
   ]
  },
  {
   "cell_type": "markdown",
   "id": "cc4b0fd9-c605-45d2-a817-738585552c53",
   "metadata": {},
   "source": [
    "ans -  Abstraction can be achieved by use of abstract classes and methods in\n",
    "       our programs. Understanding Abstract Methods and Classes: An abstract method is a\n",
    "       method that is declared, but does not contain implementation."
   ]
  },
  {
   "cell_type": "code",
   "execution_count": null,
   "id": "5c8c118b-6537-450a-8c81-8c73b2439038",
   "metadata": {},
   "outputs": [],
   "source": []
  },
  {
   "cell_type": "markdown",
   "id": "ccc1ebf4-df90-49f3-b63a-293d73523d4c",
   "metadata": {},
   "source": [
    "Q5. Can we create an instance of an abstract class? Explain your answer."
   ]
  },
  {
   "cell_type": "markdown",
   "id": "6a19ecaf-0062-4f88-8cc4-5fdd1f30a20a",
   "metadata": {},
   "source": [
    "ans - No, we can't create an instance of an abstract class. But we can create a reference variable \n",
    "     of an abstract class. The reference variable is used to refer to the objects of derived classes\n",
    "     (subclasses of abstract class).An abstract class means hiding the implementation and showing the function definition to      the user is known as Abstract class. A Java abstract class can have instance methods that implement a default behavior      if we know the requirement and partially implementation we can go for an abstract class.\n",
    "     \n",
    "     \n"
   ]
  },
  {
   "cell_type": "code",
   "execution_count": 2,
   "id": "0de60868-50d7-4af1-9cbf-e703cb9775d9",
   "metadata": {},
   "outputs": [
    {
     "name": "stdout",
     "output_type": "stream",
     "text": [
      "Implementation of abstract_method\n"
     ]
    }
   ],
   "source": [
    "from abc import ABC, abstractmethod\n",
    "\n",
    "class AbstractClass(ABC):\n",
    "\n",
    "    @abstractmethod\n",
    "    def abstract_method(self):\n",
    "        pass\n",
    "\n",
    "class ConcreteClass(AbstractClass):\n",
    "\n",
    "    def abstract_method(self):\n",
    "        print(\"Implementation of abstract_method\")\n",
    "\n",
    "# Attempting to create an instance of the abstract class\n",
    "# will result in a TypeError.\n",
    "# abstract_obj = AbstractClass()\n",
    "\n",
    "# Creating an instance of the concrete subclass\n",
    "concrete_obj = ConcreteClass()\n",
    "concrete_obj.abstract_method()\n"
   ]
  },
  {
   "cell_type": "code",
   "execution_count": null,
   "id": "80877806-f3bc-4654-8728-c42bdd2636db",
   "metadata": {},
   "outputs": [],
   "source": []
  }
 ],
 "metadata": {
  "kernelspec": {
   "display_name": "Python 3 (ipykernel)",
   "language": "python",
   "name": "python3"
  },
  "language_info": {
   "codemirror_mode": {
    "name": "ipython",
    "version": 3
   },
   "file_extension": ".py",
   "mimetype": "text/x-python",
   "name": "python",
   "nbconvert_exporter": "python",
   "pygments_lexer": "ipython3",
   "version": "3.10.8"
  }
 },
 "nbformat": 4,
 "nbformat_minor": 5
}
