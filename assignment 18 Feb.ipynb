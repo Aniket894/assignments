{
 "cells": [
  {
   "cell_type": "markdown",
   "id": "d89b1341-6256-446d-aeac-cbfda909ebeb",
   "metadata": {},
   "source": [
    "Q1. What is an API? Give an example, where an API is used in real life."
   ]
  },
  {
   "cell_type": "markdown",
   "id": "d11f6e5c-ed58-4e82-8c07-a79308a0e651",
   "metadata": {},
   "source": [
    "ans - API is an abbreviation for Application Programming Interface which is a collection of communication protocols and subroutines used by various programs to communicate between them. An API helps two programs or applications to communicate with each other by providing them with the necessary tools and functions. It takes the request from the user and sends it to the service provider and then again sends the result generated from the service provider to the desired user. "
   ]
  },
  {
   "cell_type": "markdown",
   "id": "d0f6d949-2e89-4fa3-bb65-927277a9e257",
   "metadata": {},
   "source": [
    "The Google Maps Platform is a set of APIs and SDKs that allows developers to embed Google Maps into mobile apps and web pages, or to retrieve data from Google Maps."
   ]
  },
  {
   "cell_type": "code",
   "execution_count": null,
   "id": "0fc7c2f5-960b-4441-a6a8-825c2b61c36c",
   "metadata": {},
   "outputs": [],
   "source": []
  },
  {
   "cell_type": "markdown",
   "id": "8b1be4cb-32e8-4c59-aed2-0a5c6a456ee2",
   "metadata": {},
   "source": [
    "Q2. Give advantages and disadvantages of using API. "
   ]
  },
  {
   "cell_type": "markdown",
   "id": "8455c370-8599-46f4-b14b-1db70827f8f0",
   "metadata": {},
   "source": [
    "ans - Advantages of APIs \n",
    "\n",
    "1 .Efficiency: API produces efficient, quicker, and more reliable results than the outputs produced by human beings in an organization.\n",
    "\n",
    "2 . Flexible delivery of services: API provides fast and flexible delivery of services according to developers’ requirements.\n",
    "\n",
    "3 . Integration: The best feature of API is that it allows the movement of data between various sites and thus enhances the integrated user experience.\n",
    "\n",
    "4 . Automation: As API makes use of robotic computers rather than humans, it produces better and more automated results.\n",
    "\n",
    "5 . New functionality: While using API the developers find new tools and functionality for API exchanges."
   ]
  },
  {
   "cell_type": "markdown",
   "id": "17a9b3d9-f0a3-40a6-88e2-bebcc8bbc981",
   "metadata": {},
   "source": [
    "Disadvantages of APIs \n",
    "\n",
    "1 . Cost: Developing and implementing API is costly at times and requires high maintenance and support from developers.\n",
    "\n",
    "2 . Security issues: Using API adds another layer of surface which is then prone to attacks, and hence the security risk problem is common in APIs."
   ]
  },
  {
   "cell_type": "code",
   "execution_count": null,
   "id": "7281488d-426d-4f8f-a2cd-6896ebaa8f7c",
   "metadata": {},
   "outputs": [],
   "source": []
  },
  {
   "cell_type": "markdown",
   "id": "3d37c259-027b-447e-9423-a89399f92b49",
   "metadata": {},
   "source": [
    "Q3. What is a Web API? Differentiate between API and Web API."
   ]
  },
  {
   "cell_type": "markdown",
   "id": "d8629797-740f-4213-858c-d11c5153b235",
   "metadata": {},
   "source": [
    "ans - A Web API also called Web Services is an extensively used API over the web and can be easily accessed using the HTTP protocols. A Web API is an open-source interface and can be used by a large number of clients through their phones, tablets, or PCs. "
   ]
  },
  {
   "cell_type": "markdown",
   "id": "04c5d67f-399f-4cf1-88f7-3f44e4a98628",
   "metadata": {},
   "source": [
    "Both APIs and web services are technologies that enable the transfer of data between separate software applications. API is an interface that exposes an application's data to outside software, whereas web applications are one type of API with stricter requirements. These requirements include network communication, SOAP as the primary protocol, and less accessibility for the public. "
   ]
  },
  {
   "cell_type": "code",
   "execution_count": null,
   "id": "9b935828-542a-4e3f-ba52-e0d134d1dd17",
   "metadata": {},
   "outputs": [],
   "source": []
  },
  {
   "cell_type": "markdown",
   "id": "ce999d6a-85a0-4983-91ce-ce42ebb07120",
   "metadata": {},
   "source": [
    "Q4. Explain REST and SOAP Architecture. Mention shortcomings of SOAP."
   ]
  },
  {
   "cell_type": "markdown",
   "id": "5052399d-be45-4122-aaf3-5e16745a59e8",
   "metadata": {},
   "source": [
    "ans - SOAP is a protocol which was designed before REST and came into the picture. The main idea behind designing SOAP was to ensure that programs built on different platforms and programming languages could exchange data in an easy manner. SOAP stands for Simple Object Access Protocol\n",
    "\n",
    "REST was designed specifically for working with components such as media components, files, or even objects on a particular hardware device. Any web service that is defined on the principles of REST can be called a RestFul web service. A Restful service would use the normal HTTP verbs of GET, POST, PUT and DELETE for working with the required components. REST stands for Representational State Transfer."
   ]
  },
  {
   "cell_type": "markdown",
   "id": "dd5cb8a1-8046-4b1c-bd04-8db9aac9e604",
   "metadata": {},
   "source": [
    "shortcoming of SOAP\n",
    "\n",
    "As SOAP can only transfer messages as XML files, your SOAP API will be less performant, as XML is a verbose format compared to JSON. API calls made to your server will need more bandwidth and it will take more time to process the request and transfer the response back to the client.\n",
    "\n",
    "In SOAP, the client-server communication depends on WSDL (Web Service Description Language) contracts, which implies tight coupling. Therefore, it’s not recommended for loosely coupled applications as you can’t opt out of using a contract between the client and the server.\n",
    "\n",
    "SOAP also has a higher learning curve, is harder to code, and can’t be tested in the web browser (as opposed to REST). With SOAP, you need to generate contracts in WSDL, create client stubs, follow strict specifications, and more. This also means that as a programmer, you’ll also have less freedom of choice."
   ]
  },
  {
   "cell_type": "code",
   "execution_count": null,
   "id": "64e117ca-982b-4dfa-a82d-fe702c79fbb0",
   "metadata": {},
   "outputs": [],
   "source": []
  },
  {
   "cell_type": "markdown",
   "id": "36685b89-e6ea-4645-8eed-48e4eb460385",
   "metadata": {},
   "source": [
    "Q5. Differentiate between REST and SOAP.\n"
   ]
  },
  {
   "cell_type": "markdown",
   "id": "e57a7b2f-5597-4fed-b25e-dfb80408ff83",
   "metadata": {},
   "source": [
    "ans - ans - SOAP API :-\n",
    "\n",
    "1 Relies on SOAP (Simple Object Access Protocol)\n",
    "\n",
    "2 Transports data in standard XML format.\n",
    "\n",
    "3 Because it is XML based and relies on SOAP, it works with WSDL\n",
    "\n",
    "4 Works over HTTP, HTTPS, SMTP, XMPP\n",
    "\n",
    "5 Highly structured/typed\n",
    "\n",
    "6 Designed with large enterprise applications in mind"
   ]
  },
  {
   "cell_type": "markdown",
   "id": "8dbb43b1-c283-4e10-8a38-c8ab7ddf2422",
   "metadata": {},
   "source": [
    "REST API :-\n",
    "\n",
    "1 Relies on REST (Representational State Transfer) architecture using HTTP.\n",
    "\n",
    "2 Generally transports data in JSON. It is based on URI. Because REST follows stateless model, REST does not enforces message format as XML or JSON etc.\n",
    "\n",
    "3 It works with GET, POST, PUT, DELETE\n",
    "\n",
    "4 Works over HTTP and HTTPS\n",
    "\n",
    "5 Less structured -> less bulky data\n",
    "\n",
    "6 Designed with mobile devices in mind"
   ]
  },
  {
   "cell_type": "markdown",
   "id": "8e673e95-864d-42c0-9cbe-ef703dfdfc7b",
   "metadata": {},
   "source": []
  },
  {
   "cell_type": "markdown",
   "id": "c5560894-5d1b-48bc-b34f-043857e67419",
   "metadata": {},
   "source": []
  },
  {
   "cell_type": "markdown",
   "id": "cee0d41b-e9b9-4423-b3c7-1b2bae8275bd",
   "metadata": {},
   "source": []
  },
  {
   "cell_type": "markdown",
   "id": "52e44cbf-81dd-4446-a80f-f619c37773df",
   "metadata": {},
   "source": []
  },
  {
   "cell_type": "markdown",
   "id": "69ba0b65-6718-4d02-8375-e457002596ea",
   "metadata": {},
   "source": []
  },
  {
   "cell_type": "markdown",
   "id": "94ba40ed-2923-4520-8ffc-45c9f0fd0d79",
   "metadata": {},
   "source": []
  },
  {
   "cell_type": "markdown",
   "id": "7fdd97aa-b2bc-4b29-a37d-5e9bdffefd6f",
   "metadata": {},
   "source": []
  },
  {
   "cell_type": "markdown",
   "id": "607acd58-ce58-4217-8857-20f0e5e94c1d",
   "metadata": {},
   "source": []
  },
  {
   "cell_type": "markdown",
   "id": "520ca1a2-f3d6-4d92-b838-cf05b7570012",
   "metadata": {},
   "source": []
  }
 ],
 "metadata": {
  "kernelspec": {
   "display_name": "Python 3 (ipykernel)",
   "language": "python",
   "name": "python3"
  },
  "language_info": {
   "codemirror_mode": {
    "name": "ipython",
    "version": 3
   },
   "file_extension": ".py",
   "mimetype": "text/x-python",
   "name": "python",
   "nbconvert_exporter": "python",
   "pygments_lexer": "ipython3",
   "version": "3.10.8"
  }
 },
 "nbformat": 4,
 "nbformat_minor": 5
}
