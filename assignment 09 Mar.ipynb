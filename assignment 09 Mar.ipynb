{
 "cells": [
  {
   "cell_type": "markdown",
   "id": "db96b394-3476-4a8b-aac1-1706aebdd4b8",
   "metadata": {},
   "source": [
    "Q1: What are the Probability Mass Function (PMF) and Probability Density Function (PDF)? Explain with\n",
    "an example."
   ]
  },
  {
   "cell_type": "markdown",
   "id": "2f41c367-c666-48c7-a55a-b44ddee6a4ec",
   "metadata": {},
   "source": [
    "ans - The Probability Mass Function (PMF) and Probability Density Function (PDF) are mathematical concepts used in probability theory to describe the probability distribution of a discrete random variable and a continuous random variable, respectively.\n",
    "\n",
    "A Probability Mass Function (PMF) is used to describe the probability distribution of a discrete random variable. It maps each possible value of the random variable to its probability of occurrence. The sum of probabilities of all possible values is always equal to one.\n",
    "\n",
    "For example, consider the experiment of rolling a fair six-sided die. Let X be a random variable that represents the outcome of the roll. The PMF of X is given by:\n",
    "\n",
    "P(X=1) = 1/6\n",
    "P(X=2) = 1/6\n",
    "P(X=3) = 1/6\n",
    "P(X=4) = 1/6\n",
    "P(X=5) = 1/6\n",
    "P(X=6) = 1/6\n",
    "\n",
    "Here, each possible outcome of the roll of the die is assigned a probability of 1/6, and the sum of probabilities of all possible values of X is 1.\n",
    "\n",
    "On the other hand, the Probability Density Function (PDF) is used to describe the probability distribution of a continuous random variable. It gives the relative likelihood of a continuous random variable taking on a specific value, within a given range of values. The area under the curve of a PDF between two values represents the probability of the random variable taking on a value within that range.\n",
    "\n",
    "For example, let X be a continuous random variable that represents the weight of apples in a certain orchard. The PDF of X might be a normal distribution with mean 100g and standard deviation 10g. This PDF could be represented by the function:\n",
    "\n",
    "f(x) = (1/(σ√(2π))) * e^(-((x-μ)^2)/(2σ^2))\n",
    "\n",
    "where μ is the mean (100g), σ is the standard deviation (10g), and e is the base of the natural logarithm. The area under the curve between two values of X represents the probability of the weight of an apple falling within that range."
   ]
  },
  {
   "cell_type": "code",
   "execution_count": null,
   "id": "f496c6a5-5a2f-4578-93da-43d2ce9c0c9b",
   "metadata": {},
   "outputs": [],
   "source": []
  },
  {
   "cell_type": "markdown",
   "id": "eb8af9e9-99bc-4ba2-a8c1-1f31878ea48a",
   "metadata": {},
   "source": [
    "Q2: What is Cumulative Density Function (CDF)? Explain with an example. Why CDF is used?"
   ]
  },
  {
   "cell_type": "markdown",
   "id": "307550a0-56c2-4601-a2e6-677ec6563305",
   "metadata": {},
   "source": [
    "ans - A Cumulative Density Function (CDF) is a function used in probability theory to describe the probability distribution of a random variable. It gives the probability that the random variable takes a value less than or equal to a given value. In other words, it is the cumulative probability of the random variable up to a certain point.\n",
    "\n",
    "For a continuous random variable X, the CDF F(x) is defined as:\n",
    "\n",
    "F(x) = P(X ≤ x)\n",
    "\n",
    "For a discrete random variable X, the CDF F(x) is defined as:\n",
    "\n",
    "F(x) = P(X ≤ x) = ∑ P(X = i) for all i ≤ x\n",
    "\n",
    "As an example, let's consider a random variable X that represents the number of heads obtained when flipping a fair coin three times. The possible values of X are 0, 1, 2, or 3. The CDF of X can be calculated as follows:\n",
    "\n",
    "F(0) = P(X ≤ 0) = P(X = 0) = 1/8\n",
    "F(1) = P(X ≤ 1) = P(X = 0) + P(X = 1) = 1/8 + 3/8 = 1/2\n",
    "F(2) = P(X ≤ 2) = P(X = 0) + P(X = 1) + P(X = 2) = 1/8 + 3/8 + 3/8 = 7/8\n",
    "F(3) = P(X ≤ 3) = P(X = 0) + P(X = 1) + P(X = 2) + P(X = 3) = 1/8 + 3/8 + 3/8 + 1/8 = 1\n",
    "\n",
    "Here, we can see that the CDF of X increases as x increases, as expected. The CDF gives us a complete picture of the probability distribution of X, showing the probability of the random variable taking on any value up to a certain point.\n",
    "\n",
    "The CDF is useful in a number of ways. It can be used to calculate probabilities of events involving the random variable, such as the probability of X falling within a certain range. It can also be used to calculate statistical measures such as the median and quartiles of the distribution. Additionally, the CDF can be used to generate other useful functions, such as the Probability Density Function (PDF) and the Quantile Function."
   ]
  },
  {
   "cell_type": "code",
   "execution_count": null,
   "id": "2a4f99e8-3db9-4368-bcf3-8bf5aba75a35",
   "metadata": {},
   "outputs": [],
   "source": []
  },
  {
   "cell_type": "markdown",
   "id": "420168d9-91e9-4e49-ba39-7f8abeddbccd",
   "metadata": {},
   "source": [
    "Q3: What are some examples of situations where the normal distribution might be used as a model?\n",
    "Explain how the parameters of the normal distribution relate to the shape of the distribution.\n",
    "\n"
   ]
  },
  {
   "cell_type": "markdown",
   "id": "29644095-bc51-4abe-b8ae-36119defb503",
   "metadata": {},
   "source": [
    "ans - The normal distribution, also known as the Gaussian distribution, is a commonly used probability distribution in statistics and is widely applied in many fields. Some examples of situations where the normal distribution might be used as a model include:\n",
    "\n",
    "In finance, the returns of assets such as stocks and bonds are often assumed to follow a normal distribution.\n",
    "\n",
    "In quality control, the distribution of product measurements or defects may be modeled by a normal distribution.\n",
    "\n",
    "In psychology and social sciences, variables such as IQ scores, height, weight, and reaction times are often assumed to be normally distributed.\n",
    "\n",
    "In physics, the distribution of measurement errors and the speeds of molecules in gases are often modeled by a normal distribution.\n",
    "\n",
    "The normal distribution is completely described by two parameters: the mean (μ) and the standard deviation (σ). The mean is the center of the distribution, and the standard deviation describes the spread or dispersion of the distribution.\n",
    "\n",
    "The shape of the normal distribution is characterized by a bell-shaped curve, which is symmetric around the mean. The height of the curve at any point x is given by the Probability Density Function (PDF) of the normal distribution:\n",
    "\n",
    "f(x) = (1/(σ√(2π))) * e^(-((x-μ)^2)/(2σ^2))\n",
    "\n",
    "The standard deviation (σ) determines the width of the curve, with larger values of σ leading to a wider, flatter distribution, and smaller values leading to a narrower, taller distribution. The mean (μ) determines the position of the center of the curve, with larger values of μ shifting the curve to the right, and smaller values shifting it to the left.\n",
    "\n",
    "The normal distribution has several important properties, such as the fact that approximately 68% of the data falls within one standard deviation of the mean, and approximately 95% of the data falls within two standard deviations of the mean. This makes it a useful tool for modeling many real-world phenomena and for making statistical inferences based on data."
   ]
  },
  {
   "cell_type": "code",
   "execution_count": null,
   "id": "ddfff944-9374-4d39-bc4a-6c46fbf7d662",
   "metadata": {},
   "outputs": [],
   "source": []
  },
  {
   "cell_type": "markdown",
   "id": "d37a8a34-6f83-4f30-b017-d1f90ac17f24",
   "metadata": {},
   "source": [
    "Q4: Explain the importance of Normal Distribution. Give a few real-life examples of Normal\n",
    "Distribution. "
   ]
  },
  {
   "cell_type": "markdown",
   "id": "c95c56fd-e25f-4142-9eca-45a476201592",
   "metadata": {},
   "source": [
    "ans - The normal distribution is one of the most important and widely used probability distributions in statistics. There are several reasons why it is so important:\n",
    "\n",
    "It is a versatile distribution: The normal distribution can be used to model a wide range of real-world phenomena. It is often used as a benchmark against which other distributions can be compared.\n",
    "\n",
    "It is well understood: The normal distribution has been studied extensively and its properties are well understood. This makes it easier to work with in practice.\n",
    "\n",
    "It is mathematically tractable: The normal distribution has a simple mathematical formula, which makes it easy to work with and analyze.\n",
    "\n",
    "It arises naturally in many situations: The central limit theorem states that the sum or average of a large number of independent and identically distributed random variables tends towards a normal distribution. This means that many real-world phenomena can be modeled by a normal distribution.\n",
    "\n",
    "Real-life examples of normal distribution include:\n",
    "\n",
    "Heights and weights: The distribution of human heights and weights is often modeled by a normal distribution. This makes it easy to calculate percentiles and compare individuals to the general population.\n",
    "\n",
    "IQ scores: IQ scores are often assumed to be normally distributed, with a mean of 100 and a standard deviation of 15. This allows us to compare an individual's IQ score to the general population and determine their relative standing.\n",
    "\n",
    "Measurement errors: The errors in measurement, such as the measurement of length or weight, are often normally distributed. This allows us to estimate the true value of a measurement and calculate its uncertainty.\n",
    "\n",
    "Stock prices: The returns of stock prices are often modeled by a normal distribution, which allows us to calculate the probability of certain events, such as a significant drop in stock prices.\n",
    "\n",
    "Overall, the normal distribution plays a crucial role in statistics and has many important applications in a wide range of fields, from finance and economics to biology and psychology.\n",
    "\n"
   ]
  },
  {
   "cell_type": "code",
   "execution_count": null,
   "id": "d3e3b156-1fef-4ccd-aec2-364134140340",
   "metadata": {},
   "outputs": [],
   "source": []
  },
  {
   "cell_type": "markdown",
   "id": "8e3f03fb-a0e0-49e9-844f-5d2b5efe73c7",
   "metadata": {},
   "source": [
    "Q5: What is Bernaulli Distribution? Give an Example. What is the difference between Bernoulli\n",
    "Distribution and Binomial Distribution?"
   ]
  },
  {
   "cell_type": "markdown",
   "id": "b6e4291c-5d9b-440c-9a43-249b7d1381d4",
   "metadata": {},
   "source": [
    "ans - The Bernoulli distribution is a discrete probability distribution that models the outcome of a single trial that can have only two possible outcomes, usually denoted as success (S) or failure (F), with a fixed probability of success (p) and failure (1-p). The probability mass function (PMF) of the Bernoulli distribution is:\n",
    "\n",
    "P(X = 1) = p\n",
    "P(X = 0) = 1-p\n",
    "\n",
    "where X is a random variable that takes the value 1 if the trial is successful and 0 if it is a failure.\n",
    "\n",
    "An example of the Bernoulli distribution is the outcome of a coin toss, where the two possible outcomes are heads (success) and tails (failure), and the probability of heads is 0.5. Another example is the probability of success in a single trial of a medical treatment, where the two possible outcomes are success (the treatment is effective) and failure (the treatment is not effective), and the probability of success is, say, 0.7.\n",
    "\n",
    "The binomial distribution, on the other hand, models the number of successes in a fixed number (n) of independent and identical Bernoulli trials, where each trial has the same probability of success (p). The probability mass function (PMF) of the binomial distribution is:\n",
    "\n",
    "P(X = k) = (n choose k) * p^k * (1-p)^(n-k)\n",
    "\n",
    "where X is a random variable that takes the value k, the number of successes, and (n choose k) is the binomial coefficient, which represents the number of ways to choose k items out of n.\n",
    "\n",
    "The main difference between the Bernoulli and binomial distributions is that the Bernoulli distribution models the outcome of a single trial, while the binomial distribution models the number of successes in a fixed number of trials. In other words, the Bernoulli distribution is a special case of the binomial distribution, where n=1.\n",
    "\n",
    "For example, suppose we flip a fair coin 10 times and count the number of heads. The number of heads is a random variable that follows a binomial distribution with parameters n=10 and p=0.5. If we are only interested in the outcome of the first toss, we can use the Bernoulli distribution with p=0.5.\n",
    "\n",
    "\n",
    "\n",
    "\n"
   ]
  },
  {
   "cell_type": "code",
   "execution_count": null,
   "id": "ab9890e5-e721-446f-9706-e5f6208ad722",
   "metadata": {},
   "outputs": [],
   "source": []
  },
  {
   "cell_type": "markdown",
   "id": "3c70c5e6-e9eb-4e32-a019-e07753e896c5",
   "metadata": {},
   "source": [
    "Q6. Consider a dataset with a mean of 50 and a standard deviation of 10. If we assume that the dataset\n",
    "is normally distributed, what is the probability that a randomly selected observation will be greater\n",
    "than 60? Use the appropriate formula and show your calculations."
   ]
  },
  {
   "cell_type": "markdown",
   "id": "f54fd877-5849-4296-895d-292d274d6d8a",
   "metadata": {},
   "source": [
    "ans - Given a normally distributed dataset with a mean of 50 and a standard deviation of 10, we want to find the probability that a randomly selected observation will be greater than 60.\n",
    "\n",
    "We can use the standard normal distribution formula to calculate this probability:\n",
    "\n",
    "z = (x - μ) / σ\n",
    "\n",
    "where x is the value we want to find the probability for, μ is the mean of the dataset, σ is the standard deviation of the dataset, and z is the z-score corresponding to the value x.\n",
    "\n",
    "In this case, x = 60, μ = 50, and σ = 10. Therefore:\n",
    "\n",
    "z = (60 - 50) / 10 = 1\n",
    "\n",
    "We can then use a standard normal distribution table or calculator to find the probability corresponding to a z-score of 1. The probability of a randomly selected observation being greater than 60 is:\n",
    "\n",
    "P(Z > 1) = 0.1587\n",
    "\n",
    "Therefore, the probability that a randomly selected observation will be greater than 60 is approximately 0.1587 or 15.87%."
   ]
  },
  {
   "cell_type": "code",
   "execution_count": null,
   "id": "876c6439-76fe-44c1-be5f-754f1cf2e2c6",
   "metadata": {},
   "outputs": [],
   "source": []
  },
  {
   "cell_type": "markdown",
   "id": "6c508264-def1-4c6f-a68e-2345e836a907",
   "metadata": {},
   "source": [
    "Q7: Explain uniform Distribution with an example."
   ]
  },
  {
   "cell_type": "markdown",
   "id": "385fef23-1dc6-46d6-9e5f-6636ea950035",
   "metadata": {},
   "source": [
    "ans - The uniform distribution is a continuous probability distribution where all outcomes within a given interval are equally likely. It is often used to model situations where each value in the interval has an equal chance of occurring.\n",
    "\n",
    "The probability density function (PDF) of a uniform distribution is:\n",
    "\n",
    "f(x) = 1 / (b-a)\n",
    "\n",
    "where a is the lower bound of the interval and b is the upper bound of the interval. The PDF is zero outside the interval [a, b].\n",
    "\n",
    "An example of the uniform distribution is the roll of a fair six-sided die. Each face of the die has an equal probability of being rolled, and the outcome can be any number between 1 and 6, inclusive. In this case, the interval is [1, 6] and the PDF is:\n",
    "\n",
    "f(x) = 1 / 6, for x = 1, 2, 3, 4, 5, 6\n",
    "\n",
    "Another example is the arrival time of customers at a store during a certain hour of the day. If the store is open from 9am to 10pm, and customers arrive randomly during that time, with no specific patterns or preferences, then the arrival time can be modeled by a uniform distribution over the interval [9, 22]. In this case, the PDF is:\n",
    "\n",
    "f(x) = 1 / 13, for x in [9, 22]\n",
    "\n",
    "The uniform distribution can also be used to model situations where there is no particular reason to expect any one value to occur more frequently than any other value, such as the height of students in a large classroom, or the weight of apples in a crate.\n",
    "\n",
    "\n",
    "\n",
    "\n"
   ]
  },
  {
   "cell_type": "code",
   "execution_count": null,
   "id": "60c66168-a3f9-4352-a2a6-49fc560cd7a2",
   "metadata": {},
   "outputs": [],
   "source": []
  },
  {
   "cell_type": "markdown",
   "id": "e7ebcb44-e47e-42bc-88f6-020df947112c",
   "metadata": {},
   "source": [
    "Q8: What is the z score? State the importance of the z score."
   ]
  },
  {
   "cell_type": "markdown",
   "id": "35133263-fe49-42dc-84b7-1f200596892c",
   "metadata": {},
   "source": [
    "ans - The z-score (also known as the standard score) is a measure of how many standard deviations a data point is from the mean of the data set. It is used to compare data points from different normal distributions.\n",
    "\n",
    "The formula for the z-score of a data point x in a data set with mean μ and standard deviation σ is:\n",
    "\n",
    "z = (x - μ) / σ\n",
    "\n",
    "The z-score tells us how many standard deviations a data point is away from the mean, in terms of standard deviation units. A positive z-score means the data point is above the mean, and a negative z-score means the data point is below the mean.\n",
    "\n",
    "The importance of the z-score lies in its usefulness in standardizing data from different normal distributions, making it easier to compare values from different datasets. By transforming the raw scores into z-scores, we can compare observations that are measured on different scales or have different units of measurement.\n",
    "\n",
    "For example, suppose we want to compare the exam scores of two students, where one student took an easier version of the exam and the other student took a more difficult version of the exam. By standardizing the scores to z-scores, we can compare the relative performance of each student, regardless of the difficulty level of the exam.\n",
    "\n",
    "The z-score is also used in hypothesis testing, where we can determine the probability of observing a value as extreme or more extreme than the observed data point under the null hypothesis. This probability is known as the p-value and is used to make decisions about whether to reject or fail to reject the null hypothesis."
   ]
  },
  {
   "cell_type": "code",
   "execution_count": null,
   "id": "b5a25295-658d-490f-9b93-5d4f715a33e2",
   "metadata": {},
   "outputs": [],
   "source": []
  },
  {
   "cell_type": "markdown",
   "id": "3616f5ad-061c-4478-981d-b1854cb990a0",
   "metadata": {},
   "source": [
    "Q9: What is Central Limit Theorem? State the significance of the Central Limit Theorem."
   ]
  },
  {
   "cell_type": "markdown",
   "id": "8bf712e7-6b29-40d1-b932-91dfb69103a8",
   "metadata": {},
   "source": [
    "ans  - \n",
    "The Central Limit Theorem (CLT) is a fundamental concept in statistics that describes the behavior of sample means from a population, particularly those that are approximately normally distributed. It states that as the sample size increases, the distribution of the sample means will become increasingly normal, regardless of the shape of the original population distribution.\n",
    "\n",
    "The Central Limit Theorem is important for several reasons:\n",
    "\n",
    "It allows us to make inferences about a population based on a sample. By using the sample mean as an estimate of the population mean, we can make statistical inferences about the population distribution, even if the population distribution is unknown or difficult to measure.\n",
    "\n",
    "It provides a way to estimate the standard error of the mean, which is a measure of how much the sample mean is likely to vary from the population mean. This is important in hypothesis testing and confidence interval estimation, where we need to know the precision of our estimates.\n",
    "\n",
    "It explains why the normal distribution is so commonly observed in real-world data. Many natural phenomena and human measurements follow approximately normal distributions, and the CLT explains why this is so even if the underlying distribution is not normal.\n",
    "\n",
    "It provides a theoretical foundation for many statistical techniques, including hypothesis testing, confidence intervals, and regression analysis."
   ]
  },
  {
   "cell_type": "code",
   "execution_count": null,
   "id": "de36bba0-073d-48ef-a44c-f9e00d1385c4",
   "metadata": {},
   "outputs": [],
   "source": []
  },
  {
   "cell_type": "code",
   "execution_count": null,
   "id": "e557d195-4742-4675-83b8-5deb2e1adf51",
   "metadata": {},
   "outputs": [],
   "source": [
    "Q10: State the assumptions of the Central Limit Theorem."
   ]
  },
  {
   "cell_type": "markdown",
   "id": "609118b6-bf7e-4931-b5b0-c6fb7e94a0d4",
   "metadata": {},
   "source": [
    "ans  - \n",
    "The Central Limit Theorem (CLT) is based on several assumptions, which are:\n",
    "\n",
    "Independence: The samples should be selected independently of each other. This means that the selection of one sample should not affect the selection or properties of another sample.\n",
    "\n",
    "Sample size: The sample size should be large enough. There is no hard and fast rule for how large the sample size should be, but a common rule of thumb is that the sample size should be at least 30.\n",
    "\n",
    "Population distribution: The population from which the samples are drawn should have a finite mean and variance. If the population is not normally distributed, the CLT still applies as long as the sample size is large enough, although the distribution of the sample means may be skewed or have heavier tails.\n",
    "\n",
    "Random sampling: The samples should be selected at random from the population. This means that every member of the population has an equal chance of being included in the sample.\n",
    "\n",
    "Finite population correction: If the sample size is more than 5% of the population size, a correction factor should be applied to the standard deviation to account for the reduced variability due to the finite population."
   ]
  }
 ],
 "metadata": {
  "kernelspec": {
   "display_name": "Python 3 (ipykernel)",
   "language": "python",
   "name": "python3"
  },
  "language_info": {
   "codemirror_mode": {
    "name": "ipython",
    "version": 3
   },
   "file_extension": ".py",
   "mimetype": "text/x-python",
   "name": "python",
   "nbconvert_exporter": "python",
   "pygments_lexer": "ipython3",
   "version": "3.10.8"
  }
 },
 "nbformat": 4,
 "nbformat_minor": 5
}
